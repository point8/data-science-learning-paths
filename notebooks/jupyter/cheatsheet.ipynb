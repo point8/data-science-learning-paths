{
 "cells": [
  {
   "cell_type": "markdown",
   "metadata": {},
   "source": [
    "### Notebook cheat sheet\n",
    "\n",
    "<kbd>CMD+SHIFT+P</kbd> Open command bar\n",
    "\n",
    "#### Command mode\n",
    "\n",
    "Enable **command mode** by pressing <kbd>ESC</kbd>. The cell frame gets blue.\n",
    "\n",
    "#### Kernel\n",
    "\n",
    "<kbd>0,0</kbd> restart kernel\n",
    "\n",
    "##### Move\n",
    "\n",
    "<kbd>↑</kbd> (<kbd>k</kbd>) select cell above    \n",
    "<kbd>↓</kbd> (<kbd>j</kbd>) select cell below\n",
    "\n",
    "##### Manipulate\n",
    "\n",
    "<kbd>a</kbd>/<kbd>b</kbd> insert above/below   \n",
    "<kbd>x</kbd>/<kbd>c</kbd> cut/copy cell   \n",
    "<kbd>v</kbd> paste cell above   \n",
    "<kbd>Shift+v</kbd> paste below   \n",
    "<kbd>d,d</kbd> delete cell   \n",
    "<kbd>z</kbd> undo deletion (w/ per cell history)\n",
    "\n",
    "##### Change cell type\n",
    "\n",
    "<kbd>y</kbd> to code   \n",
    "<kbd>m</kbd> to markdown   \n",
    "<kbd>r</kbd> to raw   \n",
    "\n",
    "##### Toggle output view\n",
    "\n",
    "<kbd>o</kbd> toggle cell output\n",
    "\n",
    "#### Edit mode\n",
    "\n",
    "Select cell and press <kbd>ENTER</kbd> to enable **edit Mode**. The cell border changes to green.\n",
    "\n",
    "<kbd>CMD+s</kbd> Save notebook\n",
    "\n",
    "##### Execution\n",
    "\n",
    "<kbd>CTRL+ENTER</kbd> run cell   \n",
    "<kbd>SHIFT+ENTER</kbd> run cell, select below   \n",
    "<kbd>ALT+ENTER</kbd> run cell, insert below\n",
    "\n",
    "#### Selection\n",
    "\n",
    "<kbd>CTRL+a</kbd> select all   \n",
    "<kbd>CTRL+z</kbd>/<kbd>+y</kbd> undo/redo (global)   \n",
    "<kbd>CTRL+↑</kbd>/<kbd>+↓</kbd> go to cell start/end   \n",
    "<kbd>CTRL+SHIFT+-</kbd> split cell\n",
    "\n",
    "##### Auto-completion\n",
    "\n",
    "<kbd>TAB</kbd> for auto-completion of identifier,   \n",
    "<kbd>SHIFT+TAB</kbd> for auto-completion of parameters"
   ]
  },
  {
   "cell_type": "markdown",
   "metadata": {},
   "source": [
    "---\n",
    "_This notebook is licensed under a [Creative Commons Attribution-NonCommercial-ShareAlike 4.0 International (CC BY-NC-SA 4.0)](https://creativecommons.org/licenses/by-nc-sa/4.0/). Copyright © 2018-2025 [Point 8 GmbH](https://point-8.de)_"
   ]
  }
 ],
 "metadata": {
  "kernelspec": {
   "display_name": "Python 3",
   "language": "python",
   "name": "python3"
  },
  "language_info": {
   "codemirror_mode": {
    "name": "ipython",
    "version": 3
   },
   "file_extension": ".py",
   "mimetype": "text/x-python",
   "name": "python",
   "nbconvert_exporter": "python",
   "pygments_lexer": "ipython3",
   "version": "3.6.3"
  }
 },
 "nbformat": 4,
 "nbformat_minor": 2
}
