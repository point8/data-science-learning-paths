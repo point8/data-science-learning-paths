{
 "cells": [
  {
   "cell_type": "markdown",
   "metadata": {},
   "source": [
    "# Julia Basics\n",
    "\n",
    "In this notebook, we'll cover many of the foundational concepts of Julia.\n",
    "\n"
   ]
  },
  {
   "cell_type": "markdown",
   "metadata": {},
   "source": [
    "## Types\n",
    "\n",
    "Julia is a dynamically typed language with optional type declarations."
   ]
  },
  {
   "cell_type": "code",
   "execution_count": null,
   "metadata": {},
   "outputs": [],
   "source": [
    "x = 42"
   ]
  },
  {
   "cell_type": "code",
   "execution_count": null,
   "metadata": {},
   "outputs": [],
   "source": [
    "typeof(x)"
   ]
  },
  {
   "cell_type": "code",
   "execution_count": null,
   "metadata": {},
   "outputs": [],
   "source": [
    "x = \"Hello World\""
   ]
  },
  {
   "cell_type": "code",
   "execution_count": null,
   "metadata": {},
   "outputs": [],
   "source": [
    "typeof(x)"
   ]
  },
  {
   "cell_type": "markdown",
   "metadata": {},
   "source": [
    "It is possible to fix the type of a variable:"
   ]
  },
  {
   "cell_type": "code",
   "execution_count": null,
   "metadata": {},
   "outputs": [],
   "source": [
    "y::Int = 42"
   ]
  },
  {
   "cell_type": "code",
   "execution_count": null,
   "metadata": {},
   "outputs": [],
   "source": [
    "y = \"Hello World\""
   ]
  },
  {
   "cell_type": "markdown",
   "metadata": {},
   "source": [
    "### Basic Types"
   ]
  },
  {
   "cell_type": "code",
   "execution_count": null,
   "metadata": {},
   "outputs": [],
   "source": [
    "# Booleans\n",
    "bool_val = true\n",
    "println(typeof(bool_val))\n",
    "\n",
    "# Integers\n",
    "int_val = 42\n",
    "println(typeof(int_val))  # Outputs: Int64 on a 64-bit system\n",
    "\n",
    "# Floating point numbers\n",
    "float_val = 3.14\n",
    "println(typeof(float_val))  # Outputs: Float64\n",
    "\n",
    "# Strings\n",
    "str_val = \"Hello, Julia!\"\n",
    "println(typeof(str_val))  # Outputs: String\n"
   ]
  },
  {
   "cell_type": "markdown",
   "metadata": {},
   "source": [
    "In addition, there are abstract base types for numbers:"
   ]
  },
  {
   "cell_type": "code",
   "execution_count": null,
   "metadata": {},
   "outputs": [],
   "source": [
    "real_number::Real = 3.14\n",
    "typeof(real_number)"
   ]
  },
  {
   "cell_type": "code",
   "execution_count": null,
   "metadata": {},
   "outputs": [],
   "source": [
    "real_number isa Real"
   ]
  },
  {
   "cell_type": "code",
   "execution_count": null,
   "metadata": {},
   "outputs": [],
   "source": [
    "integer_number::Integer = 42\n",
    "typeof(integer_number)"
   ]
  },
  {
   "cell_type": "code",
   "execution_count": null,
   "metadata": {},
   "outputs": [],
   "source": [
    "integer_number isa Integer"
   ]
  },
  {
   "cell_type": "code",
   "execution_count": null,
   "metadata": {},
   "outputs": [],
   "source": [
    "integer_number isa Real"
   ]
  },
  {
   "cell_type": "markdown",
   "metadata": {},
   "source": [
    "### More Built-In Types"
   ]
  },
  {
   "cell_type": "code",
   "execution_count": null,
   "metadata": {},
   "outputs": [],
   "source": [
    "# Complex numbers\n",
    "complex_val = 3 + 4im\n",
    "println(typeof(complex_val))  # Outputs: Complex{Int64}"
   ]
  },
  {
   "cell_type": "markdown",
   "metadata": {},
   "source": [
    "### Composite Types (Structs)\n",
    "\n",
    "You can create custom types using `struct`. These are similar to classes in other languages but without methods attached."
   ]
  },
  {
   "cell_type": "code",
   "execution_count": null,
   "metadata": {},
   "outputs": [],
   "source": [
    "struct Person\n",
    "    name::String\n",
    "    age::Int\n",
    "end\n",
    "\n",
    "john = Person(\"John Doe\", 30)\n",
    "println(john.name)  # Outputs: John Doe\n"
   ]
  },
  {
   "cell_type": "markdown",
   "metadata": {},
   "source": [
    "### Parametric Types\n",
    "Julia allows types to be parameterized."
   ]
  },
  {
   "cell_type": "code",
   "execution_count": null,
   "metadata": {},
   "outputs": [],
   "source": [
    "struct Point{T}\n",
    "    x::T\n",
    "    y::T\n",
    "end\n",
    "\n",
    "p1 = Point(1, 2)               # Infers Point{Int64}\n",
    "p2 = Point(1.0, 2.5)          # Infers Point{Float64}\n",
    "println(typeof(p1))            # Outputs: Point{Int64}\n",
    "println(typeof(p2))            # Outputs: Point{Float64}\n"
   ]
  },
  {
   "cell_type": "markdown",
   "metadata": {},
   "source": [
    "### Unions\n",
    "Union types are a way to specify that a value can be of any of several types."
   ]
  },
  {
   "cell_type": "code",
   "execution_count": null,
   "metadata": {},
   "outputs": [],
   "source": [
    "Union{Int64, Float64}\n"
   ]
  },
  {
   "cell_type": "code",
   "execution_count": null,
   "metadata": {},
   "outputs": [],
   "source": [
    "\n",
    "function print_number(val::Union{Int64, Float64})\n",
    "    println(\"The number: $val\")\n",
    "end"
   ]
  },
  {
   "cell_type": "code",
   "execution_count": null,
   "metadata": {},
   "outputs": [],
   "source": [
    "print_number(5)        "
   ]
  },
  {
   "cell_type": "code",
   "execution_count": null,
   "metadata": {},
   "outputs": [],
   "source": [
    "print_number(3.5)"
   ]
  },
  {
   "cell_type": "code",
   "execution_count": null,
   "metadata": {},
   "outputs": [],
   "source": [
    "print_number(\"Five\")  "
   ]
  },
  {
   "cell_type": "code",
   "execution_count": null,
   "metadata": {},
   "outputs": [],
   "source": [
    "print_number(3.5)"
   ]
  },
  {
   "cell_type": "markdown",
   "metadata": {},
   "source": [
    "### Arrays and Tuples\n",
    "Arrays are mutable, while tuples are immutable."
   ]
  },
  {
   "cell_type": "code",
   "execution_count": null,
   "metadata": {},
   "outputs": [],
   "source": [
    "# Array of integers\n",
    "arr = [1, 2, 3, 4, 5]\n",
    "println(typeof(arr))  # Outputs: Vector{Int64}\n",
    "\n"
   ]
  },
  {
   "cell_type": "markdown",
   "metadata": {},
   "source": [
    "Julia uses 1-based indexing to please mathematicians and Matlab programmers and annoy computer scientists."
   ]
  },
  {
   "cell_type": "code",
   "execution_count": null,
   "metadata": {},
   "outputs": [],
   "source": [
    "arr[1]"
   ]
  },
  {
   "cell_type": "markdown",
   "metadata": {},
   "source": [
    "Array types:\n",
    "- one-dimensional: `Vector`\n",
    "- two-dimensional: `Matrix`\n",
    "- more dimensions: `Array`\n",
    "\n",
    "More on array in the chapter [📙**Numeric Computing**](julia-numeric.ipynb). "
   ]
  },
  {
   "cell_type": "code",
   "execution_count": null,
   "metadata": {},
   "outputs": [],
   "source": [
    "# Tuple\n",
    "tup = (1, \"two\", 3.0)\n",
    "println(typeof(tup))  # Outputs: Tuple{Int64, String, Float64}"
   ]
  },
  {
   "cell_type": "code",
   "execution_count": null,
   "metadata": {},
   "outputs": [],
   "source": [
    "tup[2]"
   ]
  },
  {
   "cell_type": "markdown",
   "metadata": {},
   "source": [
    "### Dictionaries\n",
    "\n",
    "Dictionaries in Julia are collections of key-value pairs, allowing efficient value lookup by key. They are mutable, allowing addition, removal, or modification of pairs post-creation"
   ]
  },
  {
   "cell_type": "code",
   "execution_count": null,
   "metadata": {},
   "outputs": [],
   "source": [
    "phone_numbers = Dict(\n",
    "    \"John Doe\" => \"123-456-7890\",\n",
    "    \"Jane Doe\" => \"098-765-4321\",\n",
    "    \"Jim Smith\" => \"555-555-5555\"\n",
    ")"
   ]
  },
  {
   "cell_type": "code",
   "execution_count": null,
   "metadata": {},
   "outputs": [],
   "source": [
    "phone_numbers[\"John Doe\"]"
   ]
  },
  {
   "cell_type": "markdown",
   "metadata": {},
   "source": [
    "Dictionaries are also mutable types."
   ]
  },
  {
   "cell_type": "code",
   "execution_count": null,
   "metadata": {},
   "outputs": [],
   "source": [
    "phone_numbers[\"Jenny Smith\"] = \"555-555-5556\"\n",
    "phone_numbers"
   ]
  },
  {
   "cell_type": "markdown",
   "metadata": {},
   "source": [
    "### 💡 Checking and Converting Types\n",
    "\n",
    "You can check the type of a variable and convert between types.\n",
    "\n"
   ]
  },
  {
   "cell_type": "code",
   "execution_count": null,
   "metadata": {},
   "outputs": [],
   "source": [
    "# Checking type\n",
    "println(isa(int_val, Int64))   \n",
    "\n",
    "# Type conversion\n",
    "new_float = convert(Float64, int_val)\n",
    "println(new_float)            \n"
   ]
  },
  {
   "cell_type": "markdown",
   "metadata": {},
   "source": [
    "## Operators\n",
    "\n",
    "Julia offers a comprehensive set of operators, much like other languages.\n",
    "\n"
   ]
  },
  {
   "cell_type": "code",
   "execution_count": null,
   "metadata": {},
   "outputs": [],
   "source": [
    "a = 10\n",
    "b = 20\n",
    "\n",
    "# Arithmetic operators\n",
    "println(a + b)  # addition\n",
    "println(a - b)  # subtraction\n",
    "println(a * b)  # multiplication\n",
    "println(a / b)  # division\n",
    "println(a % b)  # Modulus (remainder)\n",
    "println(a^b)   # Exponentiation\n",
    "\n",
    "println()\n",
    "\n",
    "# Comparison operators\n",
    "println(a > b)  \n",
    "println(a < b) \n",
    "println(a >= b)\n",
    "println(a <= b) \n",
    "println(a == b) \n",
    "println(a != b) \n"
   ]
  },
  {
   "cell_type": "code",
   "execution_count": null,
   "metadata": {},
   "outputs": [],
   "source": [
    "a = true\n",
    "b = false\n",
    "\n",
    "println(a && b)  # Logical AND: false\n",
    "println(a || b)  # Logical OR: true\n",
    "println(!a)      # Logical NOT: false\n"
   ]
  },
  {
   "cell_type": "markdown",
   "metadata": {},
   "source": [
    "## Syntax and Control Flow\n",
    "\n",
    "Julia's syntax is similar to other languages like MATLAB and Python.\n",
    "\n"
   ]
  },
  {
   "cell_type": "markdown",
   "metadata": {},
   "source": [
    "### Conditional Statements\n",
    "\n"
   ]
  },
  {
   "cell_type": "code",
   "execution_count": null,
   "metadata": {},
   "outputs": [],
   "source": [
    "x = 10\n",
    "y = 20\n",
    "\n",
    "if x > y\n",
    "    println(\"x is greater than y\")\n",
    "elseif x < y\n",
    "    println(\"x is less than y\")\n",
    "else\n",
    "    println(\"x is equal to y\")\n",
    "end\n"
   ]
  },
  {
   "cell_type": "markdown",
   "metadata": {},
   "source": [
    "### Loops"
   ]
  },
  {
   "cell_type": "code",
   "execution_count": null,
   "metadata": {},
   "outputs": [],
   "source": [
    "for i in 1:5\n",
    "    println(i)\n",
    "end\n",
    "\n"
   ]
  },
  {
   "cell_type": "code",
   "execution_count": null,
   "metadata": {},
   "outputs": [],
   "source": [
    "# Or iterate over arrays\n",
    "fruits = [\"apple\", \"banana\", \"cherry\"]\n",
    "for fruit in fruits\n",
    "    println(fruit)\n",
    "end\n"
   ]
  },
  {
   "cell_type": "code",
   "execution_count": null,
   "metadata": {},
   "outputs": [],
   "source": [
    "n = 5\n",
    "while n > 0\n",
    "    println(n)\n",
    "    n -= 1\n",
    "end\n"
   ]
  },
  {
   "cell_type": "markdown",
   "metadata": {},
   "source": [
    "🫳 Can you iterate over tuples or dictionaries?"
   ]
  },
  {
   "cell_type": "code",
   "execution_count": null,
   "metadata": {},
   "outputs": [],
   "source": [
    "# your code here"
   ]
  },
  {
   "cell_type": "markdown",
   "metadata": {},
   "source": [
    "### Exceptions\n"
   ]
  },
  {
   "cell_type": "code",
   "execution_count": null,
   "metadata": {},
   "outputs": [],
   "source": [
    "a = 42\n",
    "b = \"Test\"\n",
    "a / b\n"
   ]
  },
  {
   "cell_type": "code",
   "execution_count": null,
   "metadata": {},
   "outputs": [],
   "source": [
    "\n",
    "try\n",
    "    return a / b\n",
    "catch\n",
    "    println(\"An error occurred!\")\n",
    "end"
   ]
  },
  {
   "cell_type": "code",
   "execution_count": null,
   "metadata": {},
   "outputs": [],
   "source": [
    "\n",
    "try\n",
    "    return a / b\n",
    "catch ex\n",
    "    if isa(ex, MethodError)\n",
    "        println(\"An method error occurred!\")\n",
    "    else\n",
    "        rethrow(ex)\n",
    "    end\n",
    "end"
   ]
  },
  {
   "cell_type": "markdown",
   "metadata": {},
   "source": [
    "## Functions"
   ]
  },
  {
   "cell_type": "markdown",
   "metadata": {},
   "source": [
    "In many programming languages, a function is typically associated with one specific block of code. In Julia, however, a function is better thought of as an abstraction, a sort of umbrella for a collection of _methods_. Each method defines an implementation of the function, depending on the argument types."
   ]
  },
  {
   "cell_type": "markdown",
   "metadata": {},
   "source": [
    "⚠: The term _method_ has a different meaning in Julia than in object-oriented languages. Since there are no classes, there are no _methods_ as understood in object-oriented programming."
   ]
  },
  {
   "cell_type": "markdown",
   "metadata": {},
   "source": [
    "### Function Definitions\n",
    "\n",
    "You can define a function using the function keyword followed by the function name, arguments, and body. The function body is closed with the end keyword."
   ]
  },
  {
   "cell_type": "code",
   "execution_count": null,
   "metadata": {},
   "outputs": [],
   "source": [
    "function greet(name)\n",
    "    println(\"Hello, $name\")\n",
    "end\n",
    "\n"
   ]
  },
  {
   "cell_type": "code",
   "execution_count": null,
   "metadata": {},
   "outputs": [],
   "source": [
    "greet(\"Alice\") \n"
   ]
  },
  {
   "cell_type": "markdown",
   "metadata": {},
   "source": [
    "### Return Values\n",
    "\n",
    "In Julia, the value of the last expression in a function is returned by default. This is known as an **implicit return**."
   ]
  },
  {
   "cell_type": "code",
   "execution_count": null,
   "metadata": {},
   "outputs": [],
   "source": [
    "function add(x, y)\n",
    "    result = x + y\n",
    "end\n",
    "\n",
    "result1 = add(3, 4)  # The value 7 is implicitly returned\n",
    "result1\n"
   ]
  },
  {
   "cell_type": "markdown",
   "metadata": {},
   "source": [
    "If you want to make the return value explicit, you can use the return keyword."
   ]
  },
  {
   "cell_type": "code",
   "execution_count": null,
   "metadata": {},
   "outputs": [],
   "source": [
    "function add(x, y)\n",
    "    result = x + y\n",
    "    return result\n",
    "    println(\"This line will not be executed\")  \n",
    "end\n",
    "\n",
    "result2 = add(5, 6)  \n",
    "result2"
   ]
  },
  {
   "cell_type": "markdown",
   "metadata": {},
   "source": [
    "### Single-line Functions\n",
    "\n",
    "For simple functions, Julia offers a more concise syntax:\n"
   ]
  },
  {
   "cell_type": "code",
   "execution_count": null,
   "metadata": {},
   "outputs": [],
   "source": [
    "square(x) = x^2\n",
    "\n"
   ]
  },
  {
   "cell_type": "code",
   "execution_count": null,
   "metadata": {},
   "outputs": [],
   "source": [
    "square(5)"
   ]
  },
  {
   "cell_type": "markdown",
   "metadata": {},
   "source": [
    "### Anonymous Functions (Lambdas)\n",
    "\n",
    "You can define functions without a name, often referred to as \"lambda functions\" or \"anonymous functions\". These are useful for short operations that you don't want to name."
   ]
  },
  {
   "cell_type": "code",
   "execution_count": null,
   "metadata": {},
   "outputs": [],
   "source": [
    "x -> x^2\n"
   ]
  },
  {
   "cell_type": "code",
   "execution_count": null,
   "metadata": {},
   "outputs": [],
   "source": [
    "(x -> x^2)(5)"
   ]
  },
  {
   "cell_type": "markdown",
   "metadata": {},
   "source": [
    "### Multiple Dispatch\n",
    "\n",
    "Julia can call different function methods depending on the types of all the arguments. The choice is made dynamically / at runtime, based on the types of all the arguments.\n",
    "\n",
    "⚠: This makes it different from **function overloading** in languages like C++ and Java, where the choice is made statically / at compile-time, based on the type of the object on which the function is called."
   ]
  },
  {
   "cell_type": "code",
   "execution_count": null,
   "metadata": {},
   "outputs": [],
   "source": [
    "add(a::Int, b::Int) = a + b\n",
    "add(a::Float64, b::Float64) = a + b\n",
    "add(a::String, b::String) = string(a, b)\n",
    "\n",
    "\n"
   ]
  },
  {
   "cell_type": "code",
   "execution_count": null,
   "metadata": {},
   "outputs": [],
   "source": [
    "println(add(1, 3))\n",
    "println(add(0.2, 0.8))\n",
    "println(add(\"Hello\", \"World\"))"
   ]
  },
  {
   "cell_type": "markdown",
   "metadata": {},
   "source": [
    "💡 You can use the `@which` macro to check which _method_ is actually called:"
   ]
  },
  {
   "cell_type": "code",
   "execution_count": null,
   "metadata": {},
   "outputs": [],
   "source": [
    "@which add(1, 3)"
   ]
  },
  {
   "cell_type": "markdown",
   "metadata": {},
   "source": [
    "Here is another example to illustrate multiple dispatch:"
   ]
  },
  {
   "cell_type": "code",
   "execution_count": null,
   "metadata": {},
   "outputs": [],
   "source": [
    "# Base method for any type\n",
    "function describe(x)\n",
    "    println(\"I received an argument of type $(typeof(x)).\")\n",
    "end\n",
    "\n",
    "# Method for integers\n",
    "function describe(x::Int)\n",
    "    if x > 0\n",
    "        println(\"$x is a positive integer.\")\n",
    "    elseif x < 0\n",
    "        println(\"$x is a negative integer.\")\n",
    "    else\n",
    "        println(\"You've given me zero.\")\n",
    "    end\n",
    "end\n",
    "\n",
    "# Method for floating-point numbers\n",
    "function describe(x::Float64)\n",
    "    println(\"$x is a floating-point number.\")\n",
    "end\n",
    "\n",
    "# Method for strings\n",
    "function describe(x::String)\n",
    "    if length(x) > 10\n",
    "        println(\"'$x' is a long string with $(length(x)) characters.\")\n",
    "    else\n",
    "        println(\"'$x' is a short string with $(length(x)) characters.\")\n",
    "    end\n",
    "end\n"
   ]
  },
  {
   "cell_type": "code",
   "execution_count": null,
   "metadata": {},
   "outputs": [],
   "source": [
    "describe(\"a\" => \"b\")"
   ]
  },
  {
   "cell_type": "code",
   "execution_count": null,
   "metadata": {},
   "outputs": [],
   "source": [
    "describe(42)"
   ]
  },
  {
   "cell_type": "code",
   "execution_count": null,
   "metadata": {},
   "outputs": [],
   "source": [
    "describe(42.0)"
   ]
  },
  {
   "cell_type": "code",
   "execution_count": null,
   "metadata": {},
   "outputs": [],
   "source": [
    "describe(\"Hello World\")"
   ]
  },
  {
   "cell_type": "markdown",
   "metadata": {},
   "source": [
    "### Keyword Arguments\n",
    "Functions in Julia can also accept keyword arguments. These are defined using a semicolon in the function definition."
   ]
  },
  {
   "cell_type": "code",
   "execution_count": null,
   "metadata": {},
   "outputs": [],
   "source": [
    "function print_info(;name=\"Unknown\", age=0)\n",
    "    println(\"Name: $name, Age: $age\")\n",
    "end\n",
    "\n"
   ]
  },
  {
   "cell_type": "code",
   "execution_count": null,
   "metadata": {},
   "outputs": [],
   "source": [
    "print_info(name=\"Bob\", age=30)  # Outputs: Name: Bob, Age: 30\n"
   ]
  },
  {
   "cell_type": "markdown",
   "metadata": {},
   "source": [
    "### Variable Number of Arguments\n",
    "\n",
    "You can define functions that accept a variable number of arguments using the ... notation.\n",
    "\n"
   ]
  },
  {
   "cell_type": "code",
   "execution_count": null,
   "metadata": {},
   "outputs": [],
   "source": [
    "function sum_all(nums...)\n",
    "    return sum(nums)\n",
    "end\n",
    "\n",
    "sum_all(1, 2, 3, 4, 5)  # Outputs: 15\n"
   ]
  },
  {
   "cell_type": "markdown",
   "metadata": {},
   "source": [
    "### Macros"
   ]
  },
  {
   "cell_type": "markdown",
   "metadata": {},
   "source": [
    "Macros are a metaprogramming feature of Julia that allows you to include generated code in a program. A macro operates on the code itself before the code is run, which means they can transform expressions, inject additional code, and even generate complex patterns programmatically."
   ]
  },
  {
   "cell_type": "markdown",
   "metadata": {},
   "source": [
    "Macros are a common feature of Julia code. Here are a few typical examples:"
   ]
  },
  {
   "cell_type": "code",
   "execution_count": null,
   "metadata": {},
   "outputs": [],
   "source": [
    "@assert x == 0"
   ]
  },
  {
   "cell_type": "markdown",
   "metadata": {},
   "source": [
    "Here is an example that illustrates how to define a custom macro:"
   ]
  },
  {
   "cell_type": "code",
   "execution_count": null,
   "metadata": {},
   "outputs": [],
   "source": [
    "macro html(tag, content)\n",
    "    esc(:( \"<$($tag)>$($content)</$($tag)>\" ))\n",
    "end"
   ]
  },
  {
   "cell_type": "code",
   "execution_count": null,
   "metadata": {},
   "outputs": [],
   "source": [
    "@html \"p\" \"This is a paragraph\"  # This would output: <p>This is a paragraph</p>"
   ]
  },
  {
   "cell_type": "markdown",
   "metadata": {},
   "source": [
    "---\n",
    "_This notebook is licensed under a [Creative Commons Attribution-NonCommercial-ShareAlike 4.0 International (CC BY-NC-SA 4.0)](https://creativecommons.org/licenses/by-nc-sa/4.0/). Copyright © 2018-2024 [Point 8 GmbH](https://point-8.de)_"
   ]
  }
 ],
 "metadata": {
  "kernelspec": {
   "display_name": "Julia 1.10.4",
   "language": "julia",
   "name": "julia-1.10"
  },
  "language_info": {
   "file_extension": ".jl",
   "mimetype": "application/julia",
   "name": "julia",
   "version": "1.10.4"
  }
 },
 "nbformat": 4,
 "nbformat_minor": 2
}
