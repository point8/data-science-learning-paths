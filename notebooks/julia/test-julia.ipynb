{
 "cells": [
  {
   "cell_type": "markdown",
   "metadata": {},
   "source": [
    "# Test Basic Julia Stack\n",
    "\n",
    "**This block tests whether Julia and all packages required are installed properly and working.**\n",
    "\n",
    "Please run the cell below (select and press <kbd>SHIFT+ENTER</kbd>). You should see the following output on the last line: \n",
    "\n",
    "```\n",
    "Congratulations, your Julia stack is ready to go\n",
    "``````"
   ]
  },
  {
   "cell_type": "code",
   "execution_count": null,
   "metadata": {},
   "outputs": [],
   "source": [
    "using Pkg\n",
    "\n",
    "fail = false\n",
    "\n",
    "# Check Julia version\n",
    "println(\"Julia version: \", VERSION)\n",
    "\n",
    "# Test package imports\n",
    "packages = [\"DataFrames\", \"Plots\", \"Statistics\", \"JuMP\", \"Colors\", \"Images\"]\n",
    "\n",
    "for package in packages\n",
    "    try\n",
    "        Pkg.add(package)\n",
    "    catch e\n",
    "        println(\"Importing package failed: \", package)\n",
    "        fail = true\n",
    "    end\n",
    "end\n",
    "\n",
    "if !fail\n",
    "    println(\"Congratulations, your Julia stack is ready to go\")\n",
    "else\n",
    "    println(\"Your Julia stack is not ready, please check error messages above\")\n",
    "end"
   ]
  },
  {
   "cell_type": "markdown",
   "metadata": {},
   "source": [
    "---\n",
    "_This notebook is licensed under a [Creative Commons Attribution-NonCommercial-ShareAlike 4.0 International (CC BY-NC-SA 4.0)](https://creativecommons.org/licenses/by-nc-sa/4.0/). Copyright © 2018-2025 [Point 8 GmbH](https://point-8.de)_"
   ]
  }
 ],
 "metadata": {
  "kernelspec": {
   "display_name": "Julia 1.9.4",
   "language": "julia",
   "name": "julia-1.9"
  },
  "language_info": {
   "file_extension": ".jl",
   "mimetype": "application/julia",
   "name": "julia",
   "version": "1.9.4"
  }
 },
 "nbformat": 4,
 "nbformat_minor": 2
}
