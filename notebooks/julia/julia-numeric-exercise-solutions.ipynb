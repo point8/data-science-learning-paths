{
 "cells": [
  {
   "cell_type": "markdown",
   "metadata": {},
   "source": [
    "## Exercise Solutions: Practice Working with Arrays"
   ]
  },
  {
   "cell_type": "markdown",
   "metadata": {},
   "source": [
    "### Exercise Task 1"
   ]
  },
  {
   "cell_type": "markdown",
   "metadata": {},
   "source": [
    "1. Create a 5x5 matrix X with elements from 1 to 25.\n",
    "1. Extract the second and fourth rows of X into a new matrix Y.\n",
    "1. Extract a 3x3 submatrix Z from the center of X.\n"
   ]
  },
  {
   "cell_type": "code",
   "execution_count": null,
   "metadata": {},
   "outputs": [],
   "source": [
    "# 1. Create a 5x5 matrix X with elements from 1 to 25\n",
    "X = reshape(1:25, 5, 5)\n",
    "display(X)\n"
   ]
  },
  {
   "cell_type": "code",
   "execution_count": null,
   "metadata": {},
   "outputs": [],
   "source": [
    "\n",
    "# 2. Extract the second and fourth rows of X into a new matrix Y\n",
    "Y = X[[2, 4], :]\n",
    "display(Y)\n"
   ]
  },
  {
   "cell_type": "code",
   "execution_count": null,
   "metadata": {},
   "outputs": [],
   "source": [
    "\n",
    "# 3. Extract a 3x3 submatrix Z from the center of X\n",
    "Z = X[2:4, 2:4]\n",
    "display(Z)"
   ]
  },
  {
   "cell_type": "markdown",
   "metadata": {},
   "source": [
    "### Exercise Task 2"
   ]
  },
  {
   "cell_type": "markdown",
   "metadata": {},
   "source": [
    "1. Create two one-dimensional arrays D1 and D2, each with 5 elements.\n",
    "1. Concatenate D1 and D2 into one array D3.\n",
    "1. Split D3 back into two arrays of equal length."
   ]
  },
  {
   "cell_type": "code",
   "execution_count": null,
   "metadata": {},
   "outputs": [],
   "source": [
    "# 1. Create two one-dimensional arrays D1 and D2, each with 5 elements\n",
    "D1 = [1, 2, 3, 4, 5]\n",
    "D2 = [6, 7, 8, 9, 10]\n",
    "\n",
    "display(D1)\n",
    "display(D2)\n"
   ]
  },
  {
   "cell_type": "code",
   "execution_count": null,
   "metadata": {},
   "outputs": [],
   "source": [
    "\n",
    "# 2. Concatenate D1 and D2 into one array D3\n",
    "D3 = vcat(D1, D2)\n",
    "\n",
    "display(D3)\n"
   ]
  },
  {
   "cell_type": "code",
   "execution_count": null,
   "metadata": {},
   "outputs": [],
   "source": [
    "\n",
    "# 3. Split D3 back into two arrays of equal length\n",
    "mid = length(D3) ÷ 2\n",
    "D4, D5 = D3[1:mid], D3[mid+1:end]\n",
    "\n",
    "display(D4)\n",
    "display(D5)"
   ]
  },
  {
   "cell_type": "markdown",
   "metadata": {},
   "source": [
    "### Exercise Task 3\n",
    "\n",
    "1. Create a one-dimensional array original_array containing the first 24 positive integers.\n",
    "1. Reshape this array into a 2D array (matrix) matrix_4x6 with 4 rows and 6 columns.\n",
    "1. Transpose matrix_4x6 to create a new matrix matrix_6x4.\n",
    "1. Reshape matrix_6x4 into a 3D array array_3D with dimensions 2x3x4.\n",
    "1. Take the 3D array array_3D and reshape it back into a one-dimensional array flat_array ensuring that the elements are in the same order as original_array.\n",
    "1. Create a function verify_reshape(original, reshaped) that checks if the reshaped array contains the same elements in the same order as the original array. It should return true if they match and false otherwise."
   ]
  },
  {
   "cell_type": "code",
   "execution_count": null,
   "metadata": {},
   "outputs": [],
   "source": [
    "# 1. Create a one-dimensional array original_array containing the first 24 positive integers\n",
    "original_array = collect(1:24)\n",
    "display(original_array)\n"
   ]
  },
  {
   "cell_type": "code",
   "execution_count": null,
   "metadata": {},
   "outputs": [],
   "source": [
    "\n",
    "# 2. Reshape this array into a 2D array (matrix) matrix_4x6 with 4 rows and 6 columns\n",
    "matrix_4x6 = reshape(original_array, 4, 6)\n",
    "display(matrix_4x6)\n"
   ]
  },
  {
   "cell_type": "code",
   "execution_count": null,
   "metadata": {},
   "outputs": [],
   "source": [
    "\n",
    "# 3. Transpose matrix_4x6 to create a new matrix matrix_6x4\n",
    "matrix_6x4 = transpose(matrix_4x6)\n",
    "display(matrix_6x4)\n"
   ]
  },
  {
   "cell_type": "code",
   "execution_count": null,
   "metadata": {},
   "outputs": [],
   "source": [
    "\n",
    "# 4. Reshape matrix_6x4 into a 3D array array_3D with dimensions 2x3x4\n",
    "array_3D = reshape(matrix_6x4, 2, 3, 4)\n",
    "display(array_3D)\n"
   ]
  },
  {
   "cell_type": "code",
   "execution_count": null,
   "metadata": {},
   "outputs": [],
   "source": [
    "\n",
    "# 5. Take the 3D array array_3D and reshape it back into a one-dimensional array flat_array\n",
    "flat_array = reshape(array_3D, :)\n",
    "flat_array = sort(flat_array)\n",
    "flat_array\n"
   ]
  },
  {
   "cell_type": "code",
   "execution_count": null,
   "metadata": {},
   "outputs": [],
   "source": [
    "\n",
    "# 6. Create a function verify_reshape(original, reshaped) that checks if the reshaped array\n",
    "#    contains the same elements in the same order as the original array\n",
    "function verify_reshape(original, reshaped)\n",
    "    return original == reshaped\n",
    "end\n",
    "\n",
    "verify_reshape(original_array, flat_array)"
   ]
  },
  {
   "cell_type": "markdown",
   "metadata": {},
   "source": [
    "---\n",
    "_This notebook is licensed under a [Creative Commons Attribution-NonCommercial-ShareAlike 4.0 International (CC BY-NC-SA 4.0)](https://creativecommons.org/licenses/by-nc-sa/4.0/). Copyright © 2018-2025 [Point 8 GmbH](https://point-8.de)_^m"
   ]
  }
 ],
 "metadata": {
  "kernelspec": {
   "display_name": "Julia 1.10.4",
   "language": "julia",
   "name": "julia-1.10"
  },
  "language_info": {
   "file_extension": ".jl",
   "mimetype": "application/julia",
   "name": "julia",
   "version": "1.10.4"
  }
 },
 "nbformat": 4,
 "nbformat_minor": 2
}
