{
 "cells": [
  {
   "cell_type": "markdown",
   "metadata": {},
   "source": [
    "# Julia and Python Interoperability\n",
    "\n",
    "This notebook will guide you through the process of calling Python from Julia and vice versa. We will focus on two main packages: PyCall and PyJulia."
   ]
  },
  {
   "cell_type": "markdown",
   "metadata": {},
   "source": [
    "## Introduction\n",
    "\n",
    "Both Python and Julia are powerful programming languages with their respective strengths. Python is well-known for its extensive libraries and user-friendly syntax, while Julia is appreciated for its speed and suitability for scientific computation.\n",
    "\n",
    "Interoperability between these two languages can leverage their strengths, allowing you to use Python's rich ecosystem within Julia's fast computational environment and vice versa. This is made possible through the PyCall and PyJulia packages."
   ]
  },
  {
   "cell_type": "markdown",
   "metadata": {},
   "source": [
    "## Calling Python from Julia with PyCall \n"
   ]
  },
  {
   "cell_type": "markdown",
   "metadata": {},
   "source": [
    "PyCall is a Julia package that enables you to call Python functions and libraries directly from Julia."
   ]
  },
  {
   "cell_type": "code",
   "execution_count": null,
   "metadata": {},
   "outputs": [],
   "source": [
    "using Pkg\n",
    "Pkg.add(\"PyCall\")"
   ]
  },
  {
   "cell_type": "markdown",
   "metadata": {},
   "source": [
    "We can import Python libraries using the `pyimport` function. For example, we can import the `math` library as follows:\n",
    "\n"
   ]
  },
  {
   "cell_type": "code",
   "execution_count": null,
   "metadata": {},
   "outputs": [],
   "source": [
    "using PyCall\n",
    "math = pyimport(\"math\")\n",
    "println(math.sqrt(16.0))\n"
   ]
  },
  {
   "cell_type": "markdown",
   "metadata": {},
   "source": [
    "### Pre-installed Libraries\n",
    "\n",
    "\n",
    "PyCall comes with some third-party Python libraries available out of the box, meaning you can use them without any additional installation steps. This includes `numpy`:"
   ]
  },
  {
   "cell_type": "code",
   "execution_count": null,
   "metadata": {},
   "outputs": [],
   "source": [
    "using PyCall\n",
    "np = pyimport(\"numpy\")\n",
    "a = np.array([1, 2, 3, 4, 5])\n",
    "println(a)"
   ]
  },
  {
   "cell_type": "markdown",
   "metadata": {},
   "source": [
    "Notice how the numpy array is automatically converted to a Julia array. This is because PyCall automatically converts Python objects to their Julia equivalents."
   ]
  },
  {
   "cell_type": "code",
   "execution_count": null,
   "metadata": {},
   "outputs": [],
   "source": [
    "typeof(a)"
   ]
  },
  {
   "cell_type": "markdown",
   "metadata": {},
   "source": [
    "### Installing More Libraries\n",
    "\n"
   ]
  },
  {
   "cell_type": "markdown",
   "metadata": {},
   "source": [
    "For libraries not included with PyCall by default, you can install them using Python's package manager pip, which is accessible from PyCall."
   ]
  },
  {
   "cell_type": "code",
   "execution_count": null,
   "metadata": {},
   "outputs": [],
   "source": [
    "pyimport(\"pandas\")"
   ]
  },
  {
   "cell_type": "code",
   "execution_count": null,
   "metadata": {},
   "outputs": [],
   "source": [
    "pip = pyimport(\"pip\")\n",
    "\n",
    "# Install pandas\n",
    "pip.main([\"install\", \"pandas\"])\n"
   ]
  },
  {
   "cell_type": "markdown",
   "metadata": {},
   "source": [
    "Now you can use the pandas Python library from Julia using PyCall in a similar way as you would use it in Python."
   ]
  },
  {
   "cell_type": "code",
   "execution_count": null,
   "metadata": {},
   "outputs": [],
   "source": [
    "pandas = pyimport(\"pandas\")\n"
   ]
  },
  {
   "cell_type": "code",
   "execution_count": null,
   "metadata": {},
   "outputs": [],
   "source": [
    "\n",
    "data = pandas.DataFrame(\n",
    "    Dict(\n",
    "        \"A\" => [\"spam\", \"eggs\", \"ham\", \"spam\", \"eggs\", \"ham\"],\n",
    "        \"B\" => [4, 5, 6, 7, 8, 9],\n",
    "    )\n",
    ")"
   ]
  },
  {
   "cell_type": "code",
   "execution_count": null,
   "metadata": {},
   "outputs": [],
   "source": [
    "data.groupby(\"A\").sum()"
   ]
  },
  {
   "cell_type": "markdown",
   "metadata": {},
   "source": [
    "However, unlike numpy arrays, pandas DataFrames are not automatically converted to a Julia type when they are created. "
   ]
  },
  {
   "cell_type": "markdown",
   "metadata": {},
   "source": [
    "---\n",
    "_This notebook is licensed under a [Creative Commons Attribution-NonCommercial-ShareAlike 4.0 International (CC BY-NC-SA 4.0)](https://creativecommons.org/licenses/by-nc-sa/4.0/). Copyright © 2018-2025 [Point 8 GmbH](https://point-8.de)_"
   ]
  }
 ],
 "metadata": {
  "kernelspec": {
   "display_name": "Julia 1.10.4",
   "language": "julia",
   "name": "julia-1.10"
  },
  "language_info": {
   "file_extension": ".jl",
   "mimetype": "application/julia",
   "name": "julia",
   "version": "1.10.4"
  }
 },
 "nbformat": 4,
 "nbformat_minor": 2
}
