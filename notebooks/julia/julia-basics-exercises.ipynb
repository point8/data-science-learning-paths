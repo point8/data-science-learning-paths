{
 "cells": [
  {
   "cell_type": "markdown",
   "metadata": {},
   "source": [
    "# Basics: Exercise - High School Geometry in Julia\n",
    "\n",
    "This is a practical exercise to help you get familiar with the basics of Julia programming."
   ]
  },
  {
   "cell_type": "markdown",
   "metadata": {},
   "source": [
    "Let's start with a type that implements a point in 2D geometry."
   ]
  },
  {
   "cell_type": "code",
   "execution_count": null,
   "metadata": {},
   "outputs": [],
   "source": [
    "\"\"\"\n",
    "Defines a point in a 2D space, where x and y are the coordinates of the point on the x-axis and y-axis, respectively.\n",
    "\"\"\"\n",
    "struct Point\n",
    "    x::Float64\n",
    "    y::Float64\n",
    "end"
   ]
  },
  {
   "cell_type": "markdown",
   "metadata": {},
   "source": [
    "_💡: Remember to add a docstring to each type and function you define, as in the example above._ \n",
    "\n",
    "Let's check the docstring for the `Point` type."
   ]
  },
  {
   "cell_type": "code",
   "execution_count": null,
   "metadata": {},
   "outputs": [],
   "source": [
    "@doc Point"
   ]
  },
  {
   "cell_type": "markdown",
   "metadata": {},
   "source": [
    "Let's try out the `Point` type:"
   ]
  },
  {
   "cell_type": "code",
   "execution_count": null,
   "metadata": {},
   "outputs": [],
   "source": [
    "println(Point(1.0, 2.0))"
   ]
  },
  {
   "cell_type": "markdown",
   "metadata": {},
   "source": [
    "**Task 1**: Implement a function that calculates the (Euclidean) distance between two points in 2D space."
   ]
  },
  {
   "cell_type": "code",
   "execution_count": null,
   "metadata": {},
   "outputs": [],
   "source": [
    "\"\"\"\n",
    "The distance function calculates the Euclidean distance between two points, p1 and p2. \n",
    "The points should be of the Point type. The function returns the distance as a floating-point number.\n",
    "\"\"\"\n",
    "function distance(p1::Point, p2::Point)\n",
    "    error(\"Not implemented yet\")\n",
    "end"
   ]
  },
  {
   "cell_type": "code",
   "execution_count": null,
   "metadata": {},
   "outputs": [],
   "source": [
    "distance(\n",
    "    Point(0.0, 0.0),\n",
    "    Point(1.0, 1.0),\n",
    ")"
   ]
  },
  {
   "cell_type": "code",
   "execution_count": null,
   "metadata": {},
   "outputs": [],
   "source": [
    "# Your code here"
   ]
  },
  {
   "cell_type": "markdown",
   "metadata": {},
   "source": [
    "In the following we are going to use unit tests to check if our implementation is correct. The `Test` module is part of the Julia standard library and provides a simple way to write unit tests."
   ]
  },
  {
   "cell_type": "code",
   "execution_count": null,
   "metadata": {},
   "outputs": [],
   "source": [
    "using Test"
   ]
  },
  {
   "cell_type": "code",
   "execution_count": null,
   "metadata": {},
   "outputs": [],
   "source": [
    "@testset \"Test the distance function\" begin\n",
    "    # Define some points\n",
    "    p1 = Point(0.0, 0.0)\n",
    "    p2 = Point(3.0, 4.0)\n",
    "\n",
    "    @test distance(p1, p2) ≈ 5.0\n",
    "    @test distance(p2, p2) ≈ 0.0\n",
    "end\n"
   ]
  },
  {
   "cell_type": "markdown",
   "metadata": {},
   "source": [
    "We continue with defining types for basic geometric shapes. First, let's have an abstract type `Shape` as a base type for all shapes."
   ]
  },
  {
   "cell_type": "code",
   "execution_count": null,
   "metadata": {},
   "outputs": [],
   "source": [
    "# Define an abstract type for shapes in Euclidean space\n",
    "abstract type Shape end\n"
   ]
  },
  {
   "cell_type": "markdown",
   "metadata": {},
   "source": [
    "**Task 2:** _Implement types for the following shapes:_ \n",
    "- `Circle`\n",
    "- `Rectangle`\n",
    "- `Triangle`"
   ]
  },
  {
   "cell_type": "code",
   "execution_count": null,
   "metadata": {},
   "outputs": [],
   "source": [
    "# Your code here"
   ]
  },
  {
   "cell_type": "markdown",
   "metadata": {},
   "source": [
    "The following test set checks if your shapes can be constructed. "
   ]
  },
  {
   "cell_type": "code",
   "execution_count": null,
   "metadata": {},
   "outputs": [],
   "source": [
    "@testset \"Test the instantiation of shapes\" begin\n",
    "    # Define some points\n",
    "    p1 = Point(0.0, 0.0)\n",
    "    p2 = Point(3.0, 4.0)\n",
    "    p3 = Point(5.0, 6.0)\n",
    "\n",
    "    # Define some shapes\n",
    "    s1 = Circle(p1, 1.0)\n",
    "    s2 = Rectangle(p1, p2)\n",
    "    s3 = Triangle(p1, p2, p3)\n",
    "\n",
    "    @test s1 isa Shape\n",
    "    @test s2 isa Shape\n",
    "    @test s3 isa Shape\n",
    "end\n"
   ]
  },
  {
   "cell_type": "markdown",
   "metadata": {},
   "source": [
    "**Task 3**: _Implement functions that calculate the area and perimeter for each of the the shapes. Look up the appropriate formulas for the area and perimeter calculation and translate them to Julia code._"
   ]
  },
  {
   "cell_type": "markdown",
   "metadata": {},
   "source": [
    "<div style=\"border:2px solid gray; padding:10px; width: 95%;\">\n",
    "\n",
    "💡 **Heron's Formula**\n",
    "\n",
    "Heron's formula allows you to calculate the area of a triangle when the lengths of all three sides are known. The semi-perimeter, $s$, is half the sum of the side lengths:\n",
    "\n",
    "$$ s = \\frac{a + b + c}{2} $$\n",
    "\n",
    "The area, $A$, is then calculated as:\n",
    "\n",
    "$$ A = \\sqrt{s(s - a)(s - b)(s - c)} $$\n",
    "\n",
    "where $a$, $b$, and $c$ are the lengths of the sides of the triangle.\n",
    "\n",
    "</div>"
   ]
  },
  {
   "cell_type": "code",
   "execution_count": null,
   "metadata": {},
   "outputs": [],
   "source": [
    "# Your code here"
   ]
  },
  {
   "cell_type": "markdown",
   "metadata": {},
   "source": [
    "The following test set checks if your area and perimeter functions are correct."
   ]
  },
  {
   "cell_type": "code",
   "execution_count": null,
   "metadata": {},
   "outputs": [],
   "source": [
    "\n",
    "@testset \"Test area and perimeter functions\" begin\n",
    "    TOL = 1e-2\n",
    "    \n",
    "    p1 = Point(0.0, 0.0)\n",
    "    p2 = Point(3.0, 4.0)\n",
    "    p3 = Point(5.0, 6.0)\n",
    "\n",
    "    c1 = Circle(p1, 1.0)\n",
    "    @test area(c1) ≈ π atol=TOL\n",
    "    @test perimeter(c1) ≈ 2π atol=TOL\n",
    "\n",
    "    r1 = Rectangle(p1, p2)\n",
    "    @test area(r1) ≈ 12.0 atol=TOL\n",
    "    @test perimeter(r1) ≈ 14.0 atol=TOL\n",
    "\n",
    "    t1 = Triangle(p1, p2, p3)\n",
    "    @test area(t1) ≈ 1.0 atol=TOL\n",
    "    @test perimeter(t1) ≈ 15.64 atol=TOL\n",
    "\n",
    "end"
   ]
  },
  {
   "cell_type": "markdown",
   "metadata": {},
   "source": [
    "**Task 4**: _Implement a type that represents an (infinite) line. Then implement a function that calculates the intersection point (if any) between two lines._\n"
   ]
  },
  {
   "cell_type": "code",
   "execution_count": null,
   "metadata": {},
   "outputs": [],
   "source": [
    "# your code here"
   ]
  },
  {
   "cell_type": "markdown",
   "metadata": {},
   "source": [
    "Make sure those tests are passing:"
   ]
  },
  {
   "cell_type": "code",
   "execution_count": null,
   "metadata": {},
   "outputs": [],
   "source": [
    "@testset \"Line tests\" begin\n",
    "    # Test line construction from slope and intercept\n",
    "    l1 = Line(1.0, 0.0)\n",
    "    @test l1.slope == 1.0\n",
    "    @test l1.intercept == 0.0\n",
    "    \n",
    "    # Test line construction from two points\n",
    "    p1 = Point(0.0, 0.0)\n",
    "    p2 = Point(1.0, 1.0)\n",
    "    l2 = Line(p1, p2)\n",
    "    @test l2.slope == 1.0\n",
    "    @test l2.intercept == 0.0\n",
    "    \n",
    "    # Test intersection point calculation\n",
    "    p3 = Point(0.0, 1.0)\n",
    "    p4 = Point(1.0, 0.0)\n",
    "    l3 = Line(p3, p4)\n",
    "    intersect = intersection(l2, l3)\n",
    "    @test intersect.x == 0.5\n",
    "    @test intersect.y == 0.5\n",
    "\n",
    "    # Test parallel lines\n",
    "    p5 = Point(0.0, 2.0)\n",
    "    p6 = Point(1.0, 3.0)\n",
    "    l4 = Line(p5, p6)\n",
    "    @test intersection(l2, l4) == nothing\n",
    "end"
   ]
  },
  {
   "cell_type": "markdown",
   "metadata": {},
   "source": [
    "---\n",
    "_This notebook is licensed under a [Creative Commons Attribution-NonCommercial-ShareAlike 4.0 International (CC BY-NC-SA 4.0)](https://creativecommons.org/licenses/by-nc-sa/4.0/). Copyright © 2018-2025 [Point 8 GmbH](https://point-8.de)_"
   ]
  }
 ],
 "metadata": {
  "kernelspec": {
   "display_name": "Julia 1.9.4",
   "language": "julia",
   "name": "julia-1.9"
  },
  "language_info": {
   "file_extension": ".jl",
   "mimetype": "application/julia",
   "name": "julia",
   "version": "1.9.4"
  }
 },
 "nbformat": 4,
 "nbformat_minor": 2
}
