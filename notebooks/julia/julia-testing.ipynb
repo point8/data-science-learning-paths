{
 "cells": [
  {
   "cell_type": "markdown",
   "metadata": {},
   "source": [
    "# Testing Julia Code\n",
    "\n",
    "Testing plays a crucial role in software development. It helps to ensure that your code works as expected and allows you to make changes to your code with confidence. Julia's standard library includes a Test module for creating and running tests."
   ]
  },
  {
   "cell_type": "markdown",
   "metadata": {},
   "source": [
    "# A Simple Test\n"
   ]
  },
  {
   "cell_type": "markdown",
   "metadata": {},
   "source": [
    "In Julia, you can write a test using the @test macro followed by an expression that should evaluate to true."
   ]
  },
  {
   "cell_type": "markdown",
   "metadata": {},
   "source": [
    "**Passing Test**"
   ]
  },
  {
   "cell_type": "code",
   "execution_count": null,
   "metadata": {},
   "outputs": [],
   "source": [
    "using Test\n",
    "\n",
    "@test 1 + 1 == 2  # This is a simple test case\n"
   ]
  },
  {
   "cell_type": "markdown",
   "metadata": {},
   "source": [
    "**Failing Test**"
   ]
  },
  {
   "cell_type": "code",
   "execution_count": null,
   "metadata": {},
   "outputs": [],
   "source": [
    "@test 1 + 1 == 3  # This is a failing test case"
   ]
  },
  {
   "cell_type": "markdown",
   "metadata": {},
   "source": [
    "**Testing Approximate Equality**\n",
    "\n",
    "In most cases, you may want to check that two floating point numbers are approximately equal to each other."
   ]
  },
  {
   "cell_type": "code",
   "execution_count": null,
   "metadata": {},
   "outputs": [],
   "source": [
    "using Test\n",
    "\n",
    "@testset \"Approximate equality tests\" begin\n",
    "    @test 0.1 + 0.2 ≈ 0.3 atol=1e-8\n",
    "end"
   ]
  },
  {
   "cell_type": "markdown",
   "metadata": {},
   "source": [
    "## Test Sets"
   ]
  },
  {
   "cell_type": "markdown",
   "metadata": {},
   "source": [
    "For more complex code, you'll want to organize your tests into \"test sets\". A test set is a group of tests that are related to each other. Test sets can be created using the @testset macro.  If any test within the test set fails, the entire test set is marked as failed."
   ]
  },
  {
   "cell_type": "code",
   "execution_count": null,
   "metadata": {},
   "outputs": [],
   "source": [
    "using Test\n",
    "\n",
    "@testset \"Arithmetic tests\" begin\n",
    "    @test 1 + 1 == 2\n",
    "    @test 2 * 2 == 4\n",
    "    @test 2 - 1 == 1\n",
    "end"
   ]
  },
  {
   "cell_type": "markdown",
   "metadata": {},
   "source": [
    "**Parametrized Tests**\n",
    "\n",
    "Parameterized tests in Julia allow you to run the same set of tests with different inputs by iterating over a collection of test parameters."
   ]
  },
  {
   "cell_type": "code",
   "execution_count": null,
   "metadata": {},
   "outputs": [],
   "source": [
    "\n",
    "# Function to test\n",
    "function is_even(n)\n",
    "    return n % 2 == 0\n",
    "end\n",
    "\n",
    "# Array of tuples containing test cases\n",
    "# Each tuple has the format (input, expected_output)\n",
    "test_cases = [\n",
    "    (2, true),\n",
    "    (3, false),\n",
    "    (10, true),\n",
    "    (15, false),\n",
    "    (-4, true),\n",
    "    (-7, false)\n",
    "]\n",
    "\n",
    "@testset \"Parameterized tests for is_even function\" for (input, expected) in test_cases\n",
    "    result = is_even(input)\n",
    "    @test result == expected\n",
    "end"
   ]
  },
  {
   "cell_type": "markdown",
   "metadata": {},
   "source": [
    "## Testing Exceptions"
   ]
  },
  {
   "cell_type": "markdown",
   "metadata": {},
   "source": [
    "We can test whether a piece of code throws an exception."
   ]
  },
  {
   "cell_type": "code",
   "execution_count": null,
   "metadata": {},
   "outputs": [],
   "source": [
    "\n",
    "@testset \"Exception test 1\" begin\n",
    "    @test_throws DivideError  1 ÷ 0  # integer division by zero\n",
    "end"
   ]
  },
  {
   "cell_type": "code",
   "execution_count": null,
   "metadata": {},
   "outputs": [],
   "source": [
    "@testset \"Exception test 2\" begin\n",
    "    @test_throws DivideError 1 / 0  # floating-point division by zero\n",
    "end"
   ]
  },
  {
   "cell_type": "markdown",
   "metadata": {},
   "source": [
    "Here no exception was thrown since floating point division by zero is possible in Julia:"
   ]
  },
  {
   "cell_type": "code",
   "execution_count": null,
   "metadata": {},
   "outputs": [],
   "source": [
    "1 / 0"
   ]
  },
  {
   "cell_type": "markdown",
   "metadata": {},
   "source": [
    "## Performance Testing\n",
    "Performance testing is important to ensure that your code runs efficiently. In Julia, you can use the `@time` and `@allocated`` macros to measure how long a piece of code takes to run and how much memory it uses.\n"
   ]
  },
  {
   "cell_type": "code",
   "execution_count": null,
   "metadata": {},
   "outputs": [],
   "source": [
    "using Test\n",
    "\n",
    "@testset \"Performance testing\" begin\n",
    "    @test @allocated(collect(1:1_000_000)) < 10_000_000  # Check that it allocates less than 10MB\n",
    "    @test @elapsed(sum(1:1_000_000)) < 0.01  # Check that it runs in less than 0.01s\n",
    "end"
   ]
  },
  {
   "cell_type": "markdown",
   "metadata": {},
   "source": [
    "**Benchmarking**\n",
    "\n",
    "- For realistic benchmarking, you typically use the `BenchmarkTools.jl`` package, which provides more comprehensive and statistically sound measurements compared to the @elapsed macro. \n",
    "  - The @elapsed macro simply measures the time it takes to execute a statement once, whereas BenchmarkTools.jl runs the code many times and provides statistical metrics such as the mean, median, minimum, and maximum execution time, as well as the standard deviation. "
   ]
  },
  {
   "cell_type": "code",
   "execution_count": null,
   "metadata": {},
   "outputs": [],
   "source": [
    "using Pkg\n",
    "Pkg.add(\"BenchmarkTools\")"
   ]
  },
  {
   "cell_type": "code",
   "execution_count": null,
   "metadata": {},
   "outputs": [],
   "source": [
    "using BenchmarkTools\n",
    "\n",
    "# Function to benchmark\n",
    "function sum_inverse_square(n)\n",
    "    return sum(1.0 / (i^2) for i in 1:n)\n",
    "end\n",
    "\n",
    "# Benchmarking with BenchmarkTools\n",
    "benchmark_result = @benchmark sum_inverse_square(100000)\n",
    "\n",
    "# Display the benchmarking result\n",
    "display(benchmark_result)"
   ]
  },
  {
   "cell_type": "markdown",
   "metadata": {},
   "source": [
    "---\n",
    "_This notebook is licensed under a [Creative Commons Attribution-NonCommercial-ShareAlike 4.0 International (CC BY-NC-SA 4.0)](https://creativecommons.org/licenses/by-nc-sa/4.0/). Copyright © 2018-2025 [Point 8 GmbH](https://point-8.de)_"
   ]
  }
 ],
 "metadata": {
  "kernelspec": {
   "display_name": "Julia 1.9.4",
   "language": "julia",
   "name": "julia-1.9"
  },
  "language_info": {
   "file_extension": ".jl",
   "mimetype": "application/julia",
   "name": "julia",
   "version": "1.9.4"
  }
 },
 "nbformat": 4,
 "nbformat_minor": 2
}
