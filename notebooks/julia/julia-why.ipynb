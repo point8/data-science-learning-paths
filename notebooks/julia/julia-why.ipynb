{
 "cells": [
  {
   "cell_type": "markdown",
   "metadata": {},
   "source": [
    "## Introduction: Why Julia?"
   ]
  },
  {
   "cell_type": "markdown",
   "metadata": {},
   "source": [
    "<p align=\"center\">\n",
    "    <img src=\"https://github.com/JuliaLang/julia-logo-graphics/blob/master/images/julia-logo-color.png?raw=true\" alt=\"Julia Logo\">\n",
    "</p>\n"
   ]
  },
  {
   "cell_type": "markdown",
   "metadata": {},
   "source": [
    "\n",
    "- **Ease of use**: Julia's syntax is expressive and easy for those familiar with other programming languages like Python or MATLAB.\n",
    "- **High performance**: Julia is just-in-time compiled, allowing it to achieve performance comparable to statically-typed languages like C.\n",
    "- **Open-source**: It's free, anyone can contribute to its development, and its ecosystem of open source libraries is growing around.\n",
    "- **Seamless integration with other languages**: It can easily call C, Fortran, and Python functions.\n",
    "\n"
   ]
  },
  {
   "cell_type": "markdown",
   "metadata": {},
   "source": [
    "## Ease of Use"
   ]
  },
  {
   "cell_type": "markdown",
   "metadata": {},
   "source": [
    "- Julia's syntax is expressive and familiar to users of other technical computing environments, making it relatively easy to pick up, especially for those with experience in MATLAB or Python. \n",
    "- The language aims to be as user-friendly as Python while maintaining the speed of C, bridging the gap between \"high-level\" and \"low-level\" languages."
   ]
  },
  {
   "cell_type": "code",
   "execution_count": null,
   "metadata": {},
   "outputs": [],
   "source": [
    "\"\"\"\n",
    "fibonacci(n::Int) -> Vector{Int}\n",
    "\n",
    "Generate a Fibonacci sequence as a list of integers up to the `n`-th term.\n",
    "\n",
    "# Arguments\n",
    "- `n::Int`: The length of the Fibonacci sequence to generate.\n",
    "\n",
    "# Returns\n",
    "- `Vector{Int}`: An array of integers containing the Fibonacci sequence up to the `n`-th term.\n",
    "\"\"\"\n",
    "function fibonacci(n)\n",
    "    if n <= 0\n",
    "        return Int[]\n",
    "    elseif n == 1\n",
    "        return [0]\n",
    "    elseif n == 2\n",
    "        return [0, 1]\n",
    "    else\n",
    "        fib_seq = [0, 1]\n",
    "        for i = 3:n\n",
    "            push!(fib_seq, fib_seq[end] + fib_seq[end-1])\n",
    "        end\n",
    "        return fib_seq\n",
    "    end\n",
    "end\n",
    "\n",
    "println(fibonacci(10))\n"
   ]
  },
  {
   "cell_type": "markdown",
   "metadata": {},
   "source": [
    "**Python**"
   ]
  },
  {
   "cell_type": "markdown",
   "metadata": {},
   "source": [
    "```python\n",
    "def fibonacci(n):\n",
    "    \"\"\"\n",
    "    Generate a list containing the Fibonacci sequence up to the n-th term.\n",
    "\n",
    "    Parameters:\n",
    "    n (int): The number of terms in the Fibonacci sequence to generate.\n",
    "\n",
    "    Returns:\n",
    "    list: A list of integers representing the Fibonacci sequence up to the n-th term\n",
    "    \"\"\"\n",
    "    if n <= 0:\n",
    "        return []\n",
    "    elif n == 1:\n",
    "        return [0]\n",
    "    elif n == 2:\n",
    "        return [0, 1]\n",
    "    else:\n",
    "        fib_seq = [0, 1]\n",
    "        for i in range(2, n):\n",
    "            fib_seq.append(fib_seq[-1] + fib_seq[-2])\n",
    "        return fib_seq\n",
    "\n",
    "print(fibonacci(10))\n",
    "``````"
   ]
  },
  {
   "cell_type": "markdown",
   "metadata": {},
   "source": [
    "**MATLAB**\n",
    "\n",
    "```matlab\n",
    "function fibSeq = fibonacci(n)\n",
    "%FIBONACCI Generate Fibonacci sequence up to the n-th term.\n",
    "%\n",
    "%   fibSeq = FIBONACCI(n) generates the Fibonacci sequence up to the n-th\n",
    "%   term. The sequence is returned as a row vector.\n",
    "%\n",
    "%   Example:\n",
    "%   fibonacci(10)\n",
    "%   % returns [0, 1, 1, 2, 3, 5, 8, 13, 21, 34]\n",
    "%\n",
    "%   See also: otherRelatedFunctions\n",
    "\n",
    "    if n <= 0\n",
    "        fibSeq = [];\n",
    "    elseif n == 1\n",
    "        fibSeq = 0;\n",
    "    else\n",
    "        fibSeq = [0, 1];\n",
    "        for i = 3:n\n",
    "            fibSeq(i) = fibSeq(i-1) + fibSeq(i-2);\n",
    "        end\n",
    "    end\n",
    "end\n",
    "\n",
    "```"
   ]
  },
  {
   "cell_type": "markdown",
   "metadata": {},
   "source": [
    "**C++**\n",
    "\n",
    "```cpp\n",
    "#include <iostream>\n",
    "#include <vector>\n",
    "\n",
    "/**\n",
    " * Generates a Fibonacci sequence up to the n-th term.\n",
    " *\n",
    " * This function returns a vector containing the Fibonacci sequence\n",
    " * up to the n-th term. The sequence starts with 0 followed by 1,\n",
    " * and each subsequent number is the sum of the previous two numbers.\n",
    " *\n",
    " * @param n The number of terms in the Fibonacci sequence to generate.\n",
    " *          If n is less than or equal to 0, an empty vector is returned.\n",
    " * @return A std::vector<int> containing the Fibonacci sequence up to the n-th term.\n",
    " */\n",
    "std::vector<int> fibonacci(int n) {\n",
    "    std::vector<int> fib_seq;\n",
    "\n",
    "    if (n <= 0) {\n",
    "        return fib_seq;\n",
    "    } else if (n == 1) {\n",
    "        fib_seq.push_back(0);\n",
    "    } else if (n == 2) {\n",
    "        fib_seq.push_back(0);\n",
    "        fib_seq.push_back(1);\n",
    "    } else {\n",
    "        fib_seq.push_back(0);\n",
    "        fib_seq.push_back(1);\n",
    "        for (int i = 3; i <= n; i++) {\n",
    "            fib_seq.push_back(fib_seq[i-2] + fib_seq[i-3]);\n",
    "        }\n",
    "    }\n",
    "    return fib_seq;\n",
    "}\n",
    "\n",
    "int main() {\n",
    "    std::vector<int> result = fibonacci(10);\n",
    "    for (int val : result) {\n",
    "        std::cout << val << \" \";\n",
    "    }\n",
    "    std::cout << std::endl;\n",
    "    return 0;\n",
    "}\n",
    "\n",
    "```"
   ]
  },
  {
   "cell_type": "markdown",
   "metadata": {},
   "source": [
    "## High Performance \n",
    "\n",
    "- One of the most touted features of Julia is its performance. \n",
    "- The language is designed with performance in mind from the ground up. \n",
    "- Its just-in-time (JIT) compilation with LLVM means that it can often match or even exceed the speed of languages like C or Fortran for many computational tasks. \n",
    "- This is especially valuable for tasks like numerical simulation, data analysis, and optimization where performance is crucial."
   ]
  },
  {
   "cell_type": "markdown",
   "metadata": {},
   "source": [
    "### Just in Time Compiler\n",
    "\n",
    "A _Just in Time Compiler_\n",
    "- compiles code as the program executes, enabling optimizations specific to the current execution context.\n",
    "- Enhances performance, allows platform-specific optimizations, and adapts to the input data."
   ]
  },
  {
   "cell_type": "markdown",
   "metadata": {},
   "source": [
    "![](../.assets/graphics/julia-jit.png)\n",
    "\n",
    "_Source: [Besard et al. 2016: High-level GPU programming in Julia](https://www.researchgate.net/publication/301876510_High-level_GPU_programming_in_Julia)_"
   ]
  },
  {
   "cell_type": "markdown",
   "metadata": {},
   "source": [
    "### Example: Performance\n",
    "\n",
    "The following code demonstrates a numerical computation in a visually appealing way: Computing the _Julia set_ -  a fractal named after the French mathematician Gaston Julia. "
   ]
  },
  {
   "cell_type": "markdown",
   "metadata": {},
   "source": [
    "<div style=\"border:2px solid gray; padding:10px;\">\n",
    "\n",
    "💡 **Mathematics of the Julia set fractal**\n",
    "\n",
    "The Julia set is formed by iterating the points in the complex plane with the formula:\n",
    "\n",
    "$$z_{i+1} = z_{i}^2 + c$$\n",
    "\n",
    "where z and c are complex numbers. The complex number z has a real part (x-coordinate) and an imaginary part (y-coordinate):\n",
    "\n",
    "$$z = x + yi$$\n",
    "\n",
    "The constant c is also a complex number:\n",
    "\n",
    "$$c = a + bi$$\n",
    "\n",
    "For each point $z$, this formula is applied repeatedly. If the magnitude of $z$ (distance from the origin) remains bounded (doesn't go to infinity) after many iterations, then that point is part of the Julia set. If z grows without bound, the point is not part of the set. The boundary of the set is where the complex dynamics and the fractal patterns emerge.\n",
    "\n",
    "</div>\n"
   ]
  },
  {
   "cell_type": "markdown",
   "metadata": {},
   "source": [
    "First we import a few packages to help us visualize the fractal."
   ]
  },
  {
   "cell_type": "code",
   "execution_count": null,
   "metadata": {},
   "outputs": [],
   "source": [
    "import Pkg\n",
    "Pkg.add(\"Colors\")\n",
    "Pkg.add(\"Images\")\n",
    "Pkg.add(\"Plots\")"
   ]
  },
  {
   "cell_type": "markdown",
   "metadata": {},
   "source": [
    "- The `julia` function generates a function `func` that computes how fast a complex number `z` escapes to infinity based on `c` and `maxiter`.\n",
    "- `generate_julia_image` maps each pixel to a complex number and uses `julia_func` to determine the grayscale intensity based on escape time, creating the Julia set image.\n",
    "- The script sets parameters for `c`, `width`, and `height`, generates the Julia set image with these parameters, and stores it in `img`."
   ]
  },
  {
   "cell_type": "code",
   "execution_count": null,
   "metadata": {},
   "outputs": [],
   "source": [
    "using Colors, Images\n",
    "\n",
    "# Define the Julia function\n",
    "function julia(c, maxiter)\n",
    "    function func(z)\n",
    "        for n = 1:maxiter\n",
    "            if abs2(z) > 4\n",
    "                return n-1\n",
    "            end\n",
    "            z = z*z + c\n",
    "        end\n",
    "        return maxiter\n",
    "    end\n",
    "    return func\n",
    "end\n",
    "\n",
    "# Generate the Julia set image\n",
    "function generate_julia_image(width, height, c, maxiter=1000)\n",
    "    julia_func = julia(c, maxiter)\n",
    "    img = zeros(Float64, width, height)\n",
    "    \n",
    "    for x = 1:width\n",
    "        for y = 1:height\n",
    "            zx = 3 * (x - width / 2) / width\n",
    "            zy = 2 * (y - height / 2) / height\n",
    "            img[x, y] = julia_func(complex(zx, zy)) / maxiter\n",
    "        end\n",
    "    end\n",
    "    \n",
    "    return img\n",
    "end\n",
    "\n",
    "# Parameters for the Julia set\n",
    "c = complex(-0.7, 0.27015)\n",
    "width, height = 800, 600\n",
    "\n",
    "# Generate and display the image\n",
    "img = generate_julia_image(width, height, c)\n",
    "colorview(Gray, img)\n",
    "\n"
   ]
  },
  {
   "cell_type": "markdown",
   "metadata": {},
   "source": [
    "Note the short time it took to compute Julia set membership for each of the `height` times `width` pixels. Let's create more computational load by creating an animation that zooms into the Julia set.\n",
    "\n",
    "- `julia_zoom_animation` creates an animation by repeatedly zooming into the Julia set around a `center` point, adjusting `xlims` and `ylims` each frame using the `zoom_factor`.\n",
    "- The main script sets up parameters, calls `julia_zoom_animation` to generate an animation, and saves it as a GIF file with a frame rate of 10 fps."
   ]
  },
  {
   "cell_type": "code",
   "execution_count": 4,
   "metadata": {},
   "outputs": [],
   "source": [
    "using Plots\n",
    "using Colors\n",
    "\n",
    "function julia(c, maxiter)\n",
    "    function func(z)\n",
    "        for n = 1:maxiter\n",
    "            if abs2(z) > 4\n",
    "                return n-1\n",
    "            end\n",
    "            z = z*z + c\n",
    "        end\n",
    "        return maxiter\n",
    "    end\n",
    "    return func\n",
    "end\n",
    "\n",
    "function generate_julia_image(width, height, c, xlims, ylims, maxiter=1000)\n",
    "    julia_func = julia(c, maxiter)\n",
    "    img = zeros(Float64, width, height)\n",
    "    \n",
    "    xspan = xlims[2] - xlims[1]\n",
    "    yspan = ylims[2] - ylims[1]\n",
    "    \n",
    "    for x = 1:width\n",
    "        for y = 1:height\n",
    "            zx = xlims[1] + xspan * (x / width)\n",
    "            zy = ylims[1] + yspan * (y / height)\n",
    "            img[x, y] = julia_func(complex(zx, zy)) / maxiter\n",
    "        end\n",
    "    end\n",
    "    \n",
    "    return img\n",
    "end\n",
    "\n",
    "function julia_zoom_animation(width, height, c, center, maxiter=1000, zoom_factor=0.98, nframes=100)\n",
    "    xlims = [-1.5, 1.5]\n",
    "    ylims = [-1.0, 1.0]\n",
    "    \n",
    "    anim = @animate for _ = 1:nframes\n",
    "        img = generate_julia_image(width, height, c, xlims, ylims, maxiter)\n",
    "        heatmap(img, color=:viridis, axis=false)\n",
    "        \n",
    "        xspan = xlims[2] - xlims[1]\n",
    "        yspan = ylims[2] - ylims[1]\n",
    "        xlims = [center[1] - xspan*zoom_factor/2, center[1] + xspan*zoom_factor/2]\n",
    "        ylims = [center[2] - yspan*zoom_factor/2, center[2] + yspan*zoom_factor/2]\n",
    "    end\n",
    "    return anim\n",
    "end\n",
    "\n",
    "# Parameters for the animation\n",
    "width, height = 800, 600\n",
    "c = complex(-0.7, 0.27015)\n",
    "center = [0.0, 0.0]\n",
    "\n",
    "# Generate and display the animation\n",
    "anim = julia_zoom_animation(width, height, c, center)\n",
    "gif(anim, fps=10)\n"
   ]
  },
  {
   "cell_type": "markdown",
   "metadata": {},
   "source": [
    "## Open Source\n",
    "\n",
    "The [Julia language itself is open source](https://github.com/JuliaLang/julia) and available free of charge, making it an attractive alternative to prorietary languages like MATLAB. \n",
    "\n",
    "\n",
    "Moreover, this enables a growing ecosystem of open source projects. Here we showcase some popular and useful extension packages:\n",
    "\n",
    "- **[DataFrames.jl](https://github.com/JuliaData/DataFrames.jl)**: This package provides tools for data manipulation and analysis. It offers functionality similar to pandas in Python and is an essential tool for data scientists and statisticians working in Julia.\n",
    "\n",
    "- **[JuMP.jl](https://github.com/jump-dev/JuMP.jl)**: a domain-specific modeling language for mathematical optimization embedded in Julia.\n",
    "\n",
    "- **[DifferentialEquations.jl](https://github.com/SciML/DifferentialEquations.jl)** - This project provides a suite for numerically solving differential equations. It is highly performant and offers a variety of algorithms and options."
   ]
  },
  {
   "cell_type": "markdown",
   "metadata": {},
   "source": [
    "## Seamless Integration with Other Languages"
   ]
  },
  {
   "cell_type": "markdown",
   "metadata": {},
   "source": [
    "Julia is built to easily operate together with other languages in larger software systems - such as Python. Calling Python code is enabled by the `PyCall` package. "
   ]
  },
  {
   "cell_type": "code",
   "execution_count": null,
   "metadata": {},
   "outputs": [],
   "source": [
    "Pkg.add(\"PyCall\")"
   ]
  },
  {
   "cell_type": "markdown",
   "metadata": {},
   "source": [
    "For example, you might use `PyCall` to use a machine learning algorithm from the popular `scikit-learn` Python framework seamlessly in your Julia workflow. In this example, we:\n",
    "\n",
    "1. Import the linear_model submodule from scikit-learn and numpy.\n",
    "2. Create some sample data for our linear regression.\n",
    "3. Instantiate a LinearRegression object.\n",
    "4. Fit the model using our sample data (X and y).\n",
    "5. Make predictions with the model."
   ]
  },
  {
   "cell_type": "code",
   "execution_count": null,
   "metadata": {},
   "outputs": [],
   "source": [
    "using PyCall\n",
    "\n",
    "@pyimport numpy\n",
    "\n",
    "# Import the sklearn.linear_model module\n",
    "@pyimport sklearn.linear_model as lm\n",
    "\n",
    "# Create some sample data in Julia as a 2D Float64 array\n",
    "X_julia = [\n",
    "    1.0 1.0;\n",
    "    1.0 2.0;\n",
    "    2.0 2.0;\n",
    "    2.0 3.0\n",
    "]\n",
    "y_julia = [6.0, 8.0, 9.0, 11.0]  # Using Float64 explicitly for consistency\n",
    "\n",
    "# Convert Julia arrays to numpy arrays using PyCall\n",
    "X = numpy.array(X_julia)\n",
    "y = numpy.array(y_julia)\n",
    "\n",
    "# Create linear regression object\n",
    "regr = lm.LinearRegression()\n",
    "\n",
    "# Train the model using the training sets\n",
    "regr.fit(X, y)\n",
    "\n",
    "# Create test data in Julia as a 2D Float64 array and convert\n",
    "X_test_julia = [\n",
    "    3.0 5.0\n",
    "]\n",
    "X_test = numpy.array(X_test_julia)\n",
    "\n",
    "# Make predictions using the testing set\n",
    "y_pred = regr.predict(X_test)\n",
    "\n",
    "println(\"Predictions: \", y_pred)\n",
    "println(\"Coefficients: \", regr.coef_)\n",
    "println(\"Intercept: \", regr.intercept_)"
   ]
  },
  {
   "cell_type": "markdown",
   "metadata": {},
   "source": [
    "## Julia in Comparison\n",
    "\n",
    "| Feature/Aspect       | Julia                                            | Python                                      | MATLAB                                      |\n",
    "|----------------------|--------------------------------------------------|---------------------------------------------|---------------------------------------------|\n",
    "| **Performance**      | High due to JIT compilation                      | Moderate, but extendable with C extensions | High in numerical computations              |\n",
    "| **Typing**           | Dynamic with optional type annotations           | Dynamic with optional static type hints     | Dynamic with some static type features      |\n",
    "| **Syntax**           | Expressive, similar to MATLAB                   | Very readable, general-purpose              | Specialized for matrix operations           |\n",
    "| **Ecosystem**        | Growing, especially in scientific computing      | Mature and diverse                          | Strong in engineering and scientific applications |\n",
    "| **Open Source**      | Yes                                              | Yes                                         | No                                          |\n",
    "| **Community**        | Active and growing                               | Very large and active                       | Large in specific industries                |               |\n",
    "| **Parallel Computing** | Native support                                 | Via modules and libraries                   | With Parallel Computing Toolbox             |\n",
    "| **IDE Support**      | Juno, VS Code, Jupyter                           | PyCharm, VS Code, Jupyter, and more         | Proprietary MATLAB IDE                      |\n",
    "| **Primary Usage**    | Scientific computing, data science               | General-purpose, web, AI, data science      | Mathematical modeling, simulations          |\n",
    "| **Commercial Use**   | Free for commercial use                          | Free for commercial use                     | Requires commercial license                 |"
   ]
  },
  {
   "cell_type": "markdown",
   "metadata": {},
   "source": [
    "## What Julia is not built for\n",
    "\n",
    "- **Real-time and Ultra-low Latency Systems**: Julia's just-in-time (JIT) compilation can introduce latency that is not suitable for real-time systems where consistent and predictable execution times are critical.\n",
    "- **Minimal resource environments**: Julia's runtime and compiler are more resource-intensive than those of some other languages, which can be a drawback for environments with strict memory or processing power limitations, such as microcontrollers or embedded systems.\n",
    "- **Operating Systems Development**: Development of operating systems typically requires languages that can compile to machine code without the overhead of a runtime environment. C and C++ are traditionally used for their close-to-the-metal capabilities, which Julia does not focus on."
   ]
  },
  {
   "cell_type": "markdown",
   "metadata": {},
   "source": [
    "## 💬 Your Use Cases\n",
    "\n",
    "Let's discuss ongoing projects and project ideas for which Julia is the right choice of language"
   ]
  },
  {
   "cell_type": "markdown",
   "metadata": {},
   "source": [
    "---\n",
    "_This notebook is licensed under a [Creative Commons Attribution-NonCommercial-ShareAlike 4.0 International (CC BY-NC-SA 4.0)](https://creativecommons.org/licenses/by-nc-sa/4.0/). Copyright © 2018-2025 [Point 8 GmbH](https://point-8.de)_"
   ]
  }
 ],
 "metadata": {
  "kernelspec": {
   "display_name": "Julia 1.9.4",
   "language": "julia",
   "name": "julia-1.9"
  },
  "language_info": {
   "file_extension": ".jl",
   "mimetype": "application/julia",
   "name": "julia",
   "version": "1.9.4"
  }
 },
 "nbformat": 4,
 "nbformat_minor": 2
}
