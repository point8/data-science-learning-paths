{
 "cells": [
  {
   "cell_type": "markdown",
   "metadata": {},
   "source": [
    "# Data Analysis with DataFrames\n",
    "\n",
    "In this guide, we will delve into the `DataFrames.jl` package, a tool for data manipulation, analysis, and visualization. It's a crucial package in the Julia data ecosystem, providing functionality similar to `pandas` in Python or `data.frame` in R."
   ]
  },
  {
   "cell_type": "markdown",
   "metadata": {},
   "source": [
    "## Loading Data"
   ]
  },
  {
   "cell_type": "markdown",
   "metadata": {},
   "source": [
    "We will require the following packages to load an example dataset into a DataFrame."
   ]
  },
  {
   "cell_type": "code",
   "execution_count": null,
   "metadata": {},
   "outputs": [],
   "source": [
    "import Pkg\n",
    "Pkg.add(\"DataFrames\") # data frames\n",
    "Pkg.add(\"CSV\")  # reading csv files"
   ]
  },
  {
   "cell_type": "code",
   "execution_count": null,
   "metadata": {},
   "outputs": [],
   "source": [
    "using DataFrames, CSV"
   ]
  },
  {
   "cell_type": "markdown",
   "metadata": {},
   "source": [
    "In the following we are going to work with an example dataset of house prices. An analysis of this dataset can provide us some insight into the real estate market, and how the sale price of a house depends on its properties.\n",
    "\n",
    "Let's read the data from a .csv file into a dataframe."
   ]
  },
  {
   "cell_type": "code",
   "execution_count": null,
   "metadata": {},
   "outputs": [],
   "source": [
    "data_dir = \"../.assets/data/\""
   ]
  },
  {
   "cell_type": "code",
   "execution_count": null,
   "metadata": {},
   "outputs": [],
   "source": [
    "data = CSV.read(joinpath(data_dir, \"houses_seattle\", \"kc_house_data.csv\"), DataFrame)"
   ]
  },
  {
   "cell_type": "markdown",
   "metadata": {},
   "source": [
    "## DataFrame Operations\n",
    "\n",
    "Let's walk through some basic operations:"
   ]
  },
  {
   "cell_type": "markdown",
   "metadata": {},
   "source": [
    "### Dimensions and Column Names"
   ]
  },
  {
   "cell_type": "markdown",
   "metadata": {},
   "source": [
    "Here is how to obtain the dimensions of the dataframe, its column names, and its column datatypes:"
   ]
  },
  {
   "cell_type": "code",
   "execution_count": null,
   "metadata": {},
   "outputs": [],
   "source": [
    "n_rows, n_columns = size(data)"
   ]
  },
  {
   "cell_type": "code",
   "execution_count": null,
   "metadata": {},
   "outputs": [],
   "source": [
    "names(data)"
   ]
  },
  {
   "cell_type": "code",
   "execution_count": null,
   "metadata": {},
   "outputs": [],
   "source": [
    "mapcols(eltype, data)"
   ]
  },
  {
   "cell_type": "markdown",
   "metadata": {},
   "source": [
    "### Accessing Rows"
   ]
  },
  {
   "cell_type": "markdown",
   "metadata": {},
   "source": [
    "To take a first look into the dataframe, we have"
   ]
  },
  {
   "cell_type": "code",
   "execution_count": null,
   "metadata": {},
   "outputs": [],
   "source": [
    "first(data, 5)"
   ]
  },
  {
   "cell_type": "code",
   "execution_count": null,
   "metadata": {},
   "outputs": [],
   "source": [
    "last(data, 5)"
   ]
  },
  {
   "cell_type": "markdown",
   "metadata": {},
   "source": [
    "Getting specifc rows by row number: "
   ]
  },
  {
   "cell_type": "code",
   "execution_count": null,
   "metadata": {},
   "outputs": [],
   "source": [
    "data[1, :]"
   ]
  },
  {
   "cell_type": "code",
   "execution_count": null,
   "metadata": {},
   "outputs": [],
   "source": [
    "data[10:20, :]"
   ]
  },
  {
   "cell_type": "markdown",
   "metadata": {},
   "source": [
    "### Sampling"
   ]
  },
  {
   "cell_type": "markdown",
   "metadata": {},
   "source": [
    "To take a random sample from the data, we can get help from the `StatsBase` package."
   ]
  },
  {
   "cell_type": "code",
   "execution_count": null,
   "metadata": {},
   "outputs": [],
   "source": [
    "Pkg.add(\"StatsBase\")\n",
    "\n",
    "using StatsBase"
   ]
  },
  {
   "cell_type": "code",
   "execution_count": null,
   "metadata": {},
   "outputs": [],
   "source": [
    "# Sample a number of rows without replacement\n",
    "data[sample(1:nrow(data), 10; replace=false), :]"
   ]
  },
  {
   "cell_type": "code",
   "execution_count": null,
   "metadata": {},
   "outputs": [],
   "source": [
    "# Sample a fraction of rows without replacement\n",
    "n_samples = floor(Int, nrow(data) * 0.001)\n",
    "data[sample(1:nrow(data),n_samples; replace=false), :]"
   ]
  },
  {
   "cell_type": "markdown",
   "metadata": {},
   "source": [
    "### Accessing Columns"
   ]
  },
  {
   "cell_type": "markdown",
   "metadata": {},
   "source": [
    "**Accessing a specific column:** To access a specific column, you can use the column's name in square brackets. Let's break down the syntax of the following command:\n",
    "\n",
    "\n",
    "- The ! (bang) symbol makes the operation non-copying. This means that the operation will return a reference to the existing column, not a new copy of the column. Therefore, if you modify the returned array, the original DataFrame df will also be modified.\n",
    "- `:price` is a symbol representing the name of the column you wish to select. Julia uses the colon : to create symbols, which are like lightweight string identifiers often used for column names, among other things."
   ]
  },
  {
   "cell_type": "code",
   "execution_count": null,
   "metadata": {},
   "outputs": [],
   "source": [
    "data[!, :price]"
   ]
  },
  {
   "cell_type": "markdown",
   "metadata": {},
   "source": [
    "To make a copy of the column:"
   ]
  },
  {
   "cell_type": "code",
   "execution_count": null,
   "metadata": {},
   "outputs": [],
   "source": [
    "data[:, :price]"
   ]
  },
  {
   "cell_type": "markdown",
   "metadata": {},
   "source": [
    "**Basic Statistics**: \n",
    "- The `mean` function is part of Julia's Statistics module.\n",
    "- To get an overview of the data, we can use the `describe` function. This will return a DataFrame containing basic statistics for each column."
   ]
  },
  {
   "cell_type": "code",
   "execution_count": null,
   "metadata": {},
   "outputs": [],
   "source": [
    "using Statistics\n",
    "\n",
    "mean(data[!, :price])"
   ]
  },
  {
   "cell_type": "code",
   "execution_count": null,
   "metadata": {},
   "outputs": [],
   "source": [
    "describe(data)"
   ]
  },
  {
   "cell_type": "markdown",
   "metadata": {},
   "source": [
    "The following code is used to filter rows in a dataframe based on a condition.\n",
    "\n",
    "Let's break it down:\n",
    "\n",
    "- `data[!, :price]` is selecting the 'price' column from the DataFrame data. The ! symbol makes the operation non-copying.\n",
    "- `data[!, :price] .> 1000000` compares each value in the 'price' column to 1 million. This is a broadcasted operation, meaning it's applied element-wise to each value in the 'price' column. The result is a Boolean array where each element is true if the corresponding condition is true, and false otherwise.\n",
    "- `data[data[!, :price] .> 1000000, :]` then selects all rows from data where the condition is true. The `:` symbol denotes all columns."
   ]
  },
  {
   "cell_type": "code",
   "execution_count": null,
   "metadata": {},
   "outputs": [],
   "source": [
    "data[data[!, :price] .> 1000000, :] "
   ]
  },
  {
   "cell_type": "markdown",
   "metadata": {},
   "source": [
    "**Selecting multiple columns**: To select multiple columns, you can pass a vector of column names to the DataFrame. "
   ]
  },
  {
   "cell_type": "code",
   "execution_count": null,
   "metadata": {},
   "outputs": [],
   "source": [
    "data[!, [:price, :bedrooms, :bathrooms]]    "
   ]
  },
  {
   "cell_type": "markdown",
   "metadata": {},
   "source": [
    "### Modifying and Reshaping"
   ]
  },
  {
   "cell_type": "markdown",
   "metadata": {},
   "source": [
    "**Adding a column**: Let's add a new column to the dataframe. After running this line, your DataFrame data will have a new column 'price_per_sqft' containing the price per square foot for each house. "
   ]
  },
  {
   "cell_type": "code",
   "execution_count": null,
   "metadata": {},
   "outputs": [],
   "source": [
    "data[!, :price_per_sqft] = data[!, :price] ./ data[!, :sqft_living]"
   ]
  },
  {
   "cell_type": "code",
   "execution_count": null,
   "metadata": {},
   "outputs": [],
   "source": [
    "first(data, 5)"
   ]
  },
  {
   "cell_type": "markdown",
   "metadata": {},
   "source": [
    "**Exercise**: Add a column with the price per square meter."
   ]
  },
  {
   "cell_type": "code",
   "execution_count": null,
   "metadata": {},
   "outputs": [],
   "source": [
    "    "
   ]
  },
  {
   "cell_type": "markdown",
   "metadata": {},
   "source": [
    "**Grouping and Aggregation**: You can group data by one or more columns and then calculate aggregate statistics for each group. For example, let's calculate the average price for each number of bedrooms:\n",
    "\n"
   ]
  },
  {
   "cell_type": "code",
   "execution_count": null,
   "metadata": {},
   "outputs": [],
   "source": [
    "combine(\n",
    "    groupby(data, :bedrooms),\n",
    "    :price => mean => :mean_price,\n",
    ")"
   ]
  },
  {
   "cell_type": "markdown",
   "metadata": {},
   "source": [
    "**Renaming columns**: To rename columns, you can use the `rename` function and pass a mapping of old column names to new column names."
   ]
  },
  {
   "cell_type": "code",
   "execution_count": null,
   "metadata": {},
   "outputs": [],
   "source": [
    "data = rename(\n",
    "    data, \n",
    "    :yr_built => :year_built, \n",
    "    :yr_renovated => :year_renovated,\n",
    ")"
   ]
  },
  {
   "cell_type": "markdown",
   "metadata": {},
   "source": [
    "**Sorting data**: To sort a DataFrame by one or more columns, you can use the `sort` function. Let's sort the data in place by price in descending order:"
   ]
  },
  {
   "cell_type": "code",
   "execution_count": null,
   "metadata": {},
   "outputs": [],
   "source": [
    "sort!(data, :price) # inplace, modifying the dataframe"
   ]
  },
  {
   "cell_type": "code",
   "execution_count": null,
   "metadata": {},
   "outputs": [],
   "source": [
    "sort(data, :sqft_living) # not inplace, returning a view"
   ]
  },
  {
   "cell_type": "markdown",
   "metadata": {},
   "source": [
    "## Data Visualization"
   ]
  },
  {
   "cell_type": "code",
   "execution_count": null,
   "metadata": {},
   "outputs": [],
   "source": [
    "Pkg.add(\"Plots\")\n",
    "using Plots"
   ]
  },
  {
   "cell_type": "markdown",
   "metadata": {},
   "source": [
    "**Scatter plots**: To create a scatter plot, you can use the `scatter` function from the Plots.jl package. Let's create a scatter plot of price vs. living area:"
   ]
  },
  {
   "cell_type": "code",
   "execution_count": null,
   "metadata": {},
   "outputs": [],
   "source": [
    "scatter(\n",
    "    data[!, :sqft_living], \n",
    "    data[!, :price], \n",
    "    title = \"Price vs Living Area\", \n",
    "    xlab = \"Living Area\", \n",
    "    ylab = \"Price\",\n",
    "    alpha = 0.2,\n",
    "    markersize = 2,\n",
    ")"
   ]
  },
  {
   "cell_type": "code",
   "execution_count": null,
   "metadata": {},
   "outputs": [],
   "source": [
    "using Statistics\n",
    "\n",
    "avg_price_by_bedrooms = combine(\n",
    "    groupby(data, :bedrooms), \n",
    "    :price => mean => :avg_price\n",
    ")\n",
    "\n",
    "bar(\n",
    "    avg_price_by_bedrooms[!, :bedrooms], \n",
    "    avg_price_by_bedrooms[!, :avg_price], \n",
    "    title = \"Average Price by Number of Bedrooms\", \n",
    "    xlab = \"Number of Bedrooms\", \n",
    "    ylab = \"Average Price\"\n",
    ")"
   ]
  },
  {
   "cell_type": "code",
   "execution_count": null,
   "metadata": {},
   "outputs": [],
   "source": [
    "histogram(\n",
    "    data[!, :price], \n",
    "    bins = 50, \n",
    "    title = \"Histogram of Prices\", \n",
    "    xlab = \"Price\", \n",
    "    ylab = \"Frequency\"\n",
    ")"
   ]
  },
  {
   "cell_type": "markdown",
   "metadata": {},
   "source": [
    "For more advanced statistical data visualization, we can use the `StatsPlots` package."
   ]
  },
  {
   "cell_type": "code",
   "execution_count": null,
   "metadata": {},
   "outputs": [],
   "source": [
    "Pkg.add(\"StatsPlots\")"
   ]
  },
  {
   "cell_type": "code",
   "execution_count": null,
   "metadata": {},
   "outputs": [],
   "source": [
    "using StatsPlots\n",
    "\n",
    "# Make sure that :bedrooms and :price are the correct column names\n",
    "@df data boxplot(\n",
    "    :bedrooms, \n",
    "    :price, \n",
    "    group = :bedrooms,\n",
    "    xlabel = \"Number of Bedrooms\",\n",
    "    ylabel = \"Price\",\n",
    "    title = \"Boxplot of Prices per Number of Bedrooms\",\n",
    "    legend = false,\n",
    "    outliers = false,\n",
    ")"
   ]
  },
  {
   "cell_type": "markdown",
   "metadata": {},
   "source": [
    "The @df syntax in Julia is a macro provided by the StatsPlots package. A macro in Julia, denoted by the @ symbol, is a way to include code that gets evaluated at parse-time, i.e., before the actual execution of the rest of the code.\n",
    "\n",
    "The @df macro in particular is a convenience macro for working with DataFrames in Julia. It allows you to refer to the columns of a DataFrame within a plotting command without having to index into the DataFrame each time.\n",
    "    \n",
    "For instance, if you have a DataFrame `df` with columns `:x` and `:y`, instead of writing `plot(df[:x], df[:y])`, you can write `@df df plot(:x, :y)``. This can be particularly handy when working with longer and more complex plotting commands."
   ]
  },
  {
   "cell_type": "markdown",
   "metadata": {},
   "source": [
    "## 🫳 Exercise\n",
    "\n",
    "1. Are houses with a waterfront view (waterfront = 1) significantly more expensive than those without a waterfront view?\n",
    "2. Is there a significant difference in prices between houses with different conditions (based on the condition column)?\n",
    "\n",
    "Analyze the data to answer these questions and present your results."
   ]
  },
  {
   "cell_type": "code",
   "execution_count": null,
   "metadata": {},
   "outputs": [],
   "source": [
    "# your code here"
   ]
  },
  {
   "cell_type": "markdown",
   "metadata": {},
   "source": [
    "## Joining DataFrames"
   ]
  },
  {
   "cell_type": "markdown",
   "metadata": {},
   "source": [
    "The `DataFrames.jl` package provides functions to join dataframes based on column values:"
   ]
  },
  {
   "cell_type": "code",
   "execution_count": null,
   "metadata": {},
   "outputs": [],
   "source": [
    "\n",
    "# Create the first DataFrame\n",
    "df1 = DataFrame(ID = [1, 2, 3, 4], Value1 = [\"A\", \"B\", \"C\", \"D\"])\n",
    "\n"
   ]
  },
  {
   "cell_type": "code",
   "execution_count": null,
   "metadata": {},
   "outputs": [],
   "source": [
    "# Create the second DataFrame\n",
    "df2 = DataFrame(ID = [3, 4, 5, 6], Value2 = [\"X\", \"Y\", \"Z\", \"W\"])\n",
    "\n"
   ]
  },
  {
   "cell_type": "code",
   "execution_count": null,
   "metadata": {},
   "outputs": [],
   "source": [
    "# Perform a left join on the 'ID' column\n",
    "leftjoin(df1, df2, on = :ID)\n",
    "\n"
   ]
  },
  {
   "cell_type": "code",
   "execution_count": null,
   "metadata": {},
   "outputs": [],
   "source": [
    "# Perform a left join on the 'ID' column\n",
    "rightjoin(df1, df2, on = :ID)\n",
    "\n"
   ]
  },
  {
   "cell_type": "code",
   "execution_count": null,
   "metadata": {},
   "outputs": [],
   "source": [
    "innerjoin(df1, df2, on = :ID)"
   ]
  },
  {
   "cell_type": "markdown",
   "metadata": {},
   "source": [
    "---\n",
    "_This notebook is licensed under a [Creative Commons Attribution-NonCommercial-ShareAlike 4.0 International (CC BY-NC-SA 4.0)](https://creativecommons.org/licenses/by-nc-sa/4.0/). Copyright © 2018-2025 [Point 8 GmbH](https://point-8.de)_"
   ]
  }
 ],
 "metadata": {
  "kernelspec": {
   "display_name": "Julia 1.9.4",
   "language": "julia",
   "name": "julia-1.9"
  },
  "language_info": {
   "file_extension": ".jl",
   "mimetype": "application/julia",
   "name": "julia",
   "version": "1.9.4"
  }
 },
 "nbformat": 4,
 "nbformat_minor": 2
}
