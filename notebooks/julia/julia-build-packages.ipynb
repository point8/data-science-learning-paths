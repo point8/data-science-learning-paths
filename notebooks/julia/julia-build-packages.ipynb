{
 "cells": [
  {
   "cell_type": "markdown",
   "metadata": {},
   "source": [
    "# Build Your Own Package"
   ]
  },
  {
   "cell_type": "markdown",
   "metadata": {},
   "source": [
    "## Package Structure\n",
    "\n",
    "Have a look at the repository of the Example package on GitHub to understand how a typical Julia package is structured.\n",
    "\n",
    "👉 https://github.com/JuliaLang/Example.jl\n",
    "\n",
    "Note the essential content of a package:\n",
    "1. the `src` folder - containing `.jl` files with the implementation of your package\n",
    "2. the `test` folder - containing `.jl` files with tests for the package's functionality\n",
    "3. the `Project.toml` file - containing package information\n",
    "4. the `README.md` - the starting point into the package's documentation\n",
    "\n",
    "Furthermore note:\n",
    "1. a `.gitignore` file - telling `git` to ignore some temporary files\n",
    "2. a `LICENSE` - important for open source projects"
   ]
  },
  {
   "cell_type": "markdown",
   "metadata": {},
   "source": [
    "## Package Implementation\n",
    "\n",
    "In the following we are going to set up a new Julia Package step by step.\n",
    "\n",
    "We are going to build a package with a collection of functions that generate special mathematical sequences - like the _Fibonacci sequence_ and the _Catalan numbers_."
   ]
  },
  {
   "cell_type": "markdown",
   "metadata": {},
   "source": [
    "<div style=\"border:2px solid gray; padding:10px;\">\n",
    "\n",
    "**ℹ Fibonacci Sequence**\n",
    "\n",
    "The Fibonacci sequence is a series of numbers where each number is the sum of the two preceding ones, usually starting with 0 and 1. The $n$-th Fibonacci number $F_n$ is given by the formula:\n",
    "\n",
    "$$ F_n = F_{n-1} + F_{n-2} $$\n",
    "\n",
    "with initial conditions:\n",
    "\n",
    "$$ F_0 = 0, \\quad F_1 = 1 $$\n",
    "\n",
    "This sequence appears in various aspects of mathematics, art, nature, and computer science.\n",
    "</div>"
   ]
  },
  {
   "cell_type": "markdown",
   "metadata": {},
   "source": [
    "Here is a possible implementation for the Fibonacci numbers:"
   ]
  },
  {
   "cell_type": "code",
   "execution_count": null,
   "metadata": {},
   "outputs": [],
   "source": [
    "function fibonacci_impl(n)\n",
    "    fib_sequence = zeros(Int, n)\n",
    "    fib_sequence[1] = 0\n",
    "    fib_sequence[2] = 1\n",
    "    for i = 3:n\n",
    "        fib_sequence[i] = fib_sequence[i - 1] + fib_sequence[i - 2]\n",
    "    end\n",
    "    return fib_sequence\n",
    "end"
   ]
  },
  {
   "cell_type": "code",
   "execution_count": null,
   "metadata": {},
   "outputs": [],
   "source": [
    "fibonacci_impl(10)"
   ]
  },
  {
   "cell_type": "markdown",
   "metadata": {},
   "source": [
    "<div style=\"border:2px solid gray; padding:10px;\">\n",
    "\n",
    "**ℹ Catalan Numbers**\n",
    "\n",
    "The Catalan numbers are a sequence of natural numbers important in combinatorial mathematics, with the $n$-th Catalan number given by the formula:\n",
    "\n",
    "$$ C_n = \\frac{(2n)!}{(n+1)!n!} $$\n",
    "\n",
    "They count various combinatorial structures, such as the number of proper ways to parenthesize expressions and the number of binary trees with $n$ nodes.\n",
    "\n",
    "</div>"
   ]
  },
  {
   "cell_type": "markdown",
   "metadata": {},
   "source": [
    "📋 _Implement a function that generates the Catalan numbers for a given $n$_"
   ]
  },
  {
   "cell_type": "code",
   "execution_count": null,
   "metadata": {},
   "outputs": [],
   "source": [
    "# your code here\n"
   ]
  },
  {
   "cell_type": "markdown",
   "metadata": {},
   "source": [
    "No implementation is complete without test code.\n",
    "\n",
    "_📋 Verify the correctness of the implementation by writing a test suite._"
   ]
  },
  {
   "cell_type": "code",
   "execution_count": null,
   "metadata": {},
   "outputs": [],
   "source": [
    "# your test code here"
   ]
  },
  {
   "cell_type": "markdown",
   "metadata": {},
   "source": [
    "## Setting Up the Package "
   ]
  },
  {
   "cell_type": "code",
   "execution_count": null,
   "metadata": {},
   "outputs": [],
   "source": [
    "package_name = \"Sequences\""
   ]
  },
  {
   "cell_type": "markdown",
   "metadata": {},
   "source": [
    "_📋Create a folder in a suitable location, name it like your package name. Inside, create a `src` folder._"
   ]
  },
  {
   "cell_type": "markdown",
   "metadata": {},
   "source": [
    "A Julia package includes a `Project.toml` file with basic information about the package. A minimal file contains:"
   ]
  },
  {
   "cell_type": "markdown",
   "metadata": {},
   "source": [
    "```\n",
    "name = \"$(package_name)\"\n",
    "uuid = \"$(package_id)\"\n",
    "authors = $(authors)\n",
    "version = \"$(version)\"\n",
    "```"
   ]
  },
  {
   "cell_type": "markdown",
   "metadata": {},
   "source": [
    "A package needs a unique identifier in the form of a UUID. This helps to identify the package in a decentralized ecosystem even if there are package naming clashes."
   ]
  },
  {
   "cell_type": "markdown",
   "metadata": {},
   "source": [
    "<div style=\"border:2px solid gray; padding:10px;\">\n",
    "\n",
    "A UUID (Universally Unique Identifier) is a 128-bit number used to uniquely identify information in computer systems, and a package requires one to ensure global uniqueness, preventing conflicts with packages of the same name across different systems and registries.\n",
    "\n",
    "</div>"
   ]
  },
  {
   "cell_type": "markdown",
   "metadata": {},
   "source": [
    "📋 _Use the `UUIDs` package to create a unique identifier for the new package_"
   ]
  },
  {
   "cell_type": "code",
   "execution_count": null,
   "metadata": {},
   "outputs": [],
   "source": [
    "# your code here"
   ]
  },
  {
   "cell_type": "markdown",
   "metadata": {},
   "source": [
    "📋 _Create the `Project.toml` file for your new package and fill in the appropriate values_"
   ]
  },
  {
   "cell_type": "markdown",
   "metadata": {},
   "source": [
    "Now it's time to place our functions in a module. Here is an example:"
   ]
  },
  {
   "cell_type": "code",
   "execution_count": null,
   "metadata": {},
   "outputs": [],
   "source": [
    "# Define the module name\n",
    "module MyModuleName\n",
    "\n",
    "# Import necessary modules. Example: Importing the Base module.\n",
    "# using Base\n",
    "\n",
    "\n",
    "# Define your functions, structs, constants, etc.\n",
    "    \"\"\"\n",
    "        my_function(x)\n",
    "\n",
    "    A simple function that returns the square of its argument.\n",
    "\n",
    "    # Arguments\n",
    "    - `x`: A number to be squared.\n",
    "\n",
    "    # Examples\n",
    "    ```julia\n",
    "    my_function(4) # returns 16\n",
    "    \"\"\"\n",
    "    function my_function(x)\n",
    "        return x^2\n",
    "    end\n",
    "\n",
    "    # Export your functions, types, constants, etc., to make them public.\n",
    "    export my_function\n",
    "\n",
    "# You can include more functions, structs, and other definitions below.\n",
    "end "
   ]
  },
  {
   "cell_type": "markdown",
   "metadata": {},
   "source": [
    "📋 _Create the source file `Sequences.jl` for the `Sequences` package and place it in the `src` folder._"
   ]
  },
  {
   "cell_type": "markdown",
   "metadata": {},
   "source": [
    "## Importing the Package"
   ]
  },
  {
   "cell_type": "code",
   "execution_count": null,
   "metadata": {},
   "outputs": [],
   "source": [
    "using Pkg"
   ]
  },
  {
   "cell_type": "markdown",
   "metadata": {},
   "source": [
    "Replace this with the path to your new package in order to test it:"
   ]
  },
  {
   "cell_type": "code",
   "execution_count": null,
   "metadata": {},
   "outputs": [],
   "source": [
    "path_to_package = \"../../packages/Sequences\""
   ]
  },
  {
   "cell_type": "code",
   "execution_count": null,
   "metadata": {},
   "outputs": [],
   "source": [
    "Pkg.develop(path=path_to_package)"
   ]
  },
  {
   "cell_type": "code",
   "execution_count": null,
   "metadata": {},
   "outputs": [],
   "source": [
    "using Sequences"
   ]
  },
  {
   "cell_type": "code",
   "execution_count": null,
   "metadata": {},
   "outputs": [],
   "source": [
    "fibonacci(10)"
   ]
  },
  {
   "cell_type": "code",
   "execution_count": null,
   "metadata": {},
   "outputs": [],
   "source": [
    "catalan(10)"
   ]
  },
  {
   "cell_type": "markdown",
   "metadata": {},
   "source": [
    "---\n",
    "_This notebook is licensed under a [Creative Commons Attribution-NonCommercial-ShareAlike 4.0 International (CC BY-NC-SA 4.0)](https://creativecommons.org/licenses/by-nc-sa/4.0/). Copyright © 2018-2025 [Point 8 GmbH](https://point-8.de)_"
   ]
  }
 ],
 "metadata": {
  "kernelspec": {
   "display_name": "Julia 1.9.4",
   "language": "julia",
   "name": "julia-1.9"
  },
  "language_info": {
   "file_extension": ".jl",
   "mimetype": "application/julia",
   "name": "julia",
   "version": "1.9.4"
  }
 },
 "nbformat": 4,
 "nbformat_minor": 2
}
