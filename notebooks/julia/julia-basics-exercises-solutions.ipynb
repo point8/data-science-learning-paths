{
 "cells": [
  {
   "cell_type": "markdown",
   "metadata": {},
   "source": [
    "# Basics: Exercise Solutions - High School Geometry in Julia"
   ]
  },
  {
   "cell_type": "markdown",
   "metadata": {},
   "source": [
    "Let's start with a type that implements a point in 2D geometry."
   ]
  },
  {
   "cell_type": "code",
   "execution_count": 1,
   "metadata": {},
   "outputs": [
    {
     "data": {
      "text/plain": [
       "Point"
      ]
     },
     "metadata": {},
     "output_type": "display_data"
    }
   ],
   "source": [
    "\"\"\"\n",
    "Defines a point in a 2D space, where x and y are the coordinates of the point on the x-axis and y-axis, respectively.\n",
    "\"\"\" \n",
    "struct Point\n",
    "    x::Float64\n",
    "    y::Float64\n",
    "end"
   ]
  },
  {
   "cell_type": "markdown",
   "metadata": {},
   "source": [
    "**Task 1**: Implement a function that calculates the (Euclidean) distance between two points in 2D space."
   ]
  },
  {
   "cell_type": "code",
   "execution_count": 2,
   "metadata": {},
   "outputs": [
    {
     "data": {
      "text/plain": [
       "distance"
      ]
     },
     "metadata": {},
     "output_type": "display_data"
    }
   ],
   "source": [
    "\"\"\"\n",
    "Calculate the Euclidean distance between two points `p1` and `p2`.\n",
    "\n",
    "The formula for this calculation is:\n",
    "\n",
    "```math\n",
    "\\\\sqrt{(x_2 - x_1)^2 + (y_2 - y_1)^2}\n",
    "```\n",
    "\"\"\"\n",
    "function distance(p1::Point, p2::Point)\n",
    "    return √((p1.x - p2.x)^2 + (p1.y - p2.y)^2)\n",
    "end"
   ]
  },
  {
   "cell_type": "code",
   "execution_count": 3,
   "metadata": {},
   "outputs": [
    {
     "data": {
      "text/latex": [
       "Calculate the Euclidean distance between two points \\texttt{p1} and \\texttt{p2}.\n",
       "\n",
       "The formula for this calculation is:\n",
       "\n",
       "$$\\sqrt{(x_2 - x_1)^2 + (y_2 - y_1)^2}$$\n"
      ],
      "text/markdown": [
       "Calculate the Euclidean distance between two points `p1` and `p2`.\n",
       "\n",
       "The formula for this calculation is:\n",
       "\n",
       "$$\n",
       "\\sqrt{(x_2 - x_1)^2 + (y_2 - y_1)^2}\n",
       "$$\n"
      ],
      "text/plain": [
       "  Calculate the Euclidean distance between two points \u001b[36mp1\u001b[39m and \u001b[36mp2\u001b[39m.\n",
       "\n",
       "  The formula for this calculation is:\n",
       "\n",
       "\u001b[35m  \\sqrt{(x_2 - x_1)^2 + (y_2 - y_1)^2}\u001b[39m"
      ]
     },
     "metadata": {},
     "output_type": "display_data"
    }
   ],
   "source": [
    "@doc distance"
   ]
  },
  {
   "cell_type": "code",
   "execution_count": 4,
   "metadata": {},
   "outputs": [],
   "source": [
    "using Test"
   ]
  },
  {
   "cell_type": "code",
   "execution_count": 5,
   "metadata": {},
   "outputs": [
    {
     "name": "stdout",
     "output_type": "stream",
     "text": [
      "\u001b[0m\u001b[1mTest Summary:              | \u001b[22m\u001b[32m\u001b[1mPass  \u001b[22m\u001b[39m\u001b[36m\u001b[1mTotal  \u001b[22m\u001b[39m\u001b[0m\u001b[1mTime\u001b[22m\n",
      "Test the distance function | \u001b[32m   2  \u001b[39m\u001b[36m    2  \u001b[39m\u001b[0m0.1s\n"
     ]
    },
    {
     "data": {
      "text/plain": [
       "Test.DefaultTestSet(\"Test the distance function\", Any[], 2, false, false, true, 1.706532882099235e9, 1.706532882248884e9, false)"
      ]
     },
     "metadata": {},
     "output_type": "display_data"
    }
   ],
   "source": [
    "@testset \"Test the distance function\" begin\n",
    "    # Define some points\n",
    "    p1 = Point(0.0, 0.0)\n",
    "    p2 = Point(3.0, 4.0)\n",
    "\n",
    "    @test distance(p1, p2) ≈ 5.0\n",
    "    @test distance(p2, p2) ≈ 0.0\n",
    "end\n"
   ]
  },
  {
   "cell_type": "markdown",
   "metadata": {},
   "source": [
    "We continue with defining types for basic geometric shapes. First, let's have an abstract type `Shape` as a base type for all shapes."
   ]
  },
  {
   "cell_type": "code",
   "execution_count": 6,
   "metadata": {},
   "outputs": [
    {
     "data": {
      "text/plain": [
       "Shape"
      ]
     },
     "metadata": {},
     "output_type": "display_data"
    }
   ],
   "source": [
    "\"\"\"\n",
    "Abstract base type for shapes.\n",
    "\"\"\"\n",
    "abstract type Shape end\n"
   ]
  },
  {
   "cell_type": "markdown",
   "metadata": {},
   "source": [
    "**Task 2:** Implement types for the following shapes: \n",
    "- `Circle`\n",
    "- `Rectangle`\n",
    "- `Triangle`"
   ]
  },
  {
   "cell_type": "code",
   "execution_count": 7,
   "metadata": {},
   "outputs": [
    {
     "data": {
      "text/plain": [
       "Triangle"
      ]
     },
     "metadata": {},
     "output_type": "display_data"
    }
   ],
   "source": [
    "\"\"\"\n",
    "Defines a circle in a 2D space, where center is the center of the circle and radius is the radius of the circle.\n",
    "\"\"\"\n",
    "struct Circle <: Shape\n",
    "    center::Point\n",
    "    radius::Float64\n",
    "end\n",
    "\n",
    "\"\"\"\n",
    "Defines a rectangle in a 2D space, where topleft is the top-left corner of the rectangle and bottomright is the bottom-right corner of the rectangle.\n",
    "\"\"\"\n",
    "struct Rectangle <: Shape\n",
    "    topleft::Point\n",
    "    bottomright::Point\n",
    "end\n",
    "\n",
    "\"\"\"\n",
    "Defines a triangle in a 2D space, where vertex1, vertex2, and vertex3 are the vertices of the triangle.\n",
    "\"\"\"\n",
    "struct Triangle <: Shape\n",
    "    vertex1::Point\n",
    "    vertex2::Point\n",
    "    vertex3::Point\n",
    "end\n",
    "\n",
    "\n"
   ]
  },
  {
   "cell_type": "code",
   "execution_count": 8,
   "metadata": {},
   "outputs": [
    {
     "name": "stdout",
     "output_type": "stream",
     "text": [
      "\u001b[0m\u001b[1mTest Summary:                    | \u001b[22m\u001b[32m\u001b[1mPass  \u001b[22m\u001b[39m\u001b[36m\u001b[1mTotal  \u001b[22m\u001b[39m\u001b[0m\u001b[1mTime\u001b[22m\n",
      "Test the instantiation of shapes | \u001b[32m   3  \u001b[39m\u001b[36m    3  \u001b[39m\u001b[0m0.0s\n"
     ]
    },
    {
     "data": {
      "text/plain": [
       "Test.DefaultTestSet(\"Test the instantiation of shapes\", Any[], 3, false, false, true, 1.706532882749976e9, 1.70653288275901e9, false)"
      ]
     },
     "metadata": {},
     "output_type": "display_data"
    }
   ],
   "source": [
    "@testset \"Test the instantiation of shapes\" begin\n",
    "    # Define some points\n",
    "    p1 = Point(0.0, 0.0)\n",
    "    p2 = Point(3.0, 4.0)\n",
    "    p3 = Point(5.0, 6.0)\n",
    "\n",
    "    # Define some shapes\n",
    "    s1 = Circle(p1, 1.0)\n",
    "    s2 = Rectangle(p1, p2)\n",
    "    s3 = Triangle(p1, p2, p3)\n",
    "\n",
    "    @test s1 isa Shape\n",
    "    @test s2 isa Shape\n",
    "    @test s3 isa Shape\n",
    "end\n"
   ]
  },
  {
   "cell_type": "markdown",
   "metadata": {},
   "source": [
    "**Task 3**: Implement functions that calculate the area and perimeter for each of the the shapes."
   ]
  },
  {
   "cell_type": "code",
   "execution_count": 9,
   "metadata": {},
   "outputs": [
    {
     "data": {
      "text/plain": [
       "perimeter"
      ]
     },
     "metadata": {},
     "output_type": "display_data"
    }
   ],
   "source": [
    "\"\"\"\n",
    "Calculate the area of a circle `c`.\n",
    "\n",
    "The formula for this calculation is:\n",
    "\n",
    "```math\n",
    "\\\\pi r^2\n",
    "```\n",
    "\"\"\"\n",
    "function area(c::Circle)\n",
    "    return π * c.radius^2\n",
    "end\n",
    "\n",
    "\"\"\"\n",
    "Calculate the perimeter (circumference) of a circle `c`.\n",
    "\n",
    "The formula for this calculation is:\n",
    "\n",
    "```math\n",
    "2\\\\pi r\n",
    "```\n",
    "\"\"\"\n",
    "function perimeter(c::Circle)\n",
    "    return 2 * π * c.radius\n",
    "end\n",
    "\n",
    "\"\"\"\n",
    "Calculate the area of a rectangle `r`.\n",
    "\n",
    "The formula for this calculation is:\n",
    "\n",
    "```math\n",
    "width \\\\times height\n",
    "```\n",
    "\"\"\"\n",
    "function area(r::Rectangle)\n",
    "    width = abs(r.bottomright.x - r.topleft.x)\n",
    "    height = abs(r.topleft.y - r.bottomright.y)\n",
    "    return width * height\n",
    "end\n",
    "\n",
    "\"\"\"\n",
    "Calculate the perimeter of a rectangle `r`.\n",
    "\n",
    "The formula for this calculation is:\n",
    "\n",
    "```math\n",
    "2(width + height)\n",
    "```\n",
    "\"\"\"\n",
    "\n",
    "function perimeter(r::Rectangle)\n",
    "    width = abs(r.bottomright.x - r.topleft.x)\n",
    "    height = abs(r.topleft.y - r.bottomright.y)\n",
    "    return 2 * (width + height)\n",
    "end\n",
    "\n",
    "\n",
    "\"\"\"\n",
    "Calculate the area of a triangle `t` using Heron's formula.\n",
    "\n",
    "The formula for this calculation is:\n",
    "\n",
    "```math\n",
    "\\\\sqrt{s(s - a)(s - b)(s - c)}\n",
    "```\n",
    "where `s` is the semi-perimeter of the triangle, and `a`, `b`, `c` are the lengths of the sides.\n",
    "\"\"\"\n",
    "function area(t::Triangle)\n",
    "    a = distance(t.vertex1, t.vertex2)\n",
    "    b = distance(t.vertex2, t.vertex3)\n",
    "    c = distance(t.vertex3, t.vertex1)\n",
    "    s = (a + b + c) / 2  # semi-perimeter\n",
    "    return √(s * (s - a) * (s - b) * (s - c))  # Heron's formula\n",
    "end\n",
    "\n",
    "\"\"\"\n",
    "Calculate the perimeter of a triangle `t`.\n",
    "\n",
    "The formula for this calculation is:\n",
    "\n",
    "```math\n",
    "a + b + c\n",
    "```\n",
    "where `a`, `b`, `c` are the lengths of the sides.\n",
    "\"\"\"\n",
    "function perimeter(t::Triangle)\n",
    "    a = distance(t.vertex1, t.vertex2)\n",
    "    b = distance(t.vertex2, t.vertex3)\n",
    "    c = distance(t.vertex3, t.vertex1)\n",
    "    return a + b + c\n",
    "end\n"
   ]
  },
  {
   "cell_type": "code",
   "execution_count": 10,
   "metadata": {},
   "outputs": [
    {
     "name": "stdout",
     "output_type": "stream",
     "text": [
      "\u001b[0m\u001b[1mTest Summary:                     | \u001b[22m\u001b[32m\u001b[1mPass  \u001b[22m\u001b[39m\u001b[36m\u001b[1mTotal  \u001b[22m\u001b[39m\u001b[0m\u001b[1mTime\u001b[22m\n",
      "Test area and perimeter functions | \u001b[32m   6  \u001b[39m\u001b[36m    6  \u001b[39m\u001b[0m0.1s\n"
     ]
    },
    {
     "data": {
      "text/plain": [
       "Test.DefaultTestSet(\"Test area and perimeter functions\", Any[], 6, false, false, true, 1.706532882836908e9, 1.706532882911522e9, false)"
      ]
     },
     "metadata": {},
     "output_type": "display_data"
    }
   ],
   "source": [
    "@testset \"Test area and perimeter functions\" begin\n",
    "    TOL = 1e-2\n",
    "    \n",
    "    p1 = Point(0.0, 0.0)\n",
    "    p2 = Point(3.0, 4.0)\n",
    "    p3 = Point(5.0, 6.0)\n",
    "\n",
    "    c1 = Circle(p1, 1.0)\n",
    "    @test area(c1) ≈ π atol=TOL\n",
    "    @test perimeter(c1) ≈ 2π atol=TOL\n",
    "\n",
    "    r1 = Rectangle(p1, p2)\n",
    "    @test area(r1) ≈ 12.0 atol=TOL\n",
    "    @test perimeter(r1) ≈ 14.0 atol=TOL\n",
    "\n",
    "    t1 = Triangle(p1, p2, p3)\n",
    "    @test area(t1) ≈ 1.0 atol=TOL\n",
    "    @test perimeter(t1) ≈ 15.64 atol=TOL\n",
    "\n",
    "end"
   ]
  },
  {
   "cell_type": "markdown",
   "metadata": {},
   "source": [
    "**Task 4**: Implement a type that represents an (infinite) line. Then implement a function that calculates the intersection point (if any) between two lines.\n"
   ]
  },
  {
   "cell_type": "code",
   "execution_count": 11,
   "metadata": {},
   "outputs": [
    {
     "data": {
      "text/plain": [
       "intersection"
      ]
     },
     "metadata": {},
     "output_type": "display_data"
    }
   ],
   "source": [
    "\"\"\"\n",
    "    Line\n",
    "\n",
    "A line in 2D space, represented by its slope and y-intercept.\n",
    "\"\"\"\n",
    "struct Line\n",
    "    slope::Float64\n",
    "    intercept::Float64\n",
    "end\n",
    "\n",
    "\n",
    "\"\"\"\n",
    "    Line(p1::Point, p2::Point)\n",
    "\n",
    "Create a line that passes through two given points.\n",
    "\"\"\"\n",
    "function Line(p1::Point, p2::Point)\n",
    "    slope = (p2.y - p1.y) / (p2.x - p1.x)\n",
    "    intercept = p1.y - slope * p1.x\n",
    "    Line(slope, intercept)\n",
    "end\n",
    "\n",
    "\"\"\"\n",
    "    intersection(l1::Line, l2::Line)\n",
    "\n",
    "Calculate the intersection point of two lines, if it exists.\n",
    "\"\"\"\n",
    "function intersection(l1::Line, l2::Line)\n",
    "    if l1.slope == l2.slope\n",
    "        println(\"The lines are parallel and do not intersect.\")\n",
    "        return nothing\n",
    "    end\n",
    "    x = (l2.intercept - l1.intercept) / (l1.slope - l2.slope)\n",
    "    y = l1.slope * x + l1.intercept\n",
    "    Point(x, y)\n",
    "end\n"
   ]
  },
  {
   "cell_type": "code",
   "execution_count": 12,
   "metadata": {},
   "outputs": [
    {
     "name": "stdout",
     "output_type": "stream",
     "text": [
      "The lines are parallel and do not intersect.\n",
      "\u001b[0m\u001b[1mTest Summary: | \u001b[22m\u001b[32m\u001b[1mPass  \u001b[22m\u001b[39m\u001b[36m\u001b[1mTotal  \u001b[22m\u001b[39m\u001b[0m\u001b[1mTime\u001b[22m\n",
      "Line tests    | \u001b[32m   7  \u001b[39m\u001b[36m    7  \u001b[39m\u001b[0m0.0s\n"
     ]
    },
    {
     "data": {
      "text/plain": [
       "Test.DefaultTestSet(\"Line tests\", Any[], 7, false, false, true, 1.706532882926792e9, 1.706532882948329e9, false)"
      ]
     },
     "metadata": {},
     "output_type": "display_data"
    }
   ],
   "source": [
    "@testset \"Line tests\" begin\n",
    "    # Test line construction from slope and intercept\n",
    "    l1 = Line(1.0, 0.0)\n",
    "    @test l1.slope == 1.0\n",
    "    @test l1.intercept == 0.0\n",
    "    \n",
    "    # Test line construction from two points\n",
    "    p1 = Point(0.0, 0.0)\n",
    "    p2 = Point(1.0, 1.0)\n",
    "    l2 = Line(p1, p2)\n",
    "    @test l2.slope == 1.0\n",
    "    @test l2.intercept == 0.0\n",
    "    \n",
    "    # Test intersection point calculation\n",
    "    p3 = Point(0.0, 1.0)\n",
    "    p4 = Point(1.0, 0.0)\n",
    "    l3 = Line(p3, p4)\n",
    "    intersect = intersection(l2, l3)\n",
    "    @test intersect.x == 0.5\n",
    "    @test intersect.y == 0.5\n",
    "\n",
    "    # Test parallel lines\n",
    "    p5 = Point(0.0, 2.0)\n",
    "    p6 = Point(1.0, 3.0)\n",
    "    l4 = Line(p5, p6)\n",
    "    @test intersection(l2, l4) == nothing\n",
    "end"
   ]
  },
  {
   "cell_type": "markdown",
   "metadata": {},
   "source": [
    "---\n",
    "_This notebook is licensed under a [Creative Commons Attribution-NonCommercial-ShareAlike 4.0 International (CC BY-NC-SA 4.0)](https://creativecommons.org/licenses/by-nc-sa/4.0/). Copyright © 2018-2025 [Point 8 GmbH](https://point-8.de)_"
   ]
  }
 ],
 "metadata": {
  "kernelspec": {
   "display_name": "Julia 1.9.4",
   "language": "julia",
   "name": "julia-1.9"
  },
  "language_info": {
   "file_extension": ".jl",
   "mimetype": "application/julia",
   "name": "julia",
   "version": "1.9.4"
  }
 },
 "nbformat": 4,
 "nbformat_minor": 2
}
