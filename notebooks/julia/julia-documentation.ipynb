{
 "cells": [
  {
   "cell_type": "markdown",
   "metadata": {},
   "source": [
    "# Documenting Julia Code"
   ]
  },
  {
   "cell_type": "markdown",
   "metadata": {},
   "source": [
    "## Comments"
   ]
  },
  {
   "cell_type": "markdown",
   "metadata": {},
   "source": [
    "Comments are used to annotate code with explanations and are not executed."
   ]
  },
  {
   "cell_type": "code",
   "execution_count": null,
   "metadata": {},
   "outputs": [],
   "source": [
    "# This is a single-line comment.\n",
    "\n",
    "println(\"Hello, World!\") # Inline comment."
   ]
  },
  {
   "cell_type": "code",
   "execution_count": null,
   "metadata": {},
   "outputs": [],
   "source": [
    "#=\n",
    "This is a multi-line comment.\n",
    "It can span several lines.\n",
    "=#\n",
    "\n",
    "println(\"Only this line is printed.\")   "
   ]
  },
  {
   "cell_type": "markdown",
   "metadata": {},
   "source": [
    "## Docstrings\n",
    "\n",
    "- Docstrings provide a convenient way of associating documentation with functions, types, and other constructs in Julia.\n",
    "- Docstrings are written with triple quotes \"\"\" and are placed before the definition of a function or type. They are used to explain the purpose of the function, its arguments, and its return values."
   ]
  },
  {
   "cell_type": "code",
   "execution_count": null,
   "metadata": {},
   "outputs": [],
   "source": [
    "\"\"\"\n",
    "    fibonacci(n)\n",
    "\n",
    "Calculate the Fibonacci sequence up to the nth number.\n",
    "\n",
    "Arguments\n",
    "- `n`: The position in the Fibonacci sequence to calculate up to. Must be a positive integer.\n",
    "\n",
    "Returns\n",
    "- An array containing the Fibonacci sequence up to the nth number.\n",
    "\"\"\"\n",
    "function fibonacci(n)\n",
    "    fib_sequence = zeros(Int, n)\n",
    "    fib_sequence[1] = 0\n",
    "    fib_sequence[2] = 1\n",
    "    for i = 3:n\n",
    "        fib_sequence[i] = fib_sequence[i - 1] + fib_sequence[i - 2]\n",
    "    end\n",
    "    return fib_sequencea\n",
    "end"
   ]
  },
  {
   "cell_type": "markdown",
   "metadata": {},
   "source": [
    "The `@doc` macro retrieves the docstring associated with the symbol or expression that follows it."
   ]
  },
  {
   "cell_type": "code",
   "execution_count": null,
   "metadata": {},
   "outputs": [],
   "source": [
    "@doc fibonacci"
   ]
  },
  {
   "cell_type": "markdown",
   "metadata": {},
   "source": [
    "---\n",
    "_This notebook is licensed under a [Creative Commons Attribution-NonCommercial-ShareAlike 4.0 International (CC BY-NC-SA 4.0)](https://creativecommons.org/licenses/by-nc-sa/4.0/). Copyright © 2018-2025 [Point 8 GmbH](https://point-8.de)_"
   ]
  }
 ],
 "metadata": {
  "kernelspec": {
   "display_name": "Julia 1.9.4",
   "language": "julia",
   "name": "julia-1.9"
  },
  "language_info": {
   "file_extension": ".jl",
   "mimetype": "application/julia",
   "name": "julia",
   "version": "1.9.4"
  }
 },
 "nbformat": 4,
 "nbformat_minor": 2
}
