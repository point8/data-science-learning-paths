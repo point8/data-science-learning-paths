{
 "cells": [
  {
   "cell_type": "markdown",
   "id": "5e6502fb-4c92-43b9-9ba4-960fd9f5ea5f",
   "metadata": {},
   "source": [
    "# Time Series Classification"
   ]
  },
  {
   "cell_type": "markdown",
   "id": "69406c55-4d3a-4c5f-8e68-d72f4a53e290",
   "metadata": {},
   "source": [
    "## Preamble"
   ]
  },
  {
   "cell_type": "code",
   "execution_count": null,
   "id": "6e7a5818-aeba-4187-b7d6-d69f9cf78bd8",
   "metadata": {},
   "outputs": [],
   "source": [
    "import data_science_learning_paths\n",
    "data_science_learning_paths.setup_plot_style(dark=True)"
   ]
  },
  {
   "cell_type": "code",
   "execution_count": null,
   "id": "7d4f12f8-c5fd-4c84-a62f-ab9d7b1c15af",
   "metadata": {},
   "outputs": [],
   "source": [
    "import pandas\n",
    "import sktime"
   ]
  },
  {
   "cell_type": "markdown",
   "id": "cb7998a5-a26f-42d3-bbcf-8cd4ce3f23b3",
   "metadata": {},
   "source": [
    "## Example: Time Series Classification"
   ]
  },
  {
   "cell_type": "markdown",
   "id": "61a76ddb-0cd5-4949-8b98-24e453a90eb0",
   "metadata": {},
   "source": [
    "In the following example we work with [**sktime**](https://www.sktime.org/en/latest/get_started.html) and an example time series that comes with the library.\n",
    "\n",
    "The [**Italy Power Demand Dataset**](http://timeseriesclassification.com/description.php?Dataset=ItalyPowerDemand) asks you to distinguish summer from winter months by looking at the hourly power consumption of the country. Power consumption patterns vary strongly over the year, which enables automatic classification.\n"
   ]
  },
  {
   "cell_type": "code",
   "execution_count": null,
   "id": "084d1d08-2504-45fb-adf5-af44dbc4fddf",
   "metadata": {},
   "outputs": [],
   "source": [
    "from sktime import datasets"
   ]
  },
  {
   "cell_type": "code",
   "execution_count": null,
   "id": "c7f0caa0-2a1b-4b7d-9494-5670294c3b41",
   "metadata": {},
   "outputs": [],
   "source": [
    "power_demand = datasets.load_italy_power_demand()"
   ]
  },
  {
   "cell_type": "code",
   "execution_count": null,
   "id": "9c57ec95-f4aa-482a-8e0b-1e49d8804947",
   "metadata": {},
   "outputs": [],
   "source": [
    "power_demand = power_demand.sort_index()\n",
    "power_demand"
   ]
  },
  {
   "cell_type": "code",
   "execution_count": null,
   "id": "96528721-18d2-4a12-88cc-ceabffd4d1bb",
   "metadata": {},
   "outputs": [],
   "source": [
    "power_demand.iloc[0][\"dim_0\"].plot(title=\"winter\")"
   ]
  },
  {
   "cell_type": "code",
   "execution_count": null,
   "id": "cf864843-1f53-4701-8774-6cc6c6b8bb79",
   "metadata": {},
   "outputs": [],
   "source": [
    "power_demand.iloc[1][\"dim_0\"].plot(title=\"summer\")"
   ]
  },
  {
   "cell_type": "code",
   "execution_count": null,
   "id": "22f109e6-9b4c-49ac-b7bd-f7bbd572dad5",
   "metadata": {},
   "outputs": [],
   "source": [
    "power_demand[\"class_val\"].value_counts().plot(kind=\"bar\")"
   ]
  },
  {
   "cell_type": "markdown",
   "id": "cc700088-f596-4943-b7b8-a2a5ee495c5c",
   "metadata": {},
   "source": [
    "### Applying the TimeSeriesForest Algorithm"
   ]
  },
  {
   "cell_type": "code",
   "execution_count": null,
   "id": "22809857-b4ba-40c2-a1f4-26cbd7d9ab26",
   "metadata": {},
   "outputs": [],
   "source": [
    "from sktime.classification.interval_based import TimeSeriesForestClassifier\n",
    "from sklearn.model_selection import train_test_split\n",
    "from sklearn.metrics import accuracy_score"
   ]
  },
  {
   "cell_type": "code",
   "execution_count": null,
   "id": "d4058e7b-52c2-47a8-92af-f07bc6ee0c62",
   "metadata": {},
   "outputs": [],
   "source": [
    "X, y = datasets.load_italy_power_demand(return_X_y=True)"
   ]
  },
  {
   "cell_type": "code",
   "execution_count": null,
   "id": "9968f415-6591-43b2-9d2e-24612208bd47",
   "metadata": {},
   "outputs": [],
   "source": [
    "X_train, X_test, y_train, y_test = train_test_split(X, y)"
   ]
  },
  {
   "cell_type": "code",
   "execution_count": null,
   "id": "68a79334-01f1-4352-994b-da42cb2c51be",
   "metadata": {},
   "outputs": [],
   "source": [
    "X_train"
   ]
  },
  {
   "cell_type": "code",
   "execution_count": null,
   "id": "834e804a-8126-4855-b340-78f55bd7f70b",
   "metadata": {},
   "outputs": [],
   "source": [
    "classifier = TimeSeriesForestClassifier()\n",
    "classifier.fit(X_train, y_train)\n",
    "y_pred = classifier.predict(X_test)\n",
    "accuracy_score(y_test, y_pred)"
   ]
  },
  {
   "cell_type": "code",
   "execution_count": null,
   "id": "5022895d-1c73-4c0e-8068-c3efa2608ae2",
   "metadata": {},
   "outputs": [],
   "source": [
    "y_pred = classifier.predict(X_test)"
   ]
  },
  {
   "cell_type": "code",
   "execution_count": null,
   "id": "e544a92c-4f59-409a-ac3c-738fc0dbd466",
   "metadata": {},
   "outputs": [],
   "source": [
    "pandas.Series(X_test.iloc[42][\"dim_0\"]).plot(title=f\"class {y_pred[42]}\")"
   ]
  },
  {
   "cell_type": "code",
   "execution_count": null,
   "id": "6f21fc80-bcb5-4874-96e6-e42a2b1c057e",
   "metadata": {},
   "outputs": [],
   "source": [
    "pandas.Series(X_test.iloc[1][\"dim_0\"]).plot(title=f\"class {y_pred[1]}\")"
   ]
  },
  {
   "cell_type": "markdown",
   "id": "48eef429-5954-4414-b415-ae1d1d27c516",
   "metadata": {},
   "source": [
    "---\n",
    "_This notebook is licensed under a [Creative Commons Attribution-NonCommercial-ShareAlike 4.0 International (CC BY-NC-SA 4.0)](https://creativecommons.org/licenses/by-nc-sa/4.0/). Copyright © 2018-2025 [Point 8 GmbH](https://point-8.de)_"
   ]
  }
 ],
 "metadata": {
  "kernelspec": {
   "display_name": "Python 3 (ipykernel)",
   "language": "python",
   "name": "python3"
  },
  "language_info": {
   "codemirror_mode": {
    "name": "ipython",
    "version": 3
   },
   "file_extension": ".py",
   "mimetype": "text/x-python",
   "name": "python",
   "nbconvert_exporter": "python",
   "pygments_lexer": "ipython3",
   "version": "3.8.8"
  }
 },
 "nbformat": 4,
 "nbformat_minor": 5
}
