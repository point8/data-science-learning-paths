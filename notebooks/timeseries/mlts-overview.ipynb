{
 "cells": [
  {
   "cell_type": "markdown",
   "metadata": {},
   "source": [
    "# Machine Learning on Timeseries: An Overview"
   ]
  },
  {
   "cell_type": "markdown",
   "metadata": {},
   "source": [
    "Machine learning on time series is a broad and deep topic. This chapter aims to give an overview of the most common tasks."
   ]
  },
  {
   "cell_type": "markdown",
   "metadata": {},
   "source": [
    "## What is so special about time series data?\n",
    "\n",
    "![](https://upload.wikimedia.org/wikipedia/commons/thumb/5/52/Playfair_TimeSeries-2.png/640px-Playfair_TimeSeries-2.png)\n",
    "\n",
    "_William Playfair's trade-balance time-series chart, published in his Commercial and Political Atlas, 1786._ Source: [Wikimedia Commons](https://commons.wikimedia.org/wiki/File:Playfair_TimeSeries-2.png)"
   ]
  },
  {
   "cell_type": "markdown",
   "metadata": {},
   "source": [
    "A **time series** is made up of data points that are **indexed in time order**. This is what makes machine learning on time series data different from many other ML tasks, in which the data points are assumed to be **independent observations**. With time series data, _order in time and distance in time matter_. Observations that are close in time are likely to be correlated. We can make observations about the course that the time series takes over time, such as **trend** or **seasonality** - periodic, repeating patterns. These patterns are likely to contain information and should not be ignored. \n",
    "\n",
    "\n",
    "In the following, we discuss some typical problems to which we can apply machine learning. Some are variants of ML problems on independent data points, and some that are specific to time series, like **time series forecasting**. "
   ]
  },
  {
   "cell_type": "markdown",
   "metadata": {},
   "source": [
    "## ML Tasks on Time Series"
   ]
  },
  {
   "cell_type": "markdown",
   "metadata": {},
   "source": [
    "### Supervised Learning: Classification and Regression"
   ]
  },
  {
   "cell_type": "markdown",
   "metadata": {},
   "source": [
    "Many ML tasks involve assigning labels to a set of time series (or to meaningful segments of a single time series, depending on our application). If we can train a model given examples of labelled time series, we are working on a **supervised learning** problem.\n",
    "\n",
    "The trick of successful model engineering is often the right **featurization** or **feature engineering**: Coming up with quantities that describe the time series and can be used to solve our ML problem, i.e. **features**\n"
   ]
  },
  {
   "cell_type": "markdown",
   "metadata": {},
   "source": [
    "**Examples**\n",
    "\n",
    "- Given [sensor measurements of an airplane turbofan engine](https://catalog.data.gov/dataset/turbofan-engine-degradation-simulation-data-set), predict the lifetime of the engine until failure - **regression** problem with obvious applications to **predictive maintenance** business cases"
   ]
  },
  {
   "cell_type": "markdown",
   "metadata": {},
   "source": [
    "### Unsupervised Learning: Clustering"
   ]
  },
  {
   "cell_type": "markdown",
   "metadata": {},
   "source": [
    "There are cases when we want to assign labels to time series (segments) without having prior labels - e.g. by. grouping similar ones together. This is unsupervised learning. Many of the concepts and engineering steps from supervised learning, such as featurization, also apply."
   ]
  },
  {
   "cell_type": "markdown",
   "metadata": {},
   "source": [
    "**Examples**\n",
    "\n",
    "- Given GPS coordinates transmitted by a cell phone over time while using a navigation app, determine which mode of transport (car, bike, walking...) was used."
   ]
  },
  {
   "cell_type": "markdown",
   "metadata": {},
   "source": [
    "### Forecasting"
   ]
  },
  {
   "cell_type": "markdown",
   "metadata": {},
   "source": [
    "**Forecasting** time series means predicting the course of the values into the future. (It is sometimes called **time series prediction**, but we say forecasting to distinguish it from tasks like classification, where we also often speak of _predicting a label_ and _predictive analytics_.) Forecasting usually means building or learning a statistical model that has the ability to predict the course of the time series an arbitrary number of steps ahead."
   ]
  },
  {
   "cell_type": "markdown",
   "metadata": {},
   "source": [
    "Continue here: [📓 About Time Series Forecasting](mlts-forecasting-intro.ipynb)"
   ]
  },
  {
   "cell_type": "markdown",
   "metadata": {},
   "source": [
    "### Anomaly Detection"
   ]
  },
  {
   "cell_type": "markdown",
   "metadata": {},
   "source": [
    "**Anomaly detection** deals with detecting data points in a time series that deviate from the expected course of the time series. Many approaches can be considered, for example:\n",
    "\n",
    "- building a good **forecast model** and detecting when the actual values deviate strongly from the predicted values\n",
    "- **extracting features** from (segments of the) time series and detecting when the features deviate strongly from the normal \n",
    "    - an interesting special case of this: training an **autoencoder**, a type of neural network, to learn a representation of the normal time series and linking high reconstruction error to anomalies\n"
   ]
  },
  {
   "cell_type": "markdown",
   "metadata": {},
   "source": [
    "### Sequence-to-Sequence Learning"
   ]
  },
  {
   "cell_type": "markdown",
   "metadata": {},
   "source": [
    "**Sequence-to-Sequence learning** happens when both input and output of the machine learning model are sequences. Time series forecasting can be considered a special case, but the topic is much broader. Consider a few examples below.\n"
   ]
  },
  {
   "cell_type": "markdown",
   "metadata": {},
   "source": [
    "**Examples**\n",
    "\n",
    "- [automatic translation of text from one language to another](https://codesachin.wordpress.com/2017/01/18/understanding-the-new-google-translate/)\n",
    "- speech recognition\n",
    "- [speech synthesis](https://www.youtube.com/watch?v=NG-LATBZNBs)"
   ]
  },
  {
   "cell_type": "markdown",
   "metadata": {},
   "source": [
    "---\n",
    "_This notebook is licensed under a [Creative Commons Attribution-NonCommercial-ShareAlike 4.0 International (CC BY-NC-SA 4.0)](https://creativecommons.org/licenses/by-nc-sa/4.0/). Copyright © 2018-2025 [Point 8 GmbH](https://point-8.de)_"
   ]
  }
 ],
 "metadata": {
  "kernelspec": {
   "display_name": "Python 3 (ipykernel)",
   "language": "python",
   "name": "python3"
  },
  "language_info": {
   "codemirror_mode": {
    "name": "ipython",
    "version": 3
   },
   "file_extension": ".py",
   "mimetype": "text/x-python",
   "name": "python",
   "nbconvert_exporter": "python",
   "pygments_lexer": "ipython3",
   "version": "3.8.8"
  }
 },
 "nbformat": 4,
 "nbformat_minor": 4
}
