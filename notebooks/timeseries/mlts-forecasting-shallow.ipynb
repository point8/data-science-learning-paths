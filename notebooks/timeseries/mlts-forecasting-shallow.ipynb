{
 "cells": [
  {
   "cell_type": "markdown",
   "metadata": {},
   "source": [
    "# Time Series Forecasting with \"Shallow Learning\""
   ]
  },
  {
   "cell_type": "markdown",
   "metadata": {},
   "source": [
    "Before we get to ML techniques commonly called \"deep learning\" (e.g. **recurrent neural networks**), let's see what we can do with simpler ML methods. These techniques are the topic of our course [📓 Machine Learning with Python](../index/mlp2-machine-learning-python.ipynb), and the library `scikit-learn` provides most of the code needed. We assume that you are familiar with the concepts."
   ]
  },
  {
   "cell_type": "markdown",
   "metadata": {},
   "source": [
    "## Preamble"
   ]
  },
  {
   "cell_type": "code",
   "execution_count": null,
   "metadata": {},
   "outputs": [],
   "source": [
    "import pandas"
   ]
  },
  {
   "cell_type": "code",
   "execution_count": null,
   "metadata": {},
   "outputs": [],
   "source": [
    "import matplotlib.pyplot as plt"
   ]
  },
  {
   "cell_type": "code",
   "execution_count": null,
   "metadata": {},
   "outputs": [],
   "source": [
    "import data_science_learning_paths\n",
    "import forecast_lab"
   ]
  },
  {
   "cell_type": "code",
   "execution_count": null,
   "metadata": {},
   "outputs": [],
   "source": [
    "data_science_learning_paths.setup_plot_style()"
   ]
  },
  {
   "cell_type": "markdown",
   "metadata": {},
   "source": [
    "## Example: Forecasting Taxi Trips"
   ]
  },
  {
   "cell_type": "code",
   "execution_count": null,
   "metadata": {},
   "outputs": [],
   "source": [
    "taxi_trips = data_science_learning_paths.datasets.read_chicago_taxi_trips_daily()"
   ]
  },
  {
   "cell_type": "code",
   "execution_count": null,
   "metadata": {},
   "outputs": [],
   "source": [
    "taxi_trips.head()"
   ]
  },
  {
   "cell_type": "markdown",
   "metadata": {},
   "source": [
    "## Transform to Supervised Learning Problem"
   ]
  },
  {
   "cell_type": "markdown",
   "metadata": {},
   "source": [
    "It is possible to pack a time series forecasting problem into the traditional form for supervised machine learning: A set of labelled observations, more specifically a matrix $X$ of feature values and a vector $y$ of labels ."
   ]
  },
  {
   "cell_type": "code",
   "execution_count": null,
   "metadata": {},
   "outputs": [],
   "source": [
    "from forecast_lab import transform_to_labelled_points"
   ]
  },
  {
   "cell_type": "code",
   "execution_count": null,
   "metadata": {},
   "outputs": [],
   "source": [
    "transform_to_labelled_points??"
   ]
  },
  {
   "cell_type": "code",
   "execution_count": null,
   "metadata": {},
   "outputs": [],
   "source": [
    "X_train, y_train = transform_to_labelled_points(taxi_trips[\"Trips\"][:1000], 10)"
   ]
  },
  {
   "cell_type": "code",
   "execution_count": null,
   "metadata": {},
   "outputs": [],
   "source": [
    "X_test, y_test = transform_to_labelled_points(taxi_trips[\"Trips\"][1000:2000], 10)"
   ]
  },
  {
   "cell_type": "markdown",
   "metadata": {},
   "source": [
    "We now have the data in the familiar format for supervised learning: A feature matrix $X$ and a label vector $y$ - only that the features are the preceding $w$ values of the time series."
   ]
  },
  {
   "cell_type": "code",
   "execution_count": null,
   "metadata": {},
   "outputs": [],
   "source": [
    "X_train.head()"
   ]
  },
  {
   "cell_type": "code",
   "execution_count": null,
   "metadata": {},
   "outputs": [],
   "source": [
    "y_train.head()"
   ]
  },
  {
   "cell_type": "markdown",
   "metadata": {},
   "source": [
    "We can now fit ML models, e.g. from **scikit-learn**:"
   ]
  },
  {
   "cell_type": "code",
   "execution_count": null,
   "metadata": {},
   "outputs": [],
   "source": [
    "import sklearn"
   ]
  },
  {
   "cell_type": "code",
   "execution_count": null,
   "metadata": {},
   "outputs": [],
   "source": [
    "from sklearn.ensemble import GradientBoostingRegressor"
   ]
  },
  {
   "cell_type": "code",
   "execution_count": null,
   "metadata": {},
   "outputs": [],
   "source": [
    "model = GradientBoostingRegressor().fit(X_train, y_train)"
   ]
  },
  {
   "cell_type": "markdown",
   "metadata": {},
   "source": [
    "Let's use the model for predictions on the test feature matix and compare with the ground truth:"
   ]
  },
  {
   "cell_type": "code",
   "execution_count": null,
   "metadata": {},
   "outputs": [],
   "source": [
    "pandas.DataFrame(\n",
    "    {\n",
    "        \"prediction\": model.predict(X_test),\n",
    "        \"actual\": y_test       \n",
    "    }\n",
    ").plot(ylim=(0,150))"
   ]
  },
  {
   "cell_type": "markdown",
   "metadata": {},
   "source": [
    "Not bad - a point in the series can be predicted from the the preceding ones with some accuracy, and we see similar seasonal patterns. With time, the forecast deteriorates somewhat - which may be due to [**concept drift**](https://en.m.wikipedia.org/wiki/Concept_drift).\n",
    "\n",
    "However, this is not yet a proper time series forecast as we have defined it. The model only forecasts one step ahead and is provided with the actual values from the time segment we want to predict. In the following, we discuss how to generate a forecast for arbitrary time steps with recursive forecasting."
   ]
  },
  {
   "cell_type": "markdown",
   "metadata": {},
   "source": [
    "## Using the Model for Recursive Forecasting"
   ]
  },
  {
   "cell_type": "markdown",
   "metadata": {},
   "source": [
    "In order to do recursive forecasting, the model needs to be supplied with a rolling window of its own predictions. We have prepared some code for you in the `ScikitLearnWrapper` class: "
   ]
  },
  {
   "cell_type": "code",
   "execution_count": null,
   "metadata": {},
   "outputs": [],
   "source": [
    "forecast_lab.ScikitLearnWrapper.forecast??"
   ]
  },
  {
   "cell_type": "markdown",
   "metadata": {},
   "source": [
    "Now we can evaluate a true forecast for a given horizon. Have a look at the diagnostic plots:\n",
    "- training, test and forecast segments\n",
    "- residuals: test versus forecast\n",
    "- pull plot: distribution of errors"
   ]
  },
  {
   "cell_type": "code",
   "execution_count": null,
   "metadata": {},
   "outputs": [],
   "source": [
    "forecast_lab.ForecastEvaluation(\n",
    "        ts=taxi_trips[\"Trips\"],\n",
    "        forecasting=forecast_lab.ScikitLearnWrapper(\n",
    "            GradientBoostingRegressor,\n",
    "            sliding_window_size=20,\n",
    "        ),\n",
    "        test_window_size=60,\n",
    "        train_window_size=365,\n",
    "        metrics={\n",
    "            \"MAPE\": data_science_learning_paths.mlp.mean_absolute_percentage_error,\n",
    "            \"RSME\": data_science_learning_paths.mlp.root_mean_squared_error\n",
    "        }\n",
    ").evaluate(\n",
    "    k=3, \n",
    "    plot_segments=True,\n",
    "    plot_residuals=True,\n",
    "    plot_pulls=True\n",
    ").get_metrics().mean()"
   ]
  },
  {
   "cell_type": "markdown",
   "metadata": {},
   "source": [
    "## Incorporating External Variables"
   ]
  },
  {
   "cell_type": "markdown",
   "metadata": {},
   "source": [
    "A nice property of this approach to forecasting is that it is straightforward to add external variables or even multiple other time series: Just add them as additional feature columns to the feature columns that come from the time series itself."
   ]
  },
  {
   "cell_type": "code",
   "execution_count": null,
   "metadata": {},
   "outputs": [],
   "source": [
    "forecast_lab.ScikitLearnWrapper.fit??"
   ]
  },
  {
   "cell_type": "markdown",
   "metadata": {},
   "source": [
    "### Example"
   ]
  },
  {
   "cell_type": "markdown",
   "metadata": {},
   "source": [
    "Do the seasons influence the demand for taxi rides in any way? Hard to say, but we are going to try it out: As external variable, we take the average monthly temperature into account. Let's look at one year of data:"
   ]
  },
  {
   "cell_type": "code",
   "execution_count": null,
   "metadata": {},
   "outputs": [],
   "source": [
    "usa_temp = data_science_learning_paths.datasets.read_usa_temperature()"
   ]
  },
  {
   "cell_type": "code",
   "execution_count": null,
   "metadata": {},
   "outputs": [],
   "source": [
    "usa_temp[\"2013\"].head()"
   ]
  },
  {
   "cell_type": "code",
   "execution_count": null,
   "metadata": {},
   "outputs": [],
   "source": [
    "plt.plot(taxi_trips[\"2013\"][\"Trips\"])"
   ]
  },
  {
   "cell_type": "markdown",
   "metadata": {},
   "source": [
    "The external variables must be passed in the form of a `pandas.DataFrame` with an index matching the time series.\n",
    "\n",
    "Unfortunately we have only monthly data for the temperature, but we can resample it to a daily frequency to make it compatible:"
   ]
  },
  {
   "cell_type": "code",
   "execution_count": null,
   "metadata": {},
   "outputs": [],
   "source": [
    "plt.plot(usa_temp[\"2013\"][\"Value\"].resample(\"d\").pad())"
   ]
  },
  {
   "cell_type": "markdown",
   "metadata": {},
   "source": [
    "Let's see if the fitting step works:"
   ]
  },
  {
   "cell_type": "code",
   "execution_count": null,
   "metadata": {},
   "outputs": [],
   "source": [
    "temperature = pandas.DataFrame(\n",
    "        usa_temp[\"2013-01\":\"2014-01\"][\"Value\"].resample(\"d\").pad(),\n",
    ")[:-1]"
   ]
  },
  {
   "cell_type": "code",
   "execution_count": null,
   "metadata": {},
   "outputs": [],
   "source": [
    "forecast_lab.ScikitLearnWrapper(\n",
    "    estimator_class=GradientBoostingRegressor,\n",
    "    sliding_window_size=60,\n",
    ").fit(\n",
    "    ts=taxi_trips[\"2013\"][\"Trips\"],\n",
    "    ext_vars=temperature\n",
    ")"
   ]
  },
  {
   "cell_type": "markdown",
   "metadata": {},
   "source": [
    "Now this can be used in the `ForecastEvaluation`. We need to make sure to pass external data matching both the index for the training and test time series."
   ]
  },
  {
   "cell_type": "code",
   "execution_count": null,
   "metadata": {},
   "outputs": [],
   "source": [
    "forecast_lab.ForecastEvaluation(\n",
    "    ts=taxi_trips[\"2013\"][\"Trips\"],\n",
    "    ts_test=taxi_trips[\"2014-01\"][\"Trips\"],\n",
    "    ext_vars=pandas.DataFrame(\n",
    "        usa_temp[\"2013-01\":\"2014-02\"][\"Value\"].resample(\"d\").pad(),\n",
    "    ),\n",
    "    forecasting=forecast_lab.ScikitLearnWrapper(\n",
    "        GradientBoostingRegressor,\n",
    "        sliding_window_size=120,\n",
    "    ),\n",
    "    metrics={\n",
    "        \"MAPE\": data_science_learning_paths.mlp.mean_absolute_percentage_error,\n",
    "        \"RSME\": data_science_learning_paths.mlp.root_mean_squared_error\n",
    "    }\n",
    ").evaluate(\n",
    "    k=3, \n",
    "    plot_segments=True,\n",
    "    plot_residuals=True,\n",
    "    plot_pulls=True\n",
    ").get_metrics().mean()"
   ]
  },
  {
   "cell_type": "code",
   "execution_count": null,
   "metadata": {},
   "outputs": [],
   "source": [
    "forecast_lab.ForecastEvaluation(\n",
    "    ts=taxi_trips[\"2013\"][\"Trips\"],\n",
    "    ts_test=taxi_trips[\"2014-01\"][\"Trips\"],\n",
    "    forecasting=forecast_lab.ScikitLearnWrapper(\n",
    "        GradientBoostingRegressor,\n",
    "        sliding_window_size=120,\n",
    "    ),\n",
    "    metrics={\n",
    "        \"MAPE\": data_science_learning_paths.mlp.mean_absolute_percentage_error,\n",
    "        \"RSME\": data_science_learning_paths.mlp.root_mean_squared_error\n",
    "    }\n",
    ").evaluate(\n",
    "    k=3, \n",
    "    plot_segments=True,\n",
    "    plot_residuals=True,\n",
    "    plot_pulls=True\n",
    ").get_metrics().mean()"
   ]
  },
  {
   "cell_type": "markdown",
   "metadata": {},
   "source": [
    "## Summary"
   ]
  },
  {
   "cell_type": "markdown",
   "metadata": {},
   "source": [
    "**Pros**\n",
    "\n",
    "+ apply any supervised learning regressor to forecasting\n",
    "+ reuse well-known ML methods and tools\n",
    "+ easily add external features or other time series as additional columns in the feature matrix\n",
    "\n",
    "**Cons**\n",
    "\n",
    "- order of data points matters only within the sliding window - a possible limit to learning long patterns\n",
    "- recursive forecast may deteriorate quickly the longer the forecast horizon as errors accumulate"
   ]
  },
  {
   "cell_type": "markdown",
   "metadata": {},
   "source": [
    "## References\n",
    "\n",
    "- [Time Series for scikit-learn People](https://www.ethanrosenthal.com/2018/01/28/time-series-for-scikit-learn-people-part1/)"
   ]
  },
  {
   "cell_type": "markdown",
   "metadata": {},
   "source": [
    "---\n",
    "_This notebook is licensed under a [Creative Commons Attribution-NonCommercial-ShareAlike 4.0 International (CC BY-NC-SA 4.0)](https://creativecommons.org/licenses/by-nc-sa/4.0/). Copyright © 2018-2025 [Point 8 GmbH](https://point-8.de)_\n"
   ]
  }
 ],
 "metadata": {
  "kernelspec": {
   "display_name": "Python 3",
   "language": "python",
   "name": "python3"
  },
  "language_info": {
   "codemirror_mode": {
    "name": "ipython",
    "version": 3
   },
   "file_extension": ".py",
   "mimetype": "text/x-python",
   "name": "python",
   "nbconvert_exporter": "python",
   "pygments_lexer": "ipython3",
   "version": "3.7.6"
  }
 },
 "nbformat": 4,
 "nbformat_minor": 4
}
