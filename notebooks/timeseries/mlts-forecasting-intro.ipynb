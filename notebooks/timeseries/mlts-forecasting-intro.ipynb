{
 "cells": [
  {
   "cell_type": "markdown",
   "metadata": {},
   "source": [
    "## About Time Series Forecasting"
   ]
  },
  {
   "cell_type": "markdown",
   "metadata": {},
   "source": [
    "In this chapter we introduce and define the problem of forecasting time series, discuss how to properly evaluate the performance of a forecasting model, and get to know some metrics to quantify the performance."
   ]
  },
  {
   "cell_type": "markdown",
   "metadata": {},
   "source": [
    "## Preamble"
   ]
  },
  {
   "cell_type": "code",
   "execution_count": null,
   "metadata": {},
   "outputs": [],
   "source": [
    "import pandas\n",
    "import seaborn\n",
    "import matplotlib.pyplot as plt\n",
    "import numpy"
   ]
  },
  {
   "cell_type": "code",
   "execution_count": null,
   "metadata": {},
   "outputs": [],
   "source": [
    "import data_science_learning_paths"
   ]
  },
  {
   "cell_type": "code",
   "execution_count": null,
   "metadata": {},
   "outputs": [],
   "source": [
    "data_science_learning_paths.setup_plot_style()"
   ]
  },
  {
   "cell_type": "markdown",
   "metadata": {},
   "source": [
    "## For Example: Forecasting Taxi Demand"
   ]
  },
  {
   "cell_type": "markdown",
   "metadata": {},
   "source": [
    "Consider for example the problem of forecasting demand for taxi rides in a city. Based on [a public dataset from the City of Chicago](https://catalog.data.gov/dataset/taxi-trips), we have extracted a time series of the the number of taxi trips per day. This time series has several realistic properties, such as seasonal (e.g. weekly) patterns and a non-trivial trend."
   ]
  },
  {
   "cell_type": "code",
   "execution_count": null,
   "metadata": {},
   "outputs": [],
   "source": [
    "taxi_trips = data_science_learning_paths.datasets.read_chicago_taxi_trips_daily()"
   ]
  },
  {
   "cell_type": "code",
   "execution_count": null,
   "metadata": {},
   "outputs": [],
   "source": [
    "taxi_trips.head()"
   ]
  },
  {
   "cell_type": "code",
   "execution_count": null,
   "metadata": {},
   "outputs": [],
   "source": [
    "taxi_trips.plot()"
   ]
  },
  {
   "cell_type": "code",
   "execution_count": null,
   "metadata": {},
   "outputs": [],
   "source": [
    "taxi_trips[\"January 2013\"].plot()"
   ]
  },
  {
   "cell_type": "markdown",
   "metadata": {},
   "source": [
    "In the following, we are going to have a look at various statistical modelling and machine learning techniques that can be applied to forecasting a time series like this."
   ]
  },
  {
   "cell_type": "markdown",
   "metadata": {},
   "source": [
    "## Forecasting Essentials"
   ]
  },
  {
   "cell_type": "markdown",
   "metadata": {},
   "source": [
    "**A Forecast's Horizon**\n",
    "\n",
    "An important question to ask before building a forecast model: How far into the future do we need to look? The number of steps to forecast is called the forecast's **horizon**.\n",
    "\n",
    "\n",
    "A true forecasting model has the ability ability to **predict a time series $h$ steps ahead**, for the desired number of steps $h$. (This is a more difficult task than **one-step-ahead** prediction - given the previous $k$ points of the time series, predict the next value, which can be solved by supervised ML methods we already know at this point.)\n"
   ]
  },
  {
   "cell_type": "markdown",
   "metadata": {},
   "source": [
    "**Recursive and Direct Forecasting**\n",
    "\n",
    "\n",
    "We need to distinguish two different approaches to forecasting this:\n",
    "- **recursive forecasting**: The model has the ability to predict one step ahead - now we apply it recursively on its own predictions to forecast $h$ steps ahead.\n",
    "- **direct forecasting**: The model can directly predict the next $h$ steps without recursively using its own predictions as input.\n",
    "\n"
   ]
  },
  {
   "cell_type": "markdown",
   "metadata": {},
   "source": [
    "## Evaluating Forecasting Models"
   ]
  },
  {
   "cell_type": "markdown",
   "metadata": {},
   "source": [
    "How good is the performance of my forecasting model? How do I set up an evaluation in order to produce a model that works in practice? This section introduces:\n",
    "\n",
    "- **error metrics for time series forecasts**\n",
    "- **splitting into training and test data**"
   ]
  },
  {
   "cell_type": "markdown",
   "metadata": {},
   "source": [
    "### Metrics"
   ]
  },
  {
   "cell_type": "markdown",
   "metadata": {},
   "source": [
    "In general, a performance/error metric is a function $M$ that takes  actual values of the time series $y$ and the coresponding forecasted values $\\hat{y}$.\n",
    "\n",
    "$$M(y, \\hat{y}) = \\dots$$"
   ]
  },
  {
   "cell_type": "markdown",
   "metadata": {},
   "source": [
    "Measuring the error in time series forecasting is in many ways similar to how we do it with classical **regression** problems, so let's revisit the error metrics discussed in [📓 Machine Learning with Python: About Regression](../ml/ml-regression-intro.ipynb).\n",
    "\n",
    "- **Mean Absolute Error (MAE)**\n",
    "- **Root Mean Squared Error (RMSE)**\n",
    "- **$R^2$ score**\n",
    "- **Mean Absolute Percentage Error (MAPE)**\n"
   ]
  },
  {
   "cell_type": "markdown",
   "metadata": {},
   "source": [
    "### Business Case-Specific Metrics\n",
    "\n",
    "While the general error metrics above are widely applicable, a metric specific to your business case for forecasting is even more appropriate and interpretable. It pays to spend some time on designing an appropriate performance metric - perhaps the error can be numbered in monetary terms, connected to an important KPI, etc. \n",
    "\n",
    "**Exercise: Pick a real-life forecasting problem, then brainstorm and discuss specific metrics that could be relevant!**"
   ]
  },
  {
   "cell_type": "markdown",
   "metadata": {},
   "source": [
    "### Splitting the Data for Evaluation"
   ]
  },
  {
   "cell_type": "markdown",
   "metadata": {},
   "source": [
    "At this point we assume you already know about evaluation strategies like **train-test-split** and **cross-validation** and why they are necessary. You can read up on this in [📓 Machine Learning with Python: About Classification](../ml/ml-classification-intro.ipynb).\n",
    "\n",
    "When dealing with time series, we have to approach things somewhat differently: Here, randomly shuffling and splitting of the data points does not make sense. Rather, we want to use a past segment of the time series to predict a future segment.\n",
    "\n",
    "How large should these segments be? This is very much dependent on our application and use case. How far into the future do we need to look to make good decisions for our business case? What is more important - short-term or long-term accuracy? "
   ]
  },
  {
   "cell_type": "markdown",
   "metadata": {},
   "source": [
    "#### A Helper Class for Forecast Evaluation"
   ]
  },
  {
   "cell_type": "markdown",
   "metadata": {},
   "source": [
    "We have prepared some code to make evaluation of forecast performance more convenient (and it is free software on [GitHub](https://github.com/point8/forecast-lab), so feel free to contribute!)\n",
    "\n",
    "The `ForecastEvaluation` class implements a couple of training and evaluation strategies. Here, we use it to:\n",
    "\n",
    "1. Perform evaluation similar to _cross-validation_: Split the time series randomly into a training and adjacent test segment of given sizes. Fit the model to the training segment and forecast the test segment.\n",
    "2. Evaluate the performance of the forecast through the given metrics.\n",
    "3. Plot the forecast and diagnostic information."
   ]
  },
  {
   "cell_type": "code",
   "execution_count": null,
   "metadata": {},
   "outputs": [],
   "source": [
    "import forecast_lab"
   ]
  },
  {
   "cell_type": "code",
   "execution_count": null,
   "metadata": {},
   "outputs": [],
   "source": [
    "metrics = {\n",
    "    \"RMSE\": data_science_learning_paths.mlp.root_mean_squared_error,\n",
    "    \"MAPE\": data_science_learning_paths.mlp. mean_absolute_percentage_error\n",
    "}"
   ]
  },
  {
   "cell_type": "markdown",
   "metadata": {},
   "source": [
    "Our `mlts` module also provides a few wrapper classes so that we can evaluate forecasting with different approaches and libraries. For example, the `StatsmodelsWrapper` is used to package a `statsmodels`-style time series model. Note the parameters:\n",
    "\n",
    "- `estimator_params`: supplied to the constructor of the `estimator_class`\n",
    "- `fit_params`: supplied to the `fit` method call"
   ]
  },
  {
   "cell_type": "code",
   "execution_count": null,
   "metadata": {},
   "outputs": [],
   "source": [
    "import statsmodels.api as sm"
   ]
  },
  {
   "cell_type": "code",
   "execution_count": null,
   "metadata": {},
   "outputs": [],
   "source": [
    "try:\n",
    "    forecast_lab.ForecastEvaluation(\n",
    "        ts=taxi_trips[\"Trips\"],\n",
    "        metrics=metrics,\n",
    "        forecasting=forecast_lab.StatsmodelsWrapper(\n",
    "            estimator_class=sm.tsa.ARIMA,\n",
    "            estimator_params={\n",
    "                \"order\": (4,1,2)\n",
    "            },\n",
    "            fit_params={\n",
    "                \"max_iter\": 10\n",
    "            },\n",
    "        ),\n",
    "        train_window_size=365,\n",
    "        test_window_size=60,\n",
    "    ).evaluate(\n",
    "        k=2,\n",
    "        plot_segments=True,\n",
    "        plot_residuals=True,\n",
    "        plot_pulls=True\n",
    "    ).get_metrics().mean()\n",
    "except LinAlgError:\n",
    "    print(\"The ARIMA model did not converge\")"
   ]
  },
  {
   "cell_type": "markdown",
   "metadata": {},
   "source": [
    "## Dummy Models"
   ]
  },
  {
   "cell_type": "markdown",
   "metadata": {},
   "source": [
    "When spending time on a sophisticated forecast using statistical modelling and machine learning, there is a good question that we should have an answer to: How does it compare to simple, \"trivial\" forecasts? We should be able to get significantly better performance to justify the engineering that goes into any ML-based solution.\n",
    "\n",
    "Here are implementations a few **dummy models** that are really simple, but can be surprisingly hard to beat with more advanced techniques."
   ]
  },
  {
   "cell_type": "code",
   "execution_count": null,
   "metadata": {},
   "outputs": [],
   "source": [
    "forecast_lab.dummy.MeanForecast??"
   ]
  },
  {
   "cell_type": "code",
   "execution_count": null,
   "metadata": {},
   "outputs": [],
   "source": [
    "forecast_lab.dummy.LinearForecast??"
   ]
  },
  {
   "cell_type": "code",
   "execution_count": null,
   "metadata": {},
   "outputs": [],
   "source": [
    "forecast_lab.ForecastEvaluation(\n",
    "    ts=taxi_trips[\"Trips\"],\n",
    "    metrics=metrics,\n",
    "    forecasting=forecast_lab.dummy.MeanForecast(),\n",
    "    train_window_size=365,\n",
    "    test_window_size=100,\n",
    ").evaluate(\n",
    "    k=2,\n",
    "    plot_segments=True,\n",
    "    plot_residuals=True\n",
    ").get_metrics()"
   ]
  },
  {
   "cell_type": "code",
   "execution_count": null,
   "metadata": {},
   "outputs": [],
   "source": [
    "forecast_lab.ForecastEvaluation(\n",
    "    ts=taxi_trips[\"Trips\"],\n",
    "    metrics=metrics,\n",
    "    forecasting=forecast_lab.dummy.LinearForecast(),\n",
    "    train_window_size=365,\n",
    "    test_window_size=100,\n",
    ").evaluate(\n",
    "    k=2,\n",
    "    plot_segments=True,\n",
    "    plot_residuals=True\n",
    ").get_metrics().mean()"
   ]
  },
  {
   "cell_type": "markdown",
   "metadata": {},
   "source": [
    "## References\n",
    "\n",
    "- [Forecasting - Metrics for Time Series Forecasts](https://www.edscave.com/forecasting---time-series-metrics.html)\n",
    "- [Recursive and Direct Forecasting](https://stats.stackexchange.com/questions/346714/forecasting-several-periods-with-machine-learning)\n",
    "- [Simple Forecast Methods](https://otexts.com/fpp2/simple-methods.html)"
   ]
  },
  {
   "cell_type": "markdown",
   "metadata": {},
   "source": [
    "---\n",
    "_This notebook is licensed under a [Creative Commons Attribution-NonCommercial-ShareAlike 4.0 International (CC BY-NC-SA 4.0)](https://creativecommons.org/licenses/by-nc-sa/4.0/). Copyright © 2018-2025 [Point 8 GmbH](https://point-8.de)_"
   ]
  }
 ],
 "metadata": {
  "kernelspec": {
   "display_name": "Python 3",
   "language": "python",
   "name": "python3"
  },
  "language_info": {
   "codemirror_mode": {
    "name": "ipython",
    "version": 3
   },
   "file_extension": ".py",
   "mimetype": "text/x-python",
   "name": "python",
   "nbconvert_exporter": "python",
   "pygments_lexer": "ipython3",
   "version": "3.7.6"
  }
 },
 "nbformat": 4,
 "nbformat_minor": 4
}
