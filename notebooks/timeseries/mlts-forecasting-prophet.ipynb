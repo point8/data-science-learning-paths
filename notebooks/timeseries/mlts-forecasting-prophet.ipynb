{
 "cells": [
  {
   "cell_type": "markdown",
   "metadata": {},
   "source": [
    "# Prophet"
   ]
  },
  {
   "cell_type": "markdown",
   "metadata": {},
   "source": [
    "[**Prophet**](https://facebook.github.io/prophet/) is a forecasting algorithm developed at Facebook and targeting \"business time series\" - time series derived from human activity, typically having seasonality and trend on human time scales like days, weeks, years. Features of the Prophet algorithm are:\n",
    "\n",
    "- model is based on overall trend, seasonality, and holidays\n",
    "- \"analyst in the loop\": ability to incorporate domain knowledge to tune parameters of the model"
   ]
  },
  {
   "cell_type": "markdown",
   "metadata": {},
   "source": [
    "## Preamble"
   ]
  },
  {
   "cell_type": "code",
   "execution_count": null,
   "metadata": {},
   "outputs": [],
   "source": [
    "import data_science_learning_paths\n",
    "import forecast_lab"
   ]
  },
  {
   "cell_type": "code",
   "execution_count": null,
   "metadata": {},
   "outputs": [],
   "source": [
    "data_science_learning_paths.setup_plot_style()"
   ]
  },
  {
   "cell_type": "code",
   "execution_count": null,
   "metadata": {},
   "outputs": [],
   "source": [
    "import pandas\n",
    "import seaborn\n",
    "import matplotlib.pyplot as plt\n",
    "import numpy"
   ]
  },
  {
   "cell_type": "markdown",
   "metadata": {},
   "source": [
    "## Example: Forecasting Taxi Trips"
   ]
  },
  {
   "cell_type": "code",
   "execution_count": null,
   "metadata": {},
   "outputs": [],
   "source": [
    "import fbprophet"
   ]
  },
  {
   "cell_type": "code",
   "execution_count": null,
   "metadata": {},
   "outputs": [],
   "source": [
    "taxi_trips = data_science_learning_paths.datasets.read_chicago_taxi_trips_daily()"
   ]
  },
  {
   "cell_type": "code",
   "execution_count": null,
   "metadata": {},
   "outputs": [],
   "source": [
    "taxi_trips.head()"
   ]
  },
  {
   "cell_type": "markdown",
   "metadata": {},
   "source": [
    "Prophet expects the input time series in the format of a `pandas.DataFrame` with columns `ds` for time and `y` for values."
   ]
  },
  {
   "cell_type": "code",
   "execution_count": null,
   "metadata": {},
   "outputs": [],
   "source": [
    "taxi_trips_p  = pandas.DataFrame(taxi_trips).reset_index()\n",
    "taxi_trips_p.columns = [\"ds\", \"y\"]"
   ]
  },
  {
   "cell_type": "code",
   "execution_count": null,
   "metadata": {},
   "outputs": [],
   "source": [
    "taxi_trips_p.head()"
   ]
  },
  {
   "cell_type": "code",
   "execution_count": null,
   "metadata": {},
   "outputs": [],
   "source": [
    "taxi_trips_p[\"ds\"].max()"
   ]
  },
  {
   "cell_type": "markdown",
   "metadata": {},
   "source": [
    "Now the model can be fitted to the time series:"
   ]
  },
  {
   "cell_type": "code",
   "execution_count": null,
   "metadata": {},
   "outputs": [],
   "source": [
    "%time prophet_model = fbprophet.Prophet().fit(taxi_trips_p)"
   ]
  },
  {
   "cell_type": "markdown",
   "metadata": {},
   "source": [
    "In order to produce a forecast, one needs to call the model's helper method `make_future_dataframe` with the parameters of the desired forecast:"
   ]
  },
  {
   "cell_type": "code",
   "execution_count": null,
   "metadata": {},
   "outputs": [],
   "source": [
    "fd = prophet_model.make_future_dataframe(periods=10, freq=\"D\")\n",
    "fd[fd[\"ds\"] > \"2017-05-31\"]"
   ]
  },
  {
   "cell_type": "code",
   "execution_count": null,
   "metadata": {},
   "outputs": [],
   "source": [
    "ts_forecast = prophet_model.predict(\n",
    "    prophet_model.make_future_dataframe(periods=100, freq=\"D\")\n",
    ")"
   ]
  },
  {
   "cell_type": "markdown",
   "metadata": {},
   "source": [
    "The forecast result is a dataframe with values for the historical time series plus the future timeframe:"
   ]
  },
  {
   "cell_type": "code",
   "execution_count": null,
   "metadata": {},
   "outputs": [],
   "source": [
    "ts_forecast[ts_forecast[\"ds\"] > taxi_trips.index.max()][\"yhat\"].shape"
   ]
  },
  {
   "cell_type": "code",
   "execution_count": null,
   "metadata": {},
   "outputs": [],
   "source": [
    "ts_forecast.tail()"
   ]
  },
  {
   "cell_type": "code",
   "execution_count": null,
   "metadata": {},
   "outputs": [],
   "source": [
    "prophet_model.plot(ts_forecast[ts_forecast[\"ds\"] > taxi_trips.index.max()], );"
   ]
  },
  {
   "cell_type": "markdown",
   "metadata": {},
   "source": [
    "We can get some insights into the model by plotting its components - an overall trend as well as seasonal components:"
   ]
  },
  {
   "cell_type": "code",
   "execution_count": null,
   "metadata": {},
   "outputs": [],
   "source": [
    "prophet_model.plot_components(ts_forecast);\n"
   ]
  },
  {
   "cell_type": "markdown",
   "metadata": {},
   "source": [
    "We provide a wrapper class to use a Prophet model in the `ForecastEvaluation`:"
   ]
  },
  {
   "cell_type": "code",
   "execution_count": null,
   "metadata": {},
   "outputs": [],
   "source": [
    "forecast_lab.ProphetWrapper??"
   ]
  },
  {
   "cell_type": "markdown",
   "metadata": {},
   "source": [
    "## Evaluation"
   ]
  },
  {
   "cell_type": "code",
   "execution_count": null,
   "metadata": {},
   "outputs": [],
   "source": [
    "forecast_lab.ForecastEvaluation(\n",
    "        ts=taxi_trips[\"Trips\"],\n",
    "        forecasting=forecast_lab.ProphetWrapper(freq=\"d\"),\n",
    "        test_window_size=120,\n",
    "        train_window_size=365,\n",
    "        metrics={\n",
    "            \"MAPE\": data_science_learning_paths.mlp.mean_absolute_percentage_error,\n",
    "            \"RSME\": data_science_learning_paths.mlp.root_mean_squared_error\n",
    "        }\n",
    ").evaluate(\n",
    "    k=10, \n",
    "    plot_segments=True,\n",
    "    plot_residuals=True,\n",
    ").get_metrics().mean()"
   ]
  },
  {
   "cell_type": "markdown",
   "metadata": {},
   "source": [
    "## Adding External Variables\n",
    "\n",
    "Among other configuration options, Prophet is built with the option to add additional features (e.g., holiday calendars) in mind. Refer to [this section of the Prophet documentation](https://facebook.github.io/prophet/docs/seasonality,_holiday_effects,_and_regressors.html#additional-regressors) for more information."
   ]
  },
  {
   "cell_type": "markdown",
   "metadata": {},
   "source": [
    "**Exercise: Adding Holidays to the Prophet Model**\n",
    "\n",
    "Try adding a US holiday calendar to the taxi trips forecast model using Prophet. Then implement this for the `ProphetWrapper` using the `ext_vars` parameter."
   ]
  },
  {
   "cell_type": "markdown",
   "metadata": {},
   "source": [
    "## Summary"
   ]
  },
  {
   "cell_type": "markdown",
   "metadata": {},
   "source": [
    "**Pros**\n",
    "\n",
    "+ a model made for business time series with typical seasonal patterns\n",
    "+ default hyperparameters often already produce an acceptable forecast\n",
    "+ incorporating external variables is supported\n",
    "\n",
    "**Cons**\n",
    "\n",
    "- quality of the library documentation is lacking"
   ]
  },
  {
   "cell_type": "markdown",
   "metadata": {},
   "source": [
    "## References\n",
    "\n",
    "- [Paper: Forecasting at scale](https://peerj.com/preprints/3190/)"
   ]
  },
  {
   "cell_type": "markdown",
   "metadata": {},
   "source": [
    "---\n",
    "_This notebook is licensed under a [Creative Commons Attribution-NonCommercial-ShareAlike 4.0 International (CC BY-NC-SA 4.0)](https://creativecommons.org/licenses/by-nc-sa/4.0/). Copyright © 2018-2025 [Point 8 GmbH](https://point-8.de)_"
   ]
  }
 ],
 "metadata": {
  "kernelspec": {
   "display_name": "Python 3",
   "language": "python",
   "name": "python3"
  },
  "language_info": {
   "codemirror_mode": {
    "name": "ipython",
    "version": 3
   },
   "file_extension": ".py",
   "mimetype": "text/x-python",
   "name": "python",
   "nbconvert_exporter": "python",
   "pygments_lexer": "ipython3",
   "version": "3.8.0"
  }
 },
 "nbformat": 4,
 "nbformat_minor": 4
}
