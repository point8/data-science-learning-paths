{
 "cells": [
  {
   "cell_type": "markdown",
   "id": "53790a67-6dad-421f-851c-b2831a0207ee",
   "metadata": {},
   "source": [
    "# Exercise: Anomaly Detection in Cyber Security\n",
    "\n",
    "The KDD99 dataset is a well known benchmark for anomaly detection, using IT security data with the goal of **intrusion detection**.\n",
    "\n",
    "1. Obtain the data, either\n",
    "- from its [original source](https://kdd.ics.uci.edu/databases/kddcup99/kddcup99.html) or\n",
    "- from the `datasets` module of the `scikit-learn` library\n",
    "2. Explore the data. \n",
    "- Understand the attributes and how they can serve as features for anomaly detection.\n",
    "- Can you already spot anomalies by visualizing the data?\n",
    "3. Build and evaluate an anomaly detector. \n",
    "- Report performance in terms of the Precision and Recall metrics.\n",
    "\n",
    "\n",
    "\n",
    "Your deliverables for the challenge should contain a runnable notebook that contains and documents your workflow, including\n",
    " - data preparation\n",
    "- model training\n",
    "- model performance evaluation"
   ]
  },
  {
   "cell_type": "markdown",
   "id": "9006f6d7-b72d-43b4-98c7-5343abc67948",
   "metadata": {
    "tags": []
   },
   "source": [
    "---\n",
    "_This notebook is licensed under a [Creative Commons Attribution-NonCommercial-ShareAlike 4.0 International (CC BY-NC-SA 4.0)](https://creativecommons.org/licenses/by-nc-sa/4.0/). Copyright © 2018-2025 [Point 8 GmbH](https://point-8.de)_"
   ]
  }
 ],
 "metadata": {
  "kernelspec": {
   "display_name": "Python 3 (ipykernel)",
   "language": "python",
   "name": "python3"
  },
  "language_info": {
   "codemirror_mode": {
    "name": "ipython",
    "version": 3
   },
   "file_extension": ".py",
   "mimetype": "text/x-python",
   "name": "python",
   "nbconvert_exporter": "python",
   "pygments_lexer": "ipython3",
   "version": "3.8.8"
  }
 },
 "nbformat": 4,
 "nbformat_minor": 5
}
