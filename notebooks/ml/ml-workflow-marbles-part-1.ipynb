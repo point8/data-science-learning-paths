{
 "cells": [
  {
   "cell_type": "markdown",
   "metadata": {},
   "source": [
    "# Classification of Marbles\n"
   ]
  },
  {
   "cell_type": "code",
   "execution_count": null,
   "metadata": {},
   "outputs": [],
   "source": [
    "import os\n",
    "import zipfile\n",
    "import matplotlib.pyplot as plt\n",
    "import numpy as np\n",
    "import pandas as pd\n",
    "\n",
    "from IPython.display import display, clear_output, Image, HTML\n",
    "\n"
   ]
  },
  {
   "cell_type": "code",
   "execution_count": null,
   "metadata": {},
   "outputs": [],
   "source": [
    "\n",
    "HTML(\"\"\"\n",
    "<h2>Machine Learning in Action</h2>\n",
    "<video width=\"640\" height=\"360\" controls>\n",
    "  <source src=\"http://files.point-8.de/mp4/point8_i40_demonstrator.mp4\" type=\"video/mp4\">\n",
    "</video>\n",
    "\"\"\")"
   ]
  },
  {
   "cell_type": "markdown",
   "metadata": {},
   "source": [
    "In this example we are going to use machine learning to automatically sort marbles by color. We only have RGB values from a light sensor as our raw data. The data was taken from nine different types of marbles using a sampling rate of 20 milliseconds while rotating each marbles. \n",
    "\n",
    "Our task is to set up a machine learning workflow.\n",
    "Let’s have a short overview on the basic steps of machine learning. We will see that there is no magic behind it. The overall workflow is:\n",
    "\n",
    "- [Data Import and Preparation](#Data-Import-and-Preparation)\n",
    "- [Data Exploration](#Data-Exploration)\n",
    "- [Feature Selection and Engineering](#Feature-Selection-and-Engineering)\n",
    "- Model Definition\n",
    "- Training\n",
    "- Validation and Performance\n",
    "\n",
    "The overall workflow has been taken as an iterative process. The [**scikit-learn**](http://scikit-learn.org/stable/) package provides the relevant algorithms and other tools.\n",
    "\n",
    "**Let’s dig into the data!!!**"
   ]
  },
  {
   "cell_type": "markdown",
   "metadata": {},
   "source": [
    "## Data Import and Preparation\n",
    "\n",
    "The data preparation steps can take most of the time of the full workflow: In real world data, information is often missing, sanity checks have to be performed, data sets have to be joined from different sources and much more.\n",
    "\n",
    "This function will help us to import the raw data - a list of tuples with color values (`[(R,G,B),(R,G,B),(R,G,B)...]`) for each type."
   ]
  },
  {
   "cell_type": "code",
   "execution_count": null,
   "metadata": {},
   "outputs": [],
   "source": [
    "def parse_lines(lines):\n",
    "    \"\"\" Parse strings of marble data\"\"\"\n",
    "    lines = lines[2:-2]\n",
    "    rows = [d.split(', ') for d in lines.split('), (')]\n",
    "    data = [[int(v.replace(')][(', '')) for v in r] for r in rows]\n",
    "    return pd.DataFrame(data)[[0, 1, 2]]"
   ]
  },
  {
   "cell_type": "markdown",
   "metadata": {},
   "source": [
    "We import the raw data and create a list `dfs` containing a [`pandas.DataFrame`](https://pandas.pydata.org/pandas-docs/stable/generated/pandas.DataFrame.html) for each file."
   ]
  },
  {
   "cell_type": "code",
   "execution_count": null,
   "metadata": {},
   "outputs": [],
   "source": [
    "data = []\n",
    "\n",
    "files = [\n",
    "    'blue-white-glass.data',\n",
    "    'cyan-glass.data',\n",
    "    'glass-blue.data',\n",
    "    'glass-green.data',\n",
    "    'glass-red.data',\n",
    "    'glass-yellow.data',\n",
    "    'planet-black-blue.data',\n",
    "    'planet-green.data',\n",
    "    'planet-ocean.data',\n",
    "]\n",
    "\n",
    "dfs = []\n",
    "\n",
    "for i, fname in enumerate(files):\n",
    "    print(f'Load data {i}: {fname}')\n",
    "\n",
    "    with zipfile.ZipFile(f'../.assets/data/marbles/{fname}.zip', 'r') as zipf:\n",
    "        with zipf.open(f'{fname}', 'r') as infile:\n",
    "            content = infile.readlines()[0].decode()\n",
    "            dfs.append(parse_lines(content))"
   ]
  },
  {
   "cell_type": "markdown",
   "metadata": {},
   "source": [
    "So far, we have a numerical index and no column names. Here we set the column names."
   ]
  },
  {
   "cell_type": "code",
   "execution_count": null,
   "metadata": {},
   "outputs": [],
   "source": [
    "for df in dfs:\n",
    "    df.columns=['R','G','B']"
   ]
  },
  {
   "cell_type": "markdown",
   "metadata": {},
   "source": [
    "We define a color code that we know what we will talk about and can use in plots accordingly."
   ]
  },
  {
   "cell_type": "code",
   "execution_count": null,
   "metadata": {},
   "outputs": [],
   "source": [
    "plt.figure(figsize=(18,2))\n",
    "for i in range(9):\n",
    "    plt.scatter([i],[1],s=5000)\n",
    "plt.xticks(np.linspace(0,8,9))\n",
    "plt.yticks([])\n",
    "plt.show()"
   ]
  },
  {
   "cell_type": "code",
   "execution_count": null,
   "metadata": {},
   "outputs": [],
   "source": [
    "display(Image('../.assets/data/marbles/Murmeln.png'))"
   ]
  },
  {
   "cell_type": "markdown",
   "metadata": {},
   "source": [
    "#### Remark: Real world data\n",
    "On other data sets getting information like column names can be the first task in data preparation and take some time. In addition, one of the main tasks is to aggregate data from different sources to one data structure (here: `pandas.DataFrame`) on which the machine learning model will be applied. In general, the ML-algorithms need numerical data as input. Accordingly, strings need to be encoded (see Feature Engineering). But also units need to be checked, and time series need to be set accordingly to the correct format (see `pandas.to_datetime`). Another major task is to perform sanity checks on the data, to check for missing values and compensate outliers if needed. "
   ]
  },
  {
   "cell_type": "markdown",
   "metadata": {},
   "source": [
    "## Data Exploration\n",
    "\n",
    "It's your turn! Have a look on standard features of the dataframe and some statistical information.\n",
    "\n",
    "For example check:\n",
    "* How many samples do we have?\n",
    "* What are min, max, mean and so on?\n",
    "* Do we have outliers or missing values?\n",
    "* Do you already see some significant differences between the types?"
   ]
  },
  {
   "cell_type": "code",
   "execution_count": null,
   "metadata": {},
   "outputs": [],
   "source": [
    "# Give it a try!\n",
    "\n",
    "\n",
    "\n"
   ]
  },
  {
   "cell_type": "markdown",
   "metadata": {},
   "source": [
    "#### First Plots\n",
    "\n",
    "When the items of interest can be separated well in a feature space, this enables an ML algorithm to learn the patterns and classify with high accuracy. Let's start with some simple plots of one, two or more types of marbles, and to find features which separate the classes well."
   ]
  },
  {
   "cell_type": "code",
   "execution_count": null,
   "metadata": {},
   "outputs": [],
   "source": [
    "# One type: Change the type or features to plot\n",
    "dataset = 5\n",
    "X = 'R'\n",
    "Y = 'G'\n",
    "\n",
    "plt.scatter(dfs[dataset][X], dfs[dataset][Y], s=10, alpha=0.01, color=f'C{dataset}')\n",
    "plt.xlabel(X)\n",
    "plt.ylabel(Y);"
   ]
  },
  {
   "cell_type": "code",
   "execution_count": null,
   "metadata": {},
   "outputs": [],
   "source": [
    "# Two types: Change the types or feature to plot\n",
    "dataset_A = 1\n",
    "dataset_B = 3\n",
    "X = 'R'\n",
    "Y = 'G'\n",
    "\n",
    "plt.scatter(dfs[dataset_A][X], dfs[dataset_A][Y], s=10, alpha=0.01, color=f'C{dataset_A}')\n",
    "plt.scatter(dfs[dataset_B][X], dfs[dataset_B][Y], s=10, alpha=0.01, color=f'C{dataset_B}')\n",
    "plt.xlabel(X)\n",
    "plt.ylabel(Y);"
   ]
  },
  {
   "cell_type": "code",
   "execution_count": null,
   "metadata": {},
   "outputs": [],
   "source": [
    "# Three types: Change the type or features to plot\n",
    "\n",
    "dataset_A = 1\n",
    "dataset_B = 3\n",
    "dataset_C = 5\n",
    "X = 'R'\n",
    "Y = 'G'\n",
    "\n",
    "plt.scatter(dfs[dataset_A][X], dfs[dataset_A][Y], s=10, alpha=0.01, color=f'C{dataset_A}')\n",
    "plt.scatter(dfs[dataset_B][X], dfs[dataset_B][Y], s=10, alpha=0.01, color=f'C{dataset_B}')\n",
    "plt.scatter(dfs[dataset_C][X], dfs[dataset_C][Y], s=10, alpha=0.01, color=f'C{dataset_C}')\n",
    "plt.xlabel(X)\n",
    "plt.ylabel(Y);"
   ]
  },
  {
   "cell_type": "code",
   "execution_count": null,
   "metadata": {},
   "outputs": [],
   "source": [
    "# It's your turn. Create a plot of four types of marbles.\n",
    "# Can you still obtain a good separation?\n",
    "\n",
    "\n",
    "\n",
    "\n",
    "\n",
    "\n"
   ]
  },
  {
   "cell_type": "code",
   "execution_count": null,
   "metadata": {},
   "outputs": [],
   "source": [
    "# Two features but showing all types of marbles.\n",
    "X = 'R'\n",
    "Y = 'B'\n",
    "\n",
    "plt.figure()\n",
    "for df in dfs:\n",
    "    plt.scatter(df[X], df[Y], s=10, alpha=0.01)\n",
    "plt.xlabel(X)\n",
    "plt.ylabel(Y);"
   ]
  },
  {
   "cell_type": "markdown",
   "metadata": {},
   "source": [
    "#### Complete chaos?\n",
    "\n",
    "It seems to be total chaos when plotting all types of marbles. But we see that they do differ somewhat. Maybe ML can take several combinations of features into account to come up with a model for what is to hard for us to do \"by hand\". This is the power of ML!"
   ]
  },
  {
   "cell_type": "markdown",
   "metadata": {},
   "source": [
    "## Feature Selection and Engineering\n",
    "\n",
    "So far, we got a broad overview of our data and could detect some possible features for a classification task. For the actual training of an ML-model we need to select **features** (**feature selection**) as input to classify our **target**. In our example we use all three features but we could also select only some of them. In real world data it often makes sense to select since computing power can be a limiting factor. Also, more features do not necessarily improve the overall performance of the classifier.\n",
    "\n",
    ">  **Coming up with features is difficult, time-consuming, requires expert knowledge. \"Applied machine learning\" is basically feature engineering.** &mdash; Andrew Ng:\n",
    "\n",
    "Besides selection, creating of additional features (**feature engineering**) can be another crucial step. In this case we are fine with the three features we have but in real world data we usually need perform feature engineering to develop the full potential of ML. Some examples are \n",
    "- encoding of features (e.g. categories to numerical features), \n",
    "- apply transformations to features (e.g. logscale), \n",
    "- generate new features (e.g. simple stats)\n",
    "- rounding, binning, sampling, ...\n",
    "\n",
    "Maybe additional feature engineering will help our ML model. For this step we usually need some domain expertise. In the case of colors we can perform a transformation to another spectrum or parameter set (Hue, Saturation, Value/Brightness; see also [HSL and HSV](https://en.wikipedia.org/wiki/HSL_and_HSV)). If we arrange all colors in one 2D-plane we can describe all colors with two parameters (`X`, `Y`) or an amplitude (`I`) plus one angle (`Phi`). It becomes a kind of a dimensionality reduction which enables us to have all necassary information in two parameters. We only leave out the brightness information."
   ]
  },
  {
   "cell_type": "code",
   "execution_count": null,
   "metadata": {},
   "outputs": [],
   "source": [
    "display(Image('../.assets/data/marbles/Koordinaten.png', width=300, height=300))"
   ]
  },
  {
   "cell_type": "markdown",
   "metadata": {},
   "source": [
    "For the transformation, we define some helper functions (and skip an explanation of their technical details):"
   ]
  },
  {
   "cell_type": "code",
   "execution_count": null,
   "metadata": {},
   "outputs": [],
   "source": [
    "def generate_xy_values(df):\n",
    "    df['X'] = 0.5 * np.sqrt(3) * df['G'] - 0.5 * np.sqrt(3) * df['B']\n",
    "    df['Y'] = df['R'] - (1 / 3 * df['G']) - (1 / 3 * df['B'])\n",
    "    \n",
    "def generate_intensity_values(df):\n",
    "    df['I'] = np.square(df['X']) + np.square(df['Y'])\n",
    "\n",
    "def generate_angles(df):\n",
    "    df['Phi'] = np.arctan2(df['Y'], df['X'])"
   ]
  },
  {
   "cell_type": "code",
   "execution_count": null,
   "metadata": {},
   "outputs": [],
   "source": [
    "# We save the original data\n",
    "from copy import deepcopy\n",
    "dfs_orig = deepcopy(dfs)\n",
    "\n",
    "# And apply the transformations\n",
    "for df in dfs:\n",
    "    generate_xy_values(df)\n",
    "    generate_intensity_values(df)\n",
    "    generate_angles(df)"
   ]
  },
  {
   "cell_type": "markdown",
   "metadata": {},
   "source": [
    "Let's see what is changed."
   ]
  },
  {
   "cell_type": "code",
   "execution_count": null,
   "metadata": {},
   "outputs": [],
   "source": [
    "dfs_orig[0].head()"
   ]
  },
  {
   "cell_type": "code",
   "execution_count": null,
   "metadata": {},
   "outputs": [],
   "source": [
    "dfs[0].head()"
   ]
  },
  {
   "cell_type": "markdown",
   "metadata": {},
   "source": [
    "### Data Exploration II\n",
    "\n",
    "Use the additional features to obtain a better separation."
   ]
  },
  {
   "cell_type": "code",
   "execution_count": null,
   "metadata": {},
   "outputs": [],
   "source": [
    "# It's your go! Does the separation improve?\n",
    "\n",
    "\n",
    "\n",
    "\n",
    "\n",
    "\n"
   ]
  },
  {
   "cell_type": "markdown",
   "metadata": {},
   "source": [
    "Example: You can get a good separation for this four types of marbles which was less good with R, G, B space before."
   ]
  },
  {
   "cell_type": "code",
   "execution_count": null,
   "metadata": {},
   "outputs": [],
   "source": [
    "# X, Y\n",
    "plt.scatter(dfs[1]['X'], dfs[1]['Y'], s=10, alpha=0.01, color='C1')\n",
    "plt.scatter(dfs[2]['X'], dfs[2]['Y'], s=10, alpha=0.01, color='C2')\n",
    "plt.scatter(dfs[3]['X'], dfs[3]['Y'], s=10, alpha=0.01, color='C3')\n",
    "plt.scatter(dfs[7]['X'], dfs[7]['Y'], s=10, alpha=0.01, color='C7');"
   ]
  },
  {
   "cell_type": "code",
   "execution_count": null,
   "metadata": {},
   "outputs": [],
   "source": [
    "# Phi, I\n",
    "plt.scatter(dfs[1]['Phi'], dfs[1]['I'], s=10, alpha=0.01, color='C1')\n",
    "plt.scatter(dfs[2]['Phi'], dfs[2]['I'], s=10, alpha=0.01, color='C2')\n",
    "plt.scatter(dfs[3]['Phi'], dfs[3]['I'], s=10, alpha=0.01, color='C3')\n",
    "plt.scatter(dfs[7]['Phi'], dfs[7]['I'], s=10, alpha=0.01, color='C7');"
   ]
  },
  {
   "cell_type": "code",
   "execution_count": null,
   "metadata": {},
   "outputs": [],
   "source": [
    "# R, G, B\n",
    "plt.scatter(dfs[1]['R'], dfs[1]['B'], s=10, alpha=0.01, color='C1')\n",
    "plt.scatter(dfs[2]['R'], dfs[2]['B'], s=10, alpha=0.01, color='C2')\n",
    "plt.scatter(dfs[3]['R'], dfs[3]['B'], s=10, alpha=0.01, color='C3')\n",
    "plt.scatter(dfs[7]['R'], dfs[7]['B'], s=10, alpha=0.01, color='C7');"
   ]
  },
  {
   "cell_type": "markdown",
   "metadata": {},
   "source": [
    "But getting still a huge chaos when plotting all types."
   ]
  },
  {
   "cell_type": "code",
   "execution_count": null,
   "metadata": {},
   "outputs": [],
   "source": [
    "plt.figure()\n",
    "for df in dfs:\n",
    "    plt.scatter(df['X'],df['Y'],s=10, alpha=0.01)"
   ]
  },
  {
   "cell_type": "code",
   "execution_count": null,
   "metadata": {},
   "outputs": [],
   "source": [
    "plt.figure()\n",
    "for df in dfs:\n",
    "    plt.scatter(df['Phi'],df['I'],s=10, alpha=0.01)"
   ]
  },
  {
   "cell_type": "markdown",
   "metadata": {},
   "source": [
    "---\n",
    "_This notebook is licensed under a [Creative Commons Attribution-NonCommercial-ShareAlike 4.0 International (CC BY-NC-SA 4.0)](https://creativecommons.org/licenses/by-nc-sa/4.0/). Copyright © 2018-2025 [Point 8 GmbH](https://point-8.de)_"
   ]
  }
 ],
 "metadata": {
  "kernelspec": {
   "display_name": "Python 3",
   "language": "python",
   "name": "python3"
  },
  "language_info": {
   "codemirror_mode": {
    "name": "ipython",
    "version": 3
   },
   "file_extension": ".py",
   "mimetype": "text/x-python",
   "name": "python",
   "nbconvert_exporter": "python",
   "pygments_lexer": "ipython3",
   "version": "3.8.0"
  }
 },
 "nbformat": 4,
 "nbformat_minor": 4
}
