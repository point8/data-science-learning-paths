{
 "cells": [
  {
   "cell_type": "markdown",
   "id": "e1acbb54-ac8e-487a-9494-ff59664d9bdd",
   "metadata": {},
   "source": [
    "# Big Data Analysis Case: NYC Taxi Trips\n",
    "\n",
    "![](https://miro.medium.com/max/700/1*WrRz33pZkGEU8q50kxSf8Q.jpeg)\n",
    "\n",
    "_[Source](https://towardsdatascience.com/if-taxi-trips-were-fireflies-1-3-billion-nyc-taxi-trips-plotted-b34e89f96cfa)_"
   ]
  },
  {
   "cell_type": "markdown",
   "id": "be1abb6a-b45e-47f6-a0dd-6aecb2576ee0",
   "metadata": {},
   "source": [
    "The [New York City taxi trips data set](https://www1.nyc.gov/site/tlc/about/tlc-trip-record-data.page) is a large database of taxi trips.\n",
    "\n",
    "> In New York City, taxicabs come in two varieties: yellow and green; they are widely recognizable symbols of the city. Taxis painted yellow (medallion taxis) are able to pick up passengers anywhere in the five boroughs. Those painted apple green (street hail livery vehicles, commonly known as \"boro taxis\"), which began to appear in August 2013, are allowed to pick up passengers in Upper Manhattan, the Bronx, Brooklyn, Queens (excluding LaGuardia Airport and John F. Kennedy International Airport), and Staten Island."
   ]
  },
  {
   "cell_type": "markdown",
   "id": "91869a65-72d2-489e-a93f-8c1aed489d93",
   "metadata": {},
   "source": [
    "Among the fields of the table are\n",
    "\n",
    "- id — a unique identifier for each trip\n",
    "- vendor_id — a code indicating the provider associated with the trip record\n",
    "- pickup_datetime — date and time when the meter was engaged\n",
    "- dropoff_datetime — date and time when the meter was disengaged\n",
    "- passenger_count — the number of passengers in the vehicle (driver entered value)\n",
    "- pickup_longitude — the longitude where the meter was engaged\n",
    "- pickup_latitude — the latitude where the meter was engaged\n",
    "- dropoff_longitude — the longitude where the meter was disengaged\n",
    "- dropoff_latitude — the latitude where the meter was disengaged\n",
    "- store_and_fwd_flag — This flag indicates whether the trip record was held in vehicle memory before sending to the vendor because the - - - vehicle did not have a connection to the server — Y=store and forward; N=not a store and forward trip."
   ]
  },
  {
   "cell_type": "markdown",
   "id": "2da30cc1-4183-47dd-a903-dae260404ed4",
   "metadata": {},
   "source": [
    "## Analysis Challenge\n",
    "\n",
    "**How did the COVID19 Pandemic impact Taxi traffic in New York City?**\n",
    "\n",
    "- _Conduct an **exploratory data analysis**: Use descriptive statistics and data visualization._\n",
    "- _Then compare the traffic patterns during the 2020/2021 pandemic with those of several previous years._\n",
    "- _Implement your data processing with PySpark and other tools from the Python data science ecosystem._"
   ]
  },
  {
   "cell_type": "markdown",
   "id": "48fbcc88-aab0-43af-bd8b-b18cf2527cca",
   "metadata": {},
   "source": [
    "---\n",
    "_This notebook is licensed under a [Creative Commons Attribution-NonCommercial-ShareAlike 4.0 International (CC BY-NC-SA 4.0)](https://creativecommons.org/licenses/by-nc-sa/4.0/). Copyright © 2018-2025 [Point 8 GmbH](https://point-8.de)_"
   ]
  }
 ],
 "metadata": {
  "kernelspec": {
   "display_name": "Python 3",
   "language": "python",
   "name": "python3"
  },
  "language_info": {
   "codemirror_mode": {
    "name": "ipython",
    "version": 3
   },
   "file_extension": ".py",
   "mimetype": "text/x-python",
   "name": "python",
   "nbconvert_exporter": "python",
   "pygments_lexer": "ipython3",
   "version": "3.8.8"
  }
 },
 "nbformat": 4,
 "nbformat_minor": 5
}
