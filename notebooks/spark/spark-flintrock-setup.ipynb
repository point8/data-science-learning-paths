{
 "cells": [
  {
   "cell_type": "markdown",
   "id": "0f05b420-3473-4af1-b775-7e3de3d4f13f",
   "metadata": {},
   "source": [
    "# Launching Spark in the AWS Cloud with `flintrock`"
   ]
  },
  {
   "cell_type": "markdown",
   "id": "8f78a847-4a18-4a6c-90a5-209fc3411ce6",
   "metadata": {},
   "source": [
    "[**flintrock**](https://github.com/nchammas/flintrock) is a command line tool for simplifying the setup of a Spark cluster on the Amazon EC2 infrastructure."
   ]
  },
  {
   "cell_type": "markdown",
   "id": "9d4320c5-8ef8-49ff-9f9d-5d8dd69ef60d",
   "metadata": {},
   "source": [
    "## Preamble"
   ]
  },
  {
   "cell_type": "code",
   "execution_count": 1,
   "id": "518af2d5-8dc0-466e-9588-65f9d0aaa546",
   "metadata": {},
   "outputs": [],
   "source": [
    "from data_science_learning_paths import show_command"
   ]
  },
  {
   "cell_type": "markdown",
   "id": "1c2a8a97-dcfc-4f47-a1d8-ac20dc160dea",
   "metadata": {},
   "source": [
    "## Setup\n",
    "\n",
    "The following steps describe the creation of a Spark cluster with `flintrock`."
   ]
  },
  {
   "cell_type": "markdown",
   "id": "9b4f342b-dff0-4a75-91cc-3b10e79f9648",
   "metadata": {},
   "source": [
    "Configurations and code examples used in the following are from **[this repository]()**.\n",
    "\n",
    "_Clone the repository to your local machine and point the `proj_path` variable to it._ "
   ]
  },
  {
   "cell_type": "code",
   "execution_count": 2,
   "id": "0ee9af0f-8a2a-47ce-9d17-c6c9d0e72b27",
   "metadata": {},
   "outputs": [],
   "source": [
    "proj_path = \"/Users/cls/Documents/Work/Projects/point8/DataScienceLearningPaths/big-data-cluster\""
   ]
  },
  {
   "cell_type": "code",
   "execution_count": 3,
   "id": "8c6a6062-2455-4050-95c2-11a2b5657c1e",
   "metadata": {},
   "outputs": [
    {
     "data": {
      "text/html": [
       "<div style='margin:0 0 5px; overflow:hidden; padding:10px; background-color:DimGray; border:1px solid DimGray; -webkit-border-radius: 5px;border-radius: 5px;'><tt>cd /Users/cls/Documents/Work/Projects/point8/DataScienceLearningPaths/big-data-cluster</tt></p>"
      ],
      "text/plain": [
       "<IPython.core.display.HTML object>"
      ]
     },
     "execution_count": 3,
     "metadata": {},
     "output_type": "execute_result"
    }
   ],
   "source": [
    "show_command(f\"cd {proj_path}\")"
   ]
  },
  {
   "cell_type": "markdown",
   "id": "f85d58e7-ca82-411e-ada4-2971e2618570",
   "metadata": {},
   "source": [
    "### Configuration File"
   ]
  },
  {
   "cell_type": "markdown",
   "id": "a5ea9880-cabd-40f2-a408-b27edce1d2e0",
   "metadata": {},
   "source": [
    "A `flintrock` configuration file describes the intial configuration of the cluster. Here is an example:\n",
    "\n",
    "```yaml\n",
    "services:\n",
    "  spark:\n",
    "    version: 2.2.0\n",
    "  hdfs:\n",
    "    version: 2.7.3\n",
    "\n",
    "provider: ec2\n",
    "\n",
    "providers:\n",
    "  ec2:\n",
    "    key-name: aws-bigdata\n",
    "    identity-file: /Users/user/.ssh/aws-bigdata.pem\n",
    "    instance-type: t2.micro\n",
    "    region: eu-central-1\n",
    "    ami: ami-043097594a7df80ec   # Amazon Linux\n",
    "    user: ec2-user\n",
    "    tenancy: default\n",
    "    ebs-optimized: no\n",
    "    instance-initiated-shutdown-behavior: terminate\n",
    "\n",
    "launch:\n",
    "  num-slaves: 4\n",
    "\n",
    "debug: true\n",
    "```\n",
    "\n",
    "Edit as needed:\n",
    "\n",
    "**Credentials**\n",
    "\n",
    "- `key-name`: name of the SSH key pair used for login\n",
    "- `identity-file`: path to the secret key file of the SSH key pair\n",
    "\n",
    "Furthermore, _you need to supply your AWS Access Key information_ when calling a `flintrock` command. [Here is how to set them as environment variables](https://docs.aws.amazon.com/cli/latest/userguide/cli-configure-envvars.html) \n",
    "\n",
    "**Cluster configuration**\n",
    "\n",
    "- `num-slaves`: number of worker nodes\n",
    "- `instance-type`: the EC2 instance type you’d like to run. \n",
    "- `ami`: ID of the selected Amazon Machine Image, e.g. the latest Amazon Linux AMI (recommended)\n",
    "\n",
    "**Instance configuration**\n",
    "\n",
    "- `user`: the username of the non-root user created on each VM"
   ]
  },
  {
   "cell_type": "markdown",
   "id": "706de8e6-c430-4d43-8d07-c9cc8097073f",
   "metadata": {},
   "source": [
    "## Create Cluster\n",
    "\n",
    "The command for launching a new cluster has the following pattern:\n",
    "\n",
    "```shell\n",
    "> flintrock --config=<config-file.yaml> launch <cluster-name>\n",
    "\n",
    "```"
   ]
  },
  {
   "cell_type": "markdown",
   "id": "82275b62-a45e-4f44-9845-08741b4aa280",
   "metadata": {},
   "source": [
    "_Select one of the prepared configurations_"
   ]
  },
  {
   "cell_type": "code",
   "execution_count": 4,
   "id": "eb23b39f-bd90-4781-95f8-084a19ba9984",
   "metadata": {
    "tags": []
   },
   "outputs": [],
   "source": [
    "#cluster_name = \"test-cluster\"\n",
    "cluster_name = \"bigdata-cluster\""
   ]
  },
  {
   "cell_type": "code",
   "execution_count": 5,
   "id": "c86259a2-7b1d-472b-bcbe-7f228d8b611f",
   "metadata": {},
   "outputs": [],
   "source": [
    "config_path = f\"config/{cluster_name}.yaml\""
   ]
  },
  {
   "cell_type": "markdown",
   "id": "79d381d5-5f28-4a70-916b-231a0f027b42",
   "metadata": {},
   "source": [
    "_Launch cluster_"
   ]
  },
  {
   "cell_type": "code",
   "execution_count": 6,
   "id": "9dfb0664-d6c8-40e1-8f7a-87793739a758",
   "metadata": {},
   "outputs": [
    {
     "data": {
      "text/html": [
       "<div style='margin:0 0 5px; overflow:hidden; padding:10px; background-color:DimGray; border:1px solid DimGray; -webkit-border-radius: 5px;border-radius: 5px;'><tt>flintrock --config=config/bigdata-cluster.yaml launch bigdata-cluster</tt></p>"
      ],
      "text/plain": [
       "<IPython.core.display.HTML object>"
      ]
     },
     "execution_count": 6,
     "metadata": {},
     "output_type": "execute_result"
    }
   ],
   "source": [
    "show_command(f\"flintrock --config={config_path} launch {cluster_name}\")"
   ]
  },
  {
   "cell_type": "markdown",
   "id": "9067b4cd-b507-4f47-8895-d443344e9b19",
   "metadata": {},
   "source": [
    "## Log in to Cluster\n",
    "\n",
    "_Log into the master node of the cluster with SSH_"
   ]
  },
  {
   "cell_type": "code",
   "execution_count": 7,
   "id": "0bba7c0f-e4e4-4025-aa6e-430b95493146",
   "metadata": {},
   "outputs": [
    {
     "data": {
      "text/html": [
       "<div style='margin:0 0 5px; overflow:hidden; padding:10px; background-color:DimGray; border:1px solid DimGray; -webkit-border-radius: 5px;border-radius: 5px;'><tt>flintrock --config=config/bigdata-cluster.yaml login bigdata-cluster</tt></p>"
      ],
      "text/plain": [
       "<IPython.core.display.HTML object>"
      ]
     },
     "execution_count": 7,
     "metadata": {},
     "output_type": "execute_result"
    }
   ],
   "source": [
    "show_command(f\"flintrock --config={config_path} login {cluster_name}\")"
   ]
  },
  {
   "cell_type": "markdown",
   "id": "59903aac-1a56-435f-8fae-3ef46bcf1fb8",
   "metadata": {},
   "source": [
    "## Run Commands\n",
    "\n",
    "_Run any shell command on the cluster nodes_"
   ]
  },
  {
   "cell_type": "code",
   "execution_count": 8,
   "id": "f60c4148-31eb-4584-8535-1d7faf7ff1b7",
   "metadata": {},
   "outputs": [],
   "source": [
    "command = \"mkdir jobs\""
   ]
  },
  {
   "cell_type": "code",
   "execution_count": 9,
   "id": "9e5d25e8-1809-4991-951d-1b612a6441e0",
   "metadata": {},
   "outputs": [
    {
     "data": {
      "text/html": [
       "<div style='margin:0 0 5px; overflow:hidden; padding:10px; background-color:DimGray; border:1px solid DimGray; -webkit-border-radius: 5px;border-radius: 5px;'><tt>flintrock --config=config/bigdata-cluster.yaml run-command bigdata-cluster &#x27;mkdir jobs&#x27;</tt></p>"
      ],
      "text/plain": [
       "<IPython.core.display.HTML object>"
      ]
     },
     "execution_count": 9,
     "metadata": {},
     "output_type": "execute_result"
    }
   ],
   "source": [
    "show_command(f\"flintrock --config={config_path} run-command {cluster_name} '{command}'\")"
   ]
  },
  {
   "cell_type": "markdown",
   "id": "82220735-3b79-4e9f-a1d0-958bbb06f8c3",
   "metadata": {},
   "source": [
    "_Run on the master node only_"
   ]
  },
  {
   "cell_type": "code",
   "execution_count": 10,
   "id": "9c142e29-c41f-49dc-99bd-734bb8ab34e6",
   "metadata": {},
   "outputs": [
    {
     "data": {
      "text/html": [
       "<div style='margin:0 0 5px; overflow:hidden; padding:10px; background-color:DimGray; border:1px solid DimGray; -webkit-border-radius: 5px;border-radius: 5px;'><tt>flintrock --config=config/bigdata-cluster.yaml run-command --master-only bigdata-cluster &#x27;mkdir jobs&#x27;</tt></p>"
      ],
      "text/plain": [
       "<IPython.core.display.HTML object>"
      ]
     },
     "execution_count": 10,
     "metadata": {},
     "output_type": "execute_result"
    }
   ],
   "source": [
    "show_command(f\"flintrock --config={config_path} run-command --master-only {cluster_name} '{command}'\")"
   ]
  },
  {
   "cell_type": "markdown",
   "id": "78abdce6-0223-487f-a46d-8e2d5ec213e2",
   "metadata": {},
   "source": [
    "## Copy Files"
   ]
  },
  {
   "cell_type": "markdown",
   "id": "7113ece2-7200-4842-a373-4e450f0f5562",
   "metadata": {},
   "source": [
    "_Copy files to all nodes_"
   ]
  },
  {
   "cell_type": "code",
   "execution_count": 11,
   "id": "305b1184-13d7-461a-965b-91aab193167e",
   "metadata": {},
   "outputs": [
    {
     "data": {
      "text/html": [
       "<div style='margin:0 0 5px; overflow:hidden; padding:10px; background-color:DimGray; border:1px solid DimGray; -webkit-border-radius: 5px;border-radius: 5px;'><tt>flintrock --config=config/bigdata-cluster.yaml copy-file bigdata-cluster jobs/pi_approximation.py jobs/pi_approximation.py</tt></p>"
      ],
      "text/plain": [
       "<IPython.core.display.HTML object>"
      ]
     },
     "execution_count": 11,
     "metadata": {},
     "output_type": "execute_result"
    }
   ],
   "source": [
    "show_command(f\"flintrock --config={config_path} copy-file {cluster_name} jobs/pi_approximation.py jobs/pi_approximation.py\")"
   ]
  },
  {
   "cell_type": "markdown",
   "id": "facf1bb3-6e71-4f10-8dac-609a88e250bd",
   "metadata": {},
   "source": [
    "## Adding / Removing Nodes"
   ]
  },
  {
   "cell_type": "markdown",
   "id": "da140908-1dd3-4e9d-b6a8-a61acacd65cd",
   "metadata": {
    "tags": []
   },
   "source": [
    "_You can change the number of worker nodes after the cluster has been created_"
   ]
  },
  {
   "cell_type": "code",
   "execution_count": 12,
   "id": "97e61a32-f95f-45bb-bf02-330d4fb654c5",
   "metadata": {},
   "outputs": [],
   "source": [
    "n_workers = 3"
   ]
  },
  {
   "cell_type": "code",
   "execution_count": 13,
   "id": "61cc63ea-f354-45c2-b288-5af20055d1cf",
   "metadata": {},
   "outputs": [
    {
     "data": {
      "text/html": [
       "<div style='margin:0 0 5px; overflow:hidden; padding:10px; background-color:DimGray; border:1px solid DimGray; -webkit-border-radius: 5px;border-radius: 5px;'><tt>flintrock --config=config/bigdata-cluster.yaml add-slaves bigdata-cluster --num-slaves 3</tt></p>"
      ],
      "text/plain": [
       "<IPython.core.display.HTML object>"
      ]
     },
     "execution_count": 13,
     "metadata": {},
     "output_type": "execute_result"
    }
   ],
   "source": [
    "show_command(f\"flintrock --config={config_path} add-slaves {cluster_name} --num-slaves {n_workers}\")"
   ]
  },
  {
   "cell_type": "code",
   "execution_count": 14,
   "id": "8f45bdee-eeb4-46e8-98c2-3c094ae2c332",
   "metadata": {},
   "outputs": [
    {
     "data": {
      "text/html": [
       "<div style='margin:0 0 5px; overflow:hidden; padding:10px; background-color:DimGray; border:1px solid DimGray; -webkit-border-radius: 5px;border-radius: 5px;'><tt>flintrock --config=config/bigdata-cluster.yaml remove-slaves bigdata-cluster --num-slaves 3</tt></p>"
      ],
      "text/plain": [
       "<IPython.core.display.HTML object>"
      ]
     },
     "execution_count": 14,
     "metadata": {},
     "output_type": "execute_result"
    }
   ],
   "source": [
    "show_command(f\"flintrock --config={config_path} remove-slaves {cluster_name} --num-slaves {n_workers}\")"
   ]
  },
  {
   "cell_type": "markdown",
   "id": "b1785e76-1d89-4c80-b2fd-b8c1186f3bb4",
   "metadata": {},
   "source": [
    "# Destroy Cluster"
   ]
  },
  {
   "cell_type": "markdown",
   "id": "d8691213-35dc-43ec-a510-ef9d41efd56d",
   "metadata": {},
   "source": [
    "The command for destroying the cluster (terminating all instances) has the following pattern:\n",
    "\n",
    "```shell\n",
    "> flintrock --config=<config-file.yaml> destroy <cluster-name>\n",
    "\n",
    "```"
   ]
  },
  {
   "cell_type": "code",
   "execution_count": 15,
   "id": "0eb8c698-c985-4ebf-8445-229feb44f390",
   "metadata": {},
   "outputs": [
    {
     "data": {
      "text/html": [
       "<div style='margin:0 0 5px; overflow:hidden; padding:10px; background-color:DimGray; border:1px solid DimGray; -webkit-border-radius: 5px;border-radius: 5px;'><tt>flintrock --config=config/bigdata-cluster.yaml destroy bigdata-cluster</tt></p>"
      ],
      "text/plain": [
       "<IPython.core.display.HTML object>"
      ]
     },
     "execution_count": 15,
     "metadata": {},
     "output_type": "execute_result"
    }
   ],
   "source": [
    "show_command(f\"flintrock --config={config_path} destroy {cluster_name}\")"
   ]
  },
  {
   "cell_type": "markdown",
   "id": "b701079f-a547-4842-90a8-616f0d47ddd0",
   "metadata": {},
   "source": [
    "---\n",
    "_This notebook is licensed under a [Creative Commons Attribution-NonCommercial-ShareAlike 4.0 International (CC BY-NC-SA 4.0)](https://creativecommons.org/licenses/by-nc-sa/4.0/). Copyright © 2018-2025 [Point 8 GmbH](https://point-8.de)_"
   ]
  }
 ],
 "metadata": {
  "kernelspec": {
   "display_name": "bigdata",
   "language": "python",
   "name": "bigdata"
  },
  "language_info": {
   "codemirror_mode": {
    "name": "ipython",
    "version": 3
   },
   "file_extension": ".py",
   "mimetype": "text/x-python",
   "name": "python",
   "nbconvert_exporter": "python",
   "pygments_lexer": "ipython3",
   "version": "3.8.10"
  }
 },
 "nbformat": 4,
 "nbformat_minor": 5
}
