{
 "cells": [
  {
   "cell_type": "markdown",
   "id": "7f0b9c66-2137-4061-a6b0-c68fd9068848",
   "metadata": {},
   "source": [
    "# Big Data Analysis Case: NYC Taxi Trips\n",
    "\n",
    "**Example Workflow**\n",
    "\n",
    "![](https://miro.medium.com/max/700/1*WrRz33pZkGEU8q50kxSf8Q.jpeg)\n",
    "\n",
    "_[Source](https://towardsdatascience.com/if-taxi-trips-were-fireflies-1-3-billion-nyc-taxi-trips-plotted-b34e89f96cfa)_"
   ]
  },
  {
   "cell_type": "markdown",
   "id": "f911e471-6bad-42fd-838d-dafcb3f532ac",
   "metadata": {},
   "source": [
    "## Analysis Challenge\n",
    "\n",
    "**How did the COVID19 Pandemic impact Taxi traffic in New York City?**\n",
    "\n",
    "- _Conduct an **exploratory data analysis**: Use descriptive statistics and data visualization._\n",
    "- _Then compare the traffic patterns during the 2020/2021 pandemic with those of several previous years._\n",
    "- _Implement your data processing with PySpark and other tools from the Python data science ecosystem._"
   ]
  },
  {
   "cell_type": "markdown",
   "id": "cc42c3d2-5463-4ca7-b9f5-9522c8a21044",
   "metadata": {},
   "source": [
    "## Workflow"
   ]
  },
  {
   "cell_type": "markdown",
   "id": "762b5879-d406-4fda-875e-c650421ff75d",
   "metadata": {},
   "source": [
    "### Preamble"
   ]
  },
  {
   "cell_type": "code",
   "execution_count": null,
   "id": "4e21fb40-9872-4175-8fe0-ca6bee060a5f",
   "metadata": {},
   "outputs": [],
   "source": [
    "import findspark\n",
    "findspark.init()"
   ]
  },
  {
   "cell_type": "code",
   "execution_count": null,
   "id": "950e0476-6d9b-4389-9fdd-98c5ae0bb45e",
   "metadata": {},
   "outputs": [],
   "source": [
    "import pyspark"
   ]
  },
  {
   "cell_type": "markdown",
   "id": "a641f74c-34bb-4538-807b-e7cf72980ac9",
   "metadata": {},
   "source": [
    "### Data "
   ]
  },
  {
   "cell_type": "markdown",
   "id": "3cefa846-15e8-4051-a011-5fb90f3fda6b",
   "metadata": {},
   "source": [
    "_Point this path to the location of the taxi trip data_"
   ]
  },
  {
   "cell_type": "code",
   "execution_count": null,
   "id": "b59e4699-5d1e-4280-a609-e95bba2173a7",
   "metadata": {},
   "outputs": [],
   "source": [
    "data_dir = \"../.assets/data/taxi/raw\""
   ]
  },
  {
   "cell_type": "code",
   "execution_count": null,
   "id": "d54f9799-6ee2-436f-88bd-657c228a7905",
   "metadata": {},
   "outputs": [],
   "source": [
    "ls -lah {data_dir}"
   ]
  },
  {
   "cell_type": "markdown",
   "id": "62c05d24-e5b0-4c7c-bbfc-8f759b53860b",
   "metadata": {},
   "source": [
    "_Initiate a `SparkSession`_"
   ]
  },
  {
   "cell_type": "code",
   "execution_count": null,
   "id": "1e86c149-90f2-4633-ba20-7ec10b1090ed",
   "metadata": {},
   "outputs": [],
   "source": [
    "spark = pyspark.sql.SparkSession \\\n",
    "                    .builder \\\n",
    "                    .appName(\"Spark SQL First Example\") \\\n",
    "                    .getOrCreate()"
   ]
  },
  {
   "cell_type": "markdown",
   "id": "b5bde158-039c-4c72-a43d-e60ee6ea7501",
   "metadata": {},
   "source": [
    "_Take a look into the CSV file to see the header_"
   ]
  },
  {
   "cell_type": "code",
   "execution_count": null,
   "id": "dba5eced-150d-49fa-a4ec-1a121530e805",
   "metadata": {},
   "outputs": [],
   "source": [
    "!head {data_dir}/yellow_tripdata_2020-04.csv"
   ]
  },
  {
   "cell_type": "markdown",
   "id": "992b6e18-54c6-42ea-a1ad-972bac70f260",
   "metadata": {},
   "source": [
    "_Define the schema of the dataframe_"
   ]
  },
  {
   "cell_type": "code",
   "execution_count": null,
   "id": "51ea316e-b75a-4f31-84ed-04bf0fd7a9c7",
   "metadata": {},
   "outputs": [],
   "source": [
    "yellow_schema = [\n",
    "    \"VendorID INT\",\n",
    "    \"tpep_pickup_datetime TIMESTAMP\",\n",
    "    \"tpep_dropoff_datetime TIMESTAMP\",\n",
    "    \"passenger_count INT\",\n",
    "    \"trip_distance DOUBLE\",\n",
    "    \"RatecodeID STRING\",\n",
    "    \"store_and_fwd_flag STRING\",\n",
    "    \"PULocationID STRING\",\n",
    "    \"DOLocationID STRING\",\n",
    "    \"payment_type STRING\",\n",
    "    \"fare_amount DOUBLE\",\n",
    "    \"extra STRING\",\n",
    "    \"mta_tax DOUBLE\",\n",
    "    \"tip_amount DOUBLE\",\n",
    "    \"tolls_amount DOUBLE\",\n",
    "    \"improvement_surcharge DOUBLE\",\n",
    "    \"total_amount DOUBLE\",\n",
    "    \"congestion_surcharge DOUBLE\"\n",
    "]"
   ]
  },
  {
   "cell_type": "code",
   "execution_count": null,
   "id": "ffc60bd7-23f5-40bb-b1db-bd5cb2be6925",
   "metadata": {},
   "outputs": [],
   "source": [
    "yellow_schema_str  = \", \".join(yellow_schema)\n",
    "yellow_schema_str"
   ]
  },
  {
   "cell_type": "markdown",
   "id": "c41777e8-487e-49a2-a23e-ff250459d8e8",
   "metadata": {},
   "source": [
    "_Read the CSV file into a Spark DataFrame_"
   ]
  },
  {
   "cell_type": "code",
   "execution_count": null,
   "id": "79c5cea7-1ff1-4dad-83b1-c0d2615df3d4",
   "metadata": {},
   "outputs": [],
   "source": [
    "yellow_data = spark.read.csv(\n",
    "    f\"{data_dir}/yellow*.csv\",\n",
    "    schema=yellow_schema_str,\n",
    "    header=True\n",
    ")"
   ]
  },
  {
   "cell_type": "code",
   "execution_count": null,
   "id": "6af1d65d-c206-4297-ab53-a7e294a4ccf4",
   "metadata": {},
   "outputs": [],
   "source": [
    "yellow_data.printSchema()"
   ]
  },
  {
   "cell_type": "markdown",
   "id": "972fbca2-7c34-47b6-8cf6-005800416e3a",
   "metadata": {},
   "source": [
    "## Analysis"
   ]
  },
  {
   "cell_type": "code",
   "execution_count": null,
   "id": "43299baf-253d-474c-b042-9819ea534828",
   "metadata": {},
   "outputs": [],
   "source": [
    "columns_of_interest = [\"VendorID\", \"tpep_pickup_datetime\", \"tpep_dropoff_datetime\", \"total_amount\", \"trip_distance\"]"
   ]
  },
  {
   "cell_type": "code",
   "execution_count": null,
   "id": "59c9b051-87b9-4e42-af07-e185ae11aa2f",
   "metadata": {},
   "outputs": [],
   "source": [
    "yellow_data[columns_of_interest].show()"
   ]
  },
  {
   "cell_type": "markdown",
   "id": "fadc9792-e343-4740-9fc8-ea6d92873702",
   "metadata": {},
   "source": [
    "_Analysis task: Calculate number of trips per day_"
   ]
  },
  {
   "cell_type": "code",
   "execution_count": null,
   "id": "42e23ba9-9bfe-44b8-ae3c-59fdda045999",
   "metadata": {},
   "outputs": [],
   "source": [
    "from pyspark.sql.functions import window"
   ]
  },
  {
   "cell_type": "code",
   "execution_count": null,
   "id": "594c4622-dd08-494c-9347-f871c6f6c335",
   "metadata": {},
   "outputs": [],
   "source": [
    "%%time\n",
    "trips_per_day_spark = (\n",
    "    yellow_data\n",
    "    .groupBy(window(\"tpep_pickup_datetime\", \"1 day\"))\n",
    "    .count()\n",
    ")"
   ]
  },
  {
   "cell_type": "markdown",
   "id": "85fe01b8-ac73-41df-a179-0c34b5fe7129",
   "metadata": {},
   "source": [
    "_We have small data now... continue with pandas_"
   ]
  },
  {
   "cell_type": "code",
   "execution_count": null,
   "id": "55ce4ba2-a614-491f-9862-0634ff2b8097",
   "metadata": {},
   "outputs": [],
   "source": [
    "%%time\n",
    "trips_per_day = trips_per_day_spark.toPandas()"
   ]
  },
  {
   "cell_type": "code",
   "execution_count": null,
   "id": "505cce09-a03d-4af7-b69f-999bfb9c7ae2",
   "metadata": {},
   "outputs": [],
   "source": [
    "import pandas"
   ]
  },
  {
   "cell_type": "code",
   "execution_count": null,
   "id": "0f0944e5-0ebe-4c35-90e8-00ca1a9e6539",
   "metadata": {},
   "outputs": [],
   "source": [
    "trips_per_day.head()"
   ]
  },
  {
   "cell_type": "markdown",
   "id": "1377fe8f-7203-4809-9fe5-c61e3ff9c96a",
   "metadata": {},
   "source": [
    "_Extract a `DateTimeIndex`_"
   ]
  },
  {
   "cell_type": "code",
   "execution_count": null,
   "id": "509817da-2955-422b-a0d6-eafb35d34203",
   "metadata": {},
   "outputs": [],
   "source": [
    "trips_per_day[\"date\"] = trips_per_day[\"window\"].apply(\n",
    "    lambda row: row[0].date()\n",
    ")\n",
    "trips_per_day[\"date\"] = pandas.to_datetime(trips_per_day[\"date\"])\n",
    "trips_per_day = trips_per_day.set_index(\"date\")"
   ]
  },
  {
   "cell_type": "code",
   "execution_count": null,
   "id": "90209c76-460e-4f2e-bb94-eb8be4659d4e",
   "metadata": {},
   "outputs": [],
   "source": [
    "trips_per_day.head()"
   ]
  },
  {
   "cell_type": "code",
   "execution_count": null,
   "id": "d5557771-8b96-41b8-9d09-e00d546d9ff4",
   "metadata": {},
   "outputs": [],
   "source": [
    "trips_per_day.index"
   ]
  },
  {
   "cell_type": "code",
   "execution_count": null,
   "id": "10104c10-7564-435c-85e6-6838e51eb98e",
   "metadata": {},
   "outputs": [],
   "source": [
    "trips_per_day.head()"
   ]
  },
  {
   "cell_type": "code",
   "execution_count": null,
   "id": "beb2f81c-9122-4588-8313-d4309c061c67",
   "metadata": {},
   "outputs": [],
   "source": [
    "trips_per_day = trips_per_day.sort_index()\n",
    "trips_per_day"
   ]
  },
  {
   "cell_type": "code",
   "execution_count": null,
   "id": "4c8a2151-6a86-4784-9912-7da7d1e090ca",
   "metadata": {},
   "outputs": [],
   "source": [
    "trips_per_day.index"
   ]
  },
  {
   "cell_type": "markdown",
   "id": "2ff074eb-6033-45c7-bc8d-5ef99f70664b",
   "metadata": {},
   "source": [
    "_Plot number of trips per time interval_"
   ]
  },
  {
   "cell_type": "code",
   "execution_count": null,
   "id": "fa95803b-a3ff-4cb8-a5ca-209d6d582bae",
   "metadata": {},
   "outputs": [],
   "source": [
    "import seaborn\n",
    "import matplotlib.pyplot as plt\n",
    "\n",
    "\n",
    "seaborn.set(style=\"whitegrid\")\n",
    "plt.style.use(\"dark_background\")"
   ]
  },
  {
   "cell_type": "code",
   "execution_count": null,
   "id": "906ac3c5-840c-4c0d-b6d7-3a051fa7121f",
   "metadata": {},
   "outputs": [],
   "source": [
    "trips_per_day[\"2020\"].plot(\n",
    "    kind=\"line\",\n",
    "    figsize=(20,5),\n",
    "    title=\"number of trips\"\n",
    ")"
   ]
  },
  {
   "cell_type": "markdown",
   "id": "cf4dbfa8-6d94-4f1e-a0bc-9a3065eba570",
   "metadata": {},
   "source": [
    "---\n",
    "_This notebook is licensed under a [Creative Commons Attribution-NonCommercial-ShareAlike 4.0 International (CC BY-NC-SA 4.0)](https://creativecommons.org/licenses/by-nc-sa/4.0/). Copyright © 2018-2025 [Point 8 GmbH](https://point-8.de)_"
   ]
  }
 ],
 "metadata": {
  "kernelspec": {
   "display_name": "Python 3 (ipykernel)",
   "language": "python",
   "name": "python3"
  },
  "language_info": {
   "codemirror_mode": {
    "name": "ipython",
    "version": 3
   },
   "file_extension": ".py",
   "mimetype": "text/x-python",
   "name": "python",
   "nbconvert_exporter": "python",
   "pygments_lexer": "ipython3",
   "version": "3.8.8"
  }
 },
 "nbformat": 4,
 "nbformat_minor": 5
}
