{
 "cells": [
  {
   "cell_type": "markdown",
   "id": "f460dedf-1d0c-4dff-95b8-90412653819d",
   "metadata": {},
   "source": [
    "# Setting up Jupyter Notebooks on Spark Cluster"
   ]
  },
  {
   "cell_type": "markdown",
   "id": "8875d5f6-9386-4cd9-bd51-cd6440252dd3",
   "metadata": {},
   "source": [
    "For setting up an interactive notebook environment on the Spark cluster, we follow the steps outlined [here](https://github.com/PiercingDan/spark-Jupyter-AWS)."
   ]
  },
  {
   "cell_type": "markdown",
   "id": "33e6348c-fc0b-4af6-b006-9ca8f4a55795",
   "metadata": {},
   "source": [
    "## Preamble"
   ]
  },
  {
   "cell_type": "code",
   "execution_count": 1,
   "id": "30489fe2-d483-434c-a5c4-5d4fa156d2f3",
   "metadata": {},
   "outputs": [],
   "source": [
    "from data_science_learning_paths import show_command"
   ]
  },
  {
   "cell_type": "code",
   "execution_count": 2,
   "id": "6a46cd10-01be-4685-b051-025dcef4ee60",
   "metadata": {},
   "outputs": [],
   "source": [
    "import html"
   ]
  },
  {
   "cell_type": "markdown",
   "id": "216506bc-a9b0-4f4f-82d3-8d8f5fbe6dd9",
   "metadata": {},
   "source": [
    "## Preparation"
   ]
  },
  {
   "cell_type": "code",
   "execution_count": 3,
   "id": "c9ec0807-d6e2-429a-8ce1-73a4f099a7d5",
   "metadata": {},
   "outputs": [],
   "source": [
    "proj_path = \"/Users/cls/Documents/Work/Projects/point8/DataScienceLearningPaths/big-data-cluster\""
   ]
  },
  {
   "cell_type": "code",
   "execution_count": 4,
   "id": "275d8c53-5920-4a60-8c38-abc3530e89f1",
   "metadata": {},
   "outputs": [
    {
     "data": {
      "text/html": [
       "<div style='margin:0 0 5px; overflow:hidden; padding:10px; background-color:DimGray; border:1px solid DimGray; -webkit-border-radius: 5px;border-radius: 5px;'><tt>cd /Users/cls/Documents/Work/Projects/point8/DataScienceLearningPaths/big-data-cluster</tt></p>"
      ],
      "text/plain": [
       "<IPython.core.display.HTML object>"
      ]
     },
     "execution_count": 4,
     "metadata": {},
     "output_type": "execute_result"
    }
   ],
   "source": [
    "show_command(f\"cd {proj_path}\")"
   ]
  },
  {
   "cell_type": "code",
   "execution_count": 5,
   "id": "a28e8c6c-5a59-4033-a508-21c047a5b9fe",
   "metadata": {},
   "outputs": [
    {
     "name": "stdout",
     "output_type": "stream",
     "text": [
      "/Users/cls/Documents/Work/Projects/point8/DataScienceLearningPaths/big-data-cluster\n"
     ]
    }
   ],
   "source": [
    "cd {proj_path}"
   ]
  },
  {
   "cell_type": "code",
   "execution_count": 6,
   "id": "90bf97b4-0e63-4f9c-8f9b-303e0e8baff9",
   "metadata": {
    "tags": []
   },
   "outputs": [],
   "source": [
    "cluster_name = \"bigdata-cluster\""
   ]
  },
  {
   "cell_type": "code",
   "execution_count": 7,
   "id": "9f4f2ca0-518b-45ee-9796-a31f09d46871",
   "metadata": {},
   "outputs": [],
   "source": [
    "config_path = f\"config/{cluster_name}.yaml\""
   ]
  },
  {
   "cell_type": "code",
   "execution_count": 8,
   "id": "c5d77bf4-8602-4e42-b763-64bb86d23e45",
   "metadata": {},
   "outputs": [],
   "source": [
    "import yaml\n",
    "\n",
    "def describe_cluster():\n",
    "    cluster_descr = !flintrock --config={config_path} describe {cluster_name} \n",
    "    cluster_descr = \"\\n\".join(cluster_descr)\n",
    "    print(cluster_descr)\n",
    "    cluster_info = yaml.safe_load(cluster_descr)\n",
    "    return cluster_info"
   ]
  },
  {
   "cell_type": "code",
   "execution_count": 9,
   "id": "42db5b28-c0de-409c-8076-3709c7b7054a",
   "metadata": {},
   "outputs": [
    {
     "name": "stdout",
     "output_type": "stream",
     "text": [
      "bigdata-cluster:\n",
      "  state: running\n",
      "  node-count: 3\n",
      "  master: ec2-54-93-231-162.eu-central-1.compute.amazonaws.com\n",
      "  slaves:\n",
      "    - ec2-35-158-229-212.eu-central-1.compute.amazonaws.com\n",
      "    - ec2-52-29-157-202.eu-central-1.compute.amazonaws.com\n"
     ]
    }
   ],
   "source": [
    "cluster_info = describe_cluster()"
   ]
  },
  {
   "cell_type": "code",
   "execution_count": 10,
   "id": "dc41cf92-bbad-453f-ae30-843e7e9830cb",
   "metadata": {},
   "outputs": [
    {
     "data": {
      "text/plain": [
       "'ec2-54-93-231-162.eu-central-1.compute.amazonaws.com'"
      ]
     },
     "execution_count": 10,
     "metadata": {},
     "output_type": "execute_result"
    }
   ],
   "source": [
    "master_url = cluster_info[cluster_name][\"master\"]\n",
    "master_url"
   ]
  },
  {
   "cell_type": "markdown",
   "id": "37baa3fb-a524-485b-9e6d-41002f6eb41e",
   "metadata": {},
   "source": [
    "## Set up Python environment on Cluster"
   ]
  },
  {
   "cell_type": "markdown",
   "id": "c27c6cd4-b98e-442d-b449-9fb8dc5377c8",
   "metadata": {},
   "source": [
    "1. _Install [miniforge](), a lean version of the [Anaconda]() Python distribution_"
   ]
  },
  {
   "cell_type": "code",
   "execution_count": 11,
   "id": "7a9e6c96-95a6-445c-80c3-a124cc58d058",
   "metadata": {},
   "outputs": [],
   "source": [
    "command = \"wget https://github.com/conda-forge/miniforge/releases/latest/download/Miniforge3-Linux-x86_64.sh\""
   ]
  },
  {
   "cell_type": "code",
   "execution_count": 12,
   "id": "524ecbb1-e0da-4fd5-bb6f-ad437e4d7622",
   "metadata": {},
   "outputs": [
    {
     "data": {
      "text/html": [
       "<div style='margin:0 0 5px; overflow:hidden; padding:10px; background-color:DimGray; border:1px solid DimGray; -webkit-border-radius: 5px;border-radius: 5px;'><tt>flintrock --config=config/bigdata-cluster.yaml run-command bigdata-cluster &#x27;wget https://github.com/conda-forge/miniforge/releases/latest/download/Miniforge3-Linux-x86_64.sh&#x27;</tt></p>"
      ],
      "text/plain": [
       "<IPython.core.display.HTML object>"
      ]
     },
     "execution_count": 12,
     "metadata": {},
     "output_type": "execute_result"
    }
   ],
   "source": [
    "show_command(f\"flintrock --config={config_path} run-command {cluster_name} '{command}'\")"
   ]
  },
  {
   "cell_type": "code",
   "execution_count": 13,
   "id": "d0e081df-4ffb-4609-afc5-afb99b2e200b",
   "metadata": {},
   "outputs": [],
   "source": [
    "command = \"sh Miniforge3-Linux-x86_64.sh -b\""
   ]
  },
  {
   "cell_type": "code",
   "execution_count": 14,
   "id": "f8f2c7d1-592b-4431-9794-0a39b753f4ad",
   "metadata": {},
   "outputs": [
    {
     "data": {
      "text/html": [
       "<div style='margin:0 0 5px; overflow:hidden; padding:10px; background-color:DimGray; border:1px solid DimGray; -webkit-border-radius: 5px;border-radius: 5px;'><tt>flintrock --config=config/bigdata-cluster.yaml run-command bigdata-cluster &#x27;sh Miniforge3-Linux-x86_64.sh -b&#x27;</tt></p>"
      ],
      "text/plain": [
       "<IPython.core.display.HTML object>"
      ]
     },
     "execution_count": 14,
     "metadata": {},
     "output_type": "execute_result"
    }
   ],
   "source": [
    "show_command(f\"flintrock --config={config_path} run-command {cluster_name} '{command}'\")"
   ]
  },
  {
   "cell_type": "markdown",
   "id": "794ab557-d8ec-424e-ad5c-bc70f8df4c68",
   "metadata": {},
   "source": [
    "2. _Add the miniforge Python to the PATH_"
   ]
  },
  {
   "cell_type": "code",
   "execution_count": 15,
   "id": "ccc4de64-00fb-4d63-9e91-32a5eafd331f",
   "metadata": {},
   "outputs": [],
   "source": [
    "command = 'echo \"export PATH=$HOME/miniforge3/bin:$PATH\" >> ~/.bashrc'"
   ]
  },
  {
   "cell_type": "code",
   "execution_count": 16,
   "id": "a3f996fc-d623-4765-ad17-e663db927255",
   "metadata": {},
   "outputs": [
    {
     "data": {
      "text/html": [
       "<div style='margin:0 0 5px; overflow:hidden; padding:10px; background-color:DimGray; border:1px solid DimGray; -webkit-border-radius: 5px;border-radius: 5px;'><tt>flintrock --config=config/bigdata-cluster.yaml run-command bigdata-cluster &#x27;echo &quot;export PATH=$HOME/miniforge3/bin:$PATH&quot; &gt;&gt; ~/.bashrc&#x27;</tt></p>"
      ],
      "text/plain": [
       "<IPython.core.display.HTML object>"
      ]
     },
     "execution_count": 16,
     "metadata": {},
     "output_type": "execute_result"
    }
   ],
   "source": [
    "show_command(f\"\"\"flintrock --config={config_path} run-command {cluster_name} '{command}'\"\"\")"
   ]
  },
  {
   "cell_type": "markdown",
   "id": "45763b46-2211-4b01-b657-2cd6807fa871",
   "metadata": {},
   "source": [
    "3. _Install Jupyter_"
   ]
  },
  {
   "cell_type": "code",
   "execution_count": 17,
   "id": "652547bf-615d-423b-a746-8640bd8ea13f",
   "metadata": {},
   "outputs": [],
   "source": [
    "command = \"conda install --yes jupyterlab\""
   ]
  },
  {
   "cell_type": "code",
   "execution_count": 18,
   "id": "9778f5e4-1a81-4e40-b54a-5823b9c4241d",
   "metadata": {},
   "outputs": [
    {
     "data": {
      "text/html": [
       "<div style='margin:0 0 5px; overflow:hidden; padding:10px; background-color:DimGray; border:1px solid DimGray; -webkit-border-radius: 5px;border-radius: 5px;'><tt>flintrock --config=config/bigdata-cluster.yaml run-command bigdata-cluster &#x27;conda install --yes jupyterlab&#x27;</tt></p>"
      ],
      "text/plain": [
       "<IPython.core.display.HTML object>"
      ]
     },
     "execution_count": 18,
     "metadata": {},
     "output_type": "execute_result"
    }
   ],
   "source": [
    "show_command(f\"flintrock --config={config_path} run-command {cluster_name} '{command}'\")"
   ]
  },
  {
   "cell_type": "markdown",
   "id": "93a2aa1a-400f-4ad2-a012-831a6883bd81",
   "metadata": {},
   "source": [
    "4. Add Spark Python to the PYTHONPATH"
   ]
  },
  {
   "cell_type": "code",
   "execution_count": 19,
   "id": "01baf2d5-8d99-4b55-b1c5-b1f9b3220693",
   "metadata": {},
   "outputs": [],
   "source": [
    "command = 'echo \"export PYTHONPATH=$SPARK_HOME/python:$SPARK_HOME/python/lib/py4j-0.10.1-src.zip:$PYTHONPATH\" >> ~/.bashrc'"
   ]
  },
  {
   "cell_type": "code",
   "execution_count": 20,
   "id": "9e3b04ba-ad5b-4fa9-bd1d-a9f1129abf5f",
   "metadata": {},
   "outputs": [
    {
     "data": {
      "text/html": [
       "<div style='margin:0 0 5px; overflow:hidden; padding:10px; background-color:DimGray; border:1px solid DimGray; -webkit-border-radius: 5px;border-radius: 5px;'><tt>flintrock --config=config/bigdata-cluster.yaml run-command bigdata-cluster &#x27;echo &quot;export PYTHONPATH=$SPARK_HOME/python:$SPARK_HOME/python/lib/py4j-0.10.1-src.zip:$PYTHONPATH&quot; &gt;&gt; ~/.bashrc&#x27;</tt></p>"
      ],
      "text/plain": [
       "<IPython.core.display.HTML object>"
      ]
     },
     "execution_count": 20,
     "metadata": {},
     "output_type": "execute_result"
    }
   ],
   "source": [
    "show_command(f\"flintrock --config={config_path} run-command {cluster_name} '{command}'\")"
   ]
  },
  {
   "cell_type": "markdown",
   "id": "100ad40b-fabb-4775-a465-c19698f3d5df",
   "metadata": {},
   "source": [
    "5. Set PYSPARK_PYTHON and PYSPARK_DRIVER_PYTHON"
   ]
  },
  {
   "cell_type": "code",
   "execution_count": 21,
   "id": "4453206a-c742-4bc2-b07a-a2db551de859",
   "metadata": {},
   "outputs": [],
   "source": [
    "command = 'echo \"export PYSPARK_PYTHON=~/miniforge3/bin/python PYSPARK_DRIVER_PYTHON=~/miniforge3/bin/python\" >> ~/.bashrc'#"
   ]
  },
  {
   "cell_type": "code",
   "execution_count": 22,
   "id": "ca353022-2add-4657-9cda-36d0f238c016",
   "metadata": {},
   "outputs": [
    {
     "data": {
      "text/html": [
       "<div style='margin:0 0 5px; overflow:hidden; padding:10px; background-color:DimGray; border:1px solid DimGray; -webkit-border-radius: 5px;border-radius: 5px;'><tt>flintrock --config=config/bigdata-cluster.yaml run-command bigdata-cluster &#x27;echo &quot;export PYSPARK_PYTHON=~/miniforge3/bin/python PYSPARK_DRIVER_PYTHON=~/miniforge3/bin/python&quot; &gt;&gt; ~/.bashrc&#x27;</tt></p>"
      ],
      "text/plain": [
       "<IPython.core.display.HTML object>"
      ]
     },
     "execution_count": 22,
     "metadata": {},
     "output_type": "execute_result"
    }
   ],
   "source": [
    "show_command(f\"flintrock --config={config_path} run-command {cluster_name} '{command}'\")"
   ]
  },
  {
   "cell_type": "markdown",
   "id": "bcd74240-3fb5-4822-95d8-6fe901746b64",
   "metadata": {},
   "source": [
    "## Running the Notebook Server"
   ]
  },
  {
   "cell_type": "markdown",
   "id": "8b3f4f2e-502c-49de-ba8c-c88c1badccf3",
   "metadata": {},
   "source": [
    "4. Install tmux to keep the terminal session open after logging out"
   ]
  },
  {
   "cell_type": "code",
   "execution_count": 23,
   "id": "97114d8c-2595-43dd-9e40-d027ab303f61",
   "metadata": {},
   "outputs": [],
   "source": [
    "command = \"sudo yum install -y tmux\""
   ]
  },
  {
   "cell_type": "code",
   "execution_count": 24,
   "id": "ddbb4a2b-2b30-41bd-8422-8e751608a201",
   "metadata": {},
   "outputs": [
    {
     "data": {
      "text/html": [
       "<div style='margin:0 0 5px; overflow:hidden; padding:10px; background-color:DimGray; border:1px solid DimGray; -webkit-border-radius: 5px;border-radius: 5px;'><tt>flintrock --config=config/bigdata-cluster.yaml run-command --master-only bigdata-cluster &#x27;sudo yum install -y tmux&#x27;</tt></p>"
      ],
      "text/plain": [
       "<IPython.core.display.HTML object>"
      ]
     },
     "execution_count": 24,
     "metadata": {},
     "output_type": "execute_result"
    }
   ],
   "source": [
    "show_command(f\"flintrock --config={config_path} run-command --master-only {cluster_name} '{command}'\")"
   ]
  },
  {
   "cell_type": "markdown",
   "id": "5629cb6c-6498-4e70-b03e-99eded73e3b1",
   "metadata": {},
   "source": [
    "6. Create the Jupyter setup script and copy it to the master node."
   ]
  },
  {
   "cell_type": "code",
   "execution_count": 25,
   "id": "a0a3a261-64ed-4176-ae4a-d6a34e9a35d9",
   "metadata": {},
   "outputs": [],
   "source": [
    "memory = 2000  # [MB] RAM for each executor (worker node process) and the driver process"
   ]
  },
  {
   "cell_type": "code",
   "execution_count": 32,
   "id": "0f147575-e69f-40b9-a321-7773074f8458",
   "metadata": {},
   "outputs": [],
   "source": [
    "port = \"22322\""
   ]
  },
  {
   "cell_type": "code",
   "execution_count": 33,
   "id": "25a85cc2-60ab-4ad7-9507-f7580eb09232",
   "metadata": {},
   "outputs": [
    {
     "name": "stdout",
     "output_type": "stream",
     "text": [
      "\n",
      "PYSPARK_DRIVER_PYTHON=jupyter PYSPARK_DRIVER_PYTHON_OPTS=\"lab --no-browser --port=22322\" pyspark --master spark://ec2-54-93-231-162.eu-central-1.compute.amazonaws.com:22322 --executor-memory 2000M --driver-memory 2000M\n",
      "\n"
     ]
    }
   ],
   "source": [
    "jupyter_setup = f\"\"\"\n",
    "PYSPARK_DRIVER_PYTHON=jupyter PYSPARK_DRIVER_PYTHON_OPTS=\"lab --no-browser --port={port}\" pyspark --master spark://{master_url}:{port} --executor-memory {memory}M --driver-memory {memory}M\n",
    "\"\"\"\n",
    "print(jupyter_setup)"
   ]
  },
  {
   "cell_type": "code",
   "execution_count": 34,
   "id": "da9d6ce3-510a-47f8-ae3c-77b759ae974b",
   "metadata": {},
   "outputs": [],
   "source": [
    "script_path = \"scripts/jupyter_setup.sh\""
   ]
  },
  {
   "cell_type": "code",
   "execution_count": 35,
   "id": "f24e2465-15dd-4a88-ad1d-b7cc14006db5",
   "metadata": {},
   "outputs": [],
   "source": [
    "with open(script_path, \"w\") as script_file:\n",
    "    script_file.write(jupyter_setup)"
   ]
  },
  {
   "cell_type": "code",
   "execution_count": 29,
   "id": "6eb93370-15e4-42e2-922c-ed5ea6c03eab",
   "metadata": {},
   "outputs": [
    {
     "data": {
      "text/html": [
       "<div style='margin:0 0 5px; overflow:hidden; padding:10px; background-color:DimGray; border:1px solid DimGray; -webkit-border-radius: 5px;border-radius: 5px;'><tt>flintrock --config=config/bigdata-cluster.yaml copy-file --master-only bigdata-cluster scripts/jupyter_setup.sh /home/ec2-user/jupyter_setup.sh</tt></p>"
      ],
      "text/plain": [
       "<IPython.core.display.HTML object>"
      ]
     },
     "execution_count": 29,
     "metadata": {},
     "output_type": "execute_result"
    }
   ],
   "source": [
    "show_command(f\"flintrock --config={config_path} copy-file --master-only {cluster_name} {script_path} /home/ec2-user/jupyter_setup.sh\")"
   ]
  },
  {
   "cell_type": "markdown",
   "id": "245290bb-2a6d-44c0-9db8-4048ee466aa1",
   "metadata": {},
   "source": [
    "5. Login to the master node\n",
    "6. Start a new tmux session.\n",
    "7. `source` the Jupyter setup script to start Jupyter Lab.\n",
    "8. Access Jupyter via the browser."
   ]
  },
  {
   "cell_type": "code",
   "execution_count": 30,
   "id": "1be3bbaa-ba49-45a2-a10f-d121c92f11d8",
   "metadata": {},
   "outputs": [
    {
     "data": {
      "text/plain": [
       "'ec2-54-93-231-162.eu-central-1.compute.amazonaws.com'"
      ]
     },
     "execution_count": 30,
     "metadata": {},
     "output_type": "execute_result"
    }
   ],
   "source": [
    "master_url"
   ]
  },
  {
   "cell_type": "code",
   "execution_count": 36,
   "id": "e920c64e-d969-4d69-a53a-4bba46d20d3d",
   "metadata": {},
   "outputs": [
    {
     "data": {
      "text/html": [
       "<a href='http://ec2-54-93-231-162.eu-central-1.compute.amazonaws.com:22322'><button type='button' style='padding: 5px;'><b>-> Open Jupyter</b></button></a>"
      ],
      "text/plain": [
       "<IPython.core.display.HTML object>"
      ]
     },
     "metadata": {},
     "output_type": "display_data"
    }
   ],
   "source": [
    "from IPython.core.display import display, HTML\n",
    "display(HTML(f\"<a href='http://{master_url}:{port}'><button type='button' style='padding: 5px;'><b>-> Open Jupyter</b></button></a>\"))"
   ]
  },
  {
   "cell_type": "markdown",
   "id": "3a00968c-135d-44f4-ad01-3f4efdc0ba41",
   "metadata": {},
   "source": [
    "---\n",
    "_This notebook is licensed under a [Creative Commons Attribution-NonCommercial-ShareAlike 4.0 International (CC BY-NC-SA 4.0)](https://creativecommons.org/licenses/by-nc-sa/4.0/). Copyright © 2018-2025 [Point 8 GmbH](https://point-8.de)_"
   ]
  }
 ],
 "metadata": {
  "kernelspec": {
   "display_name": "bigdata",
   "language": "python",
   "name": "bigdata"
  },
  "language_info": {
   "codemirror_mode": {
    "name": "ipython",
    "version": 3
   },
   "file_extension": ".py",
   "mimetype": "text/x-python",
   "name": "python",
   "nbconvert_exporter": "python",
   "pygments_lexer": "ipython3",
   "version": "3.8.10"
  }
 },
 "nbformat": 4,
 "nbformat_minor": 5
}
