{
 "cells": [
  {
   "cell_type": "code",
   "execution_count": null,
   "metadata": {},
   "outputs": [],
   "source": [
    "import tweepy"
   ]
  },
  {
   "cell_type": "code",
   "execution_count": null,
   "metadata": {},
   "outputs": [],
   "source": [
    "import getpass"
   ]
  },
  {
   "cell_type": "code",
   "execution_count": null,
   "metadata": {},
   "outputs": [],
   "source": [
    "if False:\n",
    "    # Enter Twitter API Keys\n",
    "    consumer_key = getpass.getpass(\"ENTER CONSUMER KEY:\")\n",
    "    consumer_secret = getpass.getpass(\"ENTER CONSUMER SECRET:\")\n",
    "    access_token = getpass.getpass(\"ENTER ACCESS TOKEN:\")\n",
    "    access_token_secret = getpass.getpass(\"ENTER ACCESS TOKEN SECRET:\")\n",
    "    \n",
    "    auth = tweepy.OAuthHandler(consumer_key, consumer_secret)\n",
    "    auth.set_access_token(access_token, access_token_secret)"
   ]
  },
  {
   "cell_type": "code",
   "execution_count": null,
   "metadata": {},
   "outputs": [],
   "source": [
    "# Create the class that will handle the tweet stream\n",
    "class StdOutListener(tweepy.StreamListener):\n",
    "      \n",
    "    def on_data(self, data):   \n",
    "        print(data)\n",
    "        print()\n",
    "        return True\n",
    "        \n",
    "    def on_error(self, status):\n",
    "        print(status)"
   ]
  },
  {
   "cell_type": "code",
   "execution_count": null,
   "metadata": {},
   "outputs": [],
   "source": [
    "import json\n",
    "import textblob\n",
    "\n",
    "class TweetListener(tweepy.StreamListener):\n",
    "      \n",
    "    def on_data(self, data):\n",
    "        tweet_data = json.loads(data)\n",
    "        text = tweet_data[\"text\"]\n",
    "        print(text)\n",
    "        print(textblob.TextBlob(text).sentiment)\n",
    "        print()\n",
    "        return True\n",
    "        \n",
    "    def on_error(self, status):\n",
    "        print(status)"
   ]
  },
  {
   "cell_type": "code",
   "execution_count": null,
   "metadata": {},
   "outputs": [],
   "source": [
    "tracklist = [\"#ApacheSpark\"]"
   ]
  },
  {
   "cell_type": "code",
   "execution_count": null,
   "metadata": {},
   "outputs": [],
   "source": [
    "if False:\n",
    "    stream = tweepy.Stream(\n",
    "        auth, \n",
    "        TweetListener()\n",
    "    )\n",
    "    stream.filter(\n",
    "        track=tracklist, \n",
    "        languages=[\"en\"]\n",
    "    )"
   ]
  },
  {
   "cell_type": "markdown",
   "metadata": {},
   "source": [
    "## Sentiment Analysis"
   ]
  },
  {
   "cell_type": "code",
   "execution_count": null,
   "metadata": {},
   "outputs": [],
   "source": [
    "import textblob"
   ]
  },
  {
   "cell_type": "markdown",
   "metadata": {},
   "source": [
    "---\n",
    "_This notebook is licensed under a [Creative Commons Attribution-NonCommercial-ShareAlike 4.0 International (CC BY-NC-SA 4.0)](https://creativecommons.org/licenses/by-nc-sa/4.0/). Copyright © 2018-2025 [Point 8 GmbH](https://point-8.de)_"
   ]
  }
 ],
 "metadata": {
  "kernelspec": {
   "display_name": "Python 3",
   "language": "python",
   "name": "python3"
  },
  "language_info": {
   "codemirror_mode": {
    "name": "ipython",
    "version": 3
   },
   "file_extension": ".py",
   "mimetype": "text/x-python",
   "name": "python",
   "nbconvert_exporter": "python",
   "pygments_lexer": "ipython3",
   "version": "3.8.8"
  }
 },
 "nbformat": 4,
 "nbformat_minor": 4
}
