{
 "cells": [
  {
   "cell_type": "markdown",
   "id": "d51dfb88-4061-4cc8-a3b0-d6dba2cc1375",
   "metadata": {},
   "source": [
    "# HDFS \n",
    "\n",
    "The **Hadoop Distributed File System** is a _distributed file-system_, i.e. it stores files in blocks distributed over the nodes of a cluster.\n",
    "\n",
    "- high bandwidth: many storage devices can operate in parallel\n",
    "- data locality: faster data processing by bringing togethe"
   ]
  },
  {
   "cell_type": "markdown",
   "id": "b471b55b-bb31-4ebe-ab0c-c5983cc2904f",
   "metadata": {},
   "source": [
    "## Preamble"
   ]
  },
  {
   "cell_type": "code",
   "execution_count": 1,
   "id": "f7d13603-6587-4b31-82d3-fb0ece8be610",
   "metadata": {},
   "outputs": [],
   "source": [
    "from data_science_learning_paths import show_command"
   ]
  },
  {
   "cell_type": "markdown",
   "id": "8ad5a791-037b-4089-9354-37fbd9d62134",
   "metadata": {},
   "source": [
    "## Introducing HDFS Concepts"
   ]
  },
  {
   "cell_type": "markdown",
   "id": "27deaec8-5b4c-4c3a-87f6-d8185075663d",
   "metadata": {},
   "source": [
    "The Hadoop distributed file system (HDFS) is a distributed, scalable, and portable file system written in Java for the Hadoop framework. "
   ]
  },
  {
   "cell_type": "markdown",
   "id": "a120f3be-88d6-4682-809e-8971c70397a4",
   "metadata": {},
   "source": [
    "We start by learning about the basic concepts of HDFS:\n",
    "\n",
    "- **immutable files**\n",
    "- **replicas**\n",
    "- **blocks** \n",
    "- **name node** and **data node**\n",
    "- **data locality**"
   ]
  },
  {
   "cell_type": "code",
   "execution_count": 2,
   "id": "9fe2f700-68dd-4c6c-a7c1-dd49b9c199c8",
   "metadata": {},
   "outputs": [],
   "source": [
    "from IPython.display import HTML"
   ]
  },
  {
   "cell_type": "markdown",
   "id": "5eb460b7-9088-47f9-b5ff-e01b945c9ef3",
   "metadata": {},
   "source": [
    "_Understanding HDFS using Legos_"
   ]
  },
  {
   "cell_type": "code",
   "execution_count": 3,
   "id": "8493d3be-fa57-4e9f-a11e-051678ad6b0a",
   "metadata": {},
   "outputs": [
    {
     "data": {
      "text/html": [
       "\n",
       "<iframe width=\"560\" height=\"315\" src=\"https://www.youtube.com/embed/4Gfl0WuONMY\" title=\"YouTube video player\" frameborder=\"0\" allow=\"accelerometer; autoplay; clipboard-write; encrypted-media; gyroscope; picture-in-picture\" allowfullscreen></iframe>\n"
      ],
      "text/plain": [
       "<IPython.core.display.HTML object>"
      ]
     },
     "execution_count": 3,
     "metadata": {},
     "output_type": "execute_result"
    }
   ],
   "source": [
    "HTML(\"\"\"\n",
    "<iframe width=\"560\" height=\"315\" src=\"https://www.youtube.com/embed/4Gfl0WuONMY\" title=\"YouTube video player\" frameborder=\"0\" allow=\"accelerometer; autoplay; clipboard-write; encrypted-media; gyroscope; picture-in-picture\" allowfullscreen></iframe>\n",
    "\"\"\")"
   ]
  },
  {
   "cell_type": "markdown",
   "id": "7d6de08f-f57d-4262-9bec-b09b91109d6b",
   "metadata": {},
   "source": [
    "## HDFS Commands"
   ]
  },
  {
   "cell_type": "markdown",
   "id": "6b2c4c3c-5e05-4bd2-afe1-fb2a3368fb0b",
   "metadata": {},
   "source": [
    "The interface of HDFS is in many ways similar to the standard UNIX file system. You will easily recognize and memorize the commands."
   ]
  },
  {
   "cell_type": "markdown",
   "id": "32d9eca9-b296-4f33-beab-26ab4320f957",
   "metadata": {},
   "source": [
    "_List a directory:_"
   ]
  },
  {
   "cell_type": "code",
   "execution_count": 4,
   "id": "8d7a513b-931d-4b28-bc3d-789be3479507",
   "metadata": {},
   "outputs": [
    {
     "data": {
      "text/html": [
       "<div style='margin:0 0 5px; overflow:hidden; padding:10px; background-color:DimGray; border:1px solid DimGray; -webkit-border-radius: 5px;border-radius: 5px;'><tt>hdfs dfs -ls  &lt;path&gt;</tt></p>"
      ],
      "text/plain": [
       "<IPython.core.display.HTML object>"
      ]
     },
     "execution_count": 4,
     "metadata": {},
     "output_type": "execute_result"
    }
   ],
   "source": [
    "show_command(f\"hdfs dfs -ls  <path>\")"
   ]
  },
  {
   "cell_type": "markdown",
   "id": "2c2b33ed-a919-4e50-9d9c-0c2a692ea042",
   "metadata": {},
   "source": [
    "_Create a directory:_"
   ]
  },
  {
   "cell_type": "code",
   "execution_count": 5,
   "id": "8f79d367-2620-4ab8-8324-f91d54e2d37a",
   "metadata": {},
   "outputs": [
    {
     "data": {
      "text/html": [
       "<div style='margin:0 0 5px; overflow:hidden; padding:10px; background-color:DimGray; border:1px solid DimGray; -webkit-border-radius: 5px;border-radius: 5px;'><tt>hdfs dfs -mkdir &lt;dirname&gt;</tt></p>"
      ],
      "text/plain": [
       "<IPython.core.display.HTML object>"
      ]
     },
     "execution_count": 5,
     "metadata": {},
     "output_type": "execute_result"
    }
   ],
   "source": [
    "show_command(f\"hdfs dfs -mkdir <dirname>\")"
   ]
  },
  {
   "cell_type": "markdown",
   "id": "b5541147-4c8b-41c5-aa53-3ec5b2f86b12",
   "metadata": {},
   "source": [
    "The following commands are be used to transfer data between the local filesystem to the distributed filesystem:"
   ]
  },
  {
   "cell_type": "markdown",
   "id": "2bbe0886-4484-4b87-9489-5b05a3923838",
   "metadata": {},
   "source": [
    "_from local to distributed_"
   ]
  },
  {
   "cell_type": "code",
   "execution_count": 6,
   "id": "81f70ea5-78bd-45e6-b17b-597da6b2e7a5",
   "metadata": {},
   "outputs": [
    {
     "data": {
      "text/html": [
       "<div style='margin:0 0 5px; overflow:hidden; padding:10px; background-color:DimGray; border:1px solid DimGray; -webkit-border-radius: 5px;border-radius: 5px;'><tt>hdfs dfs -copyFromLocal &lt;local&gt; &lt;dist&gt;</tt></p>"
      ],
      "text/plain": [
       "<IPython.core.display.HTML object>"
      ]
     },
     "execution_count": 6,
     "metadata": {},
     "output_type": "execute_result"
    }
   ],
   "source": [
    "show_command(f\"hdfs dfs -copyFromLocal <local> <dist>\")"
   ]
  },
  {
   "cell_type": "code",
   "execution_count": 7,
   "id": "77cd780b-5fea-4e12-858c-8d4d3257cbe8",
   "metadata": {},
   "outputs": [
    {
     "data": {
      "text/html": [
       "<div style='margin:0 0 5px; overflow:hidden; padding:10px; background-color:DimGray; border:1px solid DimGray; -webkit-border-radius: 5px;border-radius: 5px;'><tt>hdfs dfs -put &lt;local&gt; &lt;dist&gt;</tt></p>"
      ],
      "text/plain": [
       "<IPython.core.display.HTML object>"
      ]
     },
     "execution_count": 7,
     "metadata": {},
     "output_type": "execute_result"
    }
   ],
   "source": [
    "show_command(f\"hdfs dfs -put <local> <dist>\")"
   ]
  },
  {
   "cell_type": "markdown",
   "id": "edb03509-34ac-446c-a4b8-d909fc9ae24d",
   "metadata": {},
   "source": [
    "_from distributed to local_"
   ]
  },
  {
   "cell_type": "code",
   "execution_count": 8,
   "id": "aa520250-43f3-47c4-9336-af0ebd2e8e27",
   "metadata": {},
   "outputs": [
    {
     "data": {
      "text/html": [
       "<div style='margin:0 0 5px; overflow:hidden; padding:10px; background-color:DimGray; border:1px solid DimGray; -webkit-border-radius: 5px;border-radius: 5px;'><tt>hdfs dfs -copyToLocal &lt;dist&gt; &lt;local&gt;</tt></p>"
      ],
      "text/plain": [
       "<IPython.core.display.HTML object>"
      ]
     },
     "execution_count": 8,
     "metadata": {},
     "output_type": "execute_result"
    }
   ],
   "source": [
    "show_command(f\"hdfs dfs -copyToLocal <dist> <local>\")"
   ]
  },
  {
   "cell_type": "code",
   "execution_count": 9,
   "id": "3a90d8f1-57d8-4dd0-828f-37e17e9c791f",
   "metadata": {},
   "outputs": [
    {
     "data": {
      "text/html": [
       "<div style='margin:0 0 5px; overflow:hidden; padding:10px; background-color:DimGray; border:1px solid DimGray; -webkit-border-radius: 5px;border-radius: 5px;'><tt>hdfs dfs -get &lt;dist&gt; &lt;local&gt;</tt></p>"
      ],
      "text/plain": [
       "<IPython.core.display.HTML object>"
      ]
     },
     "execution_count": 9,
     "metadata": {},
     "output_type": "execute_result"
    }
   ],
   "source": [
    "show_command(f\"hdfs dfs -get <dist> <local>\")"
   ]
  },
  {
   "cell_type": "markdown",
   "id": "c4c13453-7d93-4076-8804-fda863ed9fe3",
   "metadata": {},
   "source": [
    "_Copy within HDFS_"
   ]
  },
  {
   "cell_type": "code",
   "execution_count": 10,
   "id": "d36fef06-8e11-47ab-a8b6-d3de0ba5b0ab",
   "metadata": {},
   "outputs": [
    {
     "data": {
      "text/html": [
       "<div style='margin:0 0 5px; overflow:hidden; padding:10px; background-color:DimGray; border:1px solid DimGray; -webkit-border-radius: 5px;border-radius: 5px;'><tt>hdfs dfs -cp  &lt;src&gt;  &lt;dst&gt;</tt></p>"
      ],
      "text/plain": [
       "<IPython.core.display.HTML object>"
      ]
     },
     "execution_count": 10,
     "metadata": {},
     "output_type": "execute_result"
    }
   ],
   "source": [
    "show_command(f\"hdfs dfs -cp  <src>  <dst>\")"
   ]
  },
  {
   "cell_type": "markdown",
   "id": "2a73f3cd-0c85-4842-bf27-398dc0c8510c",
   "metadata": {},
   "source": [
    "_Get total size_"
   ]
  },
  {
   "cell_type": "code",
   "execution_count": 11,
   "id": "2517b1b7-c504-4fe1-8e3d-c99f82e7d1a5",
   "metadata": {},
   "outputs": [
    {
     "data": {
      "text/html": [
       "<div style='margin:0 0 5px; overflow:hidden; padding:10px; background-color:DimGray; border:1px solid DimGray; -webkit-border-radius: 5px;border-radius: 5px;'><tt>hdfs dfs -dus &lt;dir&gt;</tt></p>"
      ],
      "text/plain": [
       "<IPython.core.display.HTML object>"
      ]
     },
     "execution_count": 11,
     "metadata": {},
     "output_type": "execute_result"
    }
   ],
   "source": [
    "show_command(f\"hdfs dfs -dus <dir>\")"
   ]
  },
  {
   "cell_type": "markdown",
   "id": "01198489-d08c-434e-9d26-99ca21305e7c",
   "metadata": {},
   "source": [
    "_set the **replication factor** (default: 3)_"
   ]
  },
  {
   "cell_type": "code",
   "execution_count": 12,
   "id": "0553c3fd-9ffb-4fec-92c9-a672d5c2f043",
   "metadata": {},
   "outputs": [
    {
     "data": {
      "text/html": [
       "<div style='margin:0 0 5px; overflow:hidden; padding:10px; background-color:DimGray; border:1px solid DimGray; -webkit-border-radius: 5px;border-radius: 5px;'><tt>/hdfs dfs -setrep -R -w &lt;factor&gt; &lt;file&gt;</tt></p>"
      ],
      "text/plain": [
       "<IPython.core.display.HTML object>"
      ]
     },
     "execution_count": 12,
     "metadata": {},
     "output_type": "execute_result"
    }
   ],
   "source": [
    "show_command(f\"/hdfs dfs -setrep -R -w <factor> <file>\")"
   ]
  },
  {
   "cell_type": "markdown",
   "id": "a4a595c2-0123-4957-975b-ad8c730a3e79",
   "metadata": {},
   "source": [
    "---\n",
    "_This notebook is licensed under a [Creative Commons Attribution-NonCommercial-ShareAlike 4.0 International (CC BY-NC-SA 4.0)](https://creativecommons.org/licenses/by-nc-sa/4.0/). Copyright © 2018-2025 [Point 8 GmbH](https://point-8.de)_"
   ]
  }
 ],
 "metadata": {
  "kernelspec": {
   "display_name": "Python 3",
   "language": "python",
   "name": "python3"
  },
  "language_info": {
   "codemirror_mode": {
    "name": "ipython",
    "version": 3
   },
   "file_extension": ".py",
   "mimetype": "text/x-python",
   "name": "python",
   "nbconvert_exporter": "python",
   "pygments_lexer": "ipython3",
   "version": "3.8.8"
  }
 },
 "nbformat": 4,
 "nbformat_minor": 5
}
