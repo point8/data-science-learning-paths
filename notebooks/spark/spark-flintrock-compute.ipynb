{
 "cells": [
  {
   "cell_type": "markdown",
   "id": "8a3ce6a4-ad77-40ea-b969-97feba166144",
   "metadata": {},
   "source": [
    "# Computing on a Spark Cluster \n",
    "\n",
    "After [📕**Launching Spark in the Amazon Cloud with flintrock**](spark-flintrock-setup.ipynb), there are a variety of ways of running Spark code on it. "
   ]
  },
  {
   "cell_type": "markdown",
   "id": "43921178-7c27-437a-8e52-8119ab616865",
   "metadata": {},
   "source": [
    "## Preamble"
   ]
  },
  {
   "cell_type": "code",
   "execution_count": 1,
   "id": "da765ca0-ec3c-459d-9118-ec41197202db",
   "metadata": {},
   "outputs": [],
   "source": [
    "from data_science_learning_paths import show_command"
   ]
  },
  {
   "cell_type": "code",
   "execution_count": 2,
   "id": "1ac1f4ad-8c9d-491e-baa4-996e89ff3c63",
   "metadata": {},
   "outputs": [],
   "source": [
    "proj_path = \"/Users/cls/Documents/Work/Projects/point8/DataScienceLearningPaths/big-data-cluster\""
   ]
  },
  {
   "cell_type": "code",
   "execution_count": 3,
   "id": "1875874c-ece9-4822-98ae-44058bf1dc6c",
   "metadata": {},
   "outputs": [
    {
     "data": {
      "text/html": [
       "<div style='margin:0 0 5px; overflow:hidden; padding:10px; background-color:DimGray; border:1px solid DimGray; -webkit-border-radius: 5px;border-radius: 5px;'><tt>cd /Users/cls/Documents/Work/Projects/point8/DataScienceLearningPaths/big-data-cluster</tt></p>"
      ],
      "text/plain": [
       "<IPython.core.display.HTML object>"
      ]
     },
     "execution_count": 3,
     "metadata": {},
     "output_type": "execute_result"
    }
   ],
   "source": [
    "show_command(f\"cd {proj_path}\")"
   ]
  },
  {
   "cell_type": "code",
   "execution_count": 4,
   "id": "1e404eea-b54d-4a3c-aa16-26a9d5374db4",
   "metadata": {},
   "outputs": [
    {
     "name": "stdout",
     "output_type": "stream",
     "text": [
      "/Users/cls/Documents/Work/Projects/point8/DataScienceLearningPaths/big-data-cluster\n"
     ]
    }
   ],
   "source": [
    "cd {proj_path}"
   ]
  },
  {
   "cell_type": "markdown",
   "id": "25efe731-d60d-4e79-85d7-4f8405133bd5",
   "metadata": {},
   "source": [
    "## Prerequisites\n",
    "\n",
    "Make sure that the cluster is running - see [**📕Setup**](spark-flintrock-setup.ipynb)."
   ]
  },
  {
   "cell_type": "code",
   "execution_count": 5,
   "id": "bc5b6424-0ba4-4d18-94e6-24f4b79d78de",
   "metadata": {
    "tags": []
   },
   "outputs": [],
   "source": [
    "#cluster_name = \"test-cluster\"\n",
    "cluster_name = \"bigdata-cluster\""
   ]
  },
  {
   "cell_type": "code",
   "execution_count": 6,
   "id": "be64109c-8245-4309-a3ab-75cba91bf6d8",
   "metadata": {},
   "outputs": [],
   "source": [
    "config_path = f\"config/{cluster_name}.yaml\""
   ]
  },
  {
   "cell_type": "markdown",
   "id": "29235e63-6b08-4459-a896-61b07a27645a",
   "metadata": {},
   "source": [
    "## Describe Cluster"
   ]
  },
  {
   "cell_type": "code",
   "execution_count": 7,
   "id": "10e61fa9-7688-4d41-aa8d-0e1236244db0",
   "metadata": {},
   "outputs": [
    {
     "data": {
      "text/html": [
       "<div style='margin:0 0 5px; overflow:hidden; padding:10px; background-color:DimGray; border:1px solid DimGray; -webkit-border-radius: 5px;border-radius: 5px;'><tt>flintrock --config=config/bigdata-cluster.yaml describe bigdata-cluster</tt></p>"
      ],
      "text/plain": [
       "<IPython.core.display.HTML object>"
      ]
     },
     "execution_count": 7,
     "metadata": {},
     "output_type": "execute_result"
    }
   ],
   "source": [
    "show_command(f\"flintrock --config={config_path} describe {cluster_name}\")"
   ]
  },
  {
   "cell_type": "markdown",
   "id": "4abe20fb-9f0a-463c-ab90-93bb173cdc6f",
   "metadata": {},
   "source": [
    "This piece of Python code uses the command above to extract the URL of the master node - we are going to need it in the following."
   ]
  },
  {
   "cell_type": "code",
   "execution_count": 8,
   "id": "2f693d55-5a1d-4e7c-9f72-c416d5915397",
   "metadata": {},
   "outputs": [],
   "source": [
    "import yaml\n",
    "\n",
    "def describe_cluster():\n",
    "    cluster_descr = !flintrock --config={config_path} describe {cluster_name} \n",
    "    cluster_descr = \"\\n\".join(cluster_descr)\n",
    "    print(cluster_descr)\n",
    "    cluster_info = yaml.safe_load(cluster_descr)\n",
    "    return cluster_info"
   ]
  },
  {
   "cell_type": "code",
   "execution_count": 9,
   "id": "da597b98-4e13-467a-832b-fc8b87ce839e",
   "metadata": {},
   "outputs": [
    {
     "name": "stdout",
     "output_type": "stream",
     "text": [
      "bigdata-cluster:\n",
      "  state: running\n",
      "  node-count: 3\n",
      "  master: ec2-18-156-5-29.eu-central-1.compute.amazonaws.com\n",
      "  slaves:\n",
      "    - ec2-18-198-1-74.eu-central-1.compute.amazonaws.com\n",
      "    - ec2-3-67-100-151.eu-central-1.compute.amazonaws.com\n"
     ]
    }
   ],
   "source": [
    "cluster_info = describe_cluster()"
   ]
  },
  {
   "cell_type": "code",
   "execution_count": 10,
   "id": "ce1f880e-32d5-4882-aca7-253d62244922",
   "metadata": {},
   "outputs": [
    {
     "data": {
      "text/plain": [
       "'ec2-18-156-5-29.eu-central-1.compute.amazonaws.com'"
      ]
     },
     "execution_count": 10,
     "metadata": {},
     "output_type": "execute_result"
    }
   ],
   "source": [
    "master_url = cluster_info[cluster_name][\"master\"]\n",
    "master_url"
   ]
  },
  {
   "cell_type": "markdown",
   "id": "f54c4ce0-b4ad-4065-acd7-2753fddc1fdb",
   "metadata": {},
   "source": [
    "## Working Directly on the Cluster\n",
    "\n",
    "The following ways of working with Spark assume that you are logged in to the head node of the cluster. With our setup, we let `flintrock` help us with this:"
   ]
  },
  {
   "cell_type": "code",
   "execution_count": 11,
   "id": "fe08bc65-f650-4122-8f6b-0d97ce618eda",
   "metadata": {},
   "outputs": [
    {
     "data": {
      "text/html": [
       "<div style='margin:0 0 5px; overflow:hidden; padding:10px; background-color:DimGray; border:1px solid DimGray; -webkit-border-radius: 5px;border-radius: 5px;'><tt>flintrock --config=config/bigdata-cluster.yaml login bigdata-cluster</tt></p>"
      ],
      "text/plain": [
       "<IPython.core.display.HTML object>"
      ]
     },
     "execution_count": 11,
     "metadata": {},
     "output_type": "execute_result"
    }
   ],
   "source": [
    "show_command(f\"flintrock --config={config_path} login {cluster_name}\")"
   ]
  },
  {
   "cell_type": "markdown",
   "id": "748576f5-0e8d-472f-990b-4f727412f26a",
   "metadata": {},
   "source": [
    "### Working with the Spark Shell"
   ]
  },
  {
   "cell_type": "markdown",
   "id": "ae28ae4f-00a7-412c-8fd3-96f0ce4b764d",
   "metadata": {},
   "source": [
    "_start the PySpark shell_"
   ]
  },
  {
   "cell_type": "code",
   "execution_count": 12,
   "id": "3cd49d85-192a-48af-b67f-f64fde5fd20c",
   "metadata": {},
   "outputs": [
    {
     "data": {
      "text/html": [
       "<div style='margin:0 0 5px; overflow:hidden; padding:10px; background-color:DimGray; border:1px solid DimGray; -webkit-border-radius: 5px;border-radius: 5px;'><tt>pyspark</tt></p>"
      ],
      "text/plain": [
       "<IPython.core.display.HTML object>"
      ]
     },
     "execution_count": 12,
     "metadata": {},
     "output_type": "execute_result"
    }
   ],
   "source": [
    "show_command(\"pyspark\")"
   ]
  },
  {
   "cell_type": "markdown",
   "id": "572e7ea2-4a68-44c6-8a09-9b1bff2066a7",
   "metadata": {},
   "source": [
    "**Exercise**\n",
    "\n",
    "_Try out a few commands from [📕**Spark Fundamentals**](spark-fundamentals.ipynb) to verify that PySpark is working._"
   ]
  },
  {
   "cell_type": "markdown",
   "id": "7782d699-4dfc-4b96-bc25-9e277d72a6c8",
   "metadata": {},
   "source": [
    "### Submitting a Job"
   ]
  },
  {
   "cell_type": "markdown",
   "id": "1b9c9774-8818-4781-b2dd-8aed744c3049",
   "metadata": {},
   "source": [
    "1. _Copy `pi_approximation.py` to the cluster_ \n",
    "2. _Log into the cluster_\n",
    "3. _Submit it as a batch job with the following command_"
   ]
  },
  {
   "cell_type": "code",
   "execution_count": 13,
   "id": "7dd19371-dbc0-4356-bade-e8baf9b441db",
   "metadata": {
    "tags": []
   },
   "outputs": [
    {
     "data": {
      "text/html": [
       "<div style='margin:0 0 5px; overflow:hidden; padding:10px; background-color:DimGray; border:1px solid DimGray; -webkit-border-radius: 5px;border-radius: 5px;'><tt>spark-submit --master spark://ec2-18-156-5-29.eu-central-1.compute.amazonaws.com:7077 --deploy-mode client jobs/pi_approximation.py</tt></p>"
      ],
      "text/plain": [
       "<IPython.core.display.HTML object>"
      ]
     },
     "execution_count": 13,
     "metadata": {},
     "output_type": "execute_result"
    }
   ],
   "source": [
    "submit_cmd = f\"spark-submit --master spark://{master_url}:7077 --deploy-mode client jobs/pi_approximation.py\"\n",
    "show_command(submit_cmd)"
   ]
  },
  {
   "cell_type": "markdown",
   "id": "638d326d-894e-4cb0-a361-a5862fa612c5",
   "metadata": {},
   "source": [
    "## Working Remotely with the Cluster"
   ]
  },
  {
   "cell_type": "markdown",
   "id": "080e91e6-9331-4070-bf32-5f29027732ca",
   "metadata": {},
   "source": [
    "We can also stay on our local machine and send jobs to the cluster via `flintrock`."
   ]
  },
  {
   "cell_type": "markdown",
   "id": "e5323a04-2654-4f80-9912-feac95f66bd8",
   "metadata": {},
   "source": [
    "**Exercise**\n",
    "\n",
    "_Use `flintrock` to run the pi approximation job on the cluster._"
   ]
  },
  {
   "cell_type": "markdown",
   "id": "2d6614eb-d52e-4c37-9039-f7c56ab23a8c",
   "metadata": {},
   "source": [
    "## Monitoring the Cluster"
   ]
  },
  {
   "cell_type": "markdown",
   "id": "6ea3a78f-3296-4eeb-836a-dbc10891451f",
   "metadata": {},
   "source": [
    "### Cluster UI"
   ]
  },
  {
   "cell_type": "markdown",
   "id": "4b47a13d-8dca-4a9e-96dd-e35c211dde80",
   "metadata": {},
   "source": [
    "The Spark UI is running on port 8080 (by default) of the master node."
   ]
  },
  {
   "cell_type": "code",
   "execution_count": 14,
   "id": "fd4f41d4-9607-4988-b891-24922ef99617",
   "metadata": {},
   "outputs": [
    {
     "data": {
      "text/plain": [
       "'ec2-18-156-5-29.eu-central-1.compute.amazonaws.com'"
      ]
     },
     "execution_count": 14,
     "metadata": {},
     "output_type": "execute_result"
    }
   ],
   "source": [
    "master_url"
   ]
  },
  {
   "cell_type": "code",
   "execution_count": 15,
   "id": "867020bf-1c61-47f4-ad71-6fac88bbd47e",
   "metadata": {},
   "outputs": [
    {
     "data": {
      "text/html": [
       "<a href='http://ec2-18-156-5-29.eu-central-1.compute.amazonaws.com:8080'><button type='button' style='padding: 5px;'><b>-> Open Spark UI</b></button></a>"
      ],
      "text/plain": [
       "<IPython.core.display.HTML object>"
      ]
     },
     "metadata": {},
     "output_type": "display_data"
    }
   ],
   "source": [
    "from IPython.core.display import display, HTML\n",
    "display(HTML(f\"<a href='http://{master_url}:8080'><button type='button' style='padding: 5px;'><b>-> Open Spark UI</b></button></a>\"))"
   ]
  },
  {
   "cell_type": "markdown",
   "id": "ab20c87f-b7aa-4d50-ba05-e34eda2aae38",
   "metadata": {},
   "source": [
    "---\n",
    "_This notebook is licensed under a [Creative Commons Attribution-NonCommercial-ShareAlike 4.0 International (CC BY-NC-SA 4.0)](https://creativecommons.org/licenses/by-nc-sa/4.0/). Copyright © 2018-2025 [Point 8 GmbH](https://point-8.de)_"
   ]
  }
 ],
 "metadata": {
  "kernelspec": {
   "display_name": "bigdata",
   "language": "python",
   "name": "bigdata"
  },
  "language_info": {
   "codemirror_mode": {
    "name": "ipython",
    "version": 3
   },
   "file_extension": ".py",
   "mimetype": "text/x-python",
   "name": "python",
   "nbconvert_exporter": "python",
   "pygments_lexer": "ipython3",
   "version": "3.8.10"
  }
 },
 "nbformat": 4,
 "nbformat_minor": 5
}
