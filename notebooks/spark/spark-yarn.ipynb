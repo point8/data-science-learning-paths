{
 "cells": [
  {
   "cell_type": "markdown",
   "id": "8091616e-1fe3-4e89-809e-bc51cce4d3e5",
   "metadata": {},
   "source": [
    "# Apache YARN "
   ]
  },
  {
   "cell_type": "markdown",
   "id": "2b05eceb-aa3d-4ccb-bea4-83688db4b81f",
   "metadata": {},
   "source": [
    "**Apache YARN (Yet Another Resource Negotiator)** - not to be confused with [yarn](https://yarnpkg.com/), the JavaScript package manager - is a **resource manager** for Hadoop or Spark clusters.\n",
    "\n",
    "In a multi-user scenario, YARN negotiates and assigns the limited resources available to applications.\n"
   ]
  },
  {
   "cell_type": "markdown",
   "id": "20f6a6a8-e0a4-47c4-bd6a-20abe2a7394d",
   "metadata": {},
   "source": [
    "![](https://docs.microsoft.com/en-us/azure/hdinsight/spark/media/apache-spark-streaming-high-availability/yarn-arch.png)\n",
    "_Source: [Microsoft](https://docs.microsoft.com/en-us/azure/hdinsight/spark/apache-spark-streaming-high-availability)_"
   ]
  },
  {
   "cell_type": "markdown",
   "id": "0f935c6c-627a-4b2f-9801-5f48a8ced09b",
   "metadata": {},
   "source": [
    "## Running Spark on YARN"
   ]
  },
  {
   "cell_type": "markdown",
   "id": "62b724c4-2401-455c-8bb4-c84be1f70b1e",
   "metadata": {},
   "source": [
    "### Configuration"
   ]
  },
  {
   "cell_type": "markdown",
   "id": "7c9243ff-a957-4857-9db6-92a2f2c6426e",
   "metadata": {},
   "source": [
    "This [**guide**](https://spark.apache.org/docs/latest/running-on-yarn.html) describes the configuration necessary for running Spark jobs on a YARN-managed system."
   ]
  },
  {
   "cell_type": "markdown",
   "id": "a94400fd-3c18-44de-8eb6-e5821d07e8e1",
   "metadata": {},
   "source": [
    "### Running Spark Jobs via YARN"
   ]
  },
  {
   "cell_type": "markdown",
   "id": "8424669c-b142-4e54-bebe-8441b3500654",
   "metadata": {},
   "source": [
    "The command for submitting a Spark job with the help of YARN has the following pattern:"
   ]
  },
  {
   "cell_type": "markdown",
   "id": "9892d853-6768-438c-a9b8-525e5c6f9cf7",
   "metadata": {},
   "source": [
    "```\n",
    "spark-submit --class path.to.your.Class --master yarn --deploy-mode cluster [options] <job> [job options]\n",
    "```"
   ]
  },
  {
   "cell_type": "markdown",
   "id": "b8a78307-c320-4535-b488-b827335db7bc",
   "metadata": {},
   "source": [
    "---\n",
    "_This notebook is licensed under a [Creative Commons Attribution-NonCommercial-ShareAlike 4.0 International (CC BY-NC-SA 4.0)](https://creativecommons.org/licenses/by-nc-sa/4.0/). Copyright © 2018-2025 [Point 8 GmbH](https://point-8.de)_"
   ]
  }
 ],
 "metadata": {
  "kernelspec": {
   "display_name": "Python 3",
   "language": "python",
   "name": "python3"
  },
  "language_info": {
   "codemirror_mode": {
    "name": "ipython",
    "version": 3
   },
   "file_extension": ".py",
   "mimetype": "text/x-python",
   "name": "python",
   "nbconvert_exporter": "python",
   "pygments_lexer": "ipython3",
   "version": "3.8.8"
  }
 },
 "nbformat": 4,
 "nbformat_minor": 5
}
