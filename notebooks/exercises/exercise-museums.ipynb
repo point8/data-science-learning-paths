{
 "cells": [
  {
   "cell_type": "markdown",
   "metadata": {},
   "source": [
    "# Exercise: Museums of France"
   ]
  },
  {
   "cell_type": "markdown",
   "metadata": {},
   "source": [
    "![museum view](https://upload.wikimedia.org/wikipedia/commons/thumb/c/c5/Cour_Carr%C3%A9e%2C_Louvre%2C_Paris_17_August_2013.jpg/800px-Cour_Carr%C3%A9e%2C_Louvre%2C_Paris_17_August_2013.jpg)\n",
    "Source: [Wikimedia Commons](https://commons.wikimedia.org/wiki/File:Cour_Carr%C3%A9e,_Louvre,_Paris_17_August_2013.jpg)"
   ]
  },
  {
   "cell_type": "markdown",
   "metadata": {},
   "source": [
    "In the folder `data_museums` you will find two data files: "
   ]
  },
  {
   "cell_type": "code",
   "execution_count": null,
   "metadata": {},
   "outputs": [],
   "source": [
    "import os\n",
    "os.listdir(\"../.assets/data/museums\")"
   ]
  },
  {
   "cell_type": "markdown",
   "metadata": {},
   "source": [
    "`Liste_musees_de_France.xls` is an Excel file listing in each row a museum of France and several of its attributes. `departements.csv` lists the departements (administrative divisions) of France and gives information on each. \n",
    "\n",
    "We now look at the data with one question in mind: Is there a connection between the population size of a department and how many museums it has?"
   ]
  },
  {
   "cell_type": "markdown",
   "metadata": {},
   "source": [
    "**Task: Calculate the correlation (e.g. using Pearson's correlation coefficient) between the number of people living in a department and the number of museums in that department.**"
   ]
  },
  {
   "cell_type": "markdown",
   "metadata": {},
   "source": [
    "# Analysis"
   ]
  },
  {
   "cell_type": "markdown",
   "metadata": {},
   "source": [
    "Start your analysis here."
   ]
  },
  {
   "cell_type": "code",
   "execution_count": null,
   "metadata": {},
   "outputs": [],
   "source": []
  },
  {
   "cell_type": "markdown",
   "metadata": {},
   "source": [
    "---\n",
    "_This notebook is licensed under a [Creative Commons Attribution-NonCommercial-ShareAlike 4.0 International (CC BY-NC-SA 4.0)](https://creativecommons.org/licenses/by-nc-sa/4.0/). Copyright © 2018-2025 [Point 8 GmbH](https://point-8.de)_"
   ]
  }
 ],
 "metadata": {
  "kernelspec": {
   "display_name": "Python 3",
   "language": "python",
   "name": "python3"
  },
  "language_info": {
   "codemirror_mode": {
    "name": "ipython",
    "version": 3
   },
   "file_extension": ".py",
   "mimetype": "text/x-python",
   "name": "python",
   "nbconvert_exporter": "python",
   "pygments_lexer": "ipython3",
   "version": "3.7.3"
  }
 },
 "nbformat": 4,
 "nbformat_minor": 2
}
