{
 "cells": [
  {
   "cell_type": "markdown",
   "metadata": {},
   "source": [
    "# Explore a churn dataset II\n",
    "We will now apply some other strategies to find out, if our dataset is promising detect (with machine learning) if a customer churns."
   ]
  },
  {
   "cell_type": "code",
   "execution_count": null,
   "metadata": {},
   "outputs": [],
   "source": [
    "import pandas as pd\n",
    "import matplotlib.pyplot as plt\n",
    "import matplotlib\n",
    "import numpy as np\n",
    "import pickle\n",
    "import os\n",
    " \n",
    "%config InlineBackend.figure_format = 'retina'"
   ]
  },
  {
   "cell_type": "code",
   "execution_count": null,
   "metadata": {},
   "outputs": [],
   "source": [
    "input_file = '../../.assets/data/churn/churn_persona.pkl.zip'\n",
    "\n",
    "try:\n",
    "    df = pd.read_pickle(input_file)\n",
    "    print(('SUCCESS: Everything seems fine, we are good to go.'))\n",
    "except FileNotFoundError:\n",
    "    print(Markdown(f'ERROR: File {input_file} not found. Did you forget to run the create_churn_persona notebook first?'))"
   ]
  },
  {
   "cell_type": "code",
   "execution_count": null,
   "metadata": {},
   "outputs": [],
   "source": [
    "#print the columns in the dataset\n",
    "df.columns"
   ]
  },
  {
   "cell_type": "markdown",
   "metadata": {},
   "source": [
    "## Back to Work\n",
    "\n",
    "We want to find out if we see seperation power. But now we perform it higher dimensionality by combining features within one plot.\n",
    "\n",
    "Let's define a function, that shows us our customer data depending on wether they are going to terminate their contracts or not. You can just play around with different combinations of variables. Do you see some separation?"
   ]
  },
  {
   "cell_type": "code",
   "execution_count": null,
   "metadata": {},
   "outputs": [],
   "source": [
    "churn = df['churn']\n",
    "not_churn = ~churn\n",
    "\n",
    "def scatter_plot(vars):\n",
    "    ax = plt.subplot(111)\n",
    "    df[not_churn].plot.scatter(vars[0], vars[1], ax=ax, color='C0', alpha=0.3, s=5)\n",
    "    df[churn].plot.scatter(vars[0], vars[1], ax=ax, color='C1', alpha=0.3, s=5)"
   ]
  },
  {
   "cell_type": "code",
   "execution_count": null,
   "metadata": {},
   "outputs": [],
   "source": [
    "scatter_plot(['age','year'])"
   ]
  },
  {
   "cell_type": "code",
   "execution_count": null,
   "metadata": {},
   "outputs": [],
   "source": [
    "scatter_plot(['age','contacts'])"
   ]
  },
  {
   "cell_type": "code",
   "execution_count": null,
   "metadata": {},
   "outputs": [],
   "source": [
    "scatter_plot(['pay','d_pay'])"
   ]
  },
  {
   "cell_type": "markdown",
   "metadata": {},
   "source": [
    "## Recognize Shapes\n",
    "Ok, that seems a bit like a mess. We can try doing something more sophisticated. We build a histogram on which we see the churn ratios. Meaning, the number of customers terminating their contracts over the total number of customers in each bin."
   ]
  },
  {
   "cell_type": "code",
   "execution_count": null,
   "metadata": {},
   "outputs": [],
   "source": [
    "def rate_hist(vars, bins=[20,20], scatter=False):\n",
    "    dc = df[churn]\n",
    "    dn = df    \n",
    "    \n",
    "    datan = plt.hist2d(df[vars[0]],df[vars[1]], bins=bins)\n",
    "    datac = plt.hist2d(dc[vars[0]],dc[vars[1]], bins=datan[1:3])\n",
    "    plt.close()\n",
    "    \n",
    "    plt.figure(figsize=[8,6])\n",
    "    plt.cla() #clear current axis\n",
    "    data = np.transpose(np.nan_to_num(datac[0]/datan[0]))[::-1]\n",
    "    plt.imshow(data, extent=[min(datan[1]),max(datan[1]),min(datan[2]),max(datan[2])], aspect='auto')\n",
    "    plt.xlabel(f'{vars[0]}')\n",
    "    plt.ylabel(f'{vars[1]}')\n",
    "    plt.colorbar()\n",
    "    if scatter:\n",
    "        plt.scatter(dc[vars[0]],dc[vars[1]], color='red', alpha=0.1)\n",
    "    plt.tight_layout()"
   ]
  },
  {
   "cell_type": "markdown",
   "metadata": {},
   "source": [
    "And again we can try to find some areas, with a high churn rate (greenish and yellow areas) and a large total number of clients willing to terminate (red dots). Try some different combinations of variables."
   ]
  },
  {
   "cell_type": "code",
   "execution_count": null,
   "metadata": {},
   "outputs": [],
   "source": [
    "rate_hist(['age','contacts'])"
   ]
  },
  {
   "cell_type": "code",
   "execution_count": null,
   "metadata": {},
   "outputs": [],
   "source": [
    "rate_hist(['pay', 'd_pay'], bins=[41,41])"
   ]
  },
  {
   "cell_type": "markdown",
   "metadata": {},
   "source": [
    "## Discrete features\n",
    "For discrete data we have to be a bit more carefull, as automatic binning functions often fail. So either set the binning manually..."
   ]
  },
  {
   "cell_type": "code",
   "execution_count": null,
   "metadata": {},
   "outputs": [],
   "source": [
    "rate_hist(['bank_n', 'mail_n'],bins=[np.linspace(0.5,5.5,6),np.linspace(0.5,5.5,6)])"
   ]
  },
  {
   "cell_type": "markdown",
   "metadata": {},
   "source": [
    "...or invent a new way of plotting binned data. This example is a bit tricky, but still, we get the information we need."
   ]
  },
  {
   "cell_type": "code",
   "execution_count": null,
   "metadata": {},
   "outputs": [],
   "source": [
    "data = (df[churn].groupby(['bank_n','mail_n'])['age'].count()/\n",
    "    df.groupby(['bank_n','mail_n'])['age'].count()).unstack()\n",
    "\n",
    "fig = plt.figure(figsize=(8,6))\n",
    "ax = plt.imshow(data)\n",
    "plt.colorbar()\n",
    "\n",
    "indx = [item[0] for item in df.groupby(['bank','bank_n'])['age'].unique().index]\n",
    "indy = [item[0] for item in df.groupby(['mail','mail_n'])['age'].unique().index]\n",
    "\n",
    "plt.yticks(data.columns-1, indx)\n",
    "plt.xticks(data.index-1, indy, rotation='vertical')\n",
    "plt.show()"
   ]
  },
  {
   "cell_type": "markdown",
   "metadata": {},
   "source": [
    "In addition, we can compare the churn rates (left plot) and absolute numbers of terminating customers (right plot)."
   ]
  },
  {
   "cell_type": "code",
   "execution_count": null,
   "metadata": {},
   "outputs": [],
   "source": [
    "plt.figure(figsize=[16,6])\n",
    "\n",
    "plt.subplot(121)\n",
    "\n",
    "data = (df[churn].groupby(['bank_n','mail_n'])['age'].count()/\n",
    "    df.groupby(['bank_n','mail_n'])['age'].count()).unstack()\n",
    "\n",
    "ax = plt.imshow(data)\n",
    "plt.colorbar()\n",
    "\n",
    "indx = [item[0] for item in df.groupby(['bank','bank_n'])['age'].unique().index]\n",
    "indy = [item[0] for item in df.groupby(['mail','mail_n'])['age'].unique().index]\n",
    "\n",
    "plt.yticks(data.columns-1, indx)\n",
    "plt.xticks(data.index-1, indy, rotation='vertical')\n",
    "\n",
    "plt.subplot(122)\n",
    "data = (df[churn].groupby(['bank_n','mail_n'])['age'].count()).unstack()\n",
    "plt.imshow(data)\n",
    "plt.yticks(data.columns-1, indx)\n",
    "plt.xticks(data.index-1, indy, rotation='vertical')\n",
    "plt.colorbar()\n",
    "\n",
    "plt.tight_layout()"
   ]
  },
  {
   "cell_type": "markdown",
   "metadata": {},
   "source": [
    "On the one hand the left plot tells us, if a customer has not given his email address and has his bank account at *Interbank*, he has a very high churn rate. On the other hand the right plot let us know, that there are just a few customers with this feature combination, who are terminating their contract. There are a way more churning customers with a bank account at *Stadtbank* and having a email address from *brief.de*. "
   ]
  },
  {
   "cell_type": "markdown",
   "metadata": {},
   "source": [
    "## What a Mess\n",
    "So you see, looking around in large datasets is challenging in any case. Additionally, human behavior is not easily predictable. Would you feel confident deciding which customers to speak to?\n",
    "\n",
    "Try out, and then see, what machine learning algorithms can do."
   ]
  },
  {
   "cell_type": "markdown",
   "metadata": {},
   "source": [
    "## Exercise\n",
    "\n",
    "  * Create the single most impressive plot to explain a key feature of churn behaviour.\n",
    "  * What would you derive for your marketing efforts?\n",
    "  "
   ]
  },
  {
   "cell_type": "markdown",
   "metadata": {},
   "source": [
    "---\n",
    "_This notebook is licensed under a [Creative Commons Attribution-NonCommercial-ShareAlike 4.0 International (CC BY-NC-SA 4.0)](https://creativecommons.org/licenses/by-nc-sa/4.0/). Copyright © 2018-2025 [Point 8 GmbH](https://point-8.de)_"
   ]
  }
 ],
 "metadata": {
  "kernelspec": {
   "display_name": "Python 3",
   "language": "python",
   "name": "python3"
  },
  "language_info": {
   "codemirror_mode": {
    "name": "ipython",
    "version": 3
   },
   "file_extension": ".py",
   "mimetype": "text/x-python",
   "name": "python",
   "nbconvert_exporter": "python",
   "pygments_lexer": "ipython3",
   "version": "3.8.0"
  }
 },
 "nbformat": 4,
 "nbformat_minor": 4
}
