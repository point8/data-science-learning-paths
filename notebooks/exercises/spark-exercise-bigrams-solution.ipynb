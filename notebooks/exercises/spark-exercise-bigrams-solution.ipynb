{
 "cells": [
  {
   "cell_type": "markdown",
   "metadata": {},
   "source": [
    "# Solution: Counting Bigrams"
   ]
  },
  {
   "cell_type": "code",
   "execution_count": null,
   "metadata": {},
   "outputs": [],
   "source": [
    "import findspark\n",
    "findspark.init()"
   ]
  },
  {
   "cell_type": "code",
   "execution_count": null,
   "metadata": {},
   "outputs": [],
   "source": [
    "import pyspark"
   ]
  },
  {
   "cell_type": "code",
   "execution_count": null,
   "metadata": {},
   "outputs": [],
   "source": [
    "cd ../spark/"
   ]
  },
  {
   "cell_type": "code",
   "execution_count": null,
   "metadata": {},
   "outputs": [],
   "source": [
    "from ds101_spark_tools import use_spark_context"
   ]
  },
  {
   "cell_type": "code",
   "execution_count": null,
   "metadata": {},
   "outputs": [],
   "source": [
    "cd ../exercises"
   ]
  },
  {
   "cell_type": "markdown",
   "metadata": {},
   "source": [
    "## Exercise: Bigram Count"
   ]
  },
  {
   "cell_type": "code",
   "execution_count": null,
   "metadata": {},
   "outputs": [],
   "source": [
    "text_path = \"../.assets/data/iliad/iliad.txt\"\n",
    "\n",
    "with use_spark_context(\"BigramCount\") as spark:\n",
    "    text_file = spark.textFile(text_path)\n",
    "    bigrams = text_file.flatMap(lambda line: line.split(\".\")) \\\n",
    "                       .map(lambda line: line.strip().split(\" \")) \\\n",
    "                       .flatMap(lambda xs: (tuple(x) for x in zip(xs, xs[1:])))\n",
    "    counts = bigrams.map(lambda x: (x, 1)) \\\n",
    "            .reduceByKey(lambda x, y: x + y) \\\n",
    "            .sortBy(lambda kv: kv[1], ascending=False)\n",
    "    for kv in counts.take(10):\n",
    "        print(kv)"
   ]
  },
  {
   "cell_type": "markdown",
   "metadata": {},
   "source": [
    "## Exercise: The Greatest Name in British Surreal Comedy"
   ]
  },
  {
   "cell_type": "code",
   "execution_count": null,
   "metadata": {},
   "outputs": [],
   "source": [
    "%%file scripts/python_names.txt\n",
    "Eric Idle\n",
    "Graham Chapman\n",
    "John Cleese\n",
    "Terry Gilliam\n",
    "Terry Jones\n",
    "Michael Palin\n",
    "Monty Python\n"
   ]
  },
  {
   "cell_type": "code",
   "execution_count": null,
   "metadata": {},
   "outputs": [],
   "source": [
    "with open(\"scripts/python_names.txt\", \"r\") as f:\n",
    "    names = [line.strip() for line in f]\n",
    "    print(names)"
   ]
  },
  {
   "cell_type": "code",
   "execution_count": null,
   "metadata": {},
   "outputs": [],
   "source": [
    "%%file scripts/spark_greatest_name.py\n",
    "\n",
    "from contextlib import contextmanager\n",
    "from pyspark import SparkContext, SparkConf\n",
    "import argparse\n",
    "\n",
    "@contextmanager\n",
    "def use_spark_context(appName):\n",
    "    conf = SparkConf().setAppName(appName) \n",
    "    spark_context = SparkContext(conf=conf)\n",
    "\n",
    "    try:\n",
    "        print(\"starting \", appName)\n",
    "        yield spark_context\n",
    "    finally:\n",
    "        spark_context.stop()\n",
    "        print(\"stopping \", appName)\n",
    "\n",
    "        \n",
    "if __name__ == \"__main__\":\n",
    "    parser = argparse.ArgumentParser(description='')\n",
    "    parser.add_argument('-t','--text', help='path to text data', required=True)\n",
    "    parser.add_argument('-n','--names', help='path to names file, one name per line', required=True)\n",
    "    args = vars(parser.parse_args())\n",
    "    \n",
    "    text_path = args[\"text\"]\n",
    "    names_path = args[\"names\"]\n",
    "    with open(names_path, \"r\") as names_file:\n",
    "        names = [line.strip() for line in names_file]\n",
    "        name_bigrams = [tuple(name.split(\" \")) for name in names]\n",
    "\n",
    "    print(\"input names: \", name_bigrams)\n",
    "    with use_spark_context(\"The Greatest Name\") as spark:\n",
    "        text_file = spark.textFile(text_path)\n",
    "        bigrams = text_file.flatMap(lambda line: line.split(\".\")) \\\n",
    "                           .map(lambda line: line.strip().split(\" \")) \\\n",
    "                           .flatMap(lambda xs: (tuple(x) for x in zip(xs, xs[1:])))\n",
    "        counts = bigrams.map(lambda bigram: (bigram, 1)) \\\n",
    "                .reduceByKey(lambda x, y: x + y) \\\n",
    "                .filter(lambda kv: kv[0] in name_bigrams) \\\n",
    "                .collect()\n",
    "        print(\"Number of mentions for each name:\")\n",
    "        print(counts)"
   ]
  },
  {
   "cell_type": "markdown",
   "metadata": {},
   "source": [
    "---\n",
    "_This notebook is licensed under a [Creative Commons Attribution-NonCommercial-ShareAlike 4.0 International (CC BY-NC-SA 4.0)](https://creativecommons.org/licenses/by-nc-sa/4.0/). Copyright © 2018-2025 [Point 8 GmbH](https://point-8.de)_"
   ]
  }
 ],
 "metadata": {
  "kernelspec": {
   "display_name": "Python 3",
   "language": "python",
   "name": "python3"
  },
  "language_info": {
   "codemirror_mode": {
    "name": "ipython",
    "version": 3
   },
   "file_extension": ".py",
   "mimetype": "text/x-python",
   "name": "python",
   "nbconvert_exporter": "python",
   "pygments_lexer": "ipython3",
   "version": "3.7.8"
  }
 },
 "nbformat": 4,
 "nbformat_minor": 4
}
