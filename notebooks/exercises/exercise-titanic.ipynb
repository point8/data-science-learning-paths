{
 "cells": [
  {
   "cell_type": "markdown",
   "metadata": {},
   "source": [
    "# Open-Ended Exercise: The Titanic\n",
    "\n",
    "![Titanic sinking](https://upload.wikimedia.org/wikipedia/commons/4/4f/Titanic_the_sinking.jpg)\n",
    "Source: [Wikimedia Commons](https://commons.wikimedia.org/wiki/File:Titanic_the_sinking.jpg?uselang=de)\n",
    "\n",
    "\n",
    "\n",
    "> The captain can, by simply moving an electric switch, instantly close the doors throughout, practically making the vessel unsinkable.   \n",
    "\n",
    "-- _Irish News and Belfast Morning News, June 1st, 1911, on the incomplete Titanic._\n",
    "\n",
    "RMS Titanic was a British passenger liner that sank in the North Atlantic Ocean in the early morning hours of 15 April 1912, after it collided with an iceberg during its maiden voyage from Southampton to New York City. There were an estimated 2,224 passengers and crew aboard the ship, and more than 1,500 died. \n",
    "\n",
    "This data set is a partial list of passengers of the ship, recording several attributes of the person as well as whether they survived the disaster.\n"
   ]
  },
  {
   "cell_type": "markdown",
   "metadata": {},
   "source": [
    "## Answering Questions with Data\n",
    "\n",
    "_**Question A**: \"Women and children first\" is a well-known code of conduct for dangerous situations at sea. Looking at the data, is it likely that the crew and passengers of the Titanic respected this rule?_\n",
    "\n",
    "_**Question B**: Passengers on the Titanic came from all social classes, from the very poor to some of the wealthiest people of their time. Did wealth influence your chances of survival in this disaster?_\n",
    "\n",
    "\n",
    "**Investigate the data set with these questions in mind. Use methods of data exploration, data visualization and statistics. Code your analysis workflow in Python. Prepare to present your answer to your peers, making a clear and convincing argument from the data. We refer to children as younger than 16 years old.**\n",
    "\n"
   ]
  },
  {
   "cell_type": "markdown",
   "metadata": {},
   "source": [
    "## Preamble"
   ]
  },
  {
   "cell_type": "code",
   "execution_count": null,
   "metadata": {},
   "outputs": [],
   "source": [
    "import pandas as pd"
   ]
  },
  {
   "cell_type": "markdown",
   "metadata": {},
   "source": [
    "## Loading the Data"
   ]
  },
  {
   "cell_type": "code",
   "execution_count": null,
   "metadata": {},
   "outputs": [],
   "source": [
    "df = pd.read_csv(\"../.assets/data/titanic/titanic.csv\")"
   ]
  },
  {
   "cell_type": "code",
   "execution_count": null,
   "metadata": {},
   "outputs": [],
   "source": [
    "df.head()"
   ]
  },
  {
   "cell_type": "markdown",
   "metadata": {},
   "source": [
    "... and the documentation:"
   ]
  },
  {
   "cell_type": "code",
   "execution_count": null,
   "metadata": {},
   "outputs": [],
   "source": [
    "with open('../.assets/data/titanic/titanic-documentation.txt', 'r') as doc:\n",
    "    print(doc.read())"
   ]
  },
  {
   "cell_type": "markdown",
   "metadata": {},
   "source": [
    "## Analysis"
   ]
  },
  {
   "cell_type": "markdown",
   "metadata": {},
   "source": [
    "Start your analysis here."
   ]
  },
  {
   "cell_type": "code",
   "execution_count": null,
   "metadata": {},
   "outputs": [],
   "source": []
  },
  {
   "cell_type": "markdown",
   "metadata": {},
   "source": [
    "---\n",
    "_This notebook is licensed under a [Creative Commons Attribution-NonCommercial-ShareAlike 4.0 International (CC BY-NC-SA 4.0)](https://creativecommons.org/licenses/by-nc-sa/4.0/). Copyright © 2018-2024 [Point 8 GmbH](https://point-8.de)_"
   ]
  }
 ],
 "metadata": {
  "kernelspec": {
   "display_name": "Python 3 (ipykernel)",
   "language": "python",
   "name": "python3"
  },
  "language_info": {
   "codemirror_mode": {
    "name": "ipython",
    "version": 3
   },
   "file_extension": ".py",
   "mimetype": "text/x-python",
   "name": "python",
   "nbconvert_exporter": "python",
   "pygments_lexer": "ipython3",
   "version": "3.10.9"
  }
 },
 "nbformat": 4,
 "nbformat_minor": 4
}
