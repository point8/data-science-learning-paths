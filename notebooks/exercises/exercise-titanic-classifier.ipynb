{
 "cells": [
  {
   "cell_type": "markdown",
   "metadata": {},
   "source": [
    "# Building a Classifier for Survival on the Titanic\n",
    "\n",
    "![Titanic sinking](https://upload.wikimedia.org/wikipedia/commons/4/4f/Titanic_the_sinking.jpg)\n",
    "Source: [Wikimedia Commons](https://commons.wikimedia.org/wiki/File:Titanic_the_sinking.jpg?uselang=de)\n",
    "\n",
    "\n",
    "\n",
    "> The captain can, by simply moving an electric switch, instantly close the doors throughout, practically making the vessel unsinkable.   \n",
    "\n",
    "-- _Irish News and Belfast Morning News, June 1st, 1911, on the incomplete Titanic._\n",
    "\n",
    "RMS Titanic was a British passenger liner that sank in the North Atlantic Ocean in the early morning hours of 15 April 1912, after it collided with an iceberg during its maiden voyage from Southampton to New York City. There were an estimated 2,224 passengers and crew aboard the ship, and more than 1,500 died. \n",
    "\n",
    "This data set is a partial list of passengers of the ship, recording several attributes of the person as well as whether they survived the disaster.\n"
   ]
  },
  {
   "cell_type": "markdown",
   "metadata": {},
   "source": [
    "## Task\n",
    "\n",
    "**Your task is to build a machine learning model that classifies passengers as survivors or victims**\n",
    "\n",
    "Apply your new knowledge about\n",
    "- **[📓 classification](../ml/ml-classification-intro.ipynb)**\n",
    "- **[📓 feature engineering and selection](../ml/ml-feature-engineering.ipynb)**\n",
    "- **[📓 algorithm selection and hyperparameter tuning](../ml/ml-algo-hyperparameter.ipynb)**\n",
    "\n",
    "**Evaluate and present the model performance using**\n",
    "- confusion matrices\n",
    "- the _precision_, _recall_ and _F1_ metrics\n",
    "- cross-validation"
   ]
  },
  {
   "cell_type": "markdown",
   "metadata": {},
   "source": [
    "Here is the documentation of the dataset for reference:"
   ]
  },
  {
   "cell_type": "code",
   "execution_count": null,
   "metadata": {},
   "outputs": [],
   "source": [
    "with open('../.assets/data/titanic/titanic-documentation.txt', 'r') as doc:\n",
    "    print(doc.read())"
   ]
  },
  {
   "cell_type": "markdown",
   "metadata": {},
   "source": [
    "## Workflow"
   ]
  },
  {
   "cell_type": "markdown",
   "metadata": {},
   "source": [
    "Start your ML workflow here."
   ]
  },
  {
   "cell_type": "code",
   "execution_count": null,
   "metadata": {},
   "outputs": [],
   "source": []
  },
  {
   "cell_type": "markdown",
   "metadata": {},
   "source": [
    "---\n",
    "_This notebook is licensed under a [Creative Commons Attribution-NonCommercial-ShareAlike 4.0 International (CC BY-NC-SA 4.0)](https://creativecommons.org/licenses/by-nc-sa/4.0/). Copyright © 2018-2025 [Point 8 GmbH](https://point-8.de)_"
   ]
  }
 ],
 "metadata": {
  "kernelspec": {
   "display_name": "Python 3 (ipykernel)",
   "language": "python",
   "name": "python3"
  },
  "language_info": {
   "codemirror_mode": {
    "name": "ipython",
    "version": 3
   },
   "file_extension": ".py",
   "mimetype": "text/x-python",
   "name": "python",
   "nbconvert_exporter": "python",
   "pygments_lexer": "ipython3",
   "version": "3.8.8"
  }
 },
 "nbformat": 4,
 "nbformat_minor": 4
}
