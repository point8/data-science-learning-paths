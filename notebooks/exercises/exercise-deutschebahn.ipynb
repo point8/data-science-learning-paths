{
 "cells": [
  {
   "cell_type": "markdown",
   "metadata": {},
   "source": [
    "## Open-Ended Exercise: Deutsche Bahn - DB"
   ]
  },
  {
   "cell_type": "markdown",
   "metadata": {},
   "source": [
    "![](graphics/logo_DB.png)"
   ]
  },
  {
   "cell_type": "markdown",
   "metadata": {},
   "source": [
    "There are several companies which provide open datasets you can explore and take to get used to data science tools. In most cases there is an intended interest why companies publish these datasets. However, in the case of [Deutsche Bahn](https://www.bahn.de/p/view/index.shtml) we will not focus on a special use case or task for you. We try to start totally independent to deepen your skills and come up with your own ideas and hypotheses you might prove with these datasets. You can find several dataset in the [DB-Open-Data-Portal](https://data.deutschebahn.com/)."
   ]
  },
  {
   "cell_type": "markdown",
   "metadata": {},
   "source": [
    "Let's take two diffent datasets you may combine to one or extract some data to join to the other. There are datasets from [elevators](https://data.deutschebahn.com/dataset/data-aufzug) and [stations](https://data.deutschebahn.com/dataset/data-stationsdaten).\n",
    "\n",
    "If have no idea where to start\n",
    "- import relevant python libraries,\n",
    "- read in data (delimiter is `;` ),\n",
    "- go on with some general sanity checks,\n",
    "- continue with preprocessing,\n",
    "- come up with your first visualization and plots,\n",
    "- and maybe find some cool finding you can present others!"
   ]
  },
  {
   "cell_type": "code",
   "execution_count": null,
   "metadata": {},
   "outputs": [],
   "source": [
    "path_elevators = \"../.assets/data/db/DBSuS-Uebersicht_Aufzuege-Stand2020-05_V1.csv\"\n",
    "path_stations = \"../.assets/data/db/DBSuS-Uebersicht_Bahnhoefe-Stand2020-03.csv\""
   ]
  },
  {
   "cell_type": "code",
   "execution_count": null,
   "metadata": {},
   "outputs": [],
   "source": [
    "# Let's start!"
   ]
  },
  {
   "cell_type": "markdown",
   "metadata": {},
   "source": [
    "---\n",
    "_This notebook is licensed under a [Creative Commons Attribution-NonCommercial-ShareAlike 4.0 International (CC BY-NC-SA 4.0)](https://creativecommons.org/licenses/by-nc-sa/4.0/). Copyright © 2018-2025 [Point 8 GmbH](https://point-8.de)_"
   ]
  }
 ],
 "metadata": {
  "kernelspec": {
   "display_name": "Python 3 (ipykernel)",
   "language": "python",
   "name": "python3"
  },
  "language_info": {
   "codemirror_mode": {
    "name": "ipython",
    "version": 3
   },
   "file_extension": ".py",
   "mimetype": "text/x-python",
   "name": "python",
   "nbconvert_exporter": "python",
   "pygments_lexer": "ipython3",
   "version": "3.10.9"
  }
 },
 "nbformat": 4,
 "nbformat_minor": 4
}
