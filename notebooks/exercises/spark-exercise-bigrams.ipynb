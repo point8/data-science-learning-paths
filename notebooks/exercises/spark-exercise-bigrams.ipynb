{
 "cells": [
  {
   "cell_type": "markdown",
   "metadata": {},
   "source": [
    "# Exercise: Counting Bigrams"
   ]
  },
  {
   "cell_type": "markdown",
   "metadata": {},
   "source": [
    "Given a sequence of tokens (e.g. words, letters, ...), an [n-gram](https://en.wikipedia.org/wiki/N-gram) is a subsequence of length $n$. If $n=2$, it is called a **bigram**. In this exercise the task is to go one step beyond counting single words, to counting bigrams with Spark.\n",
    "\n",
    "A highly scalable n-gram counter has interesting applications: For example, the [Google n-gram viewer](https://books.google.com/ngrams/graph?content=Ludwig+van+Beethoven%2CWolfgang+Amadeus+Mozart%2CFrederic+Chopin%2CFranz+Liszt%2CJohannes+Brahms%2CRobert+Schumann%2CFranz+Schubert%2CFelix+Mendelsohn%2CJohann+Sebastian+Bach&year_start=1800&year_end=2008&corpus=15&smoothing=3&share=&direct_url=t1%3B%2CLudwig%20van%20Beethoven%3B%2Cc0%3B.t1%3B%2CWolfgang%20Amadeus%20Mozart%3B%2Cc0%3B.t1%3B%2CFrederic%20Chopin%3B%2Cc0%3B.t1%3B%2CFranz%20Liszt%3B%2Cc0%3B.t1%3B%2CJohannes%20Brahms%3B%2Cc0%3B.t1%3B%2CRobert%20Schumann%3B%2Cc0%3B.t1%3B%2CFranz%20Schubert%3B%2Cc0%3B.t1%3B%2CFelix%20Mendelsohn%3B%2Cc0%3B.t1%3B%2CJohann%20Sebastian%20Bach%3B%2Cc0) allows us to search the huge text corpus of Google Books, for example comparing the popularity of terms over time."
   ]
  },
  {
   "cell_type": "code",
   "execution_count": null,
   "metadata": {},
   "outputs": [],
   "source": [
    "text_path = \"../.assets/data/iliad/iliad.txt\""
   ]
  },
  {
   "cell_type": "code",
   "execution_count": null,
   "metadata": {},
   "outputs": [],
   "source": [
    "!ls -lah {text_path}\n",
    "!head {text_path}"
   ]
  },
  {
   "cell_type": "code",
   "execution_count": null,
   "metadata": {},
   "outputs": [],
   "source": [
    "cd ../spark"
   ]
  },
  {
   "cell_type": "code",
   "execution_count": null,
   "metadata": {},
   "outputs": [],
   "source": [
    "from ds101_spark_tools import use_spark_context"
   ]
  },
  {
   "cell_type": "code",
   "execution_count": null,
   "metadata": {},
   "outputs": [],
   "source": [
    "cd ../exercises"
   ]
  },
  {
   "cell_type": "code",
   "execution_count": null,
   "metadata": {},
   "outputs": [],
   "source": [
    "# Your turn:"
   ]
  },
  {
   "cell_type": "markdown",
   "metadata": {},
   "source": [
    "------------"
   ]
  },
  {
   "cell_type": "markdown",
   "metadata": {},
   "source": [
    "## Exercise: The Greatest Name in British Surreal Comedy\n",
    "\n",
    "When Dutch programmer Guido van Rossum was pursuing, in his own words, \"a hobby programming project that would keep me occupied during the week around Christmas\" in 1989 and decided to name it **\"Python\"**, he did this indeed as a fan of the British surreal comedy group [**Monty Python**](https://en.wikipedia.org/wiki/Monty_Python). You are going to find plenty of insider references to Monty Python's work in Python programming examples. We are going to follow this tradition with this exercise:\n",
    "\n",
    "The TV shows and films of the group have made each member an icon in the world of comedy, and the members have also pursued independent careers. But, which one of them has gained most fame and notability, thereby becoming perhaps the greatest name in British surreal commedy?  And did any of them individually become more famous than \"Monty Python\", the namesake of their group?\n",
    "\n",
    "\n",
    "\n"
   ]
  },
  {
   "cell_type": "markdown",
   "metadata": {},
   "source": [
    "Here are the names we are interested in:"
   ]
  },
  {
   "cell_type": "code",
   "execution_count": null,
   "metadata": {},
   "outputs": [],
   "source": [
    "names = [\"Eric Idle\", \n",
    "         \"Graham Chapman\",\n",
    "         \"John Cleese\", \n",
    "         \"Terry Gilliam\", \n",
    "         \"Terry Jones\", \n",
    "         \"Michael Palin\",\n",
    "         \"Monty Python\"]"
   ]
  },
  {
   "cell_type": "markdown",
   "metadata": {},
   "source": [
    "As an objective measure of notability, we choose the number of times the person is mentioned in the English Wikipedia."
   ]
  },
  {
   "cell_type": "code",
   "execution_count": null,
   "metadata": {},
   "outputs": [],
   "source": [
    "name_bigrams = [tuple(name.split(\" \")) for name in names]"
   ]
  },
  {
   "cell_type": "code",
   "execution_count": null,
   "metadata": {},
   "outputs": [],
   "source": [
    "name_bigrams"
   ]
  },
  {
   "cell_type": "markdown",
   "metadata": {},
   "source": [
    "---\n",
    "_This notebook is licensed under a [Creative Commons Attribution-NonCommercial-ShareAlike 4.0 International (CC BY-NC-SA 4.0)](https://creativecommons.org/licenses/by-nc-sa/4.0/). Copyright © 2018-2025 [Point 8 GmbH](https://point-8.de)_"
   ]
  }
 ],
 "metadata": {
  "kernelspec": {
   "display_name": "Python 3",
   "language": "python",
   "name": "python3"
  },
  "language_info": {
   "codemirror_mode": {
    "name": "ipython",
    "version": 3
   },
   "file_extension": ".py",
   "mimetype": "text/x-python",
   "name": "python",
   "nbconvert_exporter": "python",
   "pygments_lexer": "ipython3",
   "version": "3.6.5"
  }
 },
 "nbformat": 4,
 "nbformat_minor": 2
}
