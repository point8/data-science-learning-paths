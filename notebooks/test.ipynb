{
 "cells": [
  {
   "cell_type": "markdown",
   "metadata": {},
   "source": [
    "# Test Notebook"
   ]
  },
  {
   "cell_type": "markdown",
   "metadata": {},
   "source": [
    "## Test PyData Stack"
   ]
  },
  {
   "cell_type": "markdown",
   "metadata": {},
   "source": [
    "**This block tests whether Python, Jupyter and all packages required are installed properly and working.**\n",
    "\n",
    "Please run the cell below (select and press <kbd>SHIFT+ENTER</kbd>). You should see the following output on the last line: \n",
    "\n",
    "```python\n",
    "Congratulations, your Python stack is ready to go\n",
    "```"
   ]
  },
  {
   "cell_type": "code",
   "execution_count": null,
   "metadata": {},
   "outputs": [],
   "source": [
    "fail = False\n",
    "try:\n",
    "    import sys\n",
    "    version_string = sys.version\n",
    "    version_parts = version_string.split(\".\")\n",
    "    major = int(version_parts[0])\n",
    "    minor = int(version_parts[1])\n",
    "    if (major) >= 3 and (minor >= 6):\n",
    "        print(f\"\"\"Your Python interpreter is ready. Your version: \n",
    "        {version_string}\n",
    "        \"\"\")\n",
    "    else:\n",
    "        print(f\"\"\"Your version of Python is older than required: \n",
    "            {version_string}\n",
    "        \"\"\")\n",
    "        fail = True\n",
    "except:\n",
    "    pass\n",
    "\n",
    "try:\n",
    "    import pandas\n",
    "except ImportError:\n",
    "    print(f\"\"\"Importing package failed: pandas\"\"\")\n",
    "    fail = True\n",
    "\n",
    "try:\n",
    "    import numpy\n",
    "except ImportError:\n",
    "    print(f\"\"\"Importing package failed: numpy\"\"\")\n",
    "    fail = True\n",
    "    \n",
    "try:\n",
    "    import matplotlib\n",
    "except ImportError:\n",
    "    print(f\"\"\"Importing package failed: matplotlib\"\"\")\n",
    "    fail = True\n",
    "    \n",
    "try:\n",
    "    import sklearn\n",
    "except ImportError:\n",
    "    print(f\"\"\"Importing package failed: sklearn\"\"\")\n",
    "    fail = True\n",
    "    \n",
    "try:\n",
    "    import data_science_learning_paths\n",
    "except ImportError:\n",
    "    print(f\"\"\"Importing package failed: data_science_learning_paths\"\"\")\n",
    "    fail = True\n",
    "\n",
    "if not fail:\n",
    "    print(\"\")\n",
    "    print(f\"\"\"Congratulations, your Python stack is ready to go\"\"\")\n",
    "else:\n",
    "    print(\"\")\n",
    "    print(\"Your Python stack is not ready, please check error messages above\")"
   ]
  },
  {
   "cell_type": "markdown",
   "metadata": {},
   "source": [
    "## Test PySpark Stack"
   ]
  },
  {
   "cell_type": "markdown",
   "metadata": {},
   "source": [
    "**This block tests whether PySpark and all packages required are installed properly and working.**\n",
    "\n",
    "Please run the cell below (select and press <kbd>SHIFT+ENTER</kbd>). You should see the following output on the last line: \n",
    "\n",
    "```python\n",
    "Congratulations, your PySpark stack is ready to go\n",
    "```"
   ]
  },
  {
   "cell_type": "markdown",
   "metadata": {},
   "source": [
    "### PySpark via Jupyter Notebook"
   ]
  },
  {
   "cell_type": "code",
   "execution_count": null,
   "metadata": {},
   "outputs": [],
   "source": [
    "fail = False\n",
    "try:\n",
    "    import sys\n",
    "    version_string = sys.version\n",
    "    version_parts = version_string.split(\".\")\n",
    "    major = int(version_parts[0])\n",
    "    minor = int(version_parts[1])\n",
    "    if (major) >= 3 and (minor >= 6):\n",
    "        print(f\"\"\"Your Python interpreter is ready. Your version: \n",
    "        {version_string}\n",
    "        \"\"\")\n",
    "    else:\n",
    "        print(f\"\"\"Your version of Python is older than required: \n",
    "            {version_string}\n",
    "        \"\"\")\n",
    "        fail = True\n",
    "except:\n",
    "    pass\n",
    "\n",
    "try:\n",
    "    import pandas\n",
    "except ImportError:\n",
    "    print(f\"\"\"Importing package failed: pandas\"\"\")\n",
    "    fail = True\n",
    "\n",
    "try:\n",
    "    import findspark\n",
    "    findspark.init()\n",
    "except ImportError:\n",
    "    print(f\"\"\"Importing package failed: findspark\"\"\")\n",
    "    fail = True\n",
    "    \n",
    "try:\n",
    "    import pyspark\n",
    "except ImportError():\n",
    "    print(f\"\"\"Importing package failed: pyspark\"\"\")\n",
    "    fail = True\n",
    "\n",
    "if not fail:\n",
    "    print(\"\")\n",
    "    print(f\"\"\"Congratulations, your PySpark stack is ready to go\"\"\")\n",
    "else:\n",
    "    print(\"\")\n",
    "    print(\"Your Python stack is not ready, please check error messages above\")"
   ]
  },
  {
   "cell_type": "markdown",
   "metadata": {},
   "source": [
    "### PySpark Batch Jobs"
   ]
  },
  {
   "cell_type": "markdown",
   "metadata": {},
   "source": [
    "Now evaluate the cells below. This creates a script that is then submitted to your PySpark installation. Verify the output: You should see something like this:\n",
    "\n",
    "    ##########################################\n",
    "    PySpark uses Python version:  3.6.5 (default, Apr 25 2018, 14:23:58) \n",
    "    [GCC 4.2.1 Compatible Apple LLVM 9.1.0 (clang-902.0.39.1)]\n",
    "    Congratulations, submitting a PySpark job is working\n",
    "    ##########################################\n",
    "\n",
    "\n",
    "Make sure PySpark is using the right Python version. This can be achieved by setting the environment variable `PYSPARK_PYTHON` to the appropriate Python binary."
   ]
  },
  {
   "cell_type": "code",
   "execution_count": null,
   "metadata": {},
   "outputs": [],
   "source": [
    "%%file spark/scripts/spark_job_test.py\n",
    "\n",
    "SPARK_APP_NAME='sparkjob_test'\n",
    "\n",
    "import sys\n",
    "from contextlib import contextmanager\n",
    "from pyspark import SparkContext, SparkConf\n",
    "\n",
    "@contextmanager\n",
    "def use_spark_context(appName):\n",
    "    conf = SparkConf().setAppName(appName) \n",
    "    spark_context = SparkContext(conf=conf)\n",
    "\n",
    "    try:\n",
    "        print(\"starting \", SPARK_APP_NAME)\n",
    "        yield spark_context\n",
    "    finally:\n",
    "        spark_context.stop()\n",
    "        print(\"stopping \", SPARK_APP_NAME)\n",
    "\n",
    "\n",
    "with use_spark_context(appName=SPARK_APP_NAME) as sc:\n",
    "    rdd = sc.range(100)\n",
    "    print()\n",
    "    print(\"##########################################\")\n",
    "    print(\"PySpark uses Python version: \", sys.version)\n",
    "    print(\"Congratulations, submitting a PySpark job is working\")\n",
    "    print(\"##########################################\")\n",
    "    print()\n"
   ]
  },
  {
   "cell_type": "code",
   "execution_count": null,
   "metadata": {},
   "outputs": [],
   "source": [
    "!spark-submit spark/scripts/spark_job_test.py"
   ]
  },
  {
   "cell_type": "markdown",
   "metadata": {},
   "source": [
    "## Test TensorFlow Stack"
   ]
  },
  {
   "cell_type": "markdown",
   "metadata": {},
   "source": [
    "**This block tests whether TensorFlow and all packages required are installed properly and working.**\n",
    "\n",
    "Please run the cell below (select and press <kbd>SHIFT+ENTER</kbd>). You should see the following output on the last line: \n",
    "\n",
    "```python\n",
    "Congratulations, your TensorFlow stack is ready to go\n",
    "```"
   ]
  },
  {
   "cell_type": "code",
   "execution_count": null,
   "metadata": {},
   "outputs": [],
   "source": [
    "fail = False\n",
    "gpu_support = None\n",
    "\n",
    "try:\n",
    "    import tensorflow\n",
    "except ImportError:\n",
    "    print(f\"\"\"Importing package failed: tensorflow\"\"\")\n",
    "    fail = True\n",
    "\n",
    "try:\n",
    "    from tensorflow import keras\n",
    "except ImportError:\n",
    "    print(f\"\"\"Importing package failed: keras\"\"\")\n",
    "    fail = True\n",
    "    \n",
    "try:\n",
    "    import numpy\n",
    "except ImportError:\n",
    "    print(f\"\"\"Importing package failed: numpy\"\"\")\n",
    "    fail = True\n",
    "    \n",
    "try:\n",
    "    gpu_support = tensorflow.test.is_gpu_available()\n",
    "except:\n",
    "    print(\"testing GPU support failed\")\n",
    "    \n",
    "try:\n",
    "    # try fitting a minimal network\n",
    "    neuron = keras.models.Sequential(\n",
    "        [\n",
    "          keras.layers.Dense(\n",
    "              units=1, \n",
    "              input_shape=(1,),\n",
    "              activation=\"tanh\",\n",
    "              kernel_initializer=\"uniform\", \n",
    "            )  \n",
    "        ]\n",
    "    )\n",
    "    n = 1000\n",
    "    X = numpy.linspace(0.0, 1.0, n)\n",
    "    y = 0.8 * X + numpy.random.normal(0.0, 0.2, n)\n",
    "    neuron.compile(optimizer=\"adam\", loss=\"mse\")\n",
    "    neuron.fit(X, y, epochs=1)\n",
    "except Exception as ex:\n",
    "    print(ex)\n",
    "    print(\"training a minimal network failed\")\n",
    "    fail = True\n",
    "    \n",
    "\n",
    "if not fail:\n",
    "    print(\"\")\n",
    "    print(f\"\"\"Congratulations, your TensorFlow stack is ready to go\"\"\")\n",
    "else:\n",
    "    print(\"\")\n",
    "    print(\"Your TensorFlow stack is not ready, please check error messages above\")\n",
    "    \n",
    "\n",
    "if gpu_support:\n",
    "    print(\"GPU support is available\")\n",
    "else:\n",
    "    print(\"GPU support is not available\")"
   ]
  },
  {
   "cell_type": "markdown",
   "metadata": {},
   "source": [
    "---\n",
    "_This notebook is licensed under a [Creative Commons Attribution-NonCommercial-ShareAlike 4.0 International (CC BY-NC-SA 4.0)](https://creativecommons.org/licenses/by-nc-sa/4.0/). Copyright © 2018-2025 [Point 8 GmbH](https://point-8.de)_"
   ]
  }
 ],
 "metadata": {
  "kernelspec": {
   "display_name": "Python 3",
   "language": "python",
   "name": "python3"
  },
  "language_info": {
   "codemirror_mode": {
    "name": "ipython",
    "version": 3
   },
   "file_extension": ".py",
   "mimetype": "text/x-python",
   "name": "python",
   "nbconvert_exporter": "python",
   "pygments_lexer": "ipython3",
   "version": "3.7.3"
  }
 },
 "nbformat": 4,
 "nbformat_minor": 2
}
