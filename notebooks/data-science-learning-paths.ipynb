{
 "cells": [
  {
   "cell_type": "markdown",
   "metadata": {},
   "source": [
    "# <span style=\"color:black\">Data Science Learning Paths</span>\n",
    "\n",
    "\n",
    "![](data-science-learning-paths-concept.png)"
   ]
  },
  {
   "cell_type": "markdown",
   "metadata": {},
   "source": [
    "# Start with the <span style=\"color:gray\">_Python basics_</span>"
   ]
  },
  {
   "cell_type": "markdown",
   "metadata": {},
   "source": [
    "## Data Analysis with Python [DAP]\n",
    "\n",
    "A 2-day intensive course covering the essentials for getting started with data analysis in Python. From the Python programming language to an ecosystem of powerful tools for data handling, analysis and visualization.\n",
    "\n",
    "- **Level**: Beginner\n",
    "- **Duration**: 2 day\n",
    "- **Prerequisites**: basic programming skills\n",
    "- **Index notebook**: [📓 Start course](index/dap2-data-analysis-python.ipynb)"
   ]
  },
  {
   "cell_type": "markdown",
   "metadata": {},
   "source": [
    "# Continue on the <span style=\"color:#DD841E\">_Python path_</span>"
   ]
  },
  {
   "cell_type": "markdown",
   "metadata": {},
   "source": [
    "## Machine Learning with Python [MLP]\n",
    "\n",
    "A 2-day intensive course enabling the participants to build machine learning applications with Python and the scikit-learn framework. We work on typical machine learning cases using hands-on examples.\n",
    "\n",
    "- **Level**: Intermediate\n",
    "- **Duration**: 2 days\n",
    "- **Prerequisites**: DAP\n",
    "- **Index notebook**: [📓 Start course](index/mlp2-machine-learning-python-2day.ipynb)"
   ]
  },
  {
   "cell_type": "markdown",
   "metadata": {},
   "source": [
    "## Deep Learning with TensorFlow [DLT]\n",
    "\n",
    "Get started with neural networks and deep learning, applying the TensorFlow and Keras libraries.\n",
    "\n",
    "- **Level**: Advanced\n",
    "- **Duration**: 2 days\n",
    "- **Prerequisites**: DAP+MLP\n",
    "- **Index notebook**: [📓 Start course](index/dlt2-intro-dl-tensorflow-2day.ipynb)"
   ]
  },
  {
   "cell_type": "markdown",
   "metadata": {},
   "source": [
    "## Machine Learning on Time Series [MLTS]\n",
    "\n",
    "A 2-day advanced course on the application of machine learning to time series analytics and forecasting.\n",
    "\n",
    "- **Level**: Advanced\n",
    "- **Duration**: 2 days\n",
    "- **Prerequisites**: DAP+MLP+DLT\n",
    "- **Index notebook**: [📓Machine Learning on Time Series](index/mlts-machine-learning-time-series.ipynb)"
   ]
  },
  {
   "cell_type": "markdown",
   "metadata": {},
   "source": [
    "## Advanced Python Data Science Ecosystem [APE]\n",
    "\n",
    "A 2-day advanced course on independent topics, including developement of python packages with poetry, object-oriented programming, introduction in data bases, dashboards with streamlit, and introduction of the polars library. \n",
    "\n",
    "- **Level**: Advanced\n",
    "- **Duration**: 2 days\n",
    "- **Prerequisites**: DAP+MLP\n",
    "- **Index notebook**: [📓Advanced Python Data Science Ecosystem](index/ape-advanced-python-ds-ecosystem-2day.ipynb)"
   ]
  },
  {
   "cell_type": "markdown",
   "metadata": {},
   "source": [
    "# Continue on the <span style=\"color:#138d75  \">_PySpark path_</span>"
   ]
  },
  {
   "cell_type": "markdown",
   "metadata": {},
   "source": [
    "## Big Data Analysis with PySpark [BDAS]\n",
    "\n",
    "This course gets you started with scaling data analysis methods to large amounts of data, using PySpark to control distributed computing on a cluster, and gives you first insights on the building blocks of ML with PySpark.\n",
    "\n",
    "- **Level**: Intermediate\n",
    "- **Duration**: 2 days\n",
    "- **Prerequisites**: DAP\n",
    "- **Index notebook**: [📓 Start course](index/bdas2-big-data-analysis-pyspark.ipynb)"
   ]
  },
  {
   "cell_type": "markdown",
   "metadata": {},
   "source": [
    "---\n",
    "_This notebook is licensed under a [Creative Commons Attribution-NonCommercial-ShareAlike 4.0 International (CC BY-NC-SA 4.0)](https://creativecommons.org/licenses/by-nc-sa/4.0/). Copyright © 2018-2022 [Point 8 GmbH](https://point-8.de)_"
   ]
  }
 ],
 "metadata": {
  "kernelspec": {
   "display_name": "Python 3.10.8 64-bit",
   "language": "python",
   "name": "python3"
  },
  "language_info": {
   "codemirror_mode": {
    "name": "ipython",
    "version": 3
   },
   "file_extension": ".py",
   "mimetype": "text/x-python",
   "name": "python",
   "nbconvert_exporter": "python",
   "pygments_lexer": "ipython3",
   "version": "3.10.8"
  },
  "vscode": {
   "interpreter": {
    "hash": "aee8b7b246df8f9039afb4144a1f6fd8d2ca17a180786b69acc140d282b71a49"
   }
  }
 },
 "nbformat": 4,
 "nbformat_minor": 4
}
