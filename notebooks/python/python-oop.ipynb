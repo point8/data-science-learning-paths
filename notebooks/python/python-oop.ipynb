{
 "cells": [
  {
   "cell_type": "markdown",
   "id": "5493614f-840a-403b-987a-dbd5df907468",
   "metadata": {
    "tags": []
   },
   "source": [
    "# Object Oriented Programming (OOP)\n",
    "\n",
    "Object Oriented Programming (OOP) is a powerful paradigm that allows us to organize code around real-world entities. It promotes modularity, reusability, and maintainability by defining objects with **attributes** (data) and **methods** (functions).\n",
    "\n",
    "In Python, everything is an object, making it an ideal language for implementing OOP principles. In this notebook will cover essential OOP concepts, including **classes**, **objects**, **inheritance**, **encapsulation**, **polymorphism** and **abstraction**."
   ]
  },
  {
   "cell_type": "code",
   "execution_count": null,
   "id": "fd4ebd86-88d6-4301-9c19-b6b2873e2219",
   "metadata": {
    "tags": []
   },
   "outputs": [],
   "source": [
    "# a string\n",
    "print(f\"{type('a string')=}\")\n",
    "\n",
    "# an integer\n",
    "print(f\"{type(42)=}\")\n",
    "\n",
    "# the 'len()' function\n",
    "print(f\"{type(len)=}\")"
   ]
  },
  {
   "cell_type": "markdown",
   "id": "e29a3aa7-86a7-43d3-9040-d44280194169",
   "metadata": {
    "tags": []
   },
   "source": [
    "## Classes and Objects"
   ]
  },
  {
   "cell_type": "markdown",
   "id": "4f2a0829-0e03-4ca2-a078-ac508ea21f59",
   "metadata": {},
   "source": [
    "A class is a blueprint for objects. It defines the **attributes** (data) and **methods** (functions) that its objects will have.\n",
    "You can use a class to create multiple objects with different values but with the same basic structure."
   ]
  },
  {
   "cell_type": "code",
   "execution_count": null,
   "id": "8d9a1551-34df-474d-a0e2-2ae793953401",
   "metadata": {
    "tags": []
   },
   "outputs": [],
   "source": [
    "class Book:\n",
    "    title: str\n",
    "    author: str\n",
    "    year_published: int\n",
    "    \n",
    "    def __init__(self, title: str, author: str, year_published: int):\n",
    "        self.title = title\n",
    "        self.author = author\n",
    "        self.year_published = year_published\n",
    "        \n",
    "    def display_info(self):\n",
    "        return f\"Book: '{self.title}' by {self.author} and published in {self.year_published}'\""
   ]
  },
  {
   "cell_type": "markdown",
   "id": "35b01a0d-660b-4351-b75a-a3f7819a3ee0",
   "metadata": {},
   "source": [
    "Above, we have defined a **class** called `Book` - a blueprint for a new type of object, here for example to represent an entry in an library.\n",
    "We have added one function to the class - it is called **methods** because it is attached to an object now. Every method has `self` as the first argument, a variable that points to the object itself. \n",
    "\n",
    "The `__init__` method is a special method called the **constructor** that defines how an object of type `Book` is created and initialized."
   ]
  },
  {
   "cell_type": "code",
   "execution_count": null,
   "id": "583998d9-0d92-4401-b803-238087b85eac",
   "metadata": {
    "tags": []
   },
   "outputs": [],
   "source": [
    "book = Book(title=\"Lord of the Rings\", author=\"J. R. R. Tolkien\", year_published=1954)"
   ]
  },
  {
   "cell_type": "markdown",
   "id": "9d3da587-b1cc-46d0-a0fb-4d4a27b64ac3",
   "metadata": {},
   "source": [
    "We have now created a new object which is an **instance** of the class `Book`, and set its attributes to the given values. We can now read these attributes as follows:"
   ]
  },
  {
   "cell_type": "code",
   "execution_count": null,
   "id": "0e4bdfe4-07c7-4f82-890d-d112659f52b5",
   "metadata": {
    "tags": []
   },
   "outputs": [],
   "source": [
    "book.title"
   ]
  },
  {
   "cell_type": "markdown",
   "id": "f2673ff6-bb73-4613-b1a0-2f0c06f9cb91",
   "metadata": {},
   "source": [
    "We have also defined one method. Methods can be almost any kind function and contain any code, but a proper method does something with the object and its attributes. Here, it combines all the attributes of a `Book` to give us a predefined display message:"
   ]
  },
  {
   "cell_type": "code",
   "execution_count": null,
   "id": "045bd538-1004-467c-a728-4cb6bc503c10",
   "metadata": {
    "tags": []
   },
   "outputs": [],
   "source": [
    "print(book.display_info())"
   ]
  },
  {
   "cell_type": "markdown",
   "id": "886de0e9-745e-4533-8be6-f27a9e872d3b",
   "metadata": {
    "tags": []
   },
   "source": [
    "### Python Exercise:\n",
    "\n",
    "Create a class called **Contact** with the following attributes: **first_name**, **last_name**, and **email**. Add a method called display_info that prints out all the information about the **Contact**."
   ]
  },
  {
   "cell_type": "code",
   "execution_count": null,
   "id": "0573e8d3-5c43-493f-902c-48d07f57b252",
   "metadata": {
    "tags": []
   },
   "outputs": [],
   "source": [
    "# Your code here\n",
    "\n",
    "\n",
    "\n"
   ]
  },
  {
   "cell_type": "markdown",
   "id": "79248a5a-0918-4db1-a145-dffb2daf24f3",
   "metadata": {
    "tags": []
   },
   "source": [
    "## Inheritance"
   ]
  },
  {
   "cell_type": "markdown",
   "id": "acbad3ff-d40a-4c26-b1f1-86e2ef320694",
   "metadata": {},
   "source": [
    "Inheritance allows one class (**child class**) to inherit attributes and methods from another class (**parent class**). It facilitates code reuse and the creation of specialized classes. In fact, every python class inherit from the `object` class.\n",
    "\n",
    "Leveraging our previous `Book` class, we can create a new `EBook` class that inherits its attributes and methods while also adding new attributes specific to ebooks like file_size and file_extension."
   ]
  },
  {
   "cell_type": "code",
   "execution_count": null,
   "id": "204f5d2e-84c2-4b5c-8257-8560acfee71e",
   "metadata": {
    "tags": []
   },
   "outputs": [],
   "source": [
    "class EBook(Book):\n",
    "    file_size: float\n",
    "    file_extension: str\n",
    "    \n",
    "    def __init__(self, title: str, author: str, year_published: int, file_size: float, file_extension: str):\n",
    "        super().__init__(title, author, year_published)\n",
    "        self.file_size = file_size\n",
    "        self.file_extension = file_extension"
   ]
  },
  {
   "cell_type": "markdown",
   "id": "a51bb472-764d-43ec-b27e-77e26fb34701",
   "metadata": {},
   "source": [
    "Since `EBook` is inheriting the `Book` class we need to satisfy the creation requiriments of `Book` parent class.\n",
    "We can do this by:\n",
    "\n",
    "1. calling the `super()` method to reference the parent class\n",
    "2. calling its `__init__` method along with the required parameters."
   ]
  },
  {
   "cell_type": "code",
   "execution_count": null,
   "id": "e60d8871-6894-407b-b895-a6765158bd95",
   "metadata": {
    "tags": []
   },
   "outputs": [],
   "source": [
    "ebook = EBook(title=\"The Martian\", author=\"Andy Weir\", year_published=2015, file_size=1000, file_extension=\".epub\")"
   ]
  },
  {
   "cell_type": "markdown",
   "id": "8a68a1ac-cae1-4bc5-94d4-5efcb70c3c10",
   "metadata": {},
   "source": [
    "We can create an `EBook` object just like before, but we need to add the additional attributes"
   ]
  },
  {
   "cell_type": "code",
   "execution_count": null,
   "id": "e9604ade-1087-4cca-b04d-c11537c0d81e",
   "metadata": {
    "tags": []
   },
   "outputs": [],
   "source": [
    "print(ebook.display_info())"
   ]
  },
  {
   "cell_type": "markdown",
   "id": "44db8415-90b1-4c69-ae46-7e992a3669c0",
   "metadata": {},
   "source": [
    "Even the `display_info()` method works but, since it was only define at the parent `Book` class, it does not know about the additional `EBook` attributes.\n",
    "\n",
    "To handle this it would be necessary to define `display_info` method so that `EBook` class can define how to display its attributes. The act of redefining a parent method to a more specific implementation is called **method overriding**."
   ]
  },
  {
   "cell_type": "markdown",
   "id": "e06904f5-740d-4259-94ee-2727c207250c",
   "metadata": {},
   "source": [
    "### Python Exercise:\n",
    "\n",
    "Try to **override** the `def display_info(self):` method at our `EBook` class to account for the additional attributes."
   ]
  },
  {
   "cell_type": "code",
   "execution_count": null,
   "id": "2ced610d-cd7c-4907-93fd-bf1db6a363c2",
   "metadata": {
    "tags": []
   },
   "outputs": [],
   "source": [
    "# Your code here\n",
    "\n",
    "\n",
    "\n",
    "\n"
   ]
  },
  {
   "cell_type": "markdown",
   "id": "bee97768-0a5e-4843-b3c1-fa9cb4b96195",
   "metadata": {
    "tags": []
   },
   "source": [
    "## Encapsulation and Access Modifiers"
   ]
  },
  {
   "cell_type": "markdown",
   "id": "94d008fe-19bc-4fdc-8aed-77035fcf7a8f",
   "metadata": {
    "tags": []
   },
   "source": [
    "Encapsulation involves controlling access to certain parts of an object. Python uses **access modifiers** to define the visibility of attributes and methods, helping to **encapsulate** data and ensure that unwanted changes cannot be made from outside the class.\n",
    "\n",
    "Access modifiers are usually:\n",
    "\n",
    "- **Public**: Can be accessed from any part of the program (default in Python).\n",
    "- **Private**: Can only be accessed within the defining class, denoted by a prefix of double underscore (`__`).\n",
    "- **Protected**: Intended for use within the defining class and subclasses, denoted by a prefix of single underscore (`_`).\n",
    "\n",
    "Such **encapsulation** of attributes and methods can reduce code complexity by hiding internal implementation details, especially when a class is used in other parts of the code or project.\n",
    "\n",
    "But it is important to remember that access modifiers in Python are not strict, they represent just an intent on how an attribute or method should be used."
   ]
  },
  {
   "cell_type": "code",
   "execution_count": null,
   "id": "24d58813-91a8-4df8-bc8f-e9f4f6885199",
   "metadata": {
    "tags": []
   },
   "outputs": [],
   "source": [
    "class Person:\n",
    "    def __init__(self, name: str, age: int):\n",
    "        self.name = name      # Public attribute\n",
    "        self._age = age       # Protected attribute\n",
    "        self.__email = None   # Private attribute\n",
    "\n",
    "    def set_email(self, email: str):\n",
    "        if '@' not in email:\n",
    "            raise Exception('Invalid email')\n",
    "        self.__email = email\n",
    "\n",
    "    def get_email(self):\n",
    "        return self.__email\n"
   ]
  },
  {
   "cell_type": "code",
   "execution_count": null,
   "id": "9a91302c-f671-41cf-a4ae-bf644c312579",
   "metadata": {
    "tags": []
   },
   "outputs": [],
   "source": [
    "person = Person(\"Bob\", age=29)\n",
    "person.set_email('bob@email.com')"
   ]
  },
  {
   "cell_type": "markdown",
   "id": "a50f2bd1-6b2e-48db-b636-ba7f8139a162",
   "metadata": {
    "tags": []
   },
   "source": [
    "We can use the `set_email` method to assign an email to our `Person` object without knowing that in fact there is some validation code in its implementation."
   ]
  },
  {
   "cell_type": "markdown",
   "id": "554326b6-d774-40fe-af4e-3c59434eed23",
   "metadata": {
    "tags": []
   },
   "source": [
    "## Polymorphism"
   ]
  },
  {
   "cell_type": "markdown",
   "id": "43a3c261-193a-4a35-876c-0824d6540212",
   "metadata": {},
   "source": [
    "Polymorphism is the ability of interacting with different objects, from different classes, through a common **interface** (methods)."
   ]
  },
  {
   "cell_type": "code",
   "execution_count": null,
   "id": "5c3cfffd-d8c3-4bd9-86ae-0f01db60ed85",
   "metadata": {
    "tags": []
   },
   "outputs": [],
   "source": [
    "name = \"Just a string\"\n",
    "data = [22, 12, 31, 12]\n",
    "\n",
    "print(len(name))\n",
    "print(len(data))"
   ]
  },
  {
   "cell_type": "markdown",
   "id": "50449721-5f87-44ca-b88a-86469dcb8620",
   "metadata": {},
   "source": [
    "With Python it is easy to encounter some polymorphic behaviour. In the example above, we can observe that the same `len(...)` method can be used to retrieve the size of different types of objects.\n",
    "\n",
    "This only works because both `str` and `list` classes implements the `__len__(...)` method, which in turn is used by the `len(...)` function."
   ]
  },
  {
   "cell_type": "code",
   "execution_count": null,
   "id": "ec07607d-6d4f-4e13-bd68-4153c29594e5",
   "metadata": {
    "tags": []
   },
   "outputs": [],
   "source": [
    "class Rectangle:\n",
    "    def __init__(self, x: float, y:float):\n",
    "        self.x = x\n",
    "        self.y = y\n",
    "    def calculate_area(self):\n",
    "        return self.x * self.y\n",
    "    \n",
    "    \n",
    "class Circle: \n",
    "    def __init__(self, r: float):\n",
    "        self.r = r\n",
    "        \n",
    "    def calculate_area(self):\n",
    "        return 3.14 * self.r**2"
   ]
  },
  {
   "cell_type": "markdown",
   "id": "2804f58b-f567-4aef-84fa-4c7a96dfca5d",
   "metadata": {},
   "source": [
    "The concept of **polymorphism** can also be applied to custom classes we define. In the example above we created two classes `Rectangle` and `Circle` where both implement the `calculate_area` method."
   ]
  },
  {
   "cell_type": "code",
   "execution_count": null,
   "id": "267529a3-e284-4b5d-8841-c628da06550d",
   "metadata": {
    "tags": []
   },
   "outputs": [],
   "source": [
    "list_of_shapes = [Circle(3), Rectangle(3, 4), Circle(20)]"
   ]
  },
  {
   "cell_type": "markdown",
   "id": "39dd3cfb-6e6e-402c-b2d3-b0c12c994821",
   "metadata": {},
   "source": [
    "We can then calculate the area of objects from these two distinct classes without having to specify or even knowing their classs types."
   ]
  },
  {
   "cell_type": "code",
   "execution_count": null,
   "id": "35dd468b-6f0b-4a09-90ca-0f10d68f4c0e",
   "metadata": {
    "tags": []
   },
   "outputs": [],
   "source": [
    "for shape in list_of_shapes:\n",
    "    print(shape.calculate_area())"
   ]
  },
  {
   "cell_type": "markdown",
   "id": "412f66ad-7cab-4d2a-917c-386e06443341",
   "metadata": {},
   "source": [
    "That works because Python cares more about what an object can do, rather than its type. That means that code like above will work for any class as long as it implements a `calculate_area(self)` method."
   ]
  },
  {
   "cell_type": "markdown",
   "id": "f83348ca-5a74-4e36-8e7a-cbb665c401fd",
   "metadata": {},
   "source": [
    "### Python Exercise:\n",
    "\n",
    "Try building on the inheritance and polymorphism concepts by:\n",
    "\n",
    " - Making the other `Rectangle` and `Circle` classes inherit from the `Shape` class.\n",
    " - Add a `Triangle` class with a **base** and **height** attributes.\n",
    "   - To calculate the area we could use the formula: `0.5 * base * height`"
   ]
  },
  {
   "cell_type": "code",
   "execution_count": null,
   "id": "cdae6c50-2990-459f-82d0-644ae73911d5",
   "metadata": {
    "tags": []
   },
   "outputs": [],
   "source": [
    "class Shape:\n",
    "    def calculate_area(self):\n",
    "        pass\n",
    "\n",
    "# Your code here\n"
   ]
  },
  {
   "cell_type": "markdown",
   "id": "6dd68bbd-bc77-478b-a5b6-4814f7d597fd",
   "metadata": {},
   "source": [
    "## Abstraction"
   ]
  },
  {
   "cell_type": "markdown",
   "id": "436de011-ae7a-46cc-a934-919e0b477cfb",
   "metadata": {},
   "source": [
    "Abstraction builds on encapsulation by emphasizing the idea of hiding complex implementation details.\n",
    "This concept is crucial for managing complex systems as it allows developers to focus on the functionality provided by an object rather than its implementation details.\n"
   ]
  },
  {
   "cell_type": "code",
   "execution_count": null,
   "id": "f1b5312c-e2a8-4523-8707-61cc54ce7f92",
   "metadata": {
    "tags": []
   },
   "outputs": [],
   "source": [
    "from abc import ABC, abstractmethod\n",
    "\n",
    "class Shape(ABC):\n",
    "    @abstractmethod\n",
    "    def calculate_area(self):\n",
    "        ...\n"
   ]
  },
  {
   "cell_type": "markdown",
   "id": "b2a25059-dfaa-4880-bc84-1fccb7ae2f5b",
   "metadata": {},
   "source": [
    "The code above defines a Shape class that inherits from the Abstract Base Class (`ABC`).\n",
    "It also defines `calculate_area` method, that is annotated as `@abstractmethod`.\n",
    "\n",
    "The `ABC` class and the `@abstractmethod` are python mechanisms to demonstrate the intention that the class and method cannot be instantiated directly as they represent just an abstraction (interface)."
   ]
  },
  {
   "cell_type": "code",
   "execution_count": null,
   "id": "ae46accd-c128-445e-aef8-6327181881b5",
   "metadata": {
    "tags": []
   },
   "outputs": [],
   "source": [
    "class Circle(Shape):\n",
    "    def __init__(self, radius: float):\n",
    "        self.radius = radius\n",
    "\n",
    "    def calculate_area(self):\n",
    "        return 3.14 * self.radius ** 2"
   ]
  },
  {
   "cell_type": "markdown",
   "id": "7be9d6a8-49ff-4b7d-9f43-f8146815a2d6",
   "metadata": {},
   "source": [
    "This allows developers to focus on the data and the interactions of objects before having to implement it."
   ]
  },
  {
   "cell_type": "markdown",
   "id": "15e6581d-4565-4eaa-a476-ec3aaa3204d8",
   "metadata": {},
   "source": [
    "---\n",
    "_This notebook is licensed under a [Creative Commons Attribution-NonCommercial-ShareAlike 4.0 International (CC BY-NC-SA 4.0)](https://creativecommons.org/licenses/by-nc-sa/4.0/). Copyright © 2018-2022 [Point 8 GmbH](https://point-8.de)_"
   ]
  },
  {
   "cell_type": "code",
   "execution_count": null,
   "id": "9832ff9c-807d-47cc-96f9-1fa7ddbdcde5",
   "metadata": {},
   "outputs": [],
   "source": []
  }
 ],
 "metadata": {
  "kernelspec": {
   "display_name": "Python 3 (ipykernel)",
   "language": "python",
   "name": "python3"
  },
  "language_info": {
   "codemirror_mode": {
    "name": "ipython",
    "version": 3
   },
   "file_extension": ".py",
   "mimetype": "text/x-python",
   "name": "python",
   "nbconvert_exporter": "python",
   "pygments_lexer": "ipython3",
   "version": "3.10.11"
  }
 },
 "nbformat": 4,
 "nbformat_minor": 5
}
