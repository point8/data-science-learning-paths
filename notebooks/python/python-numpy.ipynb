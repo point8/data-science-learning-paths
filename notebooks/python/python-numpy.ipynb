{
 "cells": [
  {
   "cell_type": "markdown",
   "metadata": {},
   "source": [
    "# Efficient Computing with NumPy\n",
    "\n",
    "**Numeric Computing** is, roughly speaking, computing with large amounts of numbers that are stored in vectors and matrices. Numeric Computing is at the core of many applications in scientific computing.\n",
    "\n",
    "Most of the tasks are feasible using standard Python libraries (or packages). But there are specialised libraries for most data science purposes, which are efficiently implemented and easy to use. Furthermore, a broad online documentation is available with examples.\n",
    "\n",
    "One of the most important libraries is [**NumPy**](http://www.numpy.org), which includes numerical computing with powerful numerical array objects and routines to manipulate them. A broadly used and more advanced library for scientific computing is [**SciPy**](https://www.scipy.org/), which is built on NumPy."
   ]
  },
  {
   "cell_type": "markdown",
   "metadata": {},
   "source": [
    "## Import of libraries\n",
    "\n",
    "To include functions, classes or data types from libraries, they have to be imported to the respective Python script or Jupyter notebook. The following example shows how to include the standard library for mathematical operations [**math**](https://docs.python.org/3.0/library/math.html)."
   ]
  },
  {
   "cell_type": "code",
   "execution_count": null,
   "metadata": {},
   "outputs": [],
   "source": [
    "import math"
   ]
  },
  {
   "cell_type": "markdown",
   "metadata": {},
   "source": [
    "All functions of the libary can be called from now on by using `math.` as prefix. The square root is given with the `sqrt()`-function as:"
   ]
  },
  {
   "cell_type": "code",
   "execution_count": null,
   "metadata": {},
   "outputs": [],
   "source": [
    "math.sqrt(4)"
   ]
  },
  {
   "cell_type": "markdown",
   "metadata": {},
   "source": [
    "It is possible to introduce an abbreviation for a single library to reduce programming effort. \n",
    "In addition, it is possible to import only single functions, which are directly callable without the leading library name."
   ]
  },
  {
   "cell_type": "code",
   "execution_count": null,
   "metadata": {},
   "outputs": [],
   "source": [
    "import math as m\n",
    "m.sqrt(4)"
   ]
  },
  {
   "cell_type": "code",
   "execution_count": null,
   "metadata": {},
   "outputs": [],
   "source": [
    "from math import sqrt\n",
    "sqrt(4)"
   ]
  },
  {
   "cell_type": "markdown",
   "metadata": {},
   "source": [
    "It is not recommended to import all functions of a library by"
   ]
  },
  {
   "cell_type": "code",
   "execution_count": null,
   "metadata": {},
   "outputs": [],
   "source": [
    "from math import *"
   ]
  },
  {
   "cell_type": "markdown",
   "metadata": {},
   "source": [
    "as for example in the later programming process affiliation or assigned names will be unknown or unclear. "
   ]
  },
  {
   "cell_type": "markdown",
   "metadata": {},
   "source": [
    "## NumPy\n",
    "\n",
    "The [**NumPy**](http://www.numpy.org/) library includes different data types and functions for efficient handling of vectors, matrices and multidimensional arrays. This is allowed by using precompiled code internally, which improves speed. \n",
    "\n",
    "The most important data type is the **numpy array**. Like a list, it is a collection of objects. These objects are, however, all of the same data type so that they can be stored and processed more efficiently in memory. Some examples are given below."
   ]
  },
  {
   "cell_type": "code",
   "execution_count": null,
   "metadata": {},
   "outputs": [],
   "source": [
    "# NumPy is imported with its common abbreviation\n",
    "import numpy as np"
   ]
  },
  {
   "cell_type": "code",
   "execution_count": null,
   "metadata": {},
   "outputs": [],
   "source": [
    "# Array of a list; data type is called numpy.ndarray\n",
    "np.array([1, 2, 3, 4, 5])  "
   ]
  },
  {
   "cell_type": "code",
   "execution_count": null,
   "metadata": {},
   "outputs": [],
   "source": [
    "# Checking for type of variable\n",
    "x=[0,1,2,3]\n",
    "y=np.array(x)\n",
    "\n",
    "print(f'x is of type: {type(x)}')\n",
    "print(f'y is of type: {type(y)}')"
   ]
  },
  {
   "cell_type": "code",
   "execution_count": null,
   "metadata": {},
   "outputs": [],
   "source": [
    "# Basic operations are NOT applied elementwise in case of a list\n",
    "print(x + x)\n",
    "print(x * 3)"
   ]
  },
  {
   "cell_type": "code",
   "execution_count": null,
   "metadata": {},
   "outputs": [],
   "source": [
    "# Basic operations are applied elementwise in case of a numpy-array\n",
    "print(y + y)\n",
    "print(y * 3)"
   ]
  },
  {
   "cell_type": "code",
   "execution_count": null,
   "metadata": {},
   "outputs": [],
   "source": [
    "# Innitializes an array of ten integers from 0 to 9\n",
    "np.arange(10) "
   ]
  },
  {
   "cell_type": "markdown",
   "metadata": {},
   "source": [
    "An 1D-`numpy.ndarray` can be interpreted as a simple vector. With NumPy you can set up data with as many dimensions as you want. But let's stay with maximal three dimensions. In some NumPy functions you should set the correct _axis_ to which you want to perform for example your calculation like summing.\n",
    "\n",
    "<img src=\"graphics/numpy_arrays.png\" style=\"width: 800px;\"/>"
   ]
  },
  {
   "cell_type": "code",
   "execution_count": null,
   "metadata": {},
   "outputs": [],
   "source": [
    "# Shape given array to a (3x5)-array\n",
    "np.arange(15).reshape(3, 5)"
   ]
  },
  {
   "cell_type": "markdown",
   "metadata": {},
   "source": [
    "## Try out: Different ways to create a NumPy array\n",
    "\n",
    "Try different array creation methods."
   ]
  },
  {
   "cell_type": "code",
   "execution_count": null,
   "metadata": {},
   "outputs": [],
   "source": [
    "np.arange(12)\n",
    "# np.ones(3)\n",
    "# np.zeros(5)\n",
    "# np.empty(7)\n",
    "\n",
    "# np.ones((3,2))\n",
    "# np.zeros((3, 2))"
   ]
  },
  {
   "cell_type": "markdown",
   "metadata": {},
   "source": [
    "### Performance _collections_: Python lists vs. NumPy array\n",
    "\n",
    "Many things that are possible with NumPy arrays can also be achieved with Python's built-in collections - like lists. The difference lies in the performance. When doing scientific computing and data analysis on large amounts of data, you don't want the overhead that comes with the great flexibility and ease of use of these data types. \n",
    "\n",
    "Let's measure the difference: With _ipython_ there come some small [**build-in magic widgets**](https://ipython.readthedocs.io/en/stable/interactive/magics.html) you can use within a cell. The [**timeit**](https://docs.python.org/2/library/timeit.html) allows measuring execution time of small code snippets. We measure how long it takes to calculate the square of the numbers from 0 to 1 million."
   ]
  },
  {
   "cell_type": "code",
   "execution_count": null,
   "metadata": {},
   "outputs": [],
   "source": [
    "numbers = range(int(1e6))"
   ]
  },
  {
   "cell_type": "code",
   "execution_count": null,
   "metadata": {},
   "outputs": [],
   "source": [
    "%timeit -n 5 [number**2 for number in numbers]"
   ]
  },
  {
   "cell_type": "code",
   "execution_count": null,
   "metadata": {},
   "outputs": [],
   "source": [
    "array = np.arange(int(1e6))\n",
    "%timeit -n 5 array**2"
   ]
  },
  {
   "cell_type": "markdown",
   "metadata": {},
   "source": [
    "The example above shows how we can achieve the same result much faster by not only replacing a list with a numpy array, but also by avoiding an explicit loop in Python. What happens under the hood is that numpy performs the calculation not in the Python interpreter, but with much faster compiled code written in C. So numpy lets you use highly optimized code without having to leave Python for C - and trust us, you probably don't want to do that."
   ]
  },
  {
   "cell_type": "markdown",
   "metadata": {},
   "source": [
    "### Why is computing with NumPy arrays fast?\n",
    "\n",
    "The reason has to do with the layout of data in the computer memory. Take a look at how data is organized differently in a list and an array.\n",
    "- a list object contains an array of pointers to objects that can be at any place in the memory\n",
    "- a numpy array object contains the array of the numbers itself, compactly located in a contiguous block of memory"
   ]
  },
  {
   "cell_type": "markdown",
   "metadata": {},
   "source": [
    "![](graphics/array_vs_list.png) [Source: Stackoverflow](https://stackoverflow.com/questions/47576775/getting-list-indexed-memory-locations-not-value-locations-but-list-index-locati)"
   ]
  },
  {
   "cell_type": "markdown",
   "metadata": {},
   "source": [
    "### Selecting Elements\n",
    "\n",
    "Elements in an array can be selected efficiently by their position (or index) in the array. This is possible with single elements, ranges or applying Boolean operations."
   ]
  },
  {
   "cell_type": "code",
   "execution_count": null,
   "metadata": {},
   "outputs": [],
   "source": [
    "num_1d = np.array([0,1,2,3,4,5])"
   ]
  },
  {
   "cell_type": "code",
   "execution_count": null,
   "metadata": {},
   "outputs": [],
   "source": [
    "num_1d = np.array([0,1,2,3,4,5])"
   ]
  },
  {
   "cell_type": "code",
   "execution_count": null,
   "metadata": {},
   "outputs": [],
   "source": [
    "print(num_1d)\n",
    "print(num_1d[0])  # indexing"
   ]
  },
  {
   "cell_type": "code",
   "execution_count": null,
   "metadata": {},
   "outputs": [],
   "source": [
    "print(num_1d[0:3])  # slicing"
   ]
  },
  {
   "cell_type": "code",
   "execution_count": null,
   "metadata": {},
   "outputs": [],
   "source": [
    "print(num_1d[-1])\n",
    "print(num_1d[1:])\n",
    "print(num_1d[:3])\n",
    "print(num_1d[0::3]) #slicing with step three"
   ]
  },
  {
   "cell_type": "markdown",
   "metadata": {},
   "source": [
    "### Boolean indexing\n",
    "\n",
    "Instead of providing the index positions, it is also possible to use array broadcasting to select the array content with [**boolean indexing**](https://numpy.org/devdocs/reference/arrays.indexing.html#boolean-array-indexing)."
   ]
  },
  {
   "cell_type": "code",
   "execution_count": null,
   "metadata": {},
   "outputs": [],
   "source": [
    "num_1d"
   ]
  },
  {
   "cell_type": "code",
   "execution_count": null,
   "metadata": {},
   "outputs": [],
   "source": [
    "high = num_1d > 3\n",
    "print(high)"
   ]
  },
  {
   "cell_type": "markdown",
   "metadata": {},
   "source": [
    "The Bolean array (in our case: `high`) has to have the same length like the array you want to filter on."
   ]
  },
  {
   "cell_type": "code",
   "execution_count": null,
   "metadata": {},
   "outputs": [],
   "source": [
    "print(num_1d[high])"
   ]
  },
  {
   "cell_type": "code",
   "execution_count": null,
   "metadata": {},
   "outputs": [],
   "source": [
    "# Direct broadcasting 1D\n",
    "print(num_1d[num_1d > 3])"
   ]
  },
  {
   "cell_type": "markdown",
   "metadata": {},
   "source": [
    "### NumPy functions\n",
    "\n",
    "The full power of numpy arrays is achieved in combination with NumPy functions. Again, they perform operations in compiled code to be very efficient."
   ]
  },
  {
   "cell_type": "code",
   "execution_count": null,
   "metadata": {},
   "outputs": [],
   "source": [
    "C = np.arange(15).reshape(3, 5)\n",
    "print(C)"
   ]
  },
  {
   "cell_type": "code",
   "execution_count": null,
   "metadata": {},
   "outputs": [],
   "source": [
    "# Sum of all elements\n",
    "C.sum(axis=None)"
   ]
  },
  {
   "cell_type": "code",
   "execution_count": null,
   "metadata": {},
   "outputs": [],
   "source": [
    "# Sum per column (axis=0) or line (axis=1)\n",
    "C.sum(axis=0)"
   ]
  },
  {
   "cell_type": "code",
   "execution_count": null,
   "metadata": {},
   "outputs": [],
   "source": [
    "# Minimum (min) or maximum (max) per colum or line\n",
    "C.min(axis=0)"
   ]
  },
  {
   "cell_type": "code",
   "execution_count": null,
   "metadata": {},
   "outputs": [],
   "source": [
    "# Cumulative sum\n",
    "C.cumsum()"
   ]
  },
  {
   "cell_type": "markdown",
   "metadata": {},
   "source": [
    "### Performance _functions_: built-in vs. NumPy"
   ]
  },
  {
   "cell_type": "code",
   "execution_count": null,
   "metadata": {},
   "outputs": [],
   "source": [
    "# list comprehension \n",
    "%timeit -n 5 values = [i for i in range(int(1e7))]; sum(values)"
   ]
  },
  {
   "cell_type": "code",
   "execution_count": null,
   "metadata": {},
   "outputs": [],
   "source": [
    "# precompiled function\n",
    "%timeit -n 5 [np.arange(int(1e7)).sum()]"
   ]
  },
  {
   "cell_type": "code",
   "execution_count": null,
   "metadata": {},
   "outputs": [],
   "source": [
    "np.array([1, 2, 3])"
   ]
  },
  {
   "cell_type": "markdown",
   "metadata": {},
   "source": [
    "### Array and matrix Operations\n",
    "\n",
    "This is an example for a 2x2 matrix or (2, 2)-array to show different kinds of multiplication."
   ]
  },
  {
   "cell_type": "code",
   "execution_count": null,
   "metadata": {},
   "outputs": [],
   "source": [
    "# Initialize\n",
    "A = np.array([[1, 1], [0, 1]])\n",
    "B = np.array([[2, 0], [3, 4]])\n",
    "print(A)\n",
    "print(B)"
   ]
  },
  {
   "cell_type": "code",
   "execution_count": null,
   "metadata": {},
   "outputs": [],
   "source": [
    "# Element-wise multiplication\n",
    "A * B"
   ]
  },
  {
   "cell_type": "code",
   "execution_count": null,
   "metadata": {},
   "outputs": [],
   "source": [
    "# Matrix product\n",
    "A.dot(B)"
   ]
  },
  {
   "cell_type": "markdown",
   "metadata": {},
   "source": [
    "# Exercices\n",
    "These execises should show you the functions and tricks of NumPy most commonly used in connection with data science. Although, typically your entry point to start with data from other sources will be pandas but let's get some insights already with numpy."
   ]
  },
  {
   "cell_type": "markdown",
   "metadata": {},
   "source": [
    "* Check wether none of the elements of a given arrays (`a_wo_zero`, `a_w_zero`) is zero."
   ]
  },
  {
   "cell_type": "code",
   "execution_count": null,
   "metadata": {},
   "outputs": [],
   "source": [
    "a_wo_zero = np.array([1, 2, 3, 4, 5, 6, 7, 8, 9, 10])\n",
    "a_w_zero = np.array([0, 1, 2, 3, 4, 5, 6, 7, 8, 9, 10])\n",
    "\n",
    "# Your code here\n",
    "\n",
    "\n"
   ]
  },
  {
   "cell_type": "markdown",
   "metadata": {},
   "source": [
    "* Is there an easier/shorter way to create the given arrays (`a_wo_zero`, `a_w_zero`)? Give it a try!\n",
    "\n",
    "Maybe some of the code will be familiar to you if we look at data visualization in another notebook."
   ]
  },
  {
   "cell_type": "code",
   "execution_count": null,
   "metadata": {},
   "outputs": [],
   "source": [
    "# Your code here\n",
    "\n",
    "\n",
    "\n"
   ]
  },
  {
   "cell_type": "markdown",
   "metadata": {},
   "source": [
    "* Generate five random numbers from the normal distribution. \n",
    "\n",
    "There are a lot of applications in a data science project where one can befenfit from generated data. To be able to generate data points according to a distribution can be helpful if the available data is insufficient, for training or testing a Machine Learning model, or to model an explicit problem and gain insights. "
   ]
  },
  {
   "cell_type": "code",
   "execution_count": null,
   "metadata": {},
   "outputs": [],
   "source": [
    "# Your code here\n",
    "\n",
    "\n",
    "\n"
   ]
  },
  {
   "cell_type": "markdown",
   "metadata": {},
   "source": [
    "---\n",
    "_This notebook is licensed under a [Creative Commons Attribution-NonCommercial-ShareAlike 4.0 International (CC BY-NC-SA 4.0)](https://creativecommons.org/licenses/by-nc-sa/4.0/). Copyright © 2018-2025 [Point 8 GmbH](https://point-8.de)_"
   ]
  }
 ],
 "metadata": {
  "kernelspec": {
   "display_name": "Python 3 (ipykernel)",
   "language": "python",
   "name": "python3"
  },
  "language_info": {
   "codemirror_mode": {
    "name": "ipython",
    "version": 3
   },
   "file_extension": ".py",
   "mimetype": "text/x-python",
   "name": "python",
   "nbconvert_exporter": "python",
   "pygments_lexer": "ipython3",
   "version": "3.10.9"
  }
 },
 "nbformat": 4,
 "nbformat_minor": 4
}
