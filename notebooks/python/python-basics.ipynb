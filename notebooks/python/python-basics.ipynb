{
 "cells": [
  {
   "cell_type": "markdown",
   "metadata": {},
   "source": [
    "# Python\n",
    "\n",
    "[**Python**](https://www.python.org/) is an easy to learn but versatile and powerful programming language. Therefore it's perfectly suited for programming beginners. Python is friendly to the beginning programmer - it makes things that should be easy to express easy to express by taking care of some technical details for them - but it also gives the professional programmer many tools to build more complex systems in an elegant way.\n",
    "\n",
    "With an already extensive standard library and a vivid data science community, Python attracts more and more \tpractitioners. Python is a multi-paradigm language, which means it allows you to use and mix different approaches to programming, including procedural, object-oriented, and functional programming. Don't worry, you will be introduced to these concepts (control flow, objects, functions...) soon.\n",
    "\n",
    "For many active users in scientific and academic circles as well as in for-profit and non-profit organisations Python is the favorite programming language. The ecosystem of libraries for numerical calculations, statistical methods, and data visualization make Python a powerful tool for data analytics."
   ]
  },
  {
   "cell_type": "markdown",
   "metadata": {},
   "source": [
    "### Language Version\n",
    "\n",
    "All material in this course is build for **Python 3**.\n",
    "\n",
    "Let's quickly check which Python version is loaded:"
   ]
  },
  {
   "cell_type": "code",
   "execution_count": null,
   "metadata": {},
   "outputs": [],
   "source": [
    "import sys\n",
    "\n",
    "sys.version"
   ]
  },
  {
   "cell_type": "markdown",
   "metadata": {},
   "source": [
    "## Working with Documentation\n",
    "\n",
    "Being able to find and work with documentation is an essential skill for any programmer. Throughout this course there will be a number of exercises. Keep in mind that not only information from the course materials, but also all of the internet is available for you for reference. \n",
    "\n",
    "For example, documentation for Python and its built-in libraries can be found at **https://docs.python.org/3/index.html**"
   ]
  },
  {
   "cell_type": "markdown",
   "metadata": {},
   "source": [
    "## Python Introduction\n",
    "\n",
    "We will now go through some basic Python concepts. If you know any other programming language, many concepts will be familiar - try to notice the differences though."
   ]
  },
  {
   "cell_type": "markdown",
   "metadata": {},
   "source": [
    "### Comments\n",
    "\n",
    "It is good practice to write not only code, but also comments to explain your program where it is not obvious. Code comments will be ignored by the Python interpreter. To create a single line comment start the line with **`#`**."
   ]
  },
  {
   "cell_type": "code",
   "execution_count": null,
   "metadata": {},
   "outputs": [],
   "source": [
    "# This is a single line comment"
   ]
  },
  {
   "cell_type": "markdown",
   "metadata": {},
   "source": [
    "## Variables and Data Types\n",
    "\n",
    "It's easy to create a variable, that is, a name pointing to an object which can then be used by the program. Python is using **dynamic typing**, i.e. the variable type will not be stated explicitly (you may give a [hint](https://docs.python.org/3/library/typing.html#module-typing)). In general a variable can hold any object type. Here are some variables, holding some of the most basic data types:"
   ]
  },
  {
   "cell_type": "code",
   "execution_count": null,
   "metadata": {},
   "outputs": [],
   "source": [
    "n = 1  # a integer variable\n",
    "s = \"python\"  # a string variable\n",
    "f = 12.34  # a float variable"
   ]
  },
  {
   "cell_type": "code",
   "execution_count": null,
   "metadata": {},
   "outputs": [],
   "source": [
    "print(type(n))\n",
    "print(type(s))\n",
    "print(type(f))"
   ]
  },
  {
   "cell_type": "markdown",
   "metadata": {},
   "source": [
    "You can directly perform arithmetic operations using variables."
   ]
  },
  {
   "cell_type": "code",
   "execution_count": null,
   "metadata": {},
   "outputs": [],
   "source": [
    "a = 1\n",
    "b = 2\n",
    "c = a + b"
   ]
  },
  {
   "cell_type": "code",
   "execution_count": null,
   "metadata": {},
   "outputs": [],
   "source": [
    "print(a, b, c)"
   ]
  },
  {
   "cell_type": "code",
   "execution_count": null,
   "metadata": {},
   "outputs": [],
   "source": [
    "print(f\"The sum of {a} and {b} is {c}.\")"
   ]
  },
  {
   "cell_type": "markdown",
   "metadata": {},
   "source": [
    "In the cell above we used the `print` function to output a string. Because we started the string with `f'`, we can directly use the names of variabes in curly braces - they are automatically replaced with the values of the variables. "
   ]
  },
  {
   "cell_type": "markdown",
   "metadata": {},
   "source": [
    "Python also uses **strong typing**. That means that the objects holding data have a clear type for which only the operations that make sense are allowed. For example, trying to add a string and an integer gives you an error in Python (it does not in some other languages):"
   ]
  },
  {
   "cell_type": "markdown",
   "metadata": {},
   "source": [
    "### Exercise: Variables and Data Types\n",
    "- Try adding variables containing different types.\n",
    "- Find out how you can:\n",
    "    - round a float number,\n",
    "    - cast a float number to string or integer,\n",
    "    - compare two numbers or strings with each other (e.g. greater than).\n",
    "- Check results from `is` and `==`, when comparing two variables."
   ]
  },
  {
   "cell_type": "code",
   "execution_count": null,
   "metadata": {},
   "outputs": [],
   "source": [
    "# Your code here\n",
    "\n",
    "\n",
    "\n",
    "\n"
   ]
  },
  {
   "cell_type": "markdown",
   "metadata": {},
   "source": [
    "## Containers"
   ]
  },
  {
   "cell_type": "markdown",
   "metadata": {},
   "source": [
    "Containers are data types that can contain others. The most important ones are tuples, lists, and dictionaries."
   ]
  },
  {
   "cell_type": "markdown",
   "metadata": {},
   "source": [
    "### Tuples"
   ]
  },
  {
   "cell_type": "markdown",
   "metadata": {},
   "source": [
    "Tuples are sequences of objects. Creating a tuple is as simple as putting different comma-separated values:"
   ]
  },
  {
   "cell_type": "code",
   "execution_count": null,
   "metadata": {},
   "outputs": [],
   "source": [
    "numbers = (a, b, c)"
   ]
  },
  {
   "cell_type": "code",
   "execution_count": null,
   "metadata": {},
   "outputs": [],
   "source": [
    "print(numbers)"
   ]
  },
  {
   "cell_type": "code",
   "execution_count": null,
   "metadata": {},
   "outputs": [],
   "source": [
    "coordinates = (x, y, z) = (1.0, 0.5, 0.25)"
   ]
  },
  {
   "cell_type": "code",
   "execution_count": null,
   "metadata": {},
   "outputs": [],
   "source": [
    "print(coordinates)"
   ]
  },
  {
   "cell_type": "markdown",
   "metadata": {},
   "source": [
    "### Lists\n",
    "\n",
    "[**Lists**](https://docs.python.org/3/tutorial/datastructures.html) are another container data type to store sequences of objects. You can store different data types in a list. You can even save different data types in the same list. Whether that makes sense is another question."
   ]
  },
  {
   "cell_type": "code",
   "execution_count": null,
   "metadata": {},
   "outputs": [],
   "source": [
    "names = [\"Tim\", \"Elon\", \"Jenny\", \"Bill\", \"Melanie\", \"Melissa\"]  # a list of strings\n",
    "ages = [19, 37, 40, 62, 31, 33]  # a list of integer numbers"
   ]
  },
  {
   "cell_type": "code",
   "execution_count": null,
   "metadata": {},
   "outputs": [],
   "source": [
    "sorted(ages)"
   ]
  },
  {
   "cell_type": "code",
   "execution_count": null,
   "metadata": {},
   "outputs": [],
   "source": [
    "sum(ages)"
   ]
  },
  {
   "cell_type": "code",
   "execution_count": null,
   "metadata": {},
   "outputs": [],
   "source": [
    "sorted(names)"
   ]
  },
  {
   "cell_type": "code",
   "execution_count": null,
   "metadata": {},
   "outputs": [],
   "source": [
    "avg_age = sum(ages) / len(ages)"
   ]
  },
  {
   "cell_type": "code",
   "execution_count": null,
   "metadata": {},
   "outputs": [],
   "source": [
    "print(f\"The average age is {avg_age} years.\")"
   ]
  },
  {
   "cell_type": "markdown",
   "metadata": {},
   "source": [
    "Lists and tuples seem quite similar, so what is the difference between them? The main difference is that tuples are **immutable** while lists are **mutable**. That means that after you have created a tuple, you cannot change it in place - you have to create a new tuple object if you want to make changes. Lists on the other hand can be edited - you can change an element, append or remove elements etc., all with the same list object."
   ]
  },
  {
   "cell_type": "code",
   "execution_count": null,
   "metadata": {},
   "outputs": [],
   "source": [
    "# Change of an element within a list\n",
    "test_list = [1, 3, 3]\n",
    "print(test_list)\n",
    "\n",
    "test_list[2] = '42'\n",
    "print(test_list)"
   ]
  },
  {
   "cell_type": "markdown",
   "metadata": {},
   "source": [
    "### Dictionaries\n",
    "\n",
    " [**Dictionaries**](https://docs.python.org/3/tutorial/datastructures.html#dictionaries) are a very useful data type to store a mapping between some objects. For each (**_key_**) a (**_value_**) is assigned. Dictionary can be nested as well."
   ]
  },
  {
   "cell_type": "code",
   "execution_count": null,
   "metadata": {},
   "outputs": [],
   "source": [
    "{'python': 3.10, 'python_old': 3.9}"
   ]
  },
  {
   "cell_type": "code",
   "execution_count": null,
   "metadata": {},
   "outputs": [],
   "source": [
    "versions = {'python': '3.10', 'python_old': '3.9'}"
   ]
  },
  {
   "cell_type": "code",
   "execution_count": null,
   "metadata": {},
   "outputs": [],
   "source": [
    "versions"
   ]
  },
  {
   "cell_type": "code",
   "execution_count": null,
   "metadata": {},
   "outputs": [],
   "source": [
    "versions['python']"
   ]
  },
  {
   "cell_type": "code",
   "execution_count": null,
   "metadata": {},
   "outputs": [],
   "source": [
    "versions['python_old']"
   ]
  },
  {
   "cell_type": "code",
   "execution_count": null,
   "metadata": {},
   "outputs": [],
   "source": [
    "versions['python'] = '3.11'"
   ]
  },
  {
   "cell_type": "code",
   "execution_count": null,
   "metadata": {},
   "outputs": [],
   "source": [
    "versions"
   ]
  },
  {
   "cell_type": "markdown",
   "metadata": {},
   "source": [
    "### Exercise: Containers\n",
    "- Try creating several variable types.\n",
    "- Try if and how you can extend/append a tuple, list or dictionary with a new entry?\n",
    "- Create a dictionary with all first names in the course as `keys` and company name/hair colour/age/... as `values`.\n",
    "    "
   ]
  },
  {
   "cell_type": "code",
   "execution_count": null,
   "metadata": {},
   "outputs": [],
   "source": [
    "# Your code here\n",
    "\n",
    "\n",
    "\n",
    "\n"
   ]
  },
  {
   "cell_type": "markdown",
   "metadata": {},
   "source": [
    "## Control flow\n",
    "\n",
    "Programming is all about giving the computer clear rules when to perform which calculation. To control the order (or the flow) of calculations that are executed different statements are provided.\n",
    "\n",
    "#### Side note: Syntax\n",
    "\n",
    "In contrast to many other programming languages where the space character is ignored by the compiler or interpreter, spaces play an important role in the Python syntax.\n",
    "\n",
    "As we will see in the following examples, some code will be indented inside of control statements. The typical identation of 4 spaces is imported. Otherwise the code cannot be interpreted.\n",
    "\n",
    "The error message in this case will look something like this:\n",
    "\n",
    "```python\n",
    "  File \"<ipython-input-4-7de823a6cc3a>\", line 2\n",
    "    ...<some code>\n",
    "        ^\n",
    "IndentationError: expected an indented block\n",
    "```\n",
    "\n",
    "#### The for-Loop"
   ]
  },
  {
   "cell_type": "code",
   "execution_count": null,
   "metadata": {},
   "outputs": [],
   "source": [
    "names"
   ]
  },
  {
   "cell_type": "code",
   "execution_count": null,
   "metadata": {},
   "outputs": [],
   "source": [
    "for x in names:\n",
    "    print(x)"
   ]
  },
  {
   "cell_type": "markdown",
   "metadata": {},
   "source": [
    "You often use singular and plural representations to make loops more readable."
   ]
  },
  {
   "cell_type": "code",
   "execution_count": null,
   "metadata": {},
   "outputs": [],
   "source": [
    "for name in names:\n",
    "    print(name)"
   ]
  },
  {
   "cell_type": "code",
   "execution_count": null,
   "metadata": {},
   "outputs": [],
   "source": [
    "# Using enumerate to add an index as a counter\n",
    "for index_nr, name in enumerate(names):\n",
    "    print(index_nr, name)"
   ]
  },
  {
   "cell_type": "markdown",
   "metadata": {},
   "source": [
    "**Important:** Lists in Python always start with 0 as first index position!"
   ]
  },
  {
   "cell_type": "code",
   "execution_count": null,
   "metadata": {},
   "outputs": [],
   "source": [
    "# Using zip to aggregate entries from different lists\n",
    "for age, name in zip(ages, names):\n",
    "    print(f'{name} is {age} years old.')"
   ]
  },
  {
   "cell_type": "markdown",
   "metadata": {},
   "source": [
    "#### The if-Statement\n",
    "\n",
    "To test for logical conditions the **if ... else** statement can be used.\n",
    "\n",
    "**Important**: Please keep in mind that e.g. an empty list `[]`, an empty dictionary `{}`, the integer number `0`, or the special type `None` are also evaluated as `False`!"
   ]
  },
  {
   "cell_type": "code",
   "execution_count": null,
   "metadata": {},
   "outputs": [],
   "source": [
    "a = 1\n",
    "b = 2\n",
    "a == b"
   ]
  },
  {
   "cell_type": "code",
   "execution_count": null,
   "metadata": {},
   "outputs": [],
   "source": [
    "a != b"
   ]
  },
  {
   "cell_type": "code",
   "execution_count": null,
   "metadata": {},
   "outputs": [],
   "source": [
    "color_one = 'green'\n",
    "color_two = 'red'\n",
    "\n",
    "is_same = color_one == color_two"
   ]
  },
  {
   "cell_type": "code",
   "execution_count": null,
   "metadata": {},
   "outputs": [],
   "source": [
    "is_same"
   ]
  },
  {
   "cell_type": "code",
   "execution_count": null,
   "metadata": {},
   "outputs": [],
   "source": [
    "if color_one == color_two:\n",
    "    print('The colors are equal.')\n",
    "else:\n",
    "    print('The colors are different.')"
   ]
  },
  {
   "cell_type": "code",
   "execution_count": null,
   "metadata": {},
   "outputs": [],
   "source": [
    "if not is_same:  # The actual comparison is saved in `is_same` and can be negated\n",
    "    print('The colors are different.')"
   ]
  },
  {
   "cell_type": "markdown",
   "metadata": {},
   "source": [
    "#### Functions\n",
    "\n",
    "One of the most important lessons that a programmer learns is that you do not want to write down the same piece of code several times in different places. Not only are programmers naturally lazy and don not want to repeat themselves - but what if you need to fix an error in that piece of code? What if you forget to fix it everywhere? Programming by copy & paste is almost always a bad idea. Therefore, many programming language concepts are all about defining a piece of code once and use it several times in different places. One of those concepts is a **function**. \n",
    "\n",
    "A Python function enables you to write a piece of code that accepts arguments and returns values. If you need some program logic again and again, try to make a function out of it."
   ]
  },
  {
   "cell_type": "code",
   "execution_count": null,
   "metadata": {},
   "outputs": [],
   "source": [
    "def hello_world():\n",
    "    print(\"Hello World\")"
   ]
  },
  {
   "cell_type": "code",
   "execution_count": null,
   "metadata": {},
   "outputs": [],
   "source": [
    "hello_world()"
   ]
  },
  {
   "cell_type": "code",
   "execution_count": null,
   "metadata": {},
   "outputs": [],
   "source": [
    "def compare_colors(color_1, color_2):\n",
    "    if color_1 == color_2:\n",
    "        print('The colors are equal.')\n",
    "    else:\n",
    "        print('The colors are different.')"
   ]
  },
  {
   "cell_type": "code",
   "execution_count": null,
   "metadata": {},
   "outputs": [],
   "source": [
    "compare_colors('green', 'red')"
   ]
  },
  {
   "cell_type": "code",
   "execution_count": null,
   "metadata": {},
   "outputs": [],
   "source": [
    "compare_colors('yellow', 'yellow')"
   ]
  },
  {
   "cell_type": "code",
   "execution_count": null,
   "metadata": {},
   "outputs": [],
   "source": [
    "def addition(n, m):\n",
    "    return n + m"
   ]
  },
  {
   "cell_type": "code",
   "execution_count": null,
   "metadata": {},
   "outputs": [],
   "source": [
    "addition(12, 30)"
   ]
  },
  {
   "cell_type": "code",
   "execution_count": null,
   "metadata": {},
   "outputs": [],
   "source": [
    "def oldest_person(names, ages):\n",
    "    max_age = 0\n",
    "    max_name = ''\n",
    "    \n",
    "    for name, age in zip(names, ages): \n",
    "        if age > max_age:\n",
    "            max_name = name\n",
    "            max_age = age\n",
    "    \n",
    "    return max_name, max_age"
   ]
  },
  {
   "cell_type": "code",
   "execution_count": null,
   "metadata": {},
   "outputs": [],
   "source": [
    "name, age = oldest_person(names, ages)\n",
    "print(f'The oldest person is {name} with and age of {age} years.')"
   ]
  },
  {
   "cell_type": "markdown",
   "metadata": {},
   "source": [
    "#### Special: List comprehensions\n",
    "\n",
    "A unique concept are [**list comprehensions**](https://docs.python.org/2/tutorial/datastructures.html#list-comprehensions). These can be used to construct lists in a very efficient way.\n",
    "\n",
    "An example is the best way to show how it works. From a list of the first `10000` positive integer numbers only the even numbers will be squared and collected in a new list. With _ipython_ there come some small [build-in magic widges](https://ipython.readthedocs.io/en/stable/interactive/magics.html) you can use within a cell."
   ]
  },
  {
   "cell_type": "code",
   "execution_count": null,
   "metadata": {},
   "outputs": [],
   "source": [
    "numbers = list(range(10000))  # A list with all integer numbers from 0 to 9999"
   ]
  },
  {
   "cell_type": "code",
   "execution_count": null,
   "metadata": {},
   "outputs": [],
   "source": [
    "%%timeit -r 10  # Average over ten repetitions\n",
    "new_list = []\n",
    "\n",
    "for number in numbers:\n",
    "    if number % 2 == 0:  # Get only even numbers modulo 2\n",
    "        new_list.append(number * number)"
   ]
  },
  {
   "cell_type": "code",
   "execution_count": null,
   "metadata": {},
   "outputs": [],
   "source": [
    "%%timeit -r 10 # Average over ten repetitions\n",
    "new_list_2 = [number * number for number in numbers if number % 2 == 0]"
   ]
  },
  {
   "cell_type": "markdown",
   "metadata": {},
   "source": [
    "### Exercise: Control flow\n",
    "Use the given lists and create a dictionary by using\n",
    "\n",
    "- `for`-loop(s),\n",
    "- `zip`\n",
    "- a so-called _dictionary comprehension_\n",
    "    \n",
    "and compare the performance. "
   ]
  },
  {
   "cell_type": "code",
   "execution_count": null,
   "metadata": {},
   "outputs": [],
   "source": [
    "keys = list(range(10000))\n",
    "values = list(range(10000, 20000))"
   ]
  },
  {
   "cell_type": "code",
   "execution_count": null,
   "metadata": {},
   "outputs": [],
   "source": [
    "# Your code here\n",
    "\n",
    "\n",
    "\n"
   ]
  },
  {
   "cell_type": "markdown",
   "metadata": {},
   "source": [
    "### Classes and Objects\n"
   ]
  },
  {
   "cell_type": "markdown",
   "metadata": {},
   "source": [
    "Object-oriented programming is an approach to programming that bundles together data and logic - you will see an example shortly. Object-oriented programming is everywhere in Python, and almost everything is an object.\n"
   ]
  },
  {
   "cell_type": "code",
   "execution_count": null,
   "metadata": {},
   "outputs": [],
   "source": [
    "class Contact:\n",
    "    \n",
    "    def __init__(self, first_name, last_name, street, city):\n",
    "        self.first_name = first_name\n",
    "        self.last_name = last_name\n",
    "        self.street = street\n",
    "        self.city = city\n",
    "    \n",
    "    def get_full_name(self):\n",
    "        return f'{self.first_name} {self.last_name}'\n",
    "    \n",
    "    def get_address(self):\n",
    "        address = f'{self.get_full_name()}\\n{self.street}\\n{self.city}'\n",
    "        return address"
   ]
  },
  {
   "cell_type": "markdown",
   "metadata": {},
   "source": [
    "Above, we have defined a **class** called `Contact` - a blueprint for a new type of object, here for example to represent an entry in an address book. We have added three functions to the class - they are called **methods** because they are attached to an object now. Every method has `self` as the first argument, a variable that points to the object itself. \n",
    "\n",
    "The `__init__` method is a special method called the **constructor** that defines how an object of type `Contact` is created and initialized.  "
   ]
  },
  {
   "cell_type": "code",
   "execution_count": null,
   "metadata": {},
   "outputs": [],
   "source": [
    "tim = Contact(\"Tim\", \"Cook\", \"1 Infinite Loop\", \"Cupertino, CA\")"
   ]
  },
  {
   "cell_type": "markdown",
   "metadata": {},
   "source": [
    "We have now created a new object which is an **instance** of the class `Contact`, and set its attributes to the given values. We can now read these attributes as follows:"
   ]
  },
  {
   "cell_type": "code",
   "execution_count": null,
   "metadata": {},
   "outputs": [],
   "source": [
    "tim.last_name"
   ]
  },
  {
   "cell_type": "markdown",
   "metadata": {},
   "source": [
    "We have also defined two additional methods. They can be almost any kind function and contain any code, but a proper method does something with the object and its attributes. Here, it combines first name and last name and outputs the full name:"
   ]
  },
  {
   "cell_type": "code",
   "execution_count": null,
   "metadata": {},
   "outputs": [],
   "source": [
    "print(tim.get_full_name())"
   ]
  },
  {
   "cell_type": "markdown",
   "metadata": {},
   "source": [
    "The second method combines all attributes and outputs the full address. Note how it uses the first method so we do not have to write the piece of code that gives us the full name more than once."
   ]
  },
  {
   "cell_type": "code",
   "execution_count": null,
   "metadata": {},
   "outputs": [],
   "source": [
    "print(tim.get_address())"
   ]
  },
  {
   "cell_type": "markdown",
   "metadata": {},
   "source": [
    "## Python Exercise: Write a Password Generator\n",
    "\n",
    "Write a password generator with the following requirements:\n",
    "- The user should be able to generate a new passwort each time the generator is used.\n",
    "- The password should be strong. Password strength can be checked with [passwordmeter.com].(http://www.passwordmeter.com)\n",
    "- The password should be memorable.\n"
   ]
  },
  {
   "cell_type": "code",
   "execution_count": null,
   "metadata": {},
   "outputs": [],
   "source": [
    "# Your code here\n",
    "\n",
    "\n",
    "\n",
    "\n"
   ]
  },
  {
   "cell_type": "markdown",
   "metadata": {},
   "source": [
    "---\n",
    "_This notebook is licensed under a [Creative Commons Attribution-NonCommercial-ShareAlike 4.0 International (CC BY-NC-SA 4.0)](https://creativecommons.org/licenses/by-nc-sa/4.0/). Copyright © 2018-2025 [Point 8 GmbH](https://point-8.de)_"
   ]
  }
 ],
 "metadata": {
  "kernelspec": {
   "display_name": "Python 3 (ipykernel)",
   "language": "python",
   "name": "python3"
  },
  "language_info": {
   "codemirror_mode": {
    "name": "ipython",
    "version": 3
   },
   "file_extension": ".py",
   "mimetype": "text/x-python",
   "name": "python",
   "nbconvert_exporter": "python",
   "pygments_lexer": "ipython3",
   "version": "3.10.9"
  }
 },
 "nbformat": 4,
 "nbformat_minor": 4
}
