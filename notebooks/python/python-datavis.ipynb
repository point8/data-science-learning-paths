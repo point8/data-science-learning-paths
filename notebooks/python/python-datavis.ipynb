{
 "cells": [
  {
   "cell_type": "markdown",
   "metadata": {},
   "source": [
    "# Plotting and Data Visualization\n",
    "\n",
    "A picture is worth a thousand words. While exploring an unknow data set the visualisation of data is a powerful way to a deeper understanding and an important part of data science.\n",
    "\n",
    "The Python ecosystem includes several low and high level plotting/visualization libraries. The most feature-complete and popular one is [**matplotlib**](https://matplotlib.org). Among the alternatives are [**bokeh**](https://bokeh.pydata.org/en/latest/) and [**plotly**](https://plot.ly/python/), focusing on interactive visualizations. An example for plotly is given at the end of this notebook.\n",
    "\n",
    "Libraries like [**seaborn**](http://seaborn.pydata.org) are built on matplotlib and provide a high-level interface for visual data analysis. The [**pandas**](http://pandas.pydata.org/) library also provides a more high-level plotting interface that uses matplotlib. If you want to have a more general overview on libraries and interfaces, have a look for this [blog entry](https://www.anaconda.com/blog/python-data-visualization-2018-why-so-many-libraries)."
   ]
  },
  {
   "cell_type": "code",
   "execution_count": null,
   "metadata": {},
   "outputs": [],
   "source": [
    "import pandas as pd\n",
    "import numpy as np\n",
    "import matplotlib as mpl\n",
    "import matplotlib.pyplot as plt\n",
    "import seaborn"
   ]
  },
  {
   "cell_type": "markdown",
   "metadata": {},
   "source": [
    "Here we configure some settings for the following plots:"
   ]
  },
  {
   "cell_type": "code",
   "execution_count": null,
   "metadata": {},
   "outputs": [],
   "source": [
    "seaborn.set_style(\"ticks\")\n",
    "plt.rcParams[\"figure.figsize\"] = (16.0, 6.0)\n",
    "plt.rcParams[\"axes.grid\"] = True"
   ]
  },
  {
   "cell_type": "markdown",
   "metadata": {},
   "source": [
    "#### Load the dataset\n",
    "The data set is of roughly 5000 different white wine samples ([Wine Quality Data Set](https://archive.ics.uci.edu/ml/datasets/wine+quality)). The different columns are chemical and physical characteristics. In addition a quality score is given."
   ]
  },
  {
   "cell_type": "code",
   "execution_count": null,
   "metadata": {},
   "outputs": [],
   "source": [
    "WINE_COLOR = \"red\"\n",
    "df = pd.read_csv(f\"../.assets/data/winequality/{WINE_COLOR}.csv.zip\", sep=\";\")"
   ]
  },
  {
   "cell_type": "code",
   "execution_count": null,
   "metadata": {},
   "outputs": [],
   "source": [
    "df.head()"
   ]
  },
  {
   "cell_type": "markdown",
   "metadata": {},
   "source": [
    "_Note:_  [Documentation of the data set and additional information](https://files.point-8.de/trainings/data-science-101/wine-quality/INFO.md)"
   ]
  },
  {
   "cell_type": "markdown",
   "metadata": {},
   "source": [
    "## Types of Plots"
   ]
  },
  {
   "cell_type": "markdown",
   "metadata": {},
   "source": [
    "### Bar Chart\n",
    "\n",
    "As a first example we will check how the wine quality is distributed. To do so we use a **bar chart**, because we have discrete values to denote the wine quality. Here, we use the plotting functionality provided by the `pandas` library, which basically uses `matplotlib` under the hood."
   ]
  },
  {
   "cell_type": "code",
   "execution_count": null,
   "metadata": {},
   "outputs": [],
   "source": [
    "df[\"quality\"].value_counts().sort_index().plot(kind=\"bar\")"
   ]
  },
  {
   "cell_type": "markdown",
   "metadata": {},
   "source": [
    "### Box plot\n",
    "\n",
    "A nice option to visualize the statistical distribution of a data set are [**box plots**](https://matplotlib.org/api/_as_gen/matplotlib.pyplot.boxplot.html). The _box_ itself includes by definition the central 50% of the data. Thereby, the blue box includes all data points from the 0.25-quantile (Q1) to the 0.75-quantile (Q3). Its length is called _interquantile range_ (IQR). \n",
    "\n",
    "![](https://upload.wikimedia.org/wikipedia/commons/thumb/1/1a/Boxplot_vs_PDF.svg/704px-Boxplot_vs_PDF.svg.png)\n",
    "[_Source_: Wikimedia Commons](https://commons.wikimedia.org/wiki/File:Boxplot_vs_PDF.svg)\n"
   ]
  },
  {
   "cell_type": "markdown",
   "metadata": {},
   "source": [
    "In our example the **median** (Q2, 0.5-quantile) is given in green and the **mean** as the green dotted line, respectively. A whisker always ends on the last data point in the range of a whisker. The set length of a whisker has not a global definition. Often it is set to 1.5 x IQR. All data outside of the whisker edges could be classified as outliers (marked by `x` in the plots below)."
   ]
  },
  {
   "cell_type": "code",
   "execution_count": null,
   "metadata": {},
   "outputs": [],
   "source": [
    "df[\"pH\"].plot(\n",
    "    kind=\"box\", \n",
    "    showmeans=True, \n",
    "    meanline=True, \n",
    "    flierprops={\"alpha\": 0.5, \"marker\": \"x\"}\n",
    ")"
   ]
  },
  {
   "cell_type": "code",
   "execution_count": null,
   "metadata": {},
   "outputs": [],
   "source": [
    "df[\"total sulfur dioxide\"].plot(\n",
    "    kind=\"box\", \n",
    "    showmeans=True, \n",
    "    meanline=True, \n",
    "    flierprops={\"alpha\": 0.5, \"marker\": \"x\"}\n",
    ")"
   ]
  },
  {
   "cell_type": "markdown",
   "metadata": {},
   "source": [
    "Note that until now we have only called methods of `pandas` - they provide a high-level interface to the most commonly used plots. In many cases, we can get the visualizations we want by passing the right parameters to these high level methods. \n",
    "\n",
    "However, if we want more customized plots, we might have to go down one level and call `matplotlib` directly. This is what we see in the example below. Showing the distribution of all variables visualised as box plots and combined in a single plot."
   ]
  },
  {
   "cell_type": "code",
   "execution_count": null,
   "metadata": {},
   "outputs": [],
   "source": [
    "fig, axes = plt.subplots(nrows=1, ncols=df.columns.size)\n",
    "for idx, c in enumerate(df.columns):\n",
    "    axes[idx].boxplot(\n",
    "        df[c],\n",
    "        showmeans=True,\n",
    "        meanline=True,\n",
    "        whis=1.5, #1.5 times IQR\n",
    "        tick_labels=[c],\n",
    "        flierprops={\"alpha\": 0.5, \"marker\": \"x\"},\n",
    "    )\n",
    "plt.tight_layout()"
   ]
  },
  {
   "cell_type": "markdown",
   "metadata": {},
   "source": [
    "### Histogram\n",
    "\n",
    "Another possibility to visualize the distribution of data is the [**histogram**](https://matplotlib.org/api/_as_gen/matplotlib.pyplot.hist.html). In this case we have a continuous range of pH values and want to visualize how the wines are distributed over this range. Each data point is added to its associated value range (**bin**). The height of each bar corresponds to the number of entries per bin."
   ]
  },
  {
   "cell_type": "code",
   "execution_count": null,
   "metadata": {},
   "outputs": [],
   "source": [
    "df[\"pH\"].hist(bins=30)\n",
    "plt.title(\"pH values\")"
   ]
  },
  {
   "cell_type": "markdown",
   "metadata": {},
   "source": [
    "We can customize the binning scheme by using a `numpy` array. For example, we divide the range from 2.5 to 4 into 16 equally spaced bins. When plotting different histrogram in the same plot, the binning can differ. Setting the binning like this is be recommendable."
   ]
  },
  {
   "cell_type": "code",
   "execution_count": null,
   "metadata": {},
   "outputs": [],
   "source": [
    "df[\"pH\"].hist(bins=np.linspace(2.5, 4, 16))\n",
    "plt.title(\"pH values\")"
   ]
  },
  {
   "cell_type": "markdown",
   "metadata": {},
   "source": [
    "### Violin plot\n",
    "\n",
    "Another interesting option for showing distributions is the [**violin plot**](https://matplotlib.org/devdocs/api/_as_gen/matplotlib.pyplot.violinplot.html). It can be thought of as a combination of box plot and histogram. Here, the `seaborn` library is used."
   ]
  },
  {
   "cell_type": "code",
   "execution_count": null,
   "metadata": {},
   "outputs": [],
   "source": [
    "seaborn.violinplot(\n",
    "    x=df[\"alcohol\"]).set(title='distribution of alcohol content');"
   ]
  },
  {
   "cell_type": "markdown",
   "metadata": {},
   "source": [
    "### Scatter plot\n",
    "\n",
    "To put the distributions of two variables in relation we can use [**scatter plots**](https://matplotlib.org/api/_as_gen/matplotlib.pyplot.scatter.html). Here, we compare how the residual sugar concentration behaves in comparison to the volumentric alcohol concentration."
   ]
  },
  {
   "cell_type": "code",
   "execution_count": null,
   "metadata": {},
   "outputs": [],
   "source": [
    "df.plot(\n",
    "    kind=\"scatter\",\n",
    "    x=\"alcohol\",\n",
    "    y=\"residual sugar\",\n",
    "    title=\"Alcohol Content vs Residual Sugar\",\n",
    ")"
   ]
  },
  {
   "cell_type": "markdown",
   "metadata": {},
   "source": [
    "## Fine tuning with matplotlib\n",
    "So far, we worked on the high-level API direclty with `pandas` to plot the data. Under the hood `pandas` applies `matplotlib` as mentioned before. But often you want to have more elaborated plot. Instead of creating this plot by hand starting from scratch with `matplotlib` one can combine the simple usability of plotting with `pandas` and a finetuning with `matplotlib`. To do that you should use your plot in a more [objective oriented way](https://matplotlib.org/3.2.1/tutorials/introductory/lifecycle.html) and adjust the [matplotlib.axes-object](https://matplotlib.org/api/axes_api.html) afterwards."
   ]
  },
  {
   "cell_type": "code",
   "execution_count": null,
   "metadata": {},
   "outputs": [],
   "source": [
    "# Define your axes-object\n",
    "fig, axes = plt.subplots(dpi=100)\n",
    "\n",
    "# Plot with the known pandas interface and set the `axes`-object\n",
    "df[\"pH\"].hist(bins=30, ax=axes)\n",
    "\n",
    "# Use matplotlib commands to finetune your plot\n",
    "## examples\n",
    "axes.set_title(\"Histogram pH values\")\n",
    "axes.set_xlabel(\"pH value\")\n",
    "axes.set_ylabel(\"Anzahl\")\n",
    "axes.axhline(100, color=\"red\")\n",
    "axes.set_xlim(2.6, 4.2)"
   ]
  },
  {
   "cell_type": "markdown",
   "metadata": {},
   "source": [
    "## Save your plot\n",
    "Instead of only showing your plot directly in the notebook you can save the plot to disk. With [savefig](https://matplotlib.org/3.1.1/api/_as_gen/matplotlib.pyplot.savefig.html) one can export the plot as different file formats (e.g. jpg, png, pdf), set dpi and quality, add edge and background color and more."
   ]
  },
  {
   "cell_type": "code",
   "execution_count": null,
   "metadata": {},
   "outputs": [],
   "source": [
    "## Save to disk\n",
    "df[\"pH\"].hist(bins=30)\n",
    "plt.savefig(\"example_plot.png\", dpi=300, facecolor=\"lightgrey\", edgecolor=\"black\")"
   ]
  },
  {
   "cell_type": "markdown",
   "metadata": {},
   "source": [
    "## 2D-histogram as a _Heatmap_\n",
    "\n",
    "Alternatively, we can visualize the point density using a [**2-dimensional histogram**](https://matplotlib.org/api/_as_gen/matplotlib.pyplot.hist2d.html) (also called **heatmap**). The value range is again divided into discrete bins. The number of entries per bin is visualized using a [color map](https://matplotlib.org/users/colormaps.html) (_cmap_). The name heatmap indicates, that (depending on the color scheme: e.g. blue to red) areas with more data are visualised as \"hotter\". "
   ]
  },
  {
   "cell_type": "code",
   "execution_count": null,
   "metadata": {},
   "outputs": [],
   "source": [
    "plt.figure(figsize=(12, 9))\n",
    "cmap = \"viridis\" #coolwarm; \n",
    "plt.hist2d(x=df[\"alcohol\"], y=df[\"residual sugar\"], bins=30, cmap=cmap)\n",
    "plt.xlabel(\"Alcohol [%]\")\n",
    "plt.ylabel(\"Residual sugar [g/l]\")\n",
    "cb = plt.colorbar()\n",
    "cb.set_label(\"Number of entries per bin\")"
   ]
  },
  {
   "cell_type": "markdown",
   "metadata": {},
   "source": [
    "When looking at circular points clouds using hexagonal shaped bins in contrast to rectangular shaped ones, can help to get a better impression of the data. In this example you can see that there is not exactly one \"hotspot\" but that the \"hotspot\" is spread over a number of bins."
   ]
  },
  {
   "cell_type": "code",
   "execution_count": null,
   "metadata": {},
   "outputs": [],
   "source": [
    "plt.figure(figsize=(12, 9))\n",
    "plt.hexbin(x=df[\"alcohol\"], y=df[\"residual sugar\"], gridsize=30, cmap=\"viridis\")\n",
    "plt.xlabel(\"Alcohol [%]\")\n",
    "plt.ylabel(\"Residual sugar [g/l]\")\n",
    "cb = plt.colorbar()\n",
    "cb.set_label(\"Number of entries per bin\")"
   ]
  },
  {
   "cell_type": "markdown",
   "metadata": {},
   "source": [
    "# Interactive Plots"
   ]
  },
  {
   "cell_type": "markdown",
   "metadata": {},
   "source": [
    "In some data analysis applications, the ability to explore the plots interactively is helpful - think about interactive dashboards. `plotly` is a library that is similar in its functionality to `matplotlib`, only that it outputs interactive plots. \n",
    "\n",
    "You can have a look at some [plotly examples](https://plotly.com/python/). Furthermore, you can set up your own dashboards with [plotly-dash](https://dash-gallery.plotly.host/Portal/). As already mentioned in the introduction of this chapter, there is also [bokeh](https://docs.bokeh.org/en/latest/docs/gallery.html) for interactive plots. But let's start with some examples with `plotly`. With [plotly-express](https://plotly.com/python/plotly-express/) there is a easy-to-use, high-level interface."
   ]
  },
  {
   "cell_type": "code",
   "execution_count": null,
   "metadata": {},
   "outputs": [],
   "source": [
    "import plotly.express as px"
   ]
  },
  {
   "cell_type": "markdown",
   "metadata": {},
   "source": [
    "### Histogram\n",
    "\n",
    "This example is analogous to our histrogram plot from above. With `plotly` however, we get it interactivity. Check out different [histogram styles](https://plotly.com/python/histograms/)."
   ]
  },
  {
   "cell_type": "code",
   "execution_count": null,
   "metadata": {},
   "outputs": [],
   "source": [
    "fig = px.histogram(df, x=\"pH\", nbins=30)\n",
    "fig.show()"
   ]
  },
  {
   "cell_type": "markdown",
   "metadata": {},
   "source": [
    "### Box Plot\n",
    "Same as above to get started. More [boxplot styles](https://plotly.com/python/box-plots/)."
   ]
  },
  {
   "cell_type": "code",
   "execution_count": null,
   "metadata": {},
   "outputs": [],
   "source": [
    "fig = px.box(df, x=[\"pH\"])\n",
    "fig.show()"
   ]
  },
  {
   "cell_type": "markdown",
   "metadata": {},
   "source": [
    "## Scatter Plot\n",
    "More [scatter styles](https://plotly.com/python/line-and-scatter/)."
   ]
  },
  {
   "cell_type": "code",
   "execution_count": null,
   "metadata": {},
   "outputs": [],
   "source": [
    "fig = px.scatter(df, x=df[\"alcohol\"], y=df[\"residual sugar\"])\n",
    "fig.show()"
   ]
  },
  {
   "cell_type": "markdown",
   "metadata": {},
   "source": [
    "## Export notebook as HTML\n",
    "One cool thing about `plotly` is that it is based on web technologies. When you export the notebook as HTML and open the exported HTML in a standard browser, you will find the plot not integrated as a simple image but as an interactive plot with active JavaScript. But keep in mind, that the data now has to be somehow saved within the file and will blow up your file size!"
   ]
  },
  {
   "cell_type": "markdown",
   "metadata": {},
   "source": [
    "# Matplotlib-style parameters"
   ]
  },
  {
   "cell_type": "markdown",
   "metadata": {},
   "source": [
    "Configuration parameters, which are changed from the default values, in this notebook at the beginning:\n",
    "\n",
    "``` \n",
    "seaborn.set_style(\"ticks\")\n",
    "plt.rcParams[\"figure.figsize\"] = (16.0, 6.0)\n",
    "plt.rcParams[\"axes.grid\"] = True\n",
    "```"
   ]
  },
  {
   "cell_type": "markdown",
   "metadata": {},
   "source": [
    "If you want to have a more detailed look at the configuration of the matplotlib-style parameters the [Matplotlib Sytle Configurator](https://matplotlib-style-configurator.herokuapp.com) can be a good starting point. You can change the parameters, get a preview of what your plots will look like, and export the style sheet, which you can include in your code, thus your plots will be generated with this specific style."
   ]
  },
  {
   "cell_type": "markdown",
   "metadata": {},
   "source": [
    "---\n",
    "_This notebook is licensed under a [Creative Commons Attribution-NonCommercial-ShareAlike 4.0 International (CC BY-NC-SA 4.0)](https://creativecommons.org/licenses/by-nc-sa/4.0/). Copyright © 2018-2025 [Point 8 GmbH](https://point-8.de)_"
   ]
  }
 ],
 "metadata": {
  "kernelspec": {
   "display_name": "Python 3 (ipykernel)",
   "language": "python",
   "name": "python3"
  },
  "language_info": {
   "codemirror_mode": {
    "name": "ipython",
    "version": 3
   },
   "file_extension": ".py",
   "mimetype": "text/x-python",
   "name": "python",
   "nbconvert_exporter": "python",
   "pygments_lexer": "ipython3",
   "version": "3.10.9"
  }
 },
 "nbformat": 4,
 "nbformat_minor": 4
}
