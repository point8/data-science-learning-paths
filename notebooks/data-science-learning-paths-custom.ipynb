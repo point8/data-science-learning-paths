{
 "cells": [
  {
   "cell_type": "markdown",
   "metadata": {},
   "source": [
    "# Data Science Learning Paths: Custom Courses\n",
    "\n"
   ]
  },
  {
   "cell_type": "markdown",
   "metadata": {},
   "source": [
    "## Big Data Analysis with PySpark - Essentials\n",
    "\n",
    "This course gets you started with scaling data analysis methods to large amounts of data, using PySpark to control distributed computing on a cluster.\n",
    "\n",
    "- **Level**: Intermediate\n",
    "- **Duration**: 1 day\n",
    "- **Index notebook**: [📓Big Data Analysis with PySpark - Essentials](index/bdas-big-data-analysis-pyspark-essentials.ipynb)"
   ]
  },
  {
   "cell_type": "markdown",
   "metadata": {},
   "source": [
    "## Intensive Machine Learning \n",
    "\n",
    "A 4-day advanced course - supervised and unsupervised learning methods in depth.\n",
    "\n",
    "- **Level**: Advanced\n",
    "- **Duration**: 4 days\n",
    "- **Index notebook**: [📓Intensive Machine Learning](index/iml4-intensive-machine-learning-4day.ipynb)"
   ]
  },
  {
   "cell_type": "markdown",
   "metadata": {},
   "source": [
    "## Deep Learning with TensorFlow - Essentials [DLT1]\n",
    "\n",
    "A 1-day introduction to TensorFlow and Keras.\n",
    "\n",
    "- **Level**: Advanced\n",
    "- **Duration**: 1 day\n",
    "- **Index notebook**: [📓Deep Learning with TensorFlow - Essentials](index/dlt1-intro-dl-tensorflow-1day.ipynb)"
   ]
  },
  {
   "cell_type": "markdown",
   "metadata": {},
   "source": [
    "## Big Data - End to End\n",
    "\n",
    "Deploying and using a big data system based on PySpark.\n",
    "\n",
    "- **Level**: Advanced\n",
    "- **Index notebook**: [📓 Start course](index/bde2e-big-data-end-to-end.ipynb)"
   ]
  },
  {
   "cell_type": "markdown",
   "metadata": {},
   "source": [
    "---\n",
    "_This notebook is licensed under a [Creative Commons Attribution-NonCommercial-ShareAlike 4.0 International (CC BY-NC-SA 4.0)](https://creativecommons.org/licenses/by-nc-sa/4.0/). Copyright © 2018-2025 [Point 8 GmbH](https://point-8.de)_"
   ]
  }
 ],
 "metadata": {
  "kernelspec": {
   "display_name": "Python 3.10.8 64-bit",
   "language": "python",
   "name": "python3"
  },
  "language_info": {
   "codemirror_mode": {
    "name": "ipython",
    "version": 3
   },
   "file_extension": ".py",
   "mimetype": "text/x-python",
   "name": "python",
   "nbconvert_exporter": "python",
   "pygments_lexer": "ipython3",
   "version": "3.10.8"
  },
  "vscode": {
   "interpreter": {
    "hash": "aee8b7b246df8f9039afb4144a1f6fd8d2ca17a180786b69acc140d282b71a49"
   }
  }
 },
 "nbformat": 4,
 "nbformat_minor": 4
}
