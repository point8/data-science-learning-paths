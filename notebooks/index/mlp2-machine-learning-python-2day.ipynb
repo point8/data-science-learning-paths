{
 "cells": [
  {
   "cell_type": "markdown",
   "metadata": {},
   "source": [
    "# Machine Learning with Python [MLP2]\n",
    "\n",
    "The course focuses on enabling the participants to build machine learning applications with Python and the scikit-learn framework. We work on typical machine learning cases using hands-on examples.\n",
    "\n",
    "The course requires basic knowledge of Python programming, fundamentals of data science and data handling. These requirements are conveyed in [📓 **Data Analysis with Python**](../index/dap2-data-analysis-python.ipynb)."
   ]
  },
  {
   "cell_type": "markdown",
   "metadata": {},
   "source": [
    "## Table of Contents\n",
    "\n",
    "### Curriculum\n",
    "\n",
    "1. [**Introduction to Machine Learning**](../ml/ml-outlook.ipynb)<br>\n",
    "    An overview of the field of machine learning.\n",
    "\n",
    "1. **[ML for Classification](../ml/ml-classification-intro.ipynb)**<br>\n",
    "      Learn about classifiers and how to measure the quality of their decisions.\n",
    "\n",
    "   1. [**Building an ML Pipeline for Classification**](../ml/ml-classification-pipeline.ipynb)<br>\n",
    "      Build a classification model and learn about the building blocks of ML with Python.\n",
    "   \n",
    "  1. **[Feature Engineering and Selection](../ml/ml-feature-engineering.ipynb)**<br>\n",
    "     How to build better features.\n",
    "   \n",
    "  1. **[Algorithm Selection and Hyperparameter Tuning](../ml/ml-algo-hyperparameter.ipynb)**<br>\n",
    "      Learn about classifiers and how to measure the quality of their decisions.  \n",
    "   \n",
    "  1. **[Exercise: Titanic Survival Classifier](../exercises/exercise-titanic-classifier.ipynb)**<br>\n",
    "      Build your own classification model from scratch.\n",
    "    \n",
    "1. **[ML for Regression](../ml/ml-regression-intro.ipynb)**<br>\n",
    "  Learn about regressors and how to measure the quality of their prediction.\n",
    "  \n",
    "   1. [**Exercise: Predicting House Prices**](../exercises/ml-exercise-house-prices.ipynb)<br>\n",
    "       Apply regression to predict house prices.\n",
    "\n",
    "1. [**Building a Recommender Engine**](../ml/ml-recommender.ipynb)<br>\n",
    "  Use machine learning to generate movie recommendations.\n",
    "\n",
    "1. [**Unsupervised Learning: Clustering**](../ml/ml-clustering.ipynb)<br>\n",
    "  Apply clustering algorithms to detect structure in the data.\n"
   ]
  },
  {
   "cell_type": "markdown",
   "metadata": {},
   "source": [
    "### Exercise Solution Examples\n",
    "\n",
    "1. [**ML Exercise Solutions**](../exercises/ml-exercise-solutions.ipynb)<br>\n"
   ]
  },
  {
   "cell_type": "markdown",
   "metadata": {},
   "source": [
    "### Additional Resources\n",
    "\n",
    "- [**Python Test Notebook**](../test.ipynb)<br>\n",
    "    Verify that your Python stack is working.\n",
    "   \n",
    "- [**Jupyter Cheat Sheet**](../jupyter/cheatsheet.ipynb)<br>\n",
    "    Some useful commands for Jupyter Notebook, mostly optional."
   ]
  },
  {
   "cell_type": "markdown",
   "metadata": {},
   "source": [
    "---\n",
    "_This notebook is licensed under a [Creative Commons Attribution-NonCommercial-ShareAlike 4.0 International (CC BY-NC-SA 4.0)](https://creativecommons.org/licenses/by-nc-sa/4.0/). Copyright © 2018-2025 [Point 8 GmbH](https://point-8.de)_"
   ]
  }
 ],
 "metadata": {
  "kernelspec": {
   "display_name": "Python 3",
   "language": "python",
   "name": "python3"
  },
  "language_info": {
   "codemirror_mode": {
    "name": "ipython",
    "version": 3
   },
   "file_extension": ".py",
   "mimetype": "text/x-python",
   "name": "python",
   "nbconvert_exporter": "python",
   "pygments_lexer": "ipython3",
   "version": "3.7.8"
  }
 },
 "nbformat": 4,
 "nbformat_minor": 4
}
