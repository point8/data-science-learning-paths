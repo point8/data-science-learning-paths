{
 "cells": [
  {
   "cell_type": "markdown",
   "metadata": {},
   "source": [
    "# Machine Learning on Time Series"
   ]
  },
  {
   "cell_type": "markdown",
   "metadata": {},
   "source": [
    "An introduction to data science and machine learning on time series - from handling and plotting to exploratory analysis to  machine learning for classification and forecasting tasks.\n",
    "\n",
    "This is an advanced course that builds on practical experience in Python programming, data analysis, and machine learning. While we recapitulate some of the foundations, they are covered in much more detail in the following modules of Data Science Learning Paths:\n",
    "\n",
    "- [📓 Data Analysis with Python](dap2-data-analysis-python.ipynb)\n",
    "- [📓 Machine Learning with Python](mlp2-machine-learning-python-2day.ipynb)\n",
    "- [📓 Deep Learning with TensorFlow](dlt2-intro-dl-tensorflow-2day.ipynb)"
   ]
  },
  {
   "cell_type": "markdown",
   "metadata": {},
   "source": [
    "## Table of Contents\n",
    "\n",
    "### Curriculum\n",
    "\n",
    "1. **[Overview](../timeseries/mlts-overview.ipynb)**<br>\n",
    "    An overview of machine learning on time series.\n",
    "\n",
    "1. **[Handling Time Series with pandas](../python/python-timeseries-pandas.ipynb)**<br>\n",
    "    Working with time series data as dataframes.\n",
    "    \n",
    "1. **[Time Series Analysis](../timeseries/mlts-time-series-analysis.ipynb)**<br>\n",
    "    Analysing time series data for structure.    \n",
    "\n",
    "1. **Time Series Classification and Regression**<br>\n",
    "    Classification and regression tasks where the inputs are time series.\n",
    "\n",
    "1. **Feature Engineering on Time Series**<br>\n",
    "    Describing time series in a way that ML algorithms understand them.\n",
    "\n",
    "1. **[Time Series Forecasting](../timeseries/mlts-forecasting-intro.ipynb)**<br>\n",
    "    About predicting a time series several steps into the future.\n",
    "\n",
    "    1. **[Foreccasting Metrics and Evaluation Techniques](../timeseries/mlts-forecasting-evaluation.ipynb)**<br>\n",
    "    \n",
    "    1. **[Classical Time Series Forecasting Models](../timeseries/mlts-classical-forecasting-models.ipynb)**<br>\n",
    "        Statistical modelling applied to forecasting.\n",
    "        \n",
    "    1. **[Forecasting with Prophet](../timeseries/mlts-prophet.ipynb)**<br>\n",
    "        An easy-to-use model from our colleagues at a social media company.        \n",
    "    \n",
    "    1. **[Forecasting with Shallow Learning](../timeseries/mlts-forecasting-shallow.ipynb)**<br>\n",
    "        How to apply any supervised ML regression algorithm for forecasting.\n",
    "\n",
    "    1. **[Forecasting with Deep Learning](../timeseries/mlts-forecasting-deep.ipynb)**<br>\n",
    "        Using recurrent neural networks to forecast a time series."
   ]
  },
  {
   "cell_type": "markdown",
   "metadata": {},
   "source": [
    "### Exercise\n",
    "\n",
    "1. [**Challenge: Forecasting Taxi Demand**](../timeseries/mlts-challenge.ipynb)"
   ]
  },
  {
   "cell_type": "markdown",
   "metadata": {},
   "source": [
    "### Additional Resources\n",
    "\n",
    "- [**Python Test Notebook**](../test.ipynb)<br>\n",
    "    Verify that your Python stack is working.\n",
    "   \n",
    "- [**Jupyter Cheat Sheet**](../jupyter/cheatsheet.ipynb)<br>\n",
    "    Some useful commands for Jupyter Notebook, mostly optional."
   ]
  },
  {
   "cell_type": "markdown",
   "metadata": {},
   "source": [
    "---\n",
    "_This notebook is licensed under a [Creative Commons Attribution-NonCommercial-ShareAlike 4.0 International (CC BY-NC-SA 4.0)](https://creativecommons.org/licenses/by-nc-sa/4.0/). Copyright © 2018-2024 [Point 8 GmbH](https://point-8.de)_"
   ]
  }
 ],
 "metadata": {
  "kernelspec": {
   "display_name": "Python 3",
   "language": "python",
   "name": "python3"
  },
  "language_info": {
   "codemirror_mode": {
    "name": "ipython",
    "version": 3
   },
   "file_extension": ".py",
   "mimetype": "text/x-python",
   "name": "python",
   "nbconvert_exporter": "python",
   "pygments_lexer": "ipython3",
   "version": "3.8.0"
  }
 },
 "nbformat": 4,
 "nbformat_minor": 4
}
