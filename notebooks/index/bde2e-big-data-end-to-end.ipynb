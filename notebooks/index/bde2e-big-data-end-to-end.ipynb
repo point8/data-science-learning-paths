{
 "cells": [
  {
   "cell_type": "markdown",
   "id": "f79f6af9-6dfc-47b4-8f17-78e73e122b31",
   "metadata": {},
   "source": [
    "# Big Data Analysis - End to End [BDE2E]\n",
    "\n",
    "This workshop centers around **big data processing with Apache Spark**. We work with the PySpark API and also introduce related tools from the big data ecosystem."
   ]
  },
  {
   "cell_type": "markdown",
   "id": "b36db7e1-6202-488e-b7c5-43589460bacb",
   "metadata": {
    "tags": []
   },
   "source": [
    "## Table of Contents\n",
    "\n",
    "### Introduction\n",
    " \n",
    "\n",
    "1. [**Processing Big Data**](../python/python-big-data.ipynb)<br>\n",
    "   What strategies do we have available to compute efficiently with increasing amounts of data?  What is a cluster, and when do we need one?\n",
    "   \n",
    "\n",
    "\n",
    "### Distributed Data Processing with Apache Spark\n",
    "   \n",
    "1. [**Introducing Apache Spark**](../spark/spark-introduction.ipynb)<br> \n",
    "    What is Spark all about, and what are its components?\n",
    "   \n",
    "1. [**Spark Fundamentals**](../spark/spark-fundamentals.ipynb)<br>\n",
    "   An introduction to the fundamental concepts as well as core data structures and operations.\n",
    "   \n",
    "1. [**Submitting Spark Jobs**](../spark/spark-submitting.ipynb)<br>\n",
    "   How to submit jobs to a Spark cluster for batch processing.\n",
    "   \n",
    "1. [**Structured Data**](../spark/spark-structured-data.ipynb)<br>\n",
    "   Working with tabular data in Spark.\n",
    "\n",
    "1. **[Streaming Data](../spark/spark-streaming.ipynb)**<br>\n",
    "   Processing large-scale live data streams.\n",
    "\n",
    "1. **[Graph Data](../spark/spark-graph.ipynb)**<br>\n",
    "   Working with grah data using the GraphFrames extension module.\n",
    "\n",
    "### Distributed Machine Learning\n",
    "\n",
    "1. [**Introduction to Machine Learning**](../ml/ml-outlook.ipynb)<br>\n",
    "    An overview of the field of machine learning.\n",
    "\n",
    "1. **[ML for Classification](../ml/ml-classification-intro.ipynb)**<br>\n",
    "      Learn about classifiers and how to measure the quality of their decisions.\n",
    "\n",
    "  1. [**Building a Pipeline for Classification with Spark ML**](../spark/spark-ml-pipeline.ipynb)<br>\n",
    "      Build a classification model and learn about the building blocks of ML in PySpark.\n",
    "      \n",
    "\n",
    "### Related Tools\n",
    "\n",
    "1. [**Resource Management with Apache YARN**](../spark/spark-yarn.ipynb)\n",
    "\n",
    "1. [**HDFS: Hadoop distributed file system**](../spark/spark-hdfs.ipynb)\n",
    "\n",
    "\n",
    "\n",
    "      \n",
    "### Deploying a Spark Cluster in the Cloud\n",
    "\n",
    "1. [**Launching a Cluster in the AWS Cloud with flintrock**](../spark/spark-flintrock-setup.ipynb)\n",
    "\n",
    "1. [**Computing on a Spark Cluster**](../spark/spark-flintrock-compute.ipynb)\n"
   ]
  },
  {
   "cell_type": "markdown",
   "id": "b04c5ec4-f469-4b57-ad73-2524b3ccbe48",
   "metadata": {},
   "source": [
    "### Exercises\n",
    "   \n",
    "1. [**Excercise: Counting Bigrams**](../exercises/spark-exercise-bigrams.ipynb)<br>\n",
    "    Using Spark to count bigrams in big text data.\n",
    "\n",
    "### Big Data Analysis Cases\n",
    "\n",
    "1. [**NYC Taxi Trips**](../spark/spark-case-taxis.ipynb)<br>\n"
   ]
  },
  {
   "cell_type": "markdown",
   "id": "e5b6e34e-0ff2-4f68-b1cd-a32980fcbf1b",
   "metadata": {},
   "source": [
    "### Exercises: Solution Examples\n",
    "   \n",
    "1. [**Spark Exercise Solutions**](../exercises/spark-exercise-solutions.ipynb)\n",
    "\n",
    "1. [**NYC Taxi Case: Getting started with an example workflow**](../spark/spark-case-taxis-example.ipynb)"
   ]
  },
  {
   "cell_type": "markdown",
   "id": "e0df1092-7620-42e5-9d36-d536cd1320c9",
   "metadata": {},
   "source": [
    "### Additional Resources\n",
    "\n",
    "- [**Test Notebook**](../test.ipynb)<br>\n",
    "    Verify that your Python stack is working.\n",
    "\n",
    "- [**Jupyter Cheat Sheet**](../jupyter/cheatsheet.ipynb)<br>\n",
    "    Some useful commands for Jupyter Notebook, mostly optional.\n",
    "    \n",
    "- [**Spark Test Notebook**](../spark/spark-test.ipynb)<br>\n",
    "    Verify that your PySpark stack is working."
   ]
  },
  {
   "cell_type": "markdown",
   "id": "5fd28bc8-0816-48fd-8f14-ddca76775499",
   "metadata": {},
   "source": [
    "---\n",
    "_This notebook is licensed under a [Creative Commons Attribution-NonCommercial-ShareAlike 4.0 International (CC BY-NC-SA 4.0)](https://creativecommons.org/licenses/by-nc-sa/4.0/). Copyright © 2018-2025 [Point 8 GmbH](https://point-8.de)_"
   ]
  }
 ],
 "metadata": {
  "kernelspec": {
   "display_name": "Python 3 (ipykernel)",
   "language": "python",
   "name": "python3"
  },
  "language_info": {
   "codemirror_mode": {
    "name": "ipython",
    "version": 3
   },
   "file_extension": ".py",
   "mimetype": "text/x-python",
   "name": "python",
   "nbconvert_exporter": "python",
   "pygments_lexer": "ipython3",
   "version": "3.8.8"
  }
 },
 "nbformat": 4,
 "nbformat_minor": 5
}
