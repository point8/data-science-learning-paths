{
 "cells": [
  {
   "cell_type": "markdown",
   "metadata": {},
   "source": [
    "# Computer Vision with Deep Learning [CEJ]\n",
    "\n",
    "Over this intensive 2-day course, we will explore key concepts and tools of modern computer vision. Delve into neural networks, TensorFlow, and PyTorch, and apply these tools in hands-on projects. Learn to tackle image classification, segmentation, and more with confidence and expertise.\n",
    "\n",
    "<img src=\"../images/art-computer-vision-deep-learning.png\" alt=\"Course Title\" style=\"max-width: 400px; width: 100%; height: auto; border-radius: 10px;\">\n",
    "\n"
   ]
  },
  {
   "cell_type": "markdown",
   "metadata": {},
   "source": [
    "## Chapters\n",
    "\n",
    "1. [**Why Deep Learning?**](../cv/cv-why-deep-learning.ipynb)<br>\n",
    "   Introduction to deep learning for computer vision, with application examples.\n",
    "\n",
    "2. [**Introduction to Neural Networks**](../cv/cv-intro-neural-nets.ipynb)<br>\n",
    "   Basic concepts, architecture, and application of neural networks to image processing.\n",
    "\n",
    "3. [**Introduction to TensorFlow & Keras**](../cv/cv-intro-tf-keras.ipynb)<br>\n",
    "   Overview of TensorFlow and Keras, with hands-on neural network training.\n",
    "\n",
    "4. [**Convolutional Neural Networks**](../cv/cv-cnn.ipynb)<br>\n",
    "   Motivation, architecture, and application of CNNs to image data.\n",
    "\n",
    "   1. [**Exercise: Image Classification**](../cv/cv-ex-image-class.ipynb)<br>\n",
    "      Practical exercise on image classification with CNNs and TensorFlow.\n",
    "\n",
    "5. [**Image Augmentation Techniques**](../cv/cv-data-aug.ipynb)<br>\n",
    "   Data augmentation techniques for improving model performance.\n",
    "\n",
    "6. [**Transfer Learning for Image Classification**](../cv/cv-transfer-learning.ipynb)<br>\n",
    "   Using pre-trained models and fine-tuning for specific image classification tasks.\n",
    "\n",
    "   1. [**Exercise: Pre-trained Models for Image Classification**](../cv/cv-ex-pretrained.ipynb)<br>\n",
    "      Practical exercise on transfer learning for image classification.\n",
    "\n",
    "7. [**Explainable Image Classification**](../cv/cv-explainable.ipynb)<br>\n",
    "   Methods for explainable AI in image classification, with practical examples.\n",
    "\n",
    "8. [**Introduction to PyTorch**](../cv/cv-intro-pytorch.ipynb)<br>\n",
    "   Overview of PyTorch, comparison to TensorFlow & Keras, hands-on introduction.\n",
    "\n",
    "9. [**TensorFlow vs PyTorch**](../cv/cv-tf-vs-pytorch.ipynb)<br>\n",
    "   Comparison of TensorFlow and PyTorch frameworks, with decision support for projects.\n",
    "\n",
    "10. [**Object Detection with YOLO**](../cv/cv-yolo.ipynb)<br>\n",
    "    YOLO architecture and application for object detection, with live demo.\n",
    "\n",
    "    1. [**Exercise: Fine-tuning an Object Detection Model**](../cv/cv-ex-yolo.ipynb)<br>\n",
    "       Practical exercise on fine-tuning a YOLO model for object detection.\n",
    "\n",
    "11. [**Image Segmentation**](../cv/cv-segmentation.ipynb)<br>\n",
    "    Overview of segmentation methods and application of CNNs for segmentation.\n",
    "\n",
    "12. [**Image Retrieval**](../cv/cv-retrieval.ipynb)<br>\n",
    "    Image retrieval with embeddings, with practical application example.\n",
    "\n",
    "13. [**Generative Image Models**](../cv/cv-gans-vaes.ipynb)<br>\n",
    "    Overview of generative models, including GANs and VAEs."
   ]
  },
  {
   "cell_type": "markdown",
   "metadata": {},
   "source": [
    "## Best Practices\n",
    "\n"
   ]
  },
  {
   "cell_type": "markdown",
   "metadata": {},
   "source": [
    "## Supplement\n",
    "\n",
    "\n",
    "1. [**Q&A**](../cv/cv-qa.ipynb)<br>\n",
    "    Additional questions and answers from the workshop."
   ]
  },
  {
   "cell_type": "markdown",
   "metadata": {},
   "source": [
    "## 🔒 Exercise Solutions\n",
    "\n",
    "1. [**🔒 Exercise Solutions: Julia Basics**](../julia/julia-basics-exercises-solutions.ipynb)<br>\n",
    "2. [**🔒 Exercise Solutions: Numeric Computing**](../julia/julia-numeric-exercise-solutions.ipynb)<br>\n",
    "3. [**🔒 Exercise Solutions: Parallel Computing**](../julia/julia-parallel-exercise-solution.ipynb)<br>"
   ]
  },
  {
   "cell_type": "markdown",
   "metadata": {},
   "source": [
    "## Additional Resources\n",
    "\n",
    "- [**Julia Test Notebook**](../julia/test-julia.ipynb)<br>\n",
    "    Verify that your Julia stack is working.\n",
    "    \n",
    "- [**Jupyter Cheat Sheet**](../jupyter/cheatsheet.ipynb)<br>\n",
    "    Some useful commands for Jupyter Notebook, mostly optional."
   ]
  },
  {
   "cell_type": "markdown",
   "metadata": {},
   "source": [
    "---\n",
    "_This notebook is licensed under a [Creative Commons Attribution-NonCommercial-ShareAlike 4.0 International (CC BY-NC-SA 4.0)](https://creativecommons.org/licenses/by-nc-sa/4.0/). Copyright © 2018-2024 [Point 8 GmbH](https://point-8.de)_"
   ]
  }
 ],
 "metadata": {
  "kernelspec": {
   "display_name": "Python 3",
   "language": "python",
   "name": "python3"
  },
  "language_info": {
   "codemirror_mode": {
    "name": "ipython",
    "version": 3
   },
   "file_extension": ".py",
   "mimetype": "text/x-python",
   "name": "python",
   "nbconvert_exporter": "python",
   "pygments_lexer": "ipython3",
   "version": "3.8.8"
  }
 },
 "nbformat": 4,
 "nbformat_minor": 4
}
