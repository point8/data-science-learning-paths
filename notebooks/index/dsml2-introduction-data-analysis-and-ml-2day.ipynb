{
 "cells": [
  {
   "cell_type": "markdown",
   "metadata": {},
   "source": [
    "# Introduction Data Science and Machine Learning [DSML2]"
   ]
  },
  {
   "cell_type": "markdown",
   "metadata": {},
   "source": [
    "The aim of this workshop is to provide you with the basic knowledge and skills needed to get started with data analysis and machine learning using Python. We will dig in the Python programming language, try relevant libraries and discuss relevant strategies. On sample data sets we will deepen our knowledge and build up our own machine learning pipeline."
   ]
  },
  {
   "cell_type": "markdown",
   "metadata": {},
   "source": [
    "## Table of Contents\n",
    "\n",
    "### Curriculum\n",
    "\n",
    "1. [**Machine Learning Run-Through**](../ml/ml-workflow-with-iris.ipynb) <br>\n",
    "    Using a simple example data set we will explore the general machine learning workflow.\n",
    "    \n",
    "2. [**Python Basics**](../python/python-basics.ipynb)<br>\n",
    "    Learn the basics of the Python programming language.\n",
    "        \n",
    "3. [**Efficient Computing with numpy**](../python/python-scientific-numpy.ipynb)<br>\n",
    "    Apply the `numpy` library to compute efficiently with large amounts of data.\n",
    "\n",
    "4. [**Data Handling with pandas**](../python/python-data-handling-pandas.ipynb)<br>\n",
    "    Learn to work with tabular data, supported by the `pandas` library.\n",
    "\n",
    "5. [**Plotting with matplotlib**](../python/python-plotting.ipynb)<br>\n",
    "    Visualize data with plots, using functions of `matplotlib`.\n",
    "\n",
    "6. [**Introduction to Statistics**](../stats/stats-basics.ipynb)<br>\n",
    "    First steps with statistics concepts needed for data analysis.\n",
    "\n",
    "7. [**Fitting basics**](../stats/stats-fitting-short.ipynb)<br>\n",
    "    General idea of fitting a model to your data and what can go wrong.\n",
    "\n",
    "8. **Machine Learning Deep Dive**<br>\n",
    "    Using a test data set learn and explore the machine learning workflow step by step.\n",
    "    - [Part 1](../ml/ml-workflow-marbles-part-1.ipynb): Start with data import, data preparation, data exploration and feature selection/engineering.\n",
    "    - [Part 2-basiscs](../ml/ml-workflow-marbles-part-2-only-basic-validation.ipynb): How to set up a ML model, train it and perform an initial validation.\n",
    "    - [Part 2](../ml/ml-workflow-marbles-part-2.ipynb): How to set up a ML model, train it and perform an exhaustive validation.\n",
    "    - [Part 3](../ml/ml-workflow-marbles-part-3-exercises.ipynb): It's your Go! Who can get the best classifier?"
   ]
  },
  {
   "cell_type": "markdown",
   "metadata": {},
   "source": [
    "### Exercises\n",
    "\n",
    "1. [**Excercise: Museums of France**](../exercises/exercise-museums.ipynb)<br>\n",
    "    An exercise with a clear task, requiring you to apply the learnings from the course.\n",
    "   \n",
    "2. [**Excercise: Titanic**](../exercises/exercise-titanic.ipynb)<br>\n",
    "    An open-ended exercise to practice answering questions with data."
   ]
  },
  {
   "cell_type": "markdown",
   "metadata": {},
   "source": [
    "### Additional Resources\n",
    "\n",
    "- [**Test Notebook**](../test.ipynb)<br>\n",
    "    Verify that your Python stack is working.\n",
    "\n",
    "- [**Jupyter Cheat Sheet**](../jupyter/cheatsheet.ipynb)<br>\n",
    "    Some useful commands for Jupyter Notebook, mostly optional."
   ]
  },
  {
   "cell_type": "markdown",
   "metadata": {},
   "source": [
    "---\n",
    "_This notebook is licensed under a [Creative Commons Attribution-NonCommercial-ShareAlike 4.0 International (CC BY-NC-SA 4.0)](https://creativecommons.org/licenses/by-nc-sa/4.0/). Copyright © 2018-2025 [Point 8 GmbH](https://point-8.de)_"
   ]
  }
 ],
 "metadata": {
  "kernelspec": {
   "display_name": "Python 3",
   "language": "python",
   "name": "python3"
  },
  "language_info": {
   "codemirror_mode": {
    "name": "ipython",
    "version": 3
   },
   "file_extension": ".py",
   "mimetype": "text/x-python",
   "name": "python",
   "nbconvert_exporter": "python",
   "pygments_lexer": "ipython3",
   "version": "3.6.8"
  }
 },
 "nbformat": 4,
 "nbformat_minor": 4
}
