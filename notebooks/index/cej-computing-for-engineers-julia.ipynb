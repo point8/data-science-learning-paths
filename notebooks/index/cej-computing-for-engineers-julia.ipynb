{
 "cells": [
  {
   "cell_type": "markdown",
   "metadata": {},
   "source": [
    "# Computing for Engineers with Julia [CEJ]\n",
    "\n",
    " A 2-day intensive course covering the essentials of the Julia programming language. From the basics of the language to an ecosystem of powerful tools for optimization, data handling and fast computation.\n",
    "\n",
    "<img src=\"../images/art-computing-for-engineers-with-julia.png\" alt=\"Course Title\" style=\"max-width: 400px; width: 100%; height: auto; border-radius: 10px;\">\n",
    "\n"
   ]
  },
  {
   "cell_type": "markdown",
   "metadata": {},
   "source": [
    "## Chapters\n",
    "\n",
    "\n",
    "1. [**Introduction: Why Julia?**](../julia/julia-why.ipynb)<br>\n",
    "    Why should you learn Julia? What makes it different from other programming languages?\n",
    "   \n",
    "1. [**Julia Basics**](../julia/julia-basics.ipynb)<br>\n",
    "    Get to know the basics of the Julia programming language.\n",
    "\n",
    "    1. [**Exercise: Julia Basics**](../julia/julia-basics-exercises.ipynb)<br>   \n",
    "\n",
    "2. [**Using Packages**](../julia/julia-packages.ipynb)<br>\n",
    "    Learn how to use packages in Julia.\n",
    "\n",
    "3. [**Numeric Computing**](../julia/julia-numeric.ipynb)<br>\n",
    "    Learn how to use Julia for numeric computing.\n",
    "\n",
    "4. [**Data Analysis**](../julia/julia-data-analysis.ipynb)<br>\n",
    "    Explore Julia tools for data analysis.\n",
    "\n",
    "\n",
    "1. [**Parallel Computing**](../julia/julia-parallel.ipynb)<br>\n",
    "    Discover how Julia supports parallel and distributed computing.\n",
    "\n",
    "    1. [**Exercise: Parallel Computing**](../julia/julia-parallel-exercise.ipynb)<br>   \n",
    "\n",
    "2. [**Building Packages**](../julia/julia-build-packages.ipynb)<br>\n",
    "    How to build your own package.\n",
    "\n"
   ]
  },
  {
   "cell_type": "markdown",
   "metadata": {},
   "source": [
    "## Best Practices\n",
    "\n",
    "1. [**Testing**](../julia/julia-testing.ipynb)<br>\n",
    "    How to write tests for your Julia code.\n",
    "    \n",
    "1. [**Documentation**](../julia/julia-documentation.ipynb)<br>\n",
    "    How to write documentation for your Julia code.\n",
    "\n"
   ]
  },
  {
   "cell_type": "markdown",
   "metadata": {},
   "source": [
    "## Supplement\n",
    "\n",
    "1. [**Mathematical Optimization**](../julia/julia-optimization.ipynb)<br>\n",
    "    Introduction to mathematical optimization and the JuMP package. \n",
    "\n",
    "1. [**Julia and Python Interoperability**](../julia/julia-python.ipynb)<br>\n",
    "    Learn how to use Julia and Python together.\n",
    "\n",
    "1. [**Q&A**](../julia/julia-qa.ipynb)<br>\n",
    "    Additional questions and answers from the workshop."
   ]
  },
  {
   "cell_type": "markdown",
   "metadata": {},
   "source": [
    "## 🔒 Exercise Solutions\n",
    "\n",
    "1. [**🔒 Exercise Solutions: Julia Basics**](../julia/julia-basics-exercises-solutions.ipynb)<br>\n",
    "2. [**🔒 Exercise Solutions: Numeric Computing**](../julia/julia-numeric-exercise-solutions.ipynb)<br>\n",
    "3. [**🔒 Exercise Solutions: Parallel Computing**](../julia/julia-parallel-exercise-solution.ipynb)<br>"
   ]
  },
  {
   "cell_type": "markdown",
   "metadata": {},
   "source": [
    "## Additional Resources\n",
    "\n",
    "- [**Julia Test Notebook**](../julia/test-julia.ipynb)<br>\n",
    "    Verify that your Julia stack is working.\n",
    "    \n",
    "- [**Jupyter Cheat Sheet**](../jupyter/cheatsheet.ipynb)<br>\n",
    "    Some useful commands for Jupyter Notebook, mostly optional."
   ]
  },
  {
   "cell_type": "markdown",
   "metadata": {},
   "source": [
    "---\n",
    "_This notebook is licensed under a [Creative Commons Attribution-NonCommercial-ShareAlike 4.0 International (CC BY-NC-SA 4.0)](https://creativecommons.org/licenses/by-nc-sa/4.0/). Copyright © 2018-2025 [Point 8 GmbH](https://point-8.de)_"
   ]
  }
 ],
 "metadata": {
  "kernelspec": {
   "display_name": "Python 3",
   "language": "python",
   "name": "python3"
  },
  "language_info": {
   "codemirror_mode": {
    "name": "ipython",
    "version": 3
   },
   "file_extension": ".py",
   "mimetype": "text/x-python",
   "name": "python",
   "nbconvert_exporter": "python",
   "pygments_lexer": "ipython3",
   "version": "3.8.8"
  }
 },
 "nbformat": 4,
 "nbformat_minor": 4
}
