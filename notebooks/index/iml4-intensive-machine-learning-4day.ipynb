{
 "cells": [
  {
   "cell_type": "markdown",
   "metadata": {},
   "source": [
    "# Intensive Machine Learning @ Telekom Technical Security Summit 2021\n",
    "\n",
    "![](img/tss-logo.png)\n",
    "\n",
    "An in-depth course on supervised and unsupervised machine learning methods, using Python and the scikit-learn framework. \n",
    "The course requires basic knowledge of Python programming, fundamentals of data science and data handling as well as basic machine learning concepts."
   ]
  },
  {
   "cell_type": "markdown",
   "metadata": {},
   "source": [
    "## Table of Contents\n",
    "\n",
    "\n",
    "### Part I: Machine Learning with Python\n",
    "\n",
    "_Introducing the foundations of supervised machine learning_\n",
    "\n",
    "\n",
    "1. **[Supervised Learning for Classification](../ml/ml-classification-intro.ipynb)**<br>\n",
    "      Learn about classifiers and how to measure the quality of their decisions.\n",
    "\n",
    "   1. [**Building an ML Pipeline for Classification**](../ml/ml-classification-pipeline.ipynb)<br>\n",
    "      Build a classification model and learn about the building blocks of ML with Python.\n",
    "      \n",
    "     1. **[Exercise: Titanic Survical Classifier](../exercises/exercise-titanic-classifier.ipynb)**<br>\n",
    "      Build your own classification model from scratch.\n",
    "   \n",
    "  1. **[Feature Engineering and Selection](../ml/ml-feature-engineering.ipynb)**<br>\n",
    "     How to build better features.\n",
    "   \n",
    "  1. **[Algorithm Selection and Hyperparameter Tuning](../ml/ml-algo-hyperparameter.ipynb)**<br>\n",
    "      Learn about classifiers and how to measure the quality of their decisions.  \n",
    "\n",
    "\n",
    "1. **[Supervised Learning for Regression](../ml/ml-regression-intro.ipynb)**<br>\n",
    "  Learn about regressors and how to measure the quality of their prediction.\n",
    "  \n",
    "   A. [**Exercise: Predicting House Prices**](../exercises/ml-exercise-house-prices.ipynb)<br>\n",
    "   Apply regression to predict house prices.\n",
    "\n",
    "1. **Unsupervised Learning**\n",
    "\n",
    "    1. [**Clustering Basics**](../ml/ml-clustering.ipynb)<br>\n",
    "      Apply clustering algorithms to detect structure in the data.\n"
   ]
  },
  {
   "cell_type": "markdown",
   "metadata": {},
   "source": [
    "### Part II: Advanced Machine Learning\n",
    "\n",
    "_Taking machine learning to the next level_\n",
    "\n",
    "\n",
    "1. **[Profiling High-Dimensional Datasets](../ml/ml-profiling.ipynb)**<br>\n",
    "  A first look at large tables.\n",
    "  \n",
    "1. **More Unsupervised Learning**\n",
    "\n",
    "    1. **[Advanced Clustering Methods](../ml/ml-clustering-advanced.ipynb)**<br>\n",
    "    Clustering without a-priori number of clusters etc.\n",
    "\n",
    "    1. [**Dimensionality Reduction**](../ml/ml-dimensionality-reduction.ipynb)<br>\n",
    "        ... in which we are going to remove the curse of dimensionality.\n",
    "\n",
    "1. **[Anomaly Detection](../ml/ml-anomaly-detection.ipynb)**<br>\n",
    "   How to spot extraordinary things in the data.\n",
    "\n",
    "    A. **[Exercise: Intrusion Detection](../ml/ml-exercise-anomaly-detection.ipynb)**<br>\n",
    "    Can you apply anomaly detection to catch hackers trying to break into your IT system?\n",
    "\n",
    "\n"
   ]
  },
  {
   "cell_type": "markdown",
   "metadata": {},
   "source": [
    "### Part III: Deep Learning with TensorFlow\n",
    "\n",
    "_Introducing the basics of building neural networks with TensorFlow_\n",
    "\n",
    "1. [**Why Deep Learning?**](../dl/dl-why.ipynb)<br>\n",
    "    Motivating deep learning methods.\n",
    "\n",
    "1. [**Deep Learning Walkthrough: Digit Recognition**](../dl/dl-walkthrough.ipynb)<br>\n",
    "   Neural networks explained step by step.\n",
    "\n",
    "    A. [**Exercise: Fashion Recognition**](../dl/dl-exercise-fashion-mnist.ipynb)<br>\n",
    "    Try your new deep learning skills on this data set.\n",
    "   \n",
    "1. [**Image Classification with Convolutional Neural Networks**](../dl/dl-cnn-image-classification.ipynb)<br>\n",
    "   Introducing CNN architectures.\n",
    "   \n",
    "   A. [**Exercise: Image Classification with CNNs**](../dl/dl-exercise-cnn.ipynb)<br>\n",
    "   Image classification with convolutional neural networks.\n",
    "\n",
    "\n"
   ]
  },
  {
   "cell_type": "markdown",
   "metadata": {},
   "source": [
    "### Part IV: Machine Learning on Time Series\n",
    "\n",
    "_Applying machine learning to time series data_\n",
    "\n",
    "\n",
    "1. **[Overview](../timeseries/mlts-overview.ipynb)**<br>\n",
    "    An overview over machine learning on time series.\n",
    "\n",
    "1. **[Handling Time Series with pandas](../python/python-timeseries-pandas.ipynb)**<br>\n",
    "    Working with time series data as dataframes.\n",
    "    \n",
    "1. **[Time Series Analysis](../timeseries/mlts-time-series-analysis.ipynb)**<br>\n",
    "    Analysing time series data for structure.    \n",
    "\n",
    "\n",
    "1. [**Time Series Classification with sktime**](../timeseries/mlts-classification.ipynb)<br>\n",
    "    Classifying time series made easy with sktime.\n",
    "\n",
    "    1. [**Feature Engineering on Time Series**](../timeseries/mlts-feature-engineering-timeseries.ipynb)<br>\n",
    "       Describing time series so that ML algorithms understand.\n"
   ]
  },
  {
   "cell_type": "markdown",
   "metadata": {},
   "source": [
    "### Exercise Solution Examples\n",
    "\n",
    "1. [**ML Exercise Solutions**](../exercises/ml-exercise-solutions.ipynb)<br>\n"
   ]
  },
  {
   "cell_type": "markdown",
   "metadata": {},
   "source": [
    "### Additional Resources\n",
    "\n",
    "- [**Test Notebook**](../test.ipynb)<br>\n",
    "    Verify that your Python stack is working.\n",
    "   \n",
    "- [**Jupyter Cheat Sheet**](../jupyter/cheatsheet.ipynb)<br>\n",
    "    Some useful commands for Jupyter Notebook, mostly optional."
   ]
  },
  {
   "cell_type": "markdown",
   "metadata": {},
   "source": [
    "---\n",
    "_This notebook is licensed under a [Creative Commons Attribution-NonCommercial-ShareAlike 4.0 International (CC BY-NC-SA 4.0)](https://creativecommons.org/licenses/by-nc-sa/4.0/). Copyright © 2018-2025 [Point 8 GmbH](https://point-8.de)_"
   ]
  }
 ],
 "metadata": {
  "kernelspec": {
   "display_name": "Python 3 (ipykernel)",
   "language": "python",
   "name": "python3"
  },
  "language_info": {
   "codemirror_mode": {
    "name": "ipython",
    "version": 3
   },
   "file_extension": ".py",
   "mimetype": "text/x-python",
   "name": "python",
   "nbconvert_exporter": "python",
   "pygments_lexer": "ipython3",
   "version": "3.8.8"
  }
 },
 "nbformat": 4,
 "nbformat_minor": 4
}
