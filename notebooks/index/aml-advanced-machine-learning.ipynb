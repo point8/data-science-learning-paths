{
 "cells": [
  {
   "cell_type": "markdown",
   "metadata": {},
   "source": [
    "# Advanced Machine Learning"
   ]
  },
  {
   "cell_type": "markdown",
   "metadata": {},
   "source": [
    "Advanced methods for machine learning application.\n",
    "\n",
    "While we recapitulate some of the foundations, they are covered in much more detail in the following modules of Data Science 101:\n",
    "\n",
    "- [📓 Data Analysis with Python](dap2-data-analysis-python.ipynb)\n",
    "- [📓 Machine Learning with Python](mlp2-machine-learning-python-2day.ipynb)"
   ]
  },
  {
   "cell_type": "markdown",
   "metadata": {},
   "source": [
    "## Table of Contents\n",
    "\n",
    "### Curriculum\n",
    "\n",
    "1. **[Profiling High-Dimensional Datasets](../ml/ml-profiling.ipynb)**<br>\n",
    "  A first look at large tables.\n",
    "  \n",
    "1. **Feature Engineering**\n",
    "\n",
    "1. **Dimensionality Reduction**\n",
    "  \n",
    "1. **Feature Selection**\n",
    "\n",
    "    1. **[Feature Importance](../ml/ml-feature-importance.ipynb)**<br>\n",
    "      On which features does a model rely most?\n",
    "\n",
    "    1. **[Feature Selection Methods](../ml/ml-feature-selection.ipynb)**<br>\n",
    "        On the why and how of explicit feature selection.\n",
    "    \n",
    "    1. **[Regularization](../ml/ml-regularization.ipynb)**<br>\n",
    "        Occam's Razor for models.\n",
    "   \n",
    "    1. **[Explanatory Models](../ml/ml-explanatory.ipynb)**<br>\n",
    "        Building and diagnosing a supervised model for explanatory purposes.\n",
    "        \n",
    "\n",
    "\n",
    "\n"
   ]
  },
  {
   "cell_type": "markdown",
   "metadata": {},
   "source": [
    "### Additional Resources\n",
    "\n",
    "- [**Python Test Notebook**](./../test.ipynb)<br>\n",
    "    Verify that your Python stack is working.\n",
    "\n",
    "   \n",
    "- [**Jupyter Cheat Sheet**](../jupyter/cheatsheet.ipynb)<br>\n",
    "    Some useful commands for Jupyter Notebook, mostly optional."
   ]
  },
  {
   "cell_type": "markdown",
   "metadata": {},
   "source": [
    "---\n",
    "_This notebook is licensed under a [Creative Commons Attribution-NonCommercial-ShareAlike 4.0 International (CC BY-NC-SA 4.0)](https://creativecommons.org/licenses/by-nc-sa/4.0/). Copyright © 2018-2025 [Point 8 GmbH](https://point-8.de)_"
   ]
  }
 ],
 "metadata": {
  "kernelspec": {
   "display_name": "Python 3",
   "language": "python",
   "name": "python3"
  },
  "language_info": {
   "codemirror_mode": {
    "name": "ipython",
    "version": 3
   },
   "file_extension": ".py",
   "mimetype": "text/x-python",
   "name": "python",
   "nbconvert_exporter": "python",
   "pygments_lexer": "ipython3",
   "version": "3.8.8"
  }
 },
 "nbformat": 4,
 "nbformat_minor": 4
}
