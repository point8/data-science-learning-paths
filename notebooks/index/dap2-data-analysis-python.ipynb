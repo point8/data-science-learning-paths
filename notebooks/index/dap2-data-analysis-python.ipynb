{
 "cells": [
  {
   "cell_type": "markdown",
   "metadata": {},
   "source": [
    "# Data Analysis with Python [DAP2]"
   ]
  },
  {
   "cell_type": "markdown",
   "metadata": {},
   "source": [
    "The aim of this workshop is to provide you with the basic knowledge and skills needed to get started with data analysis using Python - the Python programming language, relevant libraries and relevant methodical knowledge.\n",
    "\n",
    "![](img/pydata_stack.png)"
   ]
  },
  {
   "cell_type": "markdown",
   "metadata": {},
   "source": [
    "## Table of Contents\n",
    "\n",
    "\n",
    "### Curriculum\n",
    "\n",
    "1. [**Python Basics**](../python/python-basics.ipynb)<br>\n",
    "    Learn the basics of the Python programming language.\n",
    "    \n",
    "1. [**Efficient Computing with numpy**](../python/python-numpy.ipynb)<br>\n",
    "    Apply the `numpy` library to efficiently process large amounts of data.\n",
    "    \n",
    "1. [**Data Handling with pandas**](../python/python-data-handling-pandas.ipynb)<br>\n",
    "    Learn to work with tabular data, supported by the `pandas` library.\n",
    "\n",
    "1. **[Plotting and Data Visualization](../python/python-datavis.ipynb)**<br>\n",
    "    Visualize data with plots\n",
    "    \n"
   ]
  },
  {
   "cell_type": "markdown",
   "metadata": {},
   "source": [
    "### Bonus Material\n",
    "\n",
    "1. [**Handling Time Series with Pandas**](../python/python-timeseries-pandas.ipynb)\n",
    "\n",
    "1. [**Outlook: Machine Learning**](../ml/ml-outlook.ipynb)\n",
    "\n",
    "1. [**Data Literacy**](../python/python-data-literacy.ipynb)<br>\n",
    "    How to read and interpret data."
   ]
  },
  {
   "cell_type": "markdown",
   "metadata": {},
   "source": [
    "### Exercises\n",
    "\n",
    "1. [**Excercise: Museums of France**](../exercises/exercise-museums.ipynb)<br>\n",
    "    An exercise with a clear task, requiring you to apply the learnings from the course.\n",
    "   \n",
    "2. [**Excercise: Titanic**](../exercises/exercise-titanic.ipynb)<br>\n",
    "    An open-ended exercise to practice answering questions with data.\n",
    "    \n",
    "3. [**Excercise: Deutsche Bahn**](../exercises/exercise-deutschebahn.ipynb)<br>\n",
    "    An open-ended exercise to come up with your own ideas.\n",
    "    \n",
    "4. [**Excercise: German power plants**](../exercises/exercise-power-plants.ipynb)<br>\n",
    "    An open-ended exercise to come up with your own ideas.\n",
    "    "
   ]
  },
  {
   "cell_type": "markdown",
   "metadata": {},
   "source": [
    "### Exercises: Solution Examples\n",
    "\n",
    "1. [**Excercise Solution: Museums of France**](../exercises/exercise-museums-solution.ipynb)<br>\n"
   ]
  },
  {
   "cell_type": "markdown",
   "metadata": {},
   "source": [
    "### Additional Resources\n",
    "\n",
    "- [**Test Notebook**](../test.ipynb)<br>\n",
    "    Verify that your Python stack is working.\n",
    "   \n",
    "- [**Jupyter Cheat Sheet**](../jupyter/cheatsheet.ipynb)<br>\n",
    "    Some useful commands for Jupyter Notebook, mostly optional."
   ]
  },
  {
   "cell_type": "markdown",
   "metadata": {},
   "source": [
    "---\n",
    "_This notebook is licensed under a [Creative Commons Attribution-NonCommercial-ShareAlike 4.0 International (CC BY-NC-SA 4.0)](https://creativecommons.org/licenses/by-nc-sa/4.0/). Copyright © 2018-2024 [Point 8 GmbH](https://point-8.de)_"
   ]
  }
 ],
 "metadata": {
  "kernelspec": {
   "display_name": "Python 3 (ipykernel)",
   "language": "python",
   "name": "python3"
  },
  "language_info": {
   "codemirror_mode": {
    "name": "ipython",
    "version": 3
   },
   "file_extension": ".py",
   "mimetype": "text/x-python",
   "name": "python",
   "nbconvert_exporter": "python",
   "pygments_lexer": "ipython3",
   "version": "3.10.9"
  },
  "vscode": {
   "interpreter": {
    "hash": "aee8b7b246df8f9039afb4144a1f6fd8d2ca17a180786b69acc140d282b71a49"
   }
  }
 },
 "nbformat": 4,
 "nbformat_minor": 4
}
