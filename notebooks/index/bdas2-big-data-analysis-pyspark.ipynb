{
 "cells": [
  {
   "cell_type": "markdown",
   "metadata": {},
   "source": [
    "# Big Data Analysis with PySpark [BDAS2]\n",
    "\n",
    "This course takes you all the way to the ability to process and analyze data of any size. Starting from first steps Python programming, we then cover basic data analysis methods and Python tools for applying them. For truly big data sets, we teach how to harness the computing power of a cluster via PySpark.\n",
    "\n",
    "The course requires basic knowledge of Python programming, fundamentals of data science and data handling. These requirements are conveyed in [📓 **Data Analysis with Python**](../index/dap2-data-analysis-python.ipynb)."
   ]
  },
  {
   "cell_type": "markdown",
   "metadata": {},
   "source": [
    "## Table of Contents\n",
    "\n",
    "### Fundamentals\n",
    " \n",
    "\n",
    "1. [**Processing Big Data**](../python/python-big-data.ipynb)<br>\n",
    "   What strategies do we have available to compute efficiently with increasing amounts of data?  What is a cluster, and when do we need one?\n",
    "   \n",
    "1. [**Introducing Apache Spark**](../spark/spark-introduction.ipynb)<br> \n",
    "    What is Spark all about, and what are its components?\n",
    "   \n",
    "1. [**Spark Fundamentals**](../spark/spark-fundamentals.ipynb)<br>\n",
    "   An introduction to the fundamental concepts as well as core data structures and operations.\n",
    "   \n",
    "1. [**Submitting Spark Jobs**](../spark/spark-submitting.ipynb)<br>\n",
    "   How to submit jobs to a Spark cluster for batch processing.\n",
    "   \n",
    "1. [**Structured Data**](../spark/spark-structured-data.ipynb)<br>\n",
    "   Working with tabular data in Spark.\n",
    "\n",
    "1. **[Streaming Data](../spark/spark-streaming.ipynb)**<br>\n",
    "   Processing large-scale live data streams.\n",
    "\n",
    "1. **[Graph Data](../spark/spark-graph.ipynb)**<br>\n",
    "   Working with grah data using the GraphFrames extension module.\n",
    "\n"
   ]
  },
  {
   "cell_type": "markdown",
   "metadata": {},
   "source": [
    "### Machine Learning\n",
    "\n",
    "1. [**Introduction to Machine Learning**](../ml/ml-outlook.ipynb)<br>\n",
    "    An overview of the field of machine learning.\n",
    "\n",
    "1. **[ML for Classification](../ml/ml-classification-intro.ipynb)**<br>\n",
    "      Learn about classifiers and how to measure the quality of their decisions.\n",
    "\n",
    "  1. [**Building a Pipeline for Classification with Spark ML**](../spark/spark-ml-pipeline.ipynb)<br>\n",
    "      Build a classification model and learn about the building blocks of ML in PySpark."
   ]
  },
  {
   "cell_type": "markdown",
   "metadata": {},
   "source": [
    "### Exercises\n",
    "   \n",
    "1. [**Excercise: Counting Bigrams**](../exercises/spark-exercise-bigrams.ipynb)<br>\n",
    "    Using Spark to count bigrams in big text data.\n"
   ]
  },
  {
   "cell_type": "markdown",
   "metadata": {},
   "source": [
    "### Exercises: Solution Examples\n",
    "   \n",
    "1. [**Spark Exercise Solutions**](../exercises/spark-exercise-solutions.ipynb)\n"
   ]
  },
  {
   "cell_type": "markdown",
   "metadata": {},
   "source": [
    "### Additional Resources\n",
    "\n",
    "- [**Test Notebook**](../test.ipynb)<br>\n",
    "    Verify that your Python stack is working.\n",
    "\n",
    "- [**Jupyter Cheat Sheet**](../jupyter/cheatsheet.ipynb)<br>\n",
    "    Some useful commands for Jupyter Notebook, mostly optional.\n",
    "    \n",
    "- [**Spark Test Notebook**](../spark/spark-test.ipynb)<br>\n",
    "    Verify that your PySpark stack is working."
   ]
  },
  {
   "cell_type": "markdown",
   "metadata": {},
   "source": [
    "---\n",
    "_This notebook is licensed under a [Creative Commons Attribution-NonCommercial-ShareAlike 4.0 International (CC BY-NC-SA 4.0)](https://creativecommons.org/licenses/by-nc-sa/4.0/). Copyright © 2018-2025 [Point 8 GmbH](https://point-8.de)_"
   ]
  }
 ],
 "metadata": {
  "kernelspec": {
   "display_name": "Python 3",
   "language": "python",
   "name": "python3"
  },
  "language_info": {
   "codemirror_mode": {
    "name": "ipython",
    "version": 3
   },
   "file_extension": ".py",
   "mimetype": "text/x-python",
   "name": "python",
   "nbconvert_exporter": "python",
   "pygments_lexer": "ipython3",
   "version": "3.8.8"
  }
 },
 "nbformat": 4,
 "nbformat_minor": 4
}
