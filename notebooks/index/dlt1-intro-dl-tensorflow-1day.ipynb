{
 "cells": [
  {
   "cell_type": "markdown",
   "metadata": {},
   "source": [
    "## Deep Learning with TensorFlow - Essentials [DLT1]\n",
    "\n",
    "Get started with neural networks and deep learning, applying the TensorFlow and Keras libraries.\n",
    "\n",
    "The course requires knowledge of Python programming, fundamentals of data science, data handling, and machine learning concepts like feature engineering, model training and model validation. These requirements are conveyed in [📓 Introduction to Data Science and Machine Learning with Python](dsml2-introduction-data-analysis-and-ml-2day.ipynb)\n"
   ]
  },
  {
   "cell_type": "markdown",
   "metadata": {},
   "source": [
    "## Table of Contents\n",
    "\n",
    "1. [**Deep Learning Walkthrough**](../dl/dl-walkthrough.ipynb)<br>\n",
    "   Neural networks explained step by step.\n",
    "\n",
    "1. [**Image Classification with Convolutional Neural Networks**](../dl/dl-cnn-image-classification.ipynb)<br>\n",
    "   Applying convolutional architectures for image processing.\n",
    "\n",
    "1. [**Autoencoders**](../dl/dl-autoencoder.ipynb)<br>\n",
    "   Let neural networks learn efficient feature vectors.\n",
    "\n",
    "1. [**Saving and Loading Models**](../dl/dl-save-models.ipynb)<br>\n",
    "    Exporting models to files.\n",
    "    \n",
    "1. [**Applying Pretrained Models**](../dl/dl-pretrained.ipynb)<br>\n",
    "   Reinvent the wheel only when necessary.\n",
    "\n",
    "1. [**Explainable AI**](../dl/dl-explainable.ipynb)<br>\n",
    "    Tools for interpreting neural network outputs.\n",
    "\n",
    "\n",
    "### Exercises\n",
    "\n",
    "1. [**Exercise: Fashion Recognition**](../dl/dl-exercise-fashion-mnist.ipynb)<br>\n",
    "   Try your new deep learning skills on this data set.\n",
    "   \n"
   ]
  },
  {
   "cell_type": "markdown",
   "metadata": {},
   "source": [
    "### Exercise Solutions\n",
    "\n",
    "* [**Deep Learning Exercise Solutions**](../dl/dl-exercise-solutions.ipynb)"
   ]
  },
  {
   "cell_type": "markdown",
   "metadata": {},
   "source": [
    "### Additional Resources\n",
    "\n",
    "- [**Python Test Notebook**](../test.ipynb)<br>\n",
    "    Verify that your Python stack is working.\n",
    "    \n",
    "- [**TensorFlow Test Notebook**](../dl/dl-test.ipynb)<br>\n",
    "    Verify that your TensorFlow stack is working.\n",
    "    \n",
    "- [**Jupyter Cheat Sheet**](../jupyter/cheatsheet.ipynb)<br>\n",
    "    Some useful commands for Jupyter Notebook, mostly optional."
   ]
  },
  {
   "cell_type": "markdown",
   "metadata": {},
   "source": [
    "---\n",
    "_This notebook is licensed under a [Creative Commons Attribution-NonCommercial-ShareAlike 4.0 International (CC BY-NC-SA 4.0)](https://creativecommons.org/licenses/by-nc-sa/4.0/). Copyright © 2018-2025 [Point 8 GmbH](https://point-8.de)_"
   ]
  }
 ],
 "metadata": {
  "kernelspec": {
   "display_name": "Python 3",
   "language": "python",
   "name": "python3"
  },
  "language_info": {
   "codemirror_mode": {
    "name": "ipython",
    "version": 3
   },
   "file_extension": ".py",
   "mimetype": "text/x-python",
   "name": "python",
   "nbconvert_exporter": "python",
   "pygments_lexer": "ipython3",
   "version": "3.7.6"
  }
 },
 "nbformat": 4,
 "nbformat_minor": 4
}
