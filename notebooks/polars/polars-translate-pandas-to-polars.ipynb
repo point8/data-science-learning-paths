{
 "cells": [
  {
   "cell_type": "markdown",
   "metadata": {},
   "source": [
    "# Intoduction to `polars`: Translate `pandas` to `polars` code\n",
    "\n",
    "[`polars`](https://www.pola.rs) as a lightning-fast DataFrame library for Rust and Python. It is an alternative to `pandas` when developing data processing pipelines, because as of late 2023 there is no real support for plotting libraries such as matplotlib or plotly.\n",
    "\n",
    "It is written in Rust and uses the Apache Arrow data format in the background compared to numpy as the basis of pandas. Although, as of [`pandas 2.0`](https://pandas.pydata.org/docs/dev/whatsnew/v2.0.0.html) it possible to use the Arrow data format as well in pandas, but is not the default.\n",
    "\n",
    "`polars` is upto 5 to 10 times faster than pandas and provides \"lazy execution\" when reading data and executing queries. When to use `polars`, when you have larger than memory data sets or when you develop a pipeline for data processing and filtering."
   ]
  },
  {
   "cell_type": "code",
   "execution_count": null,
   "metadata": {},
   "outputs": [],
   "source": [
    "%load_ext autoreload\n",
    "%autoreload 2"
   ]
  },
  {
   "cell_type": "code",
   "execution_count": null,
   "metadata": {},
   "outputs": [],
   "source": [
    "import random\n",
    "from datetime import datetime, timedelta\n",
    "\n",
    "import numpy as np\n",
    "import pandas as pd\n",
    "import polars as pl"
   ]
  },
  {
   "cell_type": "markdown",
   "metadata": {},
   "source": [
    "## Generate Data\n",
    "This simulated dataset contains a timeseries of electrical voltage and current values for different substations."
   ]
  },
  {
   "cell_type": "code",
   "execution_count": null,
   "metadata": {},
   "outputs": [],
   "source": [
    "# Fix the random seeds to have the same outcome when the cell is executed again\n",
    "np.random.seed(42)\n",
    "random.seed(42)\n",
    "\n",
    "# Number of generated data points\n",
    "n = 1_000_000\n",
    "\n",
    "# Generate timestamps by subtraction from the current time the desired number of generated data points in minutes\n",
    "timestamps = [datetime.now() - timedelta(minutes=i) for i in range(n)]\n",
    "# Generate substation ids in the range of 1 to 10\n",
    "substation_ids = [random.randint(1, 10) for _ in range(n)]\n",
    "# Generate voltages as normal distribution with mean 230 and standard deviation 10\n",
    "voltages = np.random.normal(230, 10, n)\n",
    "# Generate currents as normal distribution with mean 5 and standard deviation 2\n",
    "currents = np.random.normal(5, 2, n)\n",
    "\n",
    "# Collect all lists and create a DataFrame\n",
    "df = pd.DataFrame(\n",
    "    {\n",
    "        \"timestamp\": timestamps,\n",
    "        \"substation_id\": substation_ids,\n",
    "        \"voltage\": voltages,\n",
    "        \"current\": currents,\n",
    "    }\n",
    ")\n",
    "\n",
    "# Write the DataFrame to a CSV file\n",
    "df.to_csv(\"electricity_usage.csv\", index=False)"
   ]
  },
  {
   "cell_type": "code",
   "execution_count": null,
   "metadata": {},
   "outputs": [],
   "source": [
    "df.head()"
   ]
  },
  {
   "cell_type": "markdown",
   "metadata": {},
   "source": [
    "## \"What is the daily average power?\" - `pandas` version\n",
    "Now, we want to analyse the data and answer the question \"What is the daily average power for each substation when looking at powers greater than 1000 V?\", i.e. read data, data preparation, calculating power, gropuby according to substation, resampling to daily timestamps, calculating the mean, and in the end filter for powers greater than the threshold."
   ]
  },
  {
   "cell_type": "code",
   "execution_count": null,
   "metadata": {},
   "outputs": [],
   "source": [
    "%%timeit\n",
    "# Step 1: Read data from csv\n",
    "df = pd.read_csv(\"electricity_usage.csv\")\n",
    "\n",
    "# Step 2: Set the correct timestamp format and use the timestamp as index\n",
    "df['timestamp'] = pd.to_datetime(df['timestamp'])\n",
    "df = df.set_index(df['timestamp'])\n",
    "\n",
    "# Step 3: Calculate power (P=VI) and add it as a new column\n",
    "df['power'] = df['voltage'] * df['current']\n",
    "\n",
    "# Step 4: Group by 'substation_id', resample timestamp and calculate daily average power\n",
    "df_grouped = df.groupby('substation_id').resample(\"D\")[\"power\"].mean()\n",
    "df_grouped = df_grouped.reset_index()\n",
    "\n",
    "# Step 5: Filter out data where daily average power is less than a certain threshold\n",
    "threshold = 1000\n",
    "df_grouped = df_grouped[df_grouped['power'] > threshold]\n",
    "\n",
    "# Step 6: Sort result by substation and timestamp\n",
    "df_grouped = df_grouped.sort_values(by=[\"substation_id\", \"timestamp\"])\n",
    "\n",
    "# Step 7: Write the transformed data to a new CSV file\n",
    "df_grouped.to_csv(\"transformed_electricity_usage_pandas.csv\", index=False)"
   ]
  },
  {
   "cell_type": "markdown",
   "metadata": {},
   "source": [
    "## Exercise:\"What is the daily average power?\" - `polars` version\n",
    "\n",
    "Translate the above steps/pipeline from `pandas` to `polars` and compare run times with `%%timeit`. [`%%timeit`](https://ipython.org/ipython-doc/dev/interactive/magics.html#magic-timeit) is known as *cell magic* in IPython (for more information read [here](https://ipython.org/ipython-doc/dev/interactive/magics.html#cell-magics)). It measures the execution time of the cell by executing it more than once. Feel free to use the [`polars`](https://www.pola.rs) documentation.\n",
    "\n",
    "The pipeline should include the following steps:\n",
    "\n",
    "- Read data csv\n",
    "- Convert the date string to a datetime format\n",
    "- Calculate the power\n",
    "- Get the power for each substation per day\n",
    "- Remove all entries with a power value less than 1000\n",
    "- Sort the result by substation and date\n",
    "- Write the result in a csv file\n",
    "\n",
    "**Hint**: Polars has a `group_by_dynamic` method    \n"
   ]
  },
  {
   "cell_type": "code",
   "execution_count": null,
   "metadata": {},
   "outputs": [],
   "source": [
    "# Your code goes here!\n",
    "\n"
   ]
  },
  {
   "cell_type": "markdown",
   "metadata": {},
   "source": [
    "---\n",
    "_This notebook is licensed under a [Creative Commons Attribution-NonCommercial-ShareAlike 4.0 International (CC BY-NC-SA 4.0)](https://creativecommons.org/licenses/by-nc-sa/4.0/). Copyright © [Point 8 GmbH](https://point-8.de)_"
   ]
  }
 ],
 "metadata": {
  "kernelspec": {
   "display_name": ".venv",
   "language": "python",
   "name": "python3"
  },
  "language_info": {
   "codemirror_mode": {
    "name": "ipython",
    "version": 3
   },
   "file_extension": ".py",
   "mimetype": "text/x-python",
   "name": "python",
   "nbconvert_exporter": "python",
   "pygments_lexer": "ipython3",
   "version": "3.10.11"
  }
 },
 "nbformat": 4,
 "nbformat_minor": 2
}
