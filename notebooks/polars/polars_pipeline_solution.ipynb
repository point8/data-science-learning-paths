{
 "cells": [
  {
   "cell_type": "code",
   "execution_count": null,
   "metadata": {},
   "outputs": [],
   "source": [
    "%load_ext autoreload\n",
    "%autoreload 2"
   ]
  },
  {
   "cell_type": "code",
   "execution_count": null,
   "metadata": {},
   "outputs": [],
   "source": [
    "import random\n",
    "from datetime import datetime, timedelta\n",
    "\n",
    "import numpy as np\n",
    "import pandas as pd\n",
    "import polars as pl"
   ]
  },
  {
   "cell_type": "markdown",
   "metadata": {},
   "source": [
    "# The Data\n",
    "This dataset contains the measured data of multiple substations for voltage and current."
   ]
  },
  {
   "cell_type": "code",
   "execution_count": null,
   "metadata": {},
   "outputs": [],
   "source": [
    "np.random.seed(42)\n",
    "random.seed(42)\n",
    "\n",
    "# Number of rows in the CSV file\n",
    "n = 4_000_000  # Replace with the desired number of rows\n",
    "\n",
    "timestamps = [datetime.now() - timedelta(minutes=i) for i in range(n)]\n",
    "substation_ids = [random.randint(1, 10) for _ in range(n)]\n",
    "voltages = np.random.normal(230, 10, n)  # Normal distribution with mean 230 and standard deviation 10\n",
    "currents = np.random.normal(5, 2, n)  # Normal distribution with mean 5 and standard deviation 2\n",
    "\n",
    "\n",
    "df = pd.DataFrame({\n",
    "    'timestamp': timestamps,\n",
    "    'substation_id': substation_ids,\n",
    "    'voltage': voltages,\n",
    "    'current': currents\n",
    "})\n",
    "\n",
    "# Write the DataFrame to a CSV file\n",
    "df.to_csv(\"electricity_usage.csv\", index=False)\n",
    "df.head()"
   ]
  },
  {
   "cell_type": "markdown",
   "metadata": {},
   "source": [
    "# Pandas version"
   ]
  },
  {
   "cell_type": "code",
   "execution_count": null,
   "metadata": {},
   "outputs": [],
   "source": [
    "%%timeit\n",
    "df = pd.read_csv(\"electricity_usage.csv\")\n",
    "\n",
    "# Step 2: Perform some transformations\n",
    "df['timestamp'] = pd.to_datetime(df['timestamp'])\n",
    "df = df.set_index(df['timestamp'])\n",
    "\n",
    "# Calculate power (P=VI) and add it as a new column\n",
    "df['power'] = df['voltage'] * df['current']\n",
    "\n",
    "# Group by 'substation_id' and calculate daily average power\n",
    "df_grouped = df.groupby('substation_id').resample(\"D\")[\"power\"].mean()\n",
    "df_grouped = df_grouped.reset_index()\n",
    "\n",
    "# Filter out data where daily average power is less than a certain threshold\n",
    "threshold = 1000\n",
    "df_grouped = df_grouped[df_grouped['power'] > threshold]\n",
    "\n",
    "df_grouped = df_grouped.sort_values(by=[\"substation_id\", \"timestamp\"])\n",
    "\n",
    "# Step 3: Write the transformed data to a new CSV file\n",
    "df_grouped.to_csv(\"transformed_electricity_usage_pandas.csv\", index=False)"
   ]
  },
  {
   "cell_type": "markdown",
   "metadata": {},
   "source": [
    "# One possible solution with polars for **part 1**"
   ]
  },
  {
   "cell_type": "code",
   "execution_count": null,
   "metadata": {},
   "outputs": [],
   "source": [
    "%%timeit\n",
    "df = pl.read_csv(\"electricity_usage.csv\")\n",
    "\n",
    "# Convert 'timestamp' from string to datetime\n",
    "df = df.with_columns(pl.col(\"timestamp\").str.strptime(pl.Datetime, \"%Y-%m-%d %H:%M:%S%.f\"))\n",
    "\n",
    "# calculate power outcome\n",
    "df = df.with_columns((pl.col(\"voltage\") * pl.col(\"current\")).alias(\"power\"))\n",
    "\n",
    "# Group by 'substation_id' and calculate daily average power\n",
    "df = df.sort(\"timestamp\")  # data has to be sorted for group_by_dynamic!\n",
    "df_grouped = df.group_by_dynamic(\n",
    "    index_column=\"timestamp\",\n",
    "    every=\"1d\",\n",
    "    closed=\"right\",\n",
    "    by=\"substation_id\",\n",
    "    include_boundaries=False,\n",
    ").agg(pl.col(\"power\").mean().alias(\"daily_avg_power\"))\n",
    "\n",
    "# Filter data where daily average power is less than a certain threshold\n",
    "threshold = 1000\n",
    "df_grouped = df_grouped.filter(pl.col(\"daily_avg_power\") > threshold)\n",
    "\n",
    "df_grouped = df_grouped.sort([\"substation_id\", \"timestamp\"])\n",
    "\n",
    "# Write the transformed data to a new CSV file\n",
    "df_grouped.write_csv(\"transformed_electricity_usage.csv\")"
   ]
  },
  {
   "cell_type": "markdown",
   "metadata": {},
   "source": [
    "### Solution part 1 with group_by instead of dynamic_group_by\n",
    "Instead of the group_by_dynamic a regular group_by can also be used.  \n",
    "Because of missing resample functionality a column with dates for grouping has to be introduced."
   ]
  },
  {
   "cell_type": "code",
   "execution_count": null,
   "metadata": {},
   "outputs": [],
   "source": [
    "df = pl.read_csv(\"electricity_usage.csv\")\n",
    "\n",
    "# Use pl.Date instead of pl.Datetime for group_by on dates directly\n",
    "df = df.with_columns(pl.col(\"timestamp\").str.strptime(pl.Date, \"%Y-%m-%d %H:%M:%S%.f\").alias(\"date\"))\n",
    "# OR use the datetime column\n",
    "# Convert 'timestamp' from string to datetime\n",
    "# df = df.with_columns(pl.col(\"timestamp\").str.strptime(pl.Datetime, \"%Y-%m-%d %H:%M:%S%.f\"))\n",
    "# df = df.with_columns(pl.col(\"timestamp\").cast(pl.Date).alias(\"date\"))\n",
    "\n",
    "# calculate power outcome\n",
    "df = df.with_columns((pl.col(\"voltage\") * pl.col(\"current\")).alias(\"power\"))\n",
    "\n",
    "df_grouped = df.group_by([\"date\", \"substation_id\"]).agg(pl.col(\"power\").mean().alias(\"daily_avg_power\"))\n",
    "df_grouped = df_grouped.sort([\"substation_id\", \"date\"])"
   ]
  },
  {
   "cell_type": "markdown",
   "metadata": {},
   "source": [
    "# Solution Part 2 - Polars version as query with lazy mode"
   ]
  },
  {
   "cell_type": "markdown",
   "metadata": {},
   "source": [
    "## Hands on Part 2 - Polars version as query with lazy mode\n",
    "We now imagine that there is a larger than memory data set.  \n",
    "Write the previous pipeline as a polars query (either use your code or the provided solution as base).\n",
    "\n",
    "Execute the query in lazy mode and measure the run time with `%%timeit`"
   ]
  },
  {
   "cell_type": "code",
   "execution_count": null,
   "metadata": {},
   "outputs": [],
   "source": [
    "%%timeit\n",
    "threshold = 1000\n",
    "# Convert 'timestamp' from string to datetime\n",
    "q = (\n",
    "    pl.scan_csv(\"electricity_usage.csv\")\n",
    "    .with_columns(pl.col(\"timestamp\").str.strptime(pl.Datetime, \"%Y-%m-%d %H:%M:%S%.f\"))\n",
    "    .with_columns((pl.col(\"voltage\") * pl.col(\"current\")).alias(\"power\"))\n",
    "    .sort(\"timestamp\")\n",
    "    .group_by_dynamic(\n",
    "        index_column=\"timestamp\",\n",
    "        every=\"1d\",\n",
    "        closed=\"right\",\n",
    "        by=\"substation_id\",\n",
    "        include_boundaries=False,\n",
    "    ).agg(pl.col(\"power\").mean().alias(\"daily_avg_power\"))\n",
    "    .filter(pl.col(\"daily_avg_power\") > threshold)\n",
    "    .sort([\"substation_id\", \"timestamp\"])\n",
    ")\n",
    "\n",
    "# possibility to test the pipeline with reduced amount data\n",
    "# df_test = q.fetch(n_rows=int(100))\n",
    "\n",
    "# Step 3: Write the transformed data to a new CSV file\n",
    "df = q.collect(streaming=True) # set streaming = True if the data might not fit into memory\n",
    "df.write_csv(\"transformed_electricity_usage.csv\")\n",
    "\n",
    "# in case you want a pandas dataframe for plotting etc.\n",
    "df_pandas = df.to_pandas()"
   ]
  },
  {
   "cell_type": "markdown",
   "metadata": {},
   "source": [
    "---\n",
    "_This notebook is licensed under a [Creative Commons Attribution-NonCommercial-ShareAlike 4.0 International (CC BY-NC-SA 4.0)](https://creativecommons.org/licenses/by-nc-sa/4.0/). Copyright © [Point 8 GmbH](https://point-8.de)_"
   ]
  }
 ],
 "metadata": {
  "kernelspec": {
   "display_name": ".venv",
   "language": "python",
   "name": "python3"
  },
  "language_info": {
   "codemirror_mode": {
    "name": "ipython",
    "version": 3
   },
   "file_extension": ".py",
   "mimetype": "text/x-python",
   "name": "python",
   "nbconvert_exporter": "python",
   "pygments_lexer": "ipython3",
   "version": "3.10.2"
  }
 },
 "nbformat": 4,
 "nbformat_minor": 2
}
