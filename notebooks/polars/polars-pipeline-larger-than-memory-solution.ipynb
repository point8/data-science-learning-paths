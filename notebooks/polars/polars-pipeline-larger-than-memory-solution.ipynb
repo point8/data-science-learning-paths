{
 "cells": [
  {
   "cell_type": "markdown",
   "metadata": {},
   "source": [
    "# Solution:  Write query for larger than memory data sets"
   ]
  },
  {
   "cell_type": "code",
   "execution_count": null,
   "metadata": {},
   "outputs": [],
   "source": [
    "%load_ext autoreload\n",
    "%autoreload 2"
   ]
  },
  {
   "cell_type": "code",
   "execution_count": null,
   "metadata": {},
   "outputs": [],
   "source": [
    "import random\n",
    "from datetime import datetime, timedelta\n",
    "\n",
    "import numpy as np\n",
    "import pandas as pd\n",
    "import polars as pl"
   ]
  },
  {
   "cell_type": "markdown",
   "metadata": {},
   "source": [
    "## Generate Data\n",
    "This simulated dataset contains a timeseries of electrical voltage and current values for different substations."
   ]
  },
  {
   "cell_type": "code",
   "execution_count": null,
   "metadata": {},
   "outputs": [],
   "source": [
    "# Fix the random seeds to have the same outcome when the cell is executed again\n",
    "np.random.seed(42)\n",
    "random.seed(42)\n",
    "\n",
    "# Number of generated data points\n",
    "n = 4_000_000  \n",
    "\n",
    "# Generate timestamps by subtraction from the current time the desired number of generated data points in minutes\n",
    "timestamps = [datetime.now() - timedelta(minutes=i) for i in range(n)]\n",
    "# Generate substation ids in the range of 1 to 10 \n",
    "substation_ids = [random.randint(1, 10) for _ in range(n)]\n",
    "# Generate voltages as normal distribution with mean 230 and standard deviation 10\n",
    "voltages = np.random.normal(230, 10, n)   \n",
    "# Generate currents as normal distribution with mean 5 and standard deviation 2\n",
    "currents = np.random.normal(5, 2, n)\n",
    "\n",
    "# Collect all lists and create a DataFrame\n",
    "df = pd.DataFrame({\n",
    "    'timestamp': timestamps,\n",
    "    'substation_id': substation_ids,\n",
    "    'voltage': voltages,\n",
    "    'current': currents\n",
    "})\n",
    "\n",
    "# Write the DataFrame to a CSV file\n",
    "df.to_csv(\"electricity_usage.csv\", index=False)"
   ]
  },
  {
   "cell_type": "markdown",
   "metadata": {},
   "source": [
    "## Exercise: \"How can we make the code even faster?\" - polars version with lazy mode\n",
    " \n",
    "Now, we imagine that there is a larger than memory data set. Think about updating the number of generated data points above to e.g. 4_000_000 (not more than that, please).\n",
    "Write the previous `polars` code as a `polars` query/pipeline (either use your code or the provided solution below as base).\n",
    "\n",
    "Execute the query in lazy mode and measure the run time with `%%timeit`\n"
   ]
  },
  {
   "cell_type": "code",
   "execution_count": null,
   "metadata": {},
   "outputs": [],
   "source": [
    "%%timeit\n",
    "# Step 1: Read data from csv\n",
    "df = pl.read_csv(\"electricity_usage.csv\")\n",
    "\n",
    "# Step 2: Set the correct timestamp format\n",
    "df = df.with_columns(pl.col(\"timestamp\").str.strptime(pl.Datetime, \"%Y-%m-%d %H:%M:%S%.f\"))\n",
    "\n",
    "# Step 3: Calculate power (P=VI) and add it as a new column\n",
    "df = df.with_columns((pl.col(\"voltage\") * pl.col(\"current\")).alias(\"power\"))\n",
    "\n",
    "# Step 4: Group by 'substation_id', resample timestamp and calculate daily average power\n",
    "df = df.sort(\"timestamp\")  # data has to be sorted for group_by_dynamic!\n",
    "df_grouped = df.group_by_dynamic(\n",
    "    index_column=\"timestamp\",\n",
    "    every=\"1d\",\n",
    "    closed=\"right\",\n",
    "    by=\"substation_id\",\n",
    "    include_boundaries=False,\n",
    ").agg(pl.col(\"power\").mean().alias(\"daily_avg_power\"))\n",
    "\n",
    "# Step 5: Filter out data where daily average power is less than a certain threshold\n",
    "threshold = 1000\n",
    "df_grouped = df_grouped.filter(pl.col(\"daily_avg_power\") > threshold)\n",
    "\n",
    "# Step 6: Sort result by substation and timestamp\n",
    "df_grouped = df_grouped.sort([\"substation_id\", \"timestamp\"])\n",
    "\n",
    "# Step 7: Write the transformed data to a new CSV file\n",
    "df_grouped.write_csv(\"transformed_electricity_usage.csv\")"
   ]
  },
  {
   "cell_type": "markdown",
   "metadata": {},
   "source": [
    "### Solution: \"How can we make the code even faster?\" - polars version with lazy mode"
   ]
  },
  {
   "cell_type": "code",
   "execution_count": null,
   "metadata": {},
   "outputs": [],
   "source": [
    "%%timeit\n",
    "threshold = 1000\n",
    "\n",
    "# Define lazy query/pipeline\n",
    "q = (\n",
    "    pl.scan_csv(\"electricity_usage.csv\")\n",
    "    .with_columns(pl.col(\"timestamp\").str.strptime(pl.Datetime, \"%Y-%m-%d %H:%M:%S%.f\"))\n",
    "    .with_columns((pl.col(\"voltage\") * pl.col(\"current\")).alias(\"power\"))\n",
    "    .sort(\"timestamp\")\n",
    "    .group_by_dynamic(\n",
    "        index_column=\"timestamp\",\n",
    "        every=\"1d\",\n",
    "        closed=\"right\",\n",
    "        by=\"substation_id\",\n",
    "        include_boundaries=False,\n",
    "    ).agg(pl.col(\"power\").mean().alias(\"daily_avg_power\"))\n",
    "    .filter(pl.col(\"daily_avg_power\") > threshold)\n",
    "    .sort([\"substation_id\", \"timestamp\"])\n",
    ")\n",
    "\n",
    "# possibility to test the pipeline with reduced amount data\n",
    "# df_test = q.fetch(n_rows=int(100))\n",
    "\n",
    "# Collect the data\n",
    "df = q.collect(streaming=True) # set streaming = True if the data might not fit into memory\n",
    "\n",
    "# Write the transformed data to a new CSV file\n",
    "df.write_csv(\"transformed_electricity_usage.csv\")\n"
   ]
  },
  {
   "cell_type": "markdown",
   "metadata": {},
   "source": [
    "### For plotting and further data exploration change to `pandas.DataFrame`"
   ]
  },
  {
   "cell_type": "code",
   "execution_count": null,
   "metadata": {},
   "outputs": [],
   "source": [
    "# in case you want a pandas dataframe for plotting etc.\n",
    "df_pandas = df.to_pandas()"
   ]
  },
  {
   "cell_type": "markdown",
   "metadata": {},
   "source": [
    "---\n",
    "_This notebook is licensed under a [Creative Commons Attribution-NonCommercial-ShareAlike 4.0 International (CC BY-NC-SA 4.0)](https://creativecommons.org/licenses/by-nc-sa/4.0/). Copyright © [Point 8 GmbH](https://point-8.de)_"
   ]
  }
 ],
 "metadata": {
  "kernelspec": {
   "display_name": ".venv",
   "language": "python",
   "name": "python3"
  },
  "language_info": {
   "codemirror_mode": {
    "name": "ipython",
    "version": 3
   },
   "file_extension": ".py",
   "mimetype": "text/x-python",
   "name": "python",
   "nbconvert_exporter": "python",
   "pygments_lexer": "ipython3",
   "version": "3.10.11"
  }
 },
 "nbformat": 4,
 "nbformat_minor": 2
}
