{
 "cells": [
  {
   "cell_type": "code",
   "execution_count": 2,
   "metadata": {},
   "outputs": [],
   "source": [
    "%load_ext autoreload\n",
    "%autoreload 2"
   ]
  },
  {
   "cell_type": "code",
   "execution_count": 3,
   "metadata": {},
   "outputs": [],
   "source": [
    "from datetime import datetime, timedelta\n",
    "import random\n",
    "\n",
    "import numpy as np\n",
    "import pandas as pd\n",
    "import polars as pl"
   ]
  },
  {
   "cell_type": "markdown",
   "metadata": {},
   "source": [
    "# The Data\n",
    "This dataset contains the measured data of multiple substations for voltage and current."
   ]
  },
  {
   "cell_type": "code",
   "execution_count": 24,
   "metadata": {},
   "outputs": [
    {
     "data": {
      "text/html": [
       "<div>\n",
       "<style scoped>\n",
       "    .dataframe tbody tr th:only-of-type {\n",
       "        vertical-align: middle;\n",
       "    }\n",
       "\n",
       "    .dataframe tbody tr th {\n",
       "        vertical-align: top;\n",
       "    }\n",
       "\n",
       "    .dataframe thead th {\n",
       "        text-align: right;\n",
       "    }\n",
       "</style>\n",
       "<table border=\"1\" class=\"dataframe\">\n",
       "  <thead>\n",
       "    <tr style=\"text-align: right;\">\n",
       "      <th></th>\n",
       "      <th>timestamp</th>\n",
       "      <th>substation_id</th>\n",
       "      <th>voltage</th>\n",
       "      <th>current</th>\n",
       "    </tr>\n",
       "  </thead>\n",
       "  <tbody>\n",
       "    <tr>\n",
       "      <th>0</th>\n",
       "      <td>2023-10-12 09:36:10.317117</td>\n",
       "      <td>2</td>\n",
       "      <td>234.967142</td>\n",
       "      <td>4.631988</td>\n",
       "    </tr>\n",
       "    <tr>\n",
       "      <th>1</th>\n",
       "      <td>2023-10-12 09:35:10.317127</td>\n",
       "      <td>1</td>\n",
       "      <td>228.617357</td>\n",
       "      <td>5.087587</td>\n",
       "    </tr>\n",
       "    <tr>\n",
       "      <th>2</th>\n",
       "      <td>2023-10-12 09:34:10.317129</td>\n",
       "      <td>5</td>\n",
       "      <td>236.476885</td>\n",
       "      <td>7.365035</td>\n",
       "    </tr>\n",
       "    <tr>\n",
       "      <th>3</th>\n",
       "      <td>2023-10-12 09:33:10.317130</td>\n",
       "      <td>4</td>\n",
       "      <td>245.230299</td>\n",
       "      <td>4.431361</td>\n",
       "    </tr>\n",
       "    <tr>\n",
       "      <th>4</th>\n",
       "      <td>2023-10-12 09:32:10.317131</td>\n",
       "      <td>4</td>\n",
       "      <td>227.658466</td>\n",
       "      <td>4.349693</td>\n",
       "    </tr>\n",
       "  </tbody>\n",
       "</table>\n",
       "</div>"
      ],
      "text/plain": [
       "                   timestamp  substation_id     voltage   current\n",
       "0 2023-10-12 09:36:10.317117              2  234.967142  4.631988\n",
       "1 2023-10-12 09:35:10.317127              1  228.617357  5.087587\n",
       "2 2023-10-12 09:34:10.317129              5  236.476885  7.365035\n",
       "3 2023-10-12 09:33:10.317130              4  245.230299  4.431361\n",
       "4 2023-10-12 09:32:10.317131              4  227.658466  4.349693"
      ]
     },
     "execution_count": 24,
     "metadata": {},
     "output_type": "execute_result"
    }
   ],
   "source": [
    "np.random.seed(42)\n",
    "random.seed(42)\n",
    "\n",
    "# Number of rows in the CSV file\n",
    "n = 1_000_000  # Replace with the desired number of rows\n",
    "\n",
    "timestamps = [datetime.now() - timedelta(minutes=i) for i in range(n)]\n",
    "substation_ids = [random.randint(1, 10) for _ in range(n)]\n",
    "voltages = np.random.normal(230, 10, n)  # Normal distribution with mean 230 and standard deviation 10\n",
    "currents = np.random.normal(5, 2, n)  # Normal distribution with mean 5 and standard deviation 2\n",
    "\n",
    "\n",
    "df = pd.DataFrame({\n",
    "    'timestamp': timestamps,\n",
    "    'substation_id': substation_ids,\n",
    "    'voltage': voltages,\n",
    "    'current': currents\n",
    "})\n",
    "\n",
    "# Write the DataFrame to a CSV file\n",
    "df.to_csv(\"electricity_usage.csv\", index=False)\n",
    "df.head()"
   ]
  },
  {
   "cell_type": "markdown",
   "metadata": {},
   "source": [
    "# Pandas version"
   ]
  },
  {
   "cell_type": "code",
   "execution_count": 25,
   "metadata": {},
   "outputs": [
    {
     "name": "stdout",
     "output_type": "stream",
     "text": [
      "3.28 s ± 117 ms per loop (mean ± std. dev. of 7 runs, 1 loop each)\n"
     ]
    }
   ],
   "source": [
    "%%timeit\n",
    "df = pd.read_csv(\"electricity_usage.csv\")\n",
    "\n",
    "# Step 2: Perform some transformations\n",
    "df['timestamp'] = pd.to_datetime(df['timestamp'])\n",
    "df = df.set_index(df['timestamp'])\n",
    "\n",
    "# Calculate power (P=VI) and add it as a new column\n",
    "df['power'] = df['voltage'] * df['current']\n",
    "\n",
    "# Group by 'substation_id' and calculate daily average power\n",
    "df.set_index('timestamp', inplace=True)\n",
    "df_grouped = df.groupby('substation_id').resample(\"D\")[\"power\"].mean()\n",
    "df_grouped = df_grouped.reset_index()\n",
    "\n",
    "# Filter out data where daily average power is less than a certain threshold\n",
    "threshold = 1000\n",
    "df_grouped = df_grouped[df_grouped['power'] > threshold]\n",
    "\n",
    "df_grouped = df_grouped.sort_values(by=[\"substation_id\", \"timestamp\"])\n",
    "\n",
    "# Step 3: Write the transformed data to a new CSV file\n",
    "df_grouped.to_csv(\"transformed_electricity_usage_pandas.csv\", index=False)"
   ]
  },
  {
   "cell_type": "markdown",
   "metadata": {},
   "source": [
    "# One possible solution with polars for **part 1**"
   ]
  },
  {
   "cell_type": "code",
   "execution_count": 26,
   "metadata": {},
   "outputs": [
    {
     "name": "stdout",
     "output_type": "stream",
     "text": [
      "1.46 s ± 149 ms per loop (mean ± std. dev. of 7 runs, 1 loop each)\n"
     ]
    }
   ],
   "source": [
    "%%timeit\n",
    "df = pl.read_csv(\"electricity_usage.csv\")\n",
    "\n",
    "# Convert 'timestamp' from string to datetime\n",
    "df = df.with_columns(pl.col(\"timestamp\").str.strptime(pl.Datetime, \"%Y-%m-%d %H:%M:%S%.f\"))\n",
    "\n",
    "# calculate power outcome\n",
    "df = df.with_columns((pl.col(\"voltage\") * pl.col(\"current\")).alias(\"power\"))\n",
    "\n",
    "# Group by 'substation_id' and calculate daily average power\n",
    "df = df.sort(\"timestamp\")  # data has to be sorted for group_by_dynamic!\n",
    "df_grouped = df.group_by_dynamic(\n",
    "    index_column=\"timestamp\",\n",
    "    every=\"1d\",\n",
    "    closed=\"right\",\n",
    "    by=\"substation_id\",\n",
    "    include_boundaries=False,\n",
    ").agg(pl.col(\"power\").mean().alias(\"daily_avg_power\"))\n",
    "\n",
    "# Filter data where daily average power is less than a certain threshold\n",
    "threshold = 1000\n",
    "df_grouped = df_grouped.filter(pl.col(\"daily_avg_power\") > threshold)\n",
    "\n",
    "df_grouped = df_grouped.sort([\"substation_id\", \"timestamp\"])\n",
    "\n",
    "# Write the transformed data to a new CSV file\n",
    "df_grouped.write_csv(\"transformed_electricity_usage.csv\")"
   ]
  },
  {
   "cell_type": "markdown",
   "metadata": {},
   "source": [
    "## Solution part 1 with group_by instead of dynamic_group_by\n",
    "Instead of the group_by_dynamic a regular group_by can also be used.  \n",
    "Because of missing resample functionality a column with dates for grouping has to be introduced."
   ]
  },
  {
   "cell_type": "code",
   "execution_count": 20,
   "metadata": {},
   "outputs": [],
   "source": [
    "%%timeit\n",
    "df = pl.read_csv(\"electricity_usage.csv\")\n",
    "\n",
    "# Use pl.Date instead of pl.Datetime for group_by on dates directly\n",
    "df = df.with_columns(pl.col(\"timestamp\").str.strptime(pl.Date, \"%Y-%m-%d %H:%M:%S%.f\").alias(\"date\"))\n",
    "# OR use the datetime column\n",
    "# Convert 'timestamp' from string to datetime\n",
    "# df = df.with_columns(pl.col(\"timestamp\").str.strptime(pl.Datetime, \"%Y-%m-%d %H:%M:%S%.f\"))\n",
    "# df = df.with_columns(pl.col(\"timestamp\").cast(pl.Date).alias(\"date\"))\n",
    "\n",
    "# calculate power outcome\n",
    "df = df.with_columns((pl.col(\"voltage\") * pl.col(\"current\")).alias(\"power\"))\n",
    "\n",
    "df_grouped = df.group_by([\"date\", \"substation_id\"]).agg(pl.col(\"power\").mean().alias(\"daily_avg_power\"))\n",
    "df_grouped = df_grouped.sort([\"substation_id\", \"date\"])"
   ]
  },
  {
   "cell_type": "markdown",
   "metadata": {},
   "source": [
    "# Hands on Part 2 - Polars version as query with lazy mode\n",
    "We now imagine that there is a larger than memory data set.  \n",
    "Write the previous pipeline as a polars query (either use your code or the provided solution as base).\n",
    "\n",
    "Execute the query in lazy mode and measure the run time with `%%timeit`"
   ]
  },
  {
   "cell_type": "markdown",
   "metadata": {},
   "source": [
    "---\n",
    "_This notebook is licensed under a [Creative Commons Attribution-NonCommercial-ShareAlike 4.0 International (CC BY-NC-SA 4.0)](https://creativecommons.org/licenses/by-nc-sa/4.0/). Copyright © [Point 8 GmbH](https://point-8.de)_"
   ]
  }
 ],
 "metadata": {
  "kernelspec": {
   "display_name": ".venv",
   "language": "python",
   "name": "python3"
  },
  "language_info": {
   "codemirror_mode": {
    "name": "ipython",
    "version": 3
   },
   "file_extension": ".py",
   "mimetype": "text/x-python",
   "name": "python",
   "nbconvert_exporter": "python",
   "pygments_lexer": "ipython3",
   "version": "3.10.2"
  }
 },
 "nbformat": 4,
 "nbformat_minor": 2
}
