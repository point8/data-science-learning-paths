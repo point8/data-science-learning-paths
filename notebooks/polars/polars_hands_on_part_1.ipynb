{
 "cells": [
  {
   "cell_type": "code",
   "execution_count": null,
   "metadata": {},
   "outputs": [],
   "source": [
    "%load_ext autoreload\n",
    "%autoreload 2"
   ]
  },
  {
   "cell_type": "code",
   "execution_count": null,
   "metadata": {},
   "outputs": [],
   "source": [
    "import random\n",
    "from datetime import datetime, timedelta\n",
    "\n",
    "import numpy as np\n",
    "import pandas as pd\n",
    "import polars as pl"
   ]
  },
  {
   "cell_type": "markdown",
   "metadata": {},
   "source": [
    "# The Data\n",
    "This dataset contains the measured data of multiple substations for voltage and current."
   ]
  },
  {
   "cell_type": "code",
   "execution_count": null,
   "metadata": {},
   "outputs": [],
   "source": [
    "np.random.seed(42)\n",
    "random.seed(42)\n",
    "\n",
    "# Number of rows in the CSV file\n",
    "n = 1_000_000  # Replace with the desired number of rows\n",
    "\n",
    "timestamps = [datetime.now() - timedelta(minutes=i) for i in range(n)]\n",
    "substation_ids = [random.randint(1, 10) for _ in range(n)]\n",
    "voltages = np.random.normal(230, 10, n)  # Normal distribution with mean 230 and standard deviation 10\n",
    "currents = np.random.normal(5, 2, n)  # Normal distribution with mean 5 and standard deviation 2\n",
    "\n",
    "\n",
    "df = pd.DataFrame({\n",
    "    'timestamp': timestamps,\n",
    "    'substation_id': substation_ids,\n",
    "    'voltage': voltages,\n",
    "    'current': currents\n",
    "})\n",
    "\n",
    "# Write the DataFrame to a CSV file\n",
    "df.to_csv(\"electricity_usage.csv\", index=False)\n",
    "df.head()"
   ]
  },
  {
   "cell_type": "markdown",
   "metadata": {},
   "source": [
    "# Pandas version\n",
    "Execution time: ~780 ms"
   ]
  },
  {
   "cell_type": "code",
   "execution_count": null,
   "metadata": {},
   "outputs": [],
   "source": [
    "df"
   ]
  },
  {
   "cell_type": "code",
   "execution_count": null,
   "metadata": {},
   "outputs": [],
   "source": [
    "df = pd.read_csv(\"electricity_usage.csv\")\n",
    "\n",
    "# Step 2: Perform some transformations\n",
    "df['timestamp'] = pd.to_datetime(df['timestamp'])\n",
    "df = df.set_index(df['timestamp'])\n",
    "\n",
    "# Calculate power (P=VI) and add it as a new column\n",
    "df['power'] = df['voltage'] * df['current']\n",
    "\n",
    "# Group by 'substation_id' and calculate daily average power\n",
    "df_grouped = df.groupby('substation_id').resample(\"D\")[\"power\"].mean()\n",
    "df_grouped = df_grouped.reset_index()\n",
    "\n",
    "# Filter out data where daily average power is less than a certain threshold\n",
    "threshold = 1000\n",
    "df_grouped = df_grouped[df_grouped['power'] > threshold]\n",
    "\n",
    "df_grouped = df_grouped.sort_values(by=[\"substation_id\", \"timestamp\"])\n",
    "\n",
    "# Write the transformed data to a new CSV file\n",
    "df_grouped.to_csv(\"transformed_electricity_usage_pandas.csv\", index=False)"
   ]
  },
  {
   "cell_type": "markdown",
   "metadata": {},
   "source": [
    "# Hands on exercise:\n",
    "Create the \"data pipeline\" using the polars library.\n",
    "The pipeline should include the following steps:\n",
    "- Read data csv\n",
    "- Convert the date string to a datetime format\n",
    "- Calculate the power\n",
    "- Get the power for each substation per day\n",
    "- Remove all entries with a power value less than 1000\n",
    "- Sort the result by substation and date\n",
    "- write the result in a csv file\n",
    "\n",
    "Compare run times with `%%timeit`  \n",
    "Hint: Polars has a `group_by_dynamic` method    \n",
    "Of course the online polars documentation can be used."
   ]
  },
  {
   "cell_type": "markdown",
   "metadata": {},
   "source": [
    "---\n",
    "_This notebook is licensed under a [Creative Commons Attribution-NonCommercial-ShareAlike 4.0 International (CC BY-NC-SA 4.0)](https://creativecommons.org/licenses/by-nc-sa/4.0/). Copyright © [Point 8 GmbH](https://point-8.de)_"
   ]
  }
 ],
 "metadata": {
  "kernelspec": {
   "display_name": ".venv",
   "language": "python",
   "name": "python3"
  },
  "language_info": {
   "codemirror_mode": {
    "name": "ipython",
    "version": 3
   },
   "file_extension": ".py",
   "mimetype": "text/x-python",
   "name": "python",
   "nbconvert_exporter": "python",
   "pygments_lexer": "ipython3",
   "version": "3.10.2"
  }
 },
 "nbformat": 4,
 "nbformat_minor": 2
}
