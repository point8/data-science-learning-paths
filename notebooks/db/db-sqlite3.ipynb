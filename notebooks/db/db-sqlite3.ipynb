{
 "cells": [
  {
   "cell_type": "markdown",
   "id": "eefece34-ae84-4cd5-bb7f-0db34f91e9af",
   "metadata": {},
   "source": [
    "# Example for a DB-API - Using `sqlite3` with SQL and Python\n",
    "\n",
    "`sqlite3` is an example for a DB-API. This is a low-level interface to interact with a DB. Another concept/interface is ORM (Object Relational Mapper). An example is shown in the [db-sqalchemy-notebook](db-sqalchemy.ipynb).\n",
    "`sqlite3` executes plain SQL queries directly. Connections and results need to be handled and managed manually. With such a low-level DB-API there is no mapping between the DB tables and the Python objects.\n",
    "\n",
    "**Use**, if you have:\n",
    "- Small use cases or demo/tutorials\n",
    "- Static use cases, i.e. if you create a table once and never touch the schema again\n",
    "- Profound SQL skills\n",
    "- (Need for absolute control over DB connections)\n",
    "\n",
    "**Don't use**, if you have:\n",
    "- Complex DB schema\n",
    "- Evolving DB\n",
    "- Need for migration and version control\n",
    "- Need for Python objects"
   ]
  },
  {
   "cell_type": "markdown",
   "metadata": {},
   "source": [
    "## What do we want to do now?\n",
    "\n",
    "We organise a company running event (\"Firmenlauf\") and want to know the participants including their shoe size and team shoe color, thus that we can order the shoes in the correct color and size. We started with the following very \"inefficient\" single table, which got larger with every new information and idea what to keep track of. \n",
    "\n",
    "![start_table](start_table.png)\n",
    "\n",
    "The table includes a lot of dublicated information. We know that a **relational database** is a collection of structured data. Thus, we found logical units in our single table, that we now want to insert into a database.\n",
    "\n",
    "We want to create a DB containing the tables `teams`, `runners` and `trainings` like:\n",
    "\n",
    "![RDB_example](RDB_example.png)\n",
    "\n",
    "Note, this code will only work with sqlite DBs, since we using the Python API for sqlite: https://docs.python.org/3/library/sqlite3.html#\n",
    "\n",
    "For PostgreSQL, use `psycopg2`: https://www.psycopg.org/docs/index.html"
   ]
  },
  {
   "cell_type": "markdown",
   "id": "5ffeb6dd-7e1f-4030-970a-0d08b691a8ec",
   "metadata": {},
   "source": [
    "# Set up a DB connection\n",
    "First, we create a simple `sqlite` DB and open a connection to it."
   ]
  },
  {
   "cell_type": "code",
   "execution_count": null,
   "metadata": {},
   "outputs": [],
   "source": [
    "import sqlite3"
   ]
  },
  {
   "cell_type": "code",
   "execution_count": null,
   "id": "da1000ef-eb87-46d8-a238-430df1a38566",
   "metadata": {
    "tags": []
   },
   "outputs": [],
   "source": [
    "!rm firmenlauf_demo.db"
   ]
  },
  {
   "cell_type": "code",
   "execution_count": null,
   "id": "02dd0822-3f59-4ef3-b00a-1a190fdc7e3a",
   "metadata": {
    "tags": []
   },
   "outputs": [],
   "source": [
    "database = \"firmenlauf_demo.db\"\n",
    "connection = sqlite3.connect(database)"
   ]
  },
  {
   "cell_type": "code",
   "execution_count": null,
   "id": "998d90c1-3803-4674-897a-2deae38e818b",
   "metadata": {
    "tags": []
   },
   "outputs": [],
   "source": [
    "# create a DB cursor to be able to execute SQL statements\n",
    "cur = connection.cursor()"
   ]
  },
  {
   "cell_type": "markdown",
   "id": "c48fd7fe-66da-44f7-8f7c-1cf304fcf521",
   "metadata": {},
   "source": [
    "# Create tables\n",
    "\n",
    "To define our tables, we have to write plain SQL statements.\n",
    "Each table has a `PRIMARY KEY`, that identifies every row and a `UNIQUE` constraint which defines which combinations of values have to be unique in this table. This prevents us from inserting duplicates into the DB.\n",
    "\n",
    "We also define relationships via the `FOREIGN KEY ... REFERENCES` statement.\n",
    "\n",
    "Learn more about SQL: https://www.w3schools.com/sql/default.asp"
   ]
  },
  {
   "cell_type": "code",
   "execution_count": null,
   "id": "928a6f57-a32f-4e1d-91e6-e975593c4b6e",
   "metadata": {
    "tags": []
   },
   "outputs": [],
   "source": [
    "# Define queries to create new tables in plain SQL\n",
    "\n",
    "sql_create_table_teams = \"\"\"\n",
    "    CREATE TABLE IF NOT EXISTS teams (\n",
    "    \tid INTEGER NOT NULL, \n",
    "    \tsize INTEGER NOT NULL, \n",
    "    \tshoe_color VARCHAR(20) NOT NULL, \n",
    "    \tPRIMARY KEY (id), \n",
    "    \tUNIQUE (shoe_color)\n",
    "    )\n",
    "\"\"\"\n",
    "\n",
    "sql_create_table_runners = \"\"\"\n",
    "    CREATE TABLE IF NOT EXISTS runners (\n",
    "    \tid INTEGER NOT NULL, \n",
    "    \tfirst_name VARCHAR(30) NOT NULL, \n",
    "    \tlast_name VARCHAR(30) NOT NULL, \n",
    "    \tshoe_size INTEGER NOT NULL, \n",
    "    \tshirt_size INTEGER NOT NULL, \n",
    "    \tdistance FLOAT, \n",
    "    \tteam_id INTEGER, \n",
    "    \tPRIMARY KEY (id), \n",
    "    \tUNIQUE (first_name, last_name, team_id), \n",
    "    \tFOREIGN KEY(team_id) REFERENCES teams (id)\n",
    "    )\n",
    "\"\"\"\n",
    "\n",
    "sql_create_table_trainings = \"\"\"\n",
    "    CREATE TABLE IF NOT EXISTS trainings (\n",
    "    \tid INTEGER NOT NULL, \n",
    "    \tdate DATETIME NOT NULL, \n",
    "    \ttime DATETIME NOT NULL, \n",
    "    \tdistance FLOAT NOT NULL, \n",
    "    \trunner_id INTEGER, \n",
    "    \tPRIMARY KEY (id), \n",
    "    \tUNIQUE (runner_id, date), \n",
    "    \tFOREIGN KEY(runner_id) REFERENCES runners (id)\n",
    "    )\n",
    "\"\"\""
   ]
  },
  {
   "cell_type": "markdown",
   "id": "5ea77fb9-1cb3-4c19-8346-3b93cc8ca06b",
   "metadata": {},
   "source": [
    "### Now, we execute these SQL statements and commit it to the DB."
   ]
  },
  {
   "cell_type": "code",
   "execution_count": null,
   "id": "7156a043-22a7-4751-846f-960c4008b28f",
   "metadata": {
    "tags": []
   },
   "outputs": [],
   "source": [
    "cur.execute(sql_create_table_teams)"
   ]
  },
  {
   "cell_type": "code",
   "execution_count": null,
   "id": "115395e2-6cf8-4365-a872-a188bbc06bac",
   "metadata": {
    "tags": []
   },
   "outputs": [],
   "source": [
    "cur.execute(sql_create_table_runners)"
   ]
  },
  {
   "cell_type": "code",
   "execution_count": null,
   "id": "761fc2d5-25f0-479f-b209-e71ebe47d6ca",
   "metadata": {
    "tags": []
   },
   "outputs": [],
   "source": [
    "cur.execute(sql_create_table_trainings)"
   ]
  },
  {
   "cell_type": "code",
   "execution_count": null,
   "id": "ccfe56e1-e373-4488-baa6-c4e1063ca618",
   "metadata": {
    "tags": []
   },
   "outputs": [],
   "source": [
    "connection.commit()"
   ]
  },
  {
   "cell_type": "markdown",
   "id": "17f7e16d-da0f-4ad7-9efb-8915da5a43ea",
   "metadata": {},
   "source": [
    "### We can now query the tables but they will be empty"
   ]
  },
  {
   "cell_type": "code",
   "execution_count": null,
   "id": "ece19ae1-8c5c-4e75-b822-ffed619d2160",
   "metadata": {
    "scrolled": true,
    "tags": []
   },
   "outputs": [],
   "source": [
    "cur.execute(\"SELECT * FROM teams\").fetchall()"
   ]
  },
  {
   "cell_type": "markdown",
   "id": "bc241c34-0eef-4f65-8993-99ba34528085",
   "metadata": {},
   "source": [
    "# Insert data into the DB\n",
    "\n",
    "Again, we first have to write our `INSERT` statements in plain SQL and the execute them and commit the changes.\n",
    "\n",
    "Note, if we execute the same `INSERT` twice (meaning running the cell twice), we will get an `IntegrityError` for trying to insert duplicates into the DB. This is caused by the `UNIQUE` constraint we set in our `CREATE TABLE` statement."
   ]
  },
  {
   "cell_type": "code",
   "execution_count": null,
   "id": "8ecf1ffe-4302-4946-9f13-3e94431ad1eb",
   "metadata": {
    "tags": []
   },
   "outputs": [],
   "source": [
    "sql_insert_teams = [\n",
    "    \"INSERT INTO teams (id, size, shoe_color) VALUES (3, 16, 'Red')\",\n",
    "    \"INSERT INTO teams (id, size, shoe_color) VALUES (5, 15, 'Green')\",\n",
    "    \"INSERT INTO teams (id, size, shoe_color) VALUES (8, 11, 'Purple')\",\n",
    "]"
   ]
  },
  {
   "cell_type": "code",
   "execution_count": null,
   "id": "a05bde35-80fd-4c26-8270-805d9a20f856",
   "metadata": {
    "scrolled": true,
    "tags": []
   },
   "outputs": [],
   "source": [
    "for insert_team in sql_insert_teams:\n",
    "    cur.execute(insert_team)\n",
    "connection.commit()"
   ]
  },
  {
   "cell_type": "markdown",
   "id": "3f02d945-a581-45cd-abb7-4d7ca85622f8",
   "metadata": {},
   "source": [
    "### Now, we can query the inserted data"
   ]
  },
  {
   "cell_type": "code",
   "execution_count": null,
   "id": "3028dafe-11fb-4891-8871-8d151fd29950",
   "metadata": {
    "scrolled": true,
    "tags": []
   },
   "outputs": [],
   "source": [
    "cur.execute(\"SELECT * FROM teams\").fetchall()"
   ]
  },
  {
   "cell_type": "markdown",
   "id": "08a6aefa-ef12-4935-87d7-67af9b92a8cd",
   "metadata": {},
   "source": [
    "### We will insert some more data into the DB"
   ]
  },
  {
   "cell_type": "code",
   "execution_count": null,
   "id": "a333c654-a60e-4a87-a76c-570f837a9d65",
   "metadata": {
    "tags": []
   },
   "outputs": [],
   "source": [
    "sql_insert_runners = \"\"\"\n",
    "    INSERT INTO runners (\n",
    "        first_name, last_name, shoe_size, shirt_size, distance, team_id\n",
    "    )\n",
    "    VALUES (?, ?, ?, ?, ?, ?)\n",
    "\"\"\"\n",
    "\n",
    "runners = [\n",
    "    ('Anna', 'Einstein', 38, 38, 5.0, 3),\n",
    "    ('Marius', 'Fermi', 44, 60, 2.0, 5),\n",
    "    ('James', 'Pauli', 44, 42, 10.0, 8),\n",
    "    ('Selma', 'Meitner', 41, 40, 10.0, 3),\n",
    "]"
   ]
  },
  {
   "cell_type": "code",
   "execution_count": null,
   "id": "21e0a879-9747-492e-8220-9796d4cf40e6",
   "metadata": {
    "tags": []
   },
   "outputs": [],
   "source": [
    "for runner in runners:\n",
    "    cur.execute(sql_insert_runners, runner)"
   ]
  },
  {
   "cell_type": "code",
   "execution_count": null,
   "id": "12ec7f15-650d-4540-9a9c-b30d15d76a11",
   "metadata": {
    "tags": []
   },
   "outputs": [],
   "source": [
    "cur.execute(\"SELECT * FROM runners\").fetchall()"
   ]
  },
  {
   "cell_type": "code",
   "execution_count": null,
   "id": "8ae97e12-68f4-4ac8-bb0f-099dbed3fce5",
   "metadata": {},
   "outputs": [],
   "source": [
    "sql_insert_trainings = \"\"\"\n",
    "    INSERT INTO trainings (\n",
    "        date, time, distance, runner_id\n",
    "    )\n",
    "    VALUES (?, ?, ?, ?)\n",
    "\"\"\"\n",
    "\n",
    "trainings = [\n",
    "    (\"2023-07-15\", \"39:00\", 4.500, 1),\n",
    "    (\"2023-08-05\", \"58:00\", 3.000, 2),\n",
    "    (\"2023-08-07\", \"34:45\", 1.600, 3),\n",
    "    (\"2023-07-08\", \"32:00\", 4.050, 4),\n",
    "    (\"2023-07-18\", \"35:00\", 4.500, 1),\n",
    "    (\"2023-07-25\", \"30:00\", 4.500, 1),\n",
    "    (\"2023-09-07\", \"37:00\", 5.456, 4),\n",
    "    (\"2023-07-19\", \"41:51\", 2.240, 3),\n",
    "    (\"2023-07-28\", \"32:06\", 1.600, 3),\n",
    "]"
   ]
  },
  {
   "cell_type": "code",
   "execution_count": null,
   "id": "db1dee62-b56d-4ab1-8186-39fef5c8caec",
   "metadata": {},
   "outputs": [],
   "source": [
    "for training in trainings:\n",
    "    cur.execute(sql_insert_trainings, training)\n",
    "connection.commit()"
   ]
  },
  {
   "cell_type": "code",
   "execution_count": null,
   "id": "b8227158-b4bb-48b5-838d-30e9e932f343",
   "metadata": {},
   "outputs": [],
   "source": [
    "cur.execute(\"SELECT * FROM trainings\").fetchall()"
   ]
  },
  {
   "cell_type": "markdown",
   "id": "02f48a8f-6d46-4735-9c66-c04747b0e8c1",
   "metadata": {},
   "source": [
    "# `JOIN` tables\n",
    "\n",
    "We can now join tables and retrieve a list of shoes we have to order for the runners. "
   ]
  },
  {
   "cell_type": "code",
   "execution_count": null,
   "id": "694c4f37-803b-429f-8287-33900ced1d16",
   "metadata": {},
   "outputs": [],
   "source": [
    "sql_query_runner_shoe_color = \"\"\"\n",
    "    SELECT runners.first_name, runners.shoe_size, teams.shoe_color \n",
    "    FROM runners\n",
    "    JOIN teams\n",
    "    ON runners.team_id = teams.id\n",
    "\"\"\""
   ]
  },
  {
   "cell_type": "code",
   "execution_count": null,
   "id": "fa45a240-901b-4476-ad12-6cd5d7d2ff89",
   "metadata": {},
   "outputs": [],
   "source": [
    "cur.execute(sql_query_runner_shoe_color).fetchall()"
   ]
  },
  {
   "cell_type": "markdown",
   "id": "b90693e6-71f8-4c1a-a690-dc018be05a7e",
   "metadata": {},
   "source": [
    "# Show DB schema information"
   ]
  },
  {
   "cell_type": "markdown",
   "id": "42fe622f-6494-4f1a-82d9-58e5bda0c0ed",
   "metadata": {},
   "source": [
    "The `sqlite_master` element contains all information of the DB schema."
   ]
  },
  {
   "cell_type": "code",
   "execution_count": null,
   "id": "f2035a25-1fe4-41cf-a35d-720595452618",
   "metadata": {},
   "outputs": [],
   "source": [
    "cur.execute(\"SELECT * FROM sqlite_master ;\") \n",
    "print(cur.fetchall())"
   ]
  },
  {
   "cell_type": "markdown",
   "id": "19d2241b-c5da-4a9e-9585-9e8ea8d4485a",
   "metadata": {},
   "source": [
    "Filter available tables:"
   ]
  },
  {
   "cell_type": "code",
   "execution_count": null,
   "id": "39ac48b0-c2cc-4008-8606-58322da16daa",
   "metadata": {},
   "outputs": [],
   "source": [
    "cur.execute(\"SELECT name FROM sqlite_master WHERE type='table';\")\n",
    "print(cur.fetchall())"
   ]
  },
  {
   "cell_type": "markdown",
   "id": "f98496ed-80d1-41b2-99b6-dc3b2d4f4f2f",
   "metadata": {},
   "source": [
    "---\n",
    "_This notebook is licensed under a [Creative Commons Attribution-NonCommercial-ShareAlike 4.0 International (CC BY-NC-SA 4.0)](https://creativecommons.org/licenses/by-nc-sa/4.0/). Copyright © [Point 8 GmbH](https://point-8.de)_"
   ]
  }
 ],
 "metadata": {
  "kernelspec": {
   "display_name": "Python 3 (ipykernel)",
   "language": "python",
   "name": "python3"
  },
  "language_info": {
   "codemirror_mode": {
    "name": "ipython",
    "version": 3
   },
   "file_extension": ".py",
   "mimetype": "text/x-python",
   "name": "python",
   "nbconvert_exporter": "python",
   "pygments_lexer": "ipython3",
   "version": "3.9.12"
  }
 },
 "nbformat": 4,
 "nbformat_minor": 5
}
