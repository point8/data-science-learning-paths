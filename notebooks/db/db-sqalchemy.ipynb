{
 "cells": [
  {
   "cell_type": "markdown",
   "metadata": {},
   "source": [
    "# Relational Databases: ORM - Using `SQLAlchemy` with Python\n",
    "\n",
    "`SQLAlchemy` is an example for a ORM (Object Relational Mapper). This is a high-level interface to interact with DBs of all common types. Another concept/interface is a DB-API. An example is shown in the [db-sqlite3-notebook](db-sqlite3.ipynb).\n",
    "Tabels and queries are mapped to Python objects and functions. An ORM uses a DB-API under the hood, but the user does not need to know and write SQL queries. It is a more \"pythonic\" way to interact with a DB.\n",
    "\n",
    "**Use**, if you have:\n",
    "- Complex database shemas and larg projects\n",
    "- Evolving DB including version control and migration\n",
    "- The need to plug the same code to different RDBMS (Relational Database Management Systems)\n",
    "\n",
    "**Don't use**, if you have:\n",
    "- Only one static DB that has to populated and queried once\n",
    "- (You want to avoid the overhead of defining the table classes)\n",
    "- The need for fine-grained control over all DB connections (usually not the case!)\n",
    "- Extremely good SQL skills and no understanding of Python at all"
   ]
  },
  {
   "cell_type": "code",
   "execution_count": null,
   "id": "dce6ba8c-3cd8-4d2d-a16b-7ee81e578249",
   "metadata": {
    "tags": []
   },
   "outputs": [],
   "source": [
    "import pandas as pd\n",
    "from sqlalchemy import create_engine, UniqueConstraint, select\n",
    "from sqlalchemy.orm import DeclarativeBase\n",
    "from typing import List, Set\n",
    "from typing import Optional\n",
    "from sqlalchemy.orm import Mapped, mapped_column, relationship, sessionmaker\n",
    "from sqlalchemy import String, ForeignKey\n",
    "from datetime import datetime"
   ]
  },
  {
   "cell_type": "code",
   "execution_count": null,
   "id": "a1143333-efc8-47fd-9b83-e302ba68b186",
   "metadata": {
    "tags": []
   },
   "outputs": [],
   "source": [
    "import sqlalchemy\n",
    "sqlalchemy.__version__  "
   ]
  },
  {
   "cell_type": "markdown",
   "id": "98f77331-8dd0-4792-a6b2-7c36af09b233",
   "metadata": {},
   "source": [
    "# Load test data\n",
    "\n",
    "For this demonstration, we load data from .csv-files into Pandas dataframes and put them into our sqlite database afterwards.\n",
    "We do this mostly to use the nice dataframe visualization.\n",
    "In general, it is not necessary to create dataframes before inserting data into a DB!"
   ]
  },
  {
   "cell_type": "code",
   "execution_count": null,
   "id": "cfb10b27-d122-4207-bde2-eef8af327666",
   "metadata": {
    "tags": []
   },
   "outputs": [],
   "source": [
    "# Load Teams table\n",
    "df_teams = pd.read_csv(\n",
    "    \"data/teams.csv\",\n",
    "    sep=\";\",\n",
    "    index_col=\"ID\",\n",
    "    usecols=[\"ID\", \"Size\", \"Shoe Color\"]\n",
    ")\n",
    "# Load Runner table\n",
    "df_runners = pd.read_csv(\n",
    "    \"data/participants.csv\",\n",
    "    sep=\";\",\n",
    "    usecols=[\"First Name\", \"Last Name\", \"Shoe Size\", \"Shirt Size\", \"Distance\", \"Team\"]\n",
    ")\n",
    "# Load Trainings table\n",
    "df_training = pd.read_csv(\n",
    "    \"data/training.csv\",\n",
    "    sep=\";\",\n",
    "    usecols=[\"Date(YYYY-MM-DD)\", \"Time(mm:ss)\", \"Distance(km)\", \"Runner\"]\n",
    ")"
   ]
  },
  {
   "cell_type": "code",
   "execution_count": null,
   "id": "756a4b9b-be91-4e71-be2f-176e63de52ca",
   "metadata": {
    "tags": []
   },
   "outputs": [],
   "source": [
    "for df in [df_runners, df_teams, df_training]:\n",
    "    display(df)"
   ]
  },
  {
   "cell_type": "markdown",
   "id": "55f555a8-bb1c-4cdd-a4d2-06ae5142c232",
   "metadata": {},
   "source": [
    "# Defining the DB Scheme\n",
    "\n",
    "We want to create a DB containing the tables `teams`, `runners` and `trainings` like:\n",
    "\n",
    "![RDB_example](RDB_example.png)\n",
    "\n",
    "A DB has much more functionalty than a simple .csv or Excel table.\n",
    "This comes with some downsides.\n",
    "We cannot simply insert data into an empty table, because there is no table at first.\n",
    "First, we have to specify how our table is designed.\n",
    "This means we have to define all columns, the data types and the relationships between different tables up front.\n",
    "\n",
    "(*Yes*, you can avoid this for simple and qick-and-dirty cases by using some `pandas`/`sqlalchemy` magic, but for more complex projects and real use cases, you probably can't overcome it 🤷‍♀️)\n",
    "\n",
    "In `sqlalchemy`, each table is a Python `class`, which inherits from `sqlalchemy`'s `DeclarativeBase`.\n",
    "Within each table class, the columns and their characteristics (data types, relationships, primary keys, nullable, ...) are defined.\n",
    "\n",
    "Some specialities up front:\n",
    "* Python classes have CamelCase names by convention. Therefore, the table class is named like `Team` (singular!). The SQL name of the table is defined in the `__tablename__` attribute and is usually a lowercase string and plural, like `\"teams\"`\n",
    "* Following the new (as of 2023) `sqlalchemy 2.0` guidelines, a column is defined like:\n",
    "    * `<column_name>: Mapped[<data_type>] = mapped_column(<options>)`\n",
    "* `Mapped`\n",
    "    * The Mapped annotation takes care of the correct translation between Python and RDBMS data types\n",
    "    * If a column is defined like `Mapped[Optional[float]]`, the fiel is allowed to be empty\n",
    "* `UniqueConstraint` \n",
    "    * A UniqueConstraint is used to tell the DB that for specific columns or combinations of columns the values must be unique and can not be inserted a second time. For example, we want every runner only one time in our table of runners.\n",
    "    * If a UniqueConstraint failed as we try to insert duplicates into our table, we will see an `IntegrityError`\n",
    "* `relationship` \n",
    "    * Relationships are introduced by the relationship() function and a mapped_column to the primary key column of the related table\n",
    "* `__repr__` \n",
    "    * This function defines what is printed if we just print table row (which is an instance of a table class). Defining it is nice to have but not crucially necessary.\n",
    " \n",
    "\n",
    "More information can be found here:\n",
    "* Sqlalchemy Quick start tutorial: https://docs.sqlalchemy.org/en/20/orm/quickstart.html\n",
    "* Declarative table configuration: https://docs.sqlalchemy.org/en/20/orm/declarative_tables.html#orm-declarative-table"
   ]
  },
  {
   "cell_type": "code",
   "execution_count": null,
   "id": "790a3d16-6d03-4868-bd1a-da2f3ef34160",
   "metadata": {
    "tags": []
   },
   "outputs": [],
   "source": [
    "class Base(DeclarativeBase):\n",
    "    pass"
   ]
  },
  {
   "cell_type": "code",
   "execution_count": null,
   "id": "c5c0e25b-4fa8-4835-9cd1-ada9ae1a8ca6",
   "metadata": {
    "tags": []
   },
   "outputs": [],
   "source": [
    "# class name CamelCase, __tablename__ lowercase!\n",
    "class Team(Base):\n",
    "    __tablename__ = \"teams\"\n",
    "    __table_args__ = (\n",
    "        # We want each team to have a different shoe color, so we use a UniqueConstraint.\n",
    "        UniqueConstraint(\"shoe_color\"),\n",
    "    )\n",
    "    # The id column is always our primary key\n",
    "    id: Mapped[int] = mapped_column(primary_key=True)\n",
    "    size: Mapped[int]\n",
    "    # We define a maximum length or 20 for the string containing the shoe color \n",
    "    shoe_color: Mapped[str] = mapped_column(String(20))\n",
    "    # A team can have many members, so we establish a one-to-many relationship to the 'team' column in the 'Runner' table.\n",
    "    members: Mapped[List[\"Runner\"]] = relationship(back_populates=\"team\")\n",
    "    def __repr__(self) -> str:\n",
    "        return f\"Team {self.id!r} wears {self.shoe_color!r} shoes and has {self.size!r} members.\"\n",
    "\n",
    "\n",
    "class Runner(Base):\n",
    "    __tablename__ = \"runners\"\n",
    "    __table_args__ = (\n",
    "        UniqueConstraint(\"first_name\", \"last_name\", \"team_id\"),\n",
    "    )\n",
    "    id: Mapped[int] = mapped_column(primary_key=True)\n",
    "    first_name: Mapped[str] = mapped_column(String(30), nullable=False)\n",
    "    last_name: Mapped[str] = mapped_column(String(30), nullable=False)\n",
    "    shoe_size: Mapped[int]\n",
    "    shirt_size: Mapped[int]\n",
    "    # We want to allow runners to leave the 'distance' column empty, so we specify the data type as 'Optional[float]'\n",
    "    distance: Mapped[Optional[float]]\n",
    "    # The team_id should be a foreign key pointing to the 'id' column of the 'Team' table\n",
    "    team_id = mapped_column(ForeignKey(\"teams.id\"))\n",
    "    # Here, we establish the many-to-one relationship to the 'members' column of the 'Team' table \n",
    "    team: Mapped[Team] = relationship(back_populates=\"members\")\n",
    "    # A runner can have many training runs, so we create a one-to-many relationship to the 'runner' column of the 'Training' table\n",
    "    trainings: Mapped[List[\"Training\"]] = relationship(back_populates=\"runner\")\n",
    "    def __repr__(self) -> str:\n",
    "        return f\"Runner(id={self.id!r}, first_name={self.first_name!r} last_name={self.last_name!r})\"\n",
    "\n",
    "\n",
    "class Training(Base):\n",
    "    __tablename__ = \"trainings\"\n",
    "    __table_args__ = (\n",
    "        UniqueConstraint(\"runner_id\", \"date\"),\n",
    "    )\n",
    "    id: Mapped[int] = mapped_column(primary_key=True)\n",
    "    date: Mapped[datetime]\n",
    "    time: Mapped[datetime]\n",
    "    distance: Mapped[float]\n",
    "    runner_id = mapped_column(ForeignKey(\"runners.id\"))\n",
    "    runner: Mapped[Runner] = relationship(back_populates=\"trainings\")\n",
    "    def __repr__(self) -> str:\n",
    "        return f\"Training(id={self.id!r}, runner={self.runner.first_name!r} {self.runner.last_name!r} time={self.time!r} dictance={self.distance!r})\""
   ]
  },
  {
   "cell_type": "markdown",
   "id": "bf3df57f-4375-4d37-8a96-eb00ce1d41aa",
   "metadata": {},
   "source": [
    "# Building a DB\n",
    "\n",
    "## Creating an engine\n",
    "\n",
    "Since a DB is not necessarily a single file on your disk, we have to define, where our DB lives and how we can connect to it.\n",
    "Therefore, we build an `Engine` which can handle connections.\n",
    "\n",
    "The engine gets a connetion string, which contains the type of the RDBMS (e.g. `sqlite` or `postgresql`), a dialect (depends on the RDBMS we use), a location, and maybe user credentials.\n",
    "For our small example, we work with an sqlite DB here, that lives in memory an is not persisted on disk.\n",
    "The `echo=True` only switches on some logging, which we can use to understand how the engine works. "
   ]
  },
  {
   "cell_type": "code",
   "execution_count": null,
   "id": "5a0fc09e-8786-4ad8-b774-4e818dd39fb4",
   "metadata": {
    "tags": []
   },
   "outputs": [],
   "source": [
    "engine = create_engine(\"sqlite+pysqlite:///firmenlauf_demo_sqlalchemy.db\", echo=True)"
   ]
  },
  {
   "cell_type": "markdown",
   "id": "315a45a7-68c3-4baf-8bd4-b84238e3dcb8",
   "metadata": {},
   "source": [
    "## Creating all tables\n",
    "\n",
    "After we have carefully designed our tables in Python, we now want them to be actually created via SQL statements in our sqlite DB we connected our engine to."
   ]
  },
  {
   "cell_type": "code",
   "execution_count": null,
   "id": "5863e972-33f6-4e55-a6d3-c8b685bbbc34",
   "metadata": {
    "tags": []
   },
   "outputs": [],
   "source": [
    "# open a connection and create all tables that inherit from Base\n",
    "with engine.begin() as conn:\n",
    "    Base.metadata.create_all(conn)\n",
    "\n",
    "# Since we have 'echo=True' specified in our engine, sqlalchemy will tell us what it does"
   ]
  },
  {
   "cell_type": "markdown",
   "id": "70c60942-6831-405b-b77a-ff8483f84a1f",
   "metadata": {},
   "source": [
    "## Fill the tables\n",
    "\n",
    "For every interaction with a database, we have to create a session. The overall workflow is:\n",
    "* `begin` a session\n",
    "* do something, for example `add` a row\n",
    "* `commit` the changes to the DB\n",
    "* `rollback` the session, if anything went wrong\n",
    "* `close` the session\n",
    "\n",
    "If something went wrong, it can happen that we blow up the connection to the DB.\n",
    "No problem in our small test case, but in real production this can cause severe loss of data!\n",
    "Therefore you always have to take care of correctly handled sessions!\n",
    "\n",
    "We will now loop over our Pandas dataframes and add every row to the corresponding DB table.\n",
    "\n",
    "**If you run the following \"Fill\" cells twice, you will receive an `IntegrityError`!**\n",
    "\n",
    "This is caused to the `UniqueConstraint` we set for all tables. If we try to insert duplicates into the DB, we try to corrupt the intergity of our DB and an error is raised. In real world applications, you always have to deal with this kind of errors via context manager or try/except blocks."
   ]
  },
  {
   "cell_type": "code",
   "execution_count": null,
   "id": "fed7377f-f470-458a-93d2-063b06556a4f",
   "metadata": {
    "tags": []
   },
   "outputs": [],
   "source": [
    "# We use sqlqlachmy's sessionmaker to handle the sessions\n",
    "Session = sessionmaker(engine)"
   ]
  },
  {
   "cell_type": "markdown",
   "id": "08b15535-4bda-483f-8e39-1acc98936aae",
   "metadata": {},
   "source": [
    "### Fill Team table"
   ]
  },
  {
   "cell_type": "code",
   "execution_count": null,
   "id": "f586e80a-d6af-4d85-918a-5fda8fa90ce8",
   "metadata": {
    "scrolled": true,
    "tags": []
   },
   "outputs": [],
   "source": [
    "# This context manager opens a session and runs a session.commit() as we leave it and session.rollback() in case of exceptions\n",
    "with Session.begin() as session:\n",
    "    for id, (size, shoe_color) in df_teams.iterrows():\n",
    "        team = Team(\n",
    "            id=id,\n",
    "            size=size,\n",
    "            shoe_color=shoe_color\n",
    "        )\n",
    "        session.add(team)\n",
    "    #context manager runs session.commit() and session.close() here\n"
   ]
  },
  {
   "cell_type": "markdown",
   "id": "cea627ac-6b95-44ba-a2f5-60018d49e646",
   "metadata": {},
   "source": [
    "### Fill Runner table"
   ]
  },
  {
   "cell_type": "code",
   "execution_count": null,
   "id": "bd7a3942-2e4f-4c22-9787-e7c508f15661",
   "metadata": {
    "scrolled": true,
    "tags": []
   },
   "outputs": [],
   "source": [
    "with Session.begin() as session:\n",
    "    for id, (first_name, last_name, shoe_size, shirt_size, distance, team_id) in df_runners.iterrows():\n",
    "        print(first_name, last_name)\n",
    "        runner = Runner(\n",
    "            first_name=first_name,\n",
    "            last_name=last_name,\n",
    "            shoe_size=shoe_size,\n",
    "            shirt_size=shirt_size,\n",
    "            distance=distance,\n",
    "            team_id=team_id            \n",
    "        )\n",
    "        session.add(runner)"
   ]
  },
  {
   "cell_type": "markdown",
   "id": "73543c56-4f77-461e-88e3-7e0928116fe8",
   "metadata": {},
   "source": [
    "### Fill Training table"
   ]
  },
  {
   "cell_type": "code",
   "execution_count": null,
   "id": "8b87886e-8202-4cf7-ae4e-4bcff5534049",
   "metadata": {
    "scrolled": true,
    "tags": []
   },
   "outputs": [],
   "source": [
    "with Session.begin() as session:\n",
    "    for id, (date, time, distance, runner_id) in df_training.iterrows():\n",
    "        training = Training(\n",
    "            date=datetime.strptime(date, \"%Y-%m-%d\"),\n",
    "            time=datetime.strptime(time, \"%M:%S\"),\n",
    "            distance=distance,\n",
    "            runner_id=runner_id,\n",
    "        )\n",
    "        session.add(training)"
   ]
  },
  {
   "cell_type": "markdown",
   "id": "62e624e0-bd3a-4117-9bd6-001c095904e2",
   "metadata": {},
   "source": [
    "# Selecting data from the DB\n",
    "\n",
    "sqlalchemy makes the DB accessible for us, even if we don't speak SQL.\n",
    "Instead, we speak Python functions and sqlalchemy translates it into SQL queries which are sent to the DB.\n",
    "The result is then again translated by sqlalchemy into Python objects for us to use.\n",
    "\n",
    "Again, for every interaction with the DB, we have to open a session, respectively work in a context manager."
   ]
  },
  {
   "cell_type": "markdown",
   "id": "7ae31c29-efed-498b-a70e-4815896d8752",
   "metadata": {},
   "source": [
    "## `SELECT * FROM teams`\n",
    "\"Give me a list of all teams!\"\n"
   ]
  },
  {
   "cell_type": "code",
   "execution_count": null,
   "id": "d4d3da50-3135-4004-8af6-018c2c7df562",
   "metadata": {
    "scrolled": true,
    "tags": []
   },
   "outputs": [],
   "source": [
    "with Session.begin() as session:\n",
    "    teams = session.execute(\n",
    "        select(Team)\n",
    "    ).all()\n",
    "    print(\"----- Query Result -----\")\n",
    "    print(teams)\n",
    "    print(\"------------------------\")"
   ]
  },
  {
   "cell_type": "markdown",
   "id": "086e584c-dd46-4633-a80a-f454892eb604",
   "metadata": {},
   "source": [
    "## `SELECT * FROM teams WHERE size > 15;`\n",
    "\"Give me a list of all teams with more than 15 members!\""
   ]
  },
  {
   "cell_type": "code",
   "execution_count": null,
   "id": "6c4feb3f-95aa-4215-9008-3ce9341e5cef",
   "metadata": {
    "scrolled": true,
    "tags": []
   },
   "outputs": [],
   "source": [
    "with Session.begin() as session:\n",
    "    teams = session.execute(\n",
    "        select(Team)\n",
    "        .where(Team.size > 15)\n",
    "    ).all()\n",
    "    print(\"----- Query Result -----\")\n",
    "    print(teams)\n",
    "    print(\"------------------------\")"
   ]
  },
  {
   "cell_type": "markdown",
   "id": "b1e3d8ac-3c2a-4b16-b36f-7f0e2c8985e7",
   "metadata": {},
   "source": [
    "## `SELECT shoe_color FROM teams WHERE size > 15;`\n",
    "\"Give me a list of the shoe colors of all teams with more than 15 members!\""
   ]
  },
  {
   "cell_type": "code",
   "execution_count": null,
   "id": "bc61dd8a-0324-4b3f-ab23-d2458fb00009",
   "metadata": {
    "scrolled": true,
    "tags": []
   },
   "outputs": [],
   "source": [
    "with Session.begin() as session:\n",
    "    shoe_colors = session.execute(\n",
    "        select(Team.shoe_color)\n",
    "        .where(Team.size > 15)\n",
    "    ).all()\n",
    "    print(\"----- Query Result -----\")\n",
    "    print(shoe_colors)\n",
    "    print(\"------------------------\")"
   ]
  },
  {
   "cell_type": "markdown",
   "id": "3df50fd8-69f2-457b-af0a-6f66cee923af",
   "metadata": {},
   "source": [
    "## `JOIN`\n",
    "\n",
    "`SELECT first_name, shoe_size, shoe_color  \n",
    "FROM runners \n",
    " JOIN teams ON runners.team = teams.id;`\n",
    "\n",
    "\"Give me a list of participants including their shoe size and team shoe color!\"\n",
    "\n",
    "We have two options here to get our results:\n",
    "* run the table `JOIN` explicitly\n",
    "    * we use the `.join()` function to join the tables as we query it\n",
    "    * more code, but more controll over queries\n",
    "* use the `relationship` we have established by defining our table classes!\n",
    "    * less code, more pythonic\n",
    "    * maybe less performant or more (sub-)queries under the hood"
   ]
  },
  {
   "cell_type": "code",
   "execution_count": null,
   "id": "69bc2b4a-015d-459e-ad1f-c0f9a5c1fe9e",
   "metadata": {
    "scrolled": true,
    "tags": []
   },
   "outputs": [],
   "source": [
    "# Use JOIN\n",
    "# We end up with only one query including a JOIN statement!\n",
    "with Session.begin() as session:\n",
    "    runners = session.execute(\n",
    "        select(Runner.first_name, Runner.shoe_size, Team.shoe_color)\n",
    "        .select_from(Runner)\n",
    "        .join(Team)\n",
    "    ).all()\n",
    "    print(\"----- Query Result -----\")\n",
    "    print(runners)\n",
    "    print(\"------------------------\")"
   ]
  },
  {
   "cell_type": "code",
   "execution_count": null,
   "id": "e2fd0bea-4a4a-4ad1-8934-cfccd99d7dca",
   "metadata": {
    "tags": []
   },
   "outputs": [],
   "source": [
    "# Use the relationship\n",
    "with Session.begin() as session:\n",
    "    runners = session.execute(\n",
    "        select(Runner)\n",
    "    ).scalars().all()\n",
    "    for runner in runners:\n",
    "        print(\"----- Query Result -----\")\n",
    "        print(runner.first_name, runner.shoe_size, runner.team.shoe_color)\n",
    "        print(\"------------------------\")"
   ]
  },
  {
   "cell_type": "markdown",
   "id": "17cd35cf-4a67-4314-a1b3-d6ad262430eb",
   "metadata": {},
   "source": [
    "## Use relations\n",
    "Another example of the `sqlalchemy` magic would be the following query...\n",
    "\n",
    "Note, that sqlalchemy sends a new query to the database in the moment we call `team.members`! This is why the session is still needed. We can specify this behavior in the relationship definition and load the depending object directly (\"Eager Loading\").\n",
    "\n",
    "See https://docs.sqlalchemy.org/en/20/orm/queryguide/relationships.html for more details!"
   ]
  },
  {
   "cell_type": "code",
   "execution_count": null,
   "id": "71003d14-918d-4027-aeb3-0cfb1d6a2c7f",
   "metadata": {
    "tags": []
   },
   "outputs": [],
   "source": [
    "with Session.begin() as session:\n",
    "    teams = session.execute(\n",
    "        select(Team)\n",
    "    ).scalars().all()\n",
    "    \n",
    "    for team in teams:\n",
    "        print(\"----- Query Result -----\")\n",
    "        print(team.members)\n",
    "        print(\"------------------------\")"
   ]
  },
  {
   "cell_type": "markdown",
   "id": "534cb556-1da6-4939-aaed-fad3abcbf31d",
   "metadata": {},
   "source": [
    "# Further Reading\n",
    "\n",
    "* Relationship patterns: https://docs.sqlalchemy.org/en/20/orm/basic_relationships.html\n",
    "* engine definition for different RDBMSs: https://docs.sqlalchemy.org/en/20/core/engines.html#database-urls\n",
    "* Working with ORM related objects: https://docs.sqlalchemy.org/en/20/tutorial/orm_related_objects.html\n",
    "* All you ever want to know: https://docs.sqlalchemy.org/en/20/tutorial/index.html#unified-tutorial"
   ]
  },
  {
   "cell_type": "markdown",
   "id": "feaa6b59-e58f-4207-9a41-d8abf8d2070e",
   "metadata": {},
   "source": [
    "---\n",
    "_This notebook is licensed under a [Creative Commons Attribution-NonCommercial-ShareAlike 4.0 International (CC BY-NC-SA 4.0)](https://creativecommons.org/licenses/by-nc-sa/4.0/). Copyright © [Point 8 GmbH](https://point-8.de)_"
   ]
  }
 ],
 "metadata": {
  "kernelspec": {
   "display_name": "Python 3 (ipykernel)",
   "language": "python",
   "name": "python3"
  },
  "language_info": {
   "codemirror_mode": {
    "name": "ipython",
    "version": 3
   },
   "file_extension": ".py",
   "mimetype": "text/x-python",
   "name": "python",
   "nbconvert_exporter": "python",
   "pygments_lexer": "ipython3",
   "version": "3.9.12"
  }
 },
 "nbformat": 4,
 "nbformat_minor": 5
}
