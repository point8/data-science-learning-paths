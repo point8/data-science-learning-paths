{
 "cells": [
  {
   "cell_type": "markdown",
   "metadata": {},
   "source": [
    "# Advanced Python Data Science Ecosystem"
   ]
  },
  {
   "cell_type": "markdown",
   "metadata": {},
   "source": [
    "In this course we will cover several advanced topics in the broader Python data science ecosystem. From object-oriented programming, to working wit databases, or the development of Python packages.\n",
    "\n",
    "While we recapitulate some of the foundations, they are covered in much more detail in the following modules of Data Science 101:\n",
    "\n",
    "- [📓 Data Analysis with Python](notebooks/index/dap2-data-analysis-python.ipynb)\n",
    "- [📓 Machine Learning with Python](notebooks/index/mlp2-machine-learning-python-2day.ipynb)"
   ]
  },
  {
   "cell_type": "markdown",
   "metadata": {},
   "source": [
    "## Table of Contents\n",
    "\n",
    "### Curriculum\n",
    "\n",
    "1. **Development of Python Packages with Poetry**\n",
    "\n",
    "1. **Object-Oriented Programing with Python**<br>\n",
    "    - [Hands-On](notebooks/python/python-oop.ipynb)\n",
    "\n",
    "1. **Working with Databases**\n",
    "    - [DB-API: sqlite3](notebooks/db/db-sqlite3.ipynb)\n",
    "    - [ORM: SQLAlchemy](notebooks/db/db-sqalchemy.ipynb)\n",
    "    - [NoSQL Databases with PyMongo](notebooks/db/db-pymongo-mongodb.ipynb)\n",
    "    - [SQL with Pandas](notebooks/db/db-pandas-sql.ipynb)\n",
    "  \n",
    "1. **Data Visualizations and Dashboards**\n",
    "    - /training/notebooks/streamlit\n",
    "\n",
    "1. **Introduction to the Polars Library**        \n",
    "    - [Translate Pandas Code to Polars 1 (exercise)](notebooks/polars/polars_hands_on_part_1.ipynb)\n",
    "    - [Translate Pandas Code to Polars 2 (solution + new exercise)](notebooks/polars/polars_hands_on_part_2_or_use_your_code.ipynb)\n",
    "    - [Query larger than memory data sets (solution)](notebooks/polars/polars_pipeline_solution.ipynb)"
   ]
  },
  {
   "cell_type": "markdown",
   "metadata": {},
   "source": [
    "---\n",
    "_This notebook is licensed under a [Creative Commons Attribution-NonCommercial-ShareAlike 4.0 International (CC BY-NC-SA 4.0)](https://creativecommons.org/licenses/by-nc-sa/4.0/). Copyright © [Point 8 GmbH](https://point-8.de)_"
   ]
  }
 ],
 "metadata": {
  "kernelspec": {
   "display_name": "Python 3",
   "language": "python",
   "name": "python3"
  },
  "language_info": {
   "codemirror_mode": {
    "name": "ipython",
    "version": 3
   },
   "file_extension": ".py",
   "mimetype": "text/x-python",
   "name": "python",
   "nbconvert_exporter": "python",
   "pygments_lexer": "ipython3",
   "version": "3.8.8"
  }
 },
 "nbformat": 4,
 "nbformat_minor": 4
}
